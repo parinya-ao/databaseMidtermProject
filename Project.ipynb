{
    "metadata": {
        "kernelspec": {
            "name": "SQL",
            "display_name": "SQL",
            "language": "sql"
        },
        "language_info": {
            "name": "sql",
            "version": ""
        },
        "connection_name": ""
    },
    "nbformat_minor": 2,
    "nbformat": 4,
    "cells": [
        {
            "cell_type": "code",
            "source": [
                "CREATE DATABASE TimeManagementDB;\n",
                "-- drop DATABASE TimeManagementDB;"
            ],
            "metadata": {
                "azdata_cell_guid": "21d0ecff-c8a5-4292-bc23-ceb94dfcfaed",
                "language": "sql"
            },
            "outputs": [
                {
                    "output_type": "display_data",
                    "data": {
                        "text/html": "Commands completed successfully."
                    },
                    "metadata": {}
                },
                {
                    "output_type": "display_data",
                    "data": {
                        "text/html": "Total execution time: 00:00:00.276"
                    },
                    "metadata": {}
                }
            ],
            "execution_count": 16
        },
        {
            "cell_type": "code",
            "source": [
                "USE TimeManagementDB;\n",
                "-- USE master;"
            ],
            "metadata": {
                "language": "sql",
                "azdata_cell_guid": "cc3d8951-58a2-4ef2-8dba-d36f1b71eee3",
                "tags": []
            },
            "outputs": [
                {
                    "output_type": "display_data",
                    "data": {
                        "text/html": "Commands completed successfully."
                    },
                    "metadata": {}
                },
                {
                    "output_type": "display_data",
                    "data": {
                        "text/html": "Total execution time: 00:00:00.001"
                    },
                    "metadata": {}
                }
            ],
            "execution_count": 17
        },
        {
            "cell_type": "code",
            "source": [
                "CREATE TABLE Users (\n",
                "    ID VARCHAR(36) NOT NULL PRIMARY KEY,\n",
                "    Name VARCHAR(255) NOT NULL,\n",
                "    Email VARCHAR(255) NOT NULL UNIQUE,\n",
                "    CreatedAt DATETIME NOT NULL,\n",
                "    UpdatedAt DATETIME NOT NULL\n",
                ");"
            ],
            "metadata": {
                "language": "sql",
                "azdata_cell_guid": "76962681-cb51-4434-8c90-1e4f05cd9b55"
            },
            "outputs": [
                {
                    "output_type": "display_data",
                    "data": {
                        "text/html": "Commands completed successfully."
                    },
                    "metadata": {}
                },
                {
                    "output_type": "display_data",
                    "data": {
                        "text/html": "Total execution time: 00:00:00.011"
                    },
                    "metadata": {}
                }
            ],
            "execution_count": 19
        },
        {
            "cell_type": "code",
            "source": [
                "CREATE TABLE Task (\n",
                "    ID VARCHAR(36) NOT NULL PRIMARY KEY,\n",
                "    Title VARCHAR(255) NOT NULL,\n",
                "    Description TEXT NOT NULL,\n",
                "    Priority VARCHAR(10) NOT NULL CHECK (Priority IN ('High', 'Medium', 'Low')),\n",
                "    Deadline DATETIME NOT NULL,\n",
                "    Complete BIT NOT NULL,\n",
                "    Status VARCHAR(15) NOT NULL CHECK (Status IN ('ToDo', 'InProgress', 'Completed')),\n",
                "    CreatedAt DATETIME NOT NULL,\n",
                "    UpdatedAt DATETIME NOT NULL\n",
                ");\n",
                ""
            ],
            "metadata": {
                "language": "sql",
                "azdata_cell_guid": "38f3a7dd-4573-4c2c-8e66-6955e348f3e1"
            },
            "outputs": [
                {
                    "output_type": "display_data",
                    "data": {
                        "text/html": "Commands completed successfully."
                    },
                    "metadata": {}
                },
                {
                    "output_type": "display_data",
                    "data": {
                        "text/html": "Total execution time: 00:00:00.007"
                    },
                    "metadata": {}
                }
            ],
            "execution_count": 20
        },
        {
            "cell_type": "code",
            "source": [
                "CREATE TABLE Category (\n",
                "    ID VARCHAR(36) NOT NULL PRIMARY KEY,\n",
                "    Name VARCHAR(255) NOT NULL,\n",
                "    Description TEXT NOT NULL,\n",
                "    UserID VARCHAR(36) NOT NULL,\n",
                "    CreatedAt DATETIME NOT NULL,\n",
                "    UpdatedAt DATETIME NOT NULL,\n",
                "    CONSTRAINT FK_Category_User FOREIGN KEY (UserID) REFERENCES Users (ID)\n",
                ");\n",
                ""
            ],
            "metadata": {
                "language": "sql",
                "azdata_cell_guid": "c5c6edc7-d6db-49d3-8c90-fc3ed52e7d56"
            },
            "outputs": [
                {
                    "output_type": "display_data",
                    "data": {
                        "text/html": "Commands completed successfully."
                    },
                    "metadata": {}
                },
                {
                    "output_type": "display_data",
                    "data": {
                        "text/html": "Total execution time: 00:00:00.006"
                    },
                    "metadata": {}
                }
            ],
            "execution_count": 21
        },
        {
            "cell_type": "code",
            "source": [
                "CREATE TABLE TaskCategory (\n",
                "    ID VARCHAR(36) NOT NULL PRIMARY KEY,\n",
                "    TaskID VARCHAR(36) NOT NULL,\n",
                "    CategoryID VARCHAR(36) NOT NULL,\n",
                "    AssignedDate DATETIME NOT NULL,\n",
                "    Importance INT NOT NULL,\n",
                "    CONSTRAINT FK_TaskCat_Task FOREIGN KEY (TaskID) REFERENCES Task(ID),\n",
                "    CONSTRAINT FK_TaskCat_Category FOREIGN KEY (CategoryID) REFERENCES Category(ID)\n",
                ");\n",
                ""
            ],
            "metadata": {
                "language": "sql",
                "azdata_cell_guid": "50dd24cd-286c-4d57-9773-b458a771e69e"
            },
            "outputs": [
                {
                    "output_type": "display_data",
                    "data": {
                        "text/html": "Commands completed successfully."
                    },
                    "metadata": {}
                },
                {
                    "output_type": "display_data",
                    "data": {
                        "text/html": "Total execution time: 00:00:00.006"
                    },
                    "metadata": {}
                }
            ],
            "execution_count": 22
        },
        {
            "cell_type": "code",
            "source": [
                "CREATE TABLE TaskUser (\n",
                "    ID VARCHAR(36) NOT NULL PRIMARY KEY,\n",
                "    TaskID VARCHAR(36) NOT NULL,\n",
                "    UserID VARCHAR(36) NOT NULL,\n",
                "    AssignedDate DATETIME NOT NULL,\n",
                "    CONSTRAINT FK_TaskUser_Task FOREIGN KEY (TaskID) REFERENCES Task(ID),\n",
                "    CONSTRAINT FK_TaskUser_User FOREIGN KEY (UserID) REFERENCES Users(ID)\n",
                ");\n",
                ""
            ],
            "metadata": {
                "language": "sql",
                "azdata_cell_guid": "33251f72-8256-4671-806a-7622f1071b14"
            },
            "outputs": [
                {
                    "output_type": "display_data",
                    "data": {
                        "text/html": "Commands completed successfully."
                    },
                    "metadata": {}
                },
                {
                    "output_type": "display_data",
                    "data": {
                        "text/html": "Total execution time: 00:00:00.007"
                    },
                    "metadata": {}
                }
            ],
            "execution_count": 23
        },
        {
            "cell_type": "markdown",
            "source": [
                "mock data"
            ],
            "metadata": {
                "language": "sql",
                "azdata_cell_guid": "c421982d-e2ae-4b3c-9db5-7084c338aee8"
            },
            "attachments": {}
        },
        {
            "cell_type": "code",
            "source": [
                "-- Insert Users\n",
                "INSERT INTO Users (ID, Name, Email, CreatedAt, UpdatedAt) VALUES\n",
                "('44d6ecd8-d7f6-4e80-b90c-b0308a5e3e45', 'Robert Brown', 'robert.brown@example.com', '2025-01-14 11:55:29', '2025-01-14 11:55:29'),\n",
                "('190234ec-7152-4f16-83eb-537a5ec16e1a', 'Richard Moore', 'richard.moore@example.com', '2025-01-14 11:55:29', '2025-01-14 11:55:29'),\n",
                "('719514f6-c299-4d3e-87c4-1af6117ac9c8', 'Mary Jackson', 'mary.jackson@example.com', '2025-01-14 11:55:29', '2025-01-14 11:55:29'),\n",
                "('abc0aa74-c73c-4bad-bfc6-b3a3ebea8140', 'David Lee', 'david.lee@example.com', '2025-01-14 11:55:29', '2025-01-14 11:55:29'),\n",
                "('a4cb827d-0083-4c25-863a-9844331dbd66', 'Patricia Martin', 'patricia.martin@example.com', '2025-01-14 11:55:29', '2025-01-14 11:55:29'),\n",
                "('ae73decf-8fa1-486b-bd17-7a25b9b35dd7', 'William Taylor', 'william.taylor@example.com', '2025-01-14 11:55:29', '2025-01-14 11:55:29'),\n",
                "('3bdd9d49-64c3-4595-b574-cd8487461a74', 'William Johnson', 'william.johnson@example.com', '2025-01-14 11:55:29', '2025-01-14 11:55:29'),\n",
                "('793da7ff-7132-4050-8738-a19bcecd2b4d', 'Parinya Martin', 'parinya.martin@example.com', '2025-01-14 11:55:29', '2025-01-14 11:55:29'),\n",
                "('8eb6d792-2b7f-42c3-aac1-a6fac2ebd698', 'William Harris', 'william.harris@example.com', '2025-01-14 11:55:29', '2025-01-14 11:55:29'),\n",
                "('6f8e3463-b8e6-4790-9204-d33a1e20f048', 'Sarah Clark', 'sarah.clark@example.com', '2025-01-14 11:55:29', '2025-01-14 11:55:29'),\n",
                "('1f4e346f-70ec-409c-b301-24904639eb89', 'Sarah White', 'sarah.white@example.com', '2025-01-14 11:55:29', '2025-01-14 11:55:29'),\n",
                "('aa0320e5-2d2f-4330-81ae-537a970278a8', 'Susan Jones', 'susan.jones@example.com', '2025-01-14 11:55:29', '2025-01-14 11:55:29'),\n",
                "('6d708dfe-2ade-4fdd-a401-bd982d7f26f5', 'Robert Anderson', 'robert.anderson@example.com', '2025-01-14 11:55:29', '2025-01-14 11:55:29'),\n",
                "('231ce659-1f2a-466e-96a4-4cd485438344', 'David Garcia', 'david.garcia@example.com', '2025-01-14 11:55:29', '2025-01-14 11:55:29'),\n",
                "('8da51b7b-2e4b-46d2-a9a5-dc9611b7f0fe', 'Joseph Brown', 'joseph.brown@example.com', '2025-01-14 11:55:29', '2025-01-14 11:55:29'),\n",
                "('f75ed33f-df2c-4e64-8b92-450e5985262b', 'Linda Brown', 'linda.brown@example.com', '2025-01-14 11:55:29', '2025-01-14 11:55:29'),\n",
                "('0e124161-753c-4253-bde6-0f0fcd9d5a8a', 'Jessica White', 'jessica.white@example.com', '2025-01-14 11:55:29', '2025-01-14 11:55:29'),\n",
                "('800be58d-dea3-47ed-bea8-57483d64ef4f', 'James Clark', 'james.clark@example.com', '2025-01-14 11:55:29', '2025-01-14 11:55:29'),\n",
                "('d3111ed3-bbd2-4797-b3aa-b23bc7a66f4d', 'Jessica Moore', 'jessica.moore@example.com', '2025-01-14 11:55:29', '2025-01-14 11:55:29'),\n",
                "('9fc54413-a0f7-4acb-b3c9-8fc1fb652923', 'Susan Wilson', 'susan.wilson@example.com', '2025-01-14 11:55:29', '2025-01-14 11:55:29'),\n",
                "('3a35eb2f-ab1f-470f-90fe-70b3b22c26ae', 'Emma Moore', 'emma.moore@example.com', '2025-01-14 11:55:29', '2025-01-14 11:55:29'),\n",
                "('7f1db049-29bd-45de-b3dc-8230ac0b1a95', 'David White', 'david.white@example.com', '2025-01-14 11:55:29', '2025-01-14 11:55:29'),\n",
                "('337df05b-4863-4d79-8058-68327529f62f', 'Patricia Moore', 'patricia.moore@example.com', '2025-01-14 11:55:29', '2025-01-14 11:55:29'),\n",
                "('9a435ea0-cb8c-4ac6-abb0-e65a3ad7eb78', 'Joseph Anderson', 'joseph.anderson@example.com', '2025-01-14 11:55:29', '2025-01-14 11:55:29'),\n",
                "('c48e8ced-3719-4b05-95fb-c60cb9db6fbe', 'David Jones', 'david.jones@example.com', '2025-01-14 11:55:29', '2025-01-14 11:55:29'),\n",
                "('e87cf198-fc68-4dfa-99f4-0aaa5e22658a', 'John Smith', 'john.smith@example.com', '2025-01-14 11:55:29', '2025-01-14 11:55:29'),\n",
                "('8de4a6a3-e3c8-4317-abbc-8c0d5a2d9556', 'Parinya Moore', 'parinya.moore@example.com', '2025-01-14 11:55:29', '2025-01-14 11:55:29'),\n",
                "('4aa86b9f-0687-485f-b5de-f32e91a62f2f', 'Jessica Wilson', 'jessica.wilson@example.com', '2025-01-14 11:55:29', '2025-01-14 11:55:29'),\n",
                "('cfc03884-1c18-444f-812c-dfa3fb29d220', 'Robert Davis', 'robert.davis@example.com', '2025-01-14 11:55:29', '2025-01-14 11:55:29'),\n",
                "('236cdc03-9a26-4fe7-9165-61ee301bdabe', 'James Taylor', 'james.taylor@example.com', '2025-01-14 11:55:29', '2025-01-14 11:55:29'),\n",
                "('9e5e8ed0-fcec-4394-8d89-d94a43bc4d90', 'Parinya Wilson', 'parinya.wilson@example.com', '2025-01-14 11:55:29', '2025-01-14 11:55:29'),\n",
                "('951be525-f15c-4862-baa2-b947dfba6910', 'Barbara Johnson', 'barbara.johnson@example.com', '2025-01-14 11:55:29', '2025-01-14 11:55:29'),\n",
                "('7dccd797-54be-4a97-929a-e300088b2140', 'John Davis', 'john.davis@example.com', '2025-01-14 11:55:29', '2025-01-14 11:55:29'),\n",
                "('e7524fe6-9a2a-48cf-b4c8-ab6b5da7a160', 'Jessica Lee', 'jessica.lee@example.com', '2025-01-14 11:55:29', '2025-01-14 11:55:29'),\n",
                "('980d368a-e923-45a1-98c7-77b1d472e41d', 'Parinya Smith', 'parinya.smith@example.com', '2025-01-14 11:55:29', '2025-01-14 11:55:29'),\n",
                "('af1c32b5-9470-4a20-840d-1d00e074c53f', 'David Moore', 'david.moore@example.com', '2025-01-14 11:55:29', '2025-01-14 11:55:29'),\n",
                "('e1dbddf9-b61e-4d64-b676-442a27410581', 'Thomas Wilson', 'thomas.wilson@example.com', '2025-01-14 11:55:29', '2025-01-14 11:55:29'),\n",
                "('a41674e8-5413-405a-a15b-cc2ef988c6b4', 'Michael Thompson', 'michael.thompson@example.com', '2025-01-14 11:55:29', '2025-01-14 11:55:29'),\n",
                "('0f71ccdd-7267-4c9d-ab60-4d6987be06b4', 'Barbara Wilson', 'barbara.wilson@example.com', '2025-01-14 11:55:29', '2025-01-14 11:55:29'),\n",
                "('6bc1ef96-8d68-4f2a-bd5e-233725620e43', 'Patricia Taylor', 'patricia.taylor@example.com', '2025-01-14 11:55:29', '2025-01-14 11:55:29'),\n",
                "('47c14bf2-8057-4828-9638-0db29e697723', 'Richard Davis', 'richard.davis@example.com', '2025-01-14 11:55:29', '2025-01-14 11:55:29'),\n",
                "('54756f50-67a4-4398-8214-26be4eb9d802', 'Mary Davis', 'mary.davis@example.com', '2025-01-14 11:55:29', '2025-01-14 11:55:29'),\n",
                "('3b4dbb3f-c320-4bd8-a5c6-280883da8887', 'Jennifer Moore', 'jennifer.moore@example.com', '2025-01-14 11:55:29', '2025-01-14 11:55:29'),\n",
                "('d0d29000-ddb5-4f67-87b0-d6ffcbb38cf7', 'Barbara Anderson', 'barbara.anderson@example.com', '2025-01-14 11:55:29', '2025-01-14 11:55:29'),\n",
                "('da55427b-784a-4472-82a9-2c2f5c4fd576', 'James AO', 'james.ao@example.com', '2025-01-14 11:55:29', '2025-01-14 11:55:29'),\n",
                "('2a70aa97-dd38-4847-bf81-033345d468af', 'Emma Jones', 'emma.jones@example.com', '2025-01-14 11:55:29', '2025-01-14 11:55:29'),\n",
                "('6dc49c6e-dddc-4a8a-bc72-06107427e302', 'Jennifer Garcia', 'jennifer.garcia@example.com', '2025-01-14 11:55:29', '2025-01-14 11:55:29'),\n",
                "('503895a6-6d93-47a6-a1c2-268171b663d4', 'Joseph Garcia', 'joseph.garcia@example.com', '2025-01-14 11:55:29', '2025-01-14 11:55:29'),\n",
                "('bd0eae7b-3c08-4660-b55d-2b3f6836146a', 'Susan Lee', 'susan.lee@example.com', '2025-01-14 11:55:29', '2025-01-14 11:55:29'),\n",
                "('d6b602aa-c6ee-4ebb-9e08-247486574f93', 'Elizabeth Garcia', 'elizabeth.garcia@example.com', '2025-01-14 11:55:29', '2025-01-14 11:55:29'),\n",
                "('105f1e8f-94ae-46b1-8173-478184875065', 'Joseph Davis', 'joseph.davis@example.com', '2025-01-14 11:55:29', '2025-01-14 11:55:29'),\n",
                "('6118a169-ecc2-4ede-8dfb-6cca62b98023', 'David Johnson', 'david.johnson@example.com', '2025-01-14 11:55:29', '2025-01-14 11:55:29'),\n",
                "('01af455f-4a05-42ee-810e-c5d1abcf9e4a', 'Mary Johnson', 'mary.johnson@example.com', '2025-01-14 11:55:29', '2025-01-14 11:55:29'),\n",
                "('87c109e3-e3df-4995-b226-22b85cc2183d', 'Richard Harris', 'richard.harris@example.com', '2025-01-14 11:55:29', '2025-01-14 11:55:29'),\n",
                "('79397f03-1f94-4708-a28f-afa899640335', 'Joseph White', 'joseph.white@example.com', '2025-01-14 11:55:29', '2025-01-14 11:55:29'),\n",
                "('8ca69a35-ce59-4724-b996-1c7843389e3a', 'Jessica Davis', 'jessica.davis@example.com', '2025-01-14 11:55:29', '2025-01-14 11:55:29'),\n",
                "('13ab886d-6cfc-4afe-b052-38aa429846c4', 'Barbara Thompson', 'barbara.thompson@example.com', '2025-01-14 11:55:29', '2025-01-14 11:55:29'),\n",
                "('7fbdeeb6-2754-4e7d-8799-77e67ae5ddb0', 'Michael Brown', 'michael.brown@example.com', '2025-01-14 11:55:29', '2025-01-14 11:55:29'),\n",
                "('7a1b89b5-b459-4a08-9ec6-1bcad0ed282e', 'Parinya Jones', 'parinya.jones@example.com', '2025-01-14 11:55:29', '2025-01-14 11:55:29'),\n",
                "('c1f0b7ef-5328-4522-8946-dd6c3729ed51', 'Michael Jackson', 'michael.jackson@example.com', '2025-01-14 11:55:29', '2025-01-14 11:55:29'),\n",
                "('abbe7eaf-719f-4a6e-834c-8cc6983ce50d', 'William White', 'william.white@example.com', '2025-01-14 11:55:29', '2025-01-14 11:55:29'),\n",
                "('d04c77ce-8ce5-4e31-b8f3-6bd0a39c610b', 'Emma Davis', 'emma.davis@example.com', '2025-01-14 11:55:29', '2025-01-14 11:55:29'),\n",
                "('fac1636d-e435-48a4-9a56-a1de2628297e', 'Jennifer Anderson', 'jennifer.anderson@example.com', '2025-01-14 11:55:29', '2025-01-14 11:55:29'),\n",
                "('7629c1c4-f693-489d-b955-cb636bf13828', 'Linda Miller', 'linda.miller@example.com', '2025-01-14 11:55:29', '2025-01-14 11:55:29'),\n",
                "('dac8021e-05d0-4d66-bb92-51766e3c9f41', 'Patricia White', 'patricia.white@example.com', '2025-01-14 11:55:29', '2025-01-14 11:55:29'),\n",
                "('f38b6f1e-81b1-4438-ad84-0da01d9bd307', 'Patricia Jones', 'patricia.jones@example.com', '2025-01-14 11:55:29', '2025-01-14 11:55:29'),\n",
                "('fb510efb-ee95-4f8f-a398-3a021beb6635', 'Joseph Thompson', 'joseph.thompson@example.com', '2025-01-14 11:55:29', '2025-01-14 11:55:29'),\n",
                "('b5581935-c385-4724-b5a8-61e549d046cd', 'Joseph Harris', 'joseph.harris@example.com', '2025-01-14 11:55:29', '2025-01-14 11:55:29'),\n",
                "('81684c10-7a53-4471-b134-39fa6e1945e0', 'Joseph Clark', 'joseph.clark@example.com', '2025-01-14 11:55:29', '2025-01-14 11:55:29'),\n",
                "('d45cf9de-2c3b-45e2-827f-381a4d72c940', 'Mary Williams', 'mary.williams@example.com', '2025-01-14 11:55:29', '2025-01-14 11:55:29'),\n",
                "('8d6b46ce-81be-483f-ad73-b9e7a578e57d', 'William Wilson', 'william.wilson@example.com', '2025-01-14 11:55:29', '2025-01-14 11:55:29'),\n",
                "('d6d89413-ad9f-4f7d-8d9b-94ca3963bf40', 'Linda Thompson', 'linda.thompson@example.com', '2025-01-14 11:55:29', '2025-01-14 11:55:29'),\n",
                "('4b0d107b-d362-4f27-800b-4e769b23b794', 'Richard Jackson', 'richard.jackson@example.com', '2025-01-14 11:55:29', '2025-01-14 11:55:29'),\n",
                "('5b26338d-b504-4f6c-9174-d9e0e836dc94', 'Robert AO', 'robert.ao@example.com', '2025-01-14 11:55:29', '2025-01-14 11:55:29'),\n",
                "('c76cb2b7-4821-4df0-b4cd-56e73bb01024', 'Emma Harris', 'emma.harris@example.com', '2025-01-14 11:55:29', '2025-01-14 11:55:29'),\n",
                "('05a2d6e1-99a8-4eac-87de-fad697610f19', 'Parinya Garcia', 'parinya.garcia@example.com', '2025-01-14 11:55:29', '2025-01-14 11:55:29'),\n",
                "('299049b9-5a02-47ff-a872-9b0fca7c6965', 'David Anderson', 'david.anderson@example.com', '2025-01-14 11:55:29', '2025-01-14 11:55:29'),\n",
                "('b91f5b62-234e-45c9-bf23-204eaba762e2', 'Elizabeth Harris', 'elizabeth.harris@example.com', '2025-01-14 11:55:29', '2025-01-14 11:55:29'),\n",
                "('fe6df415-2567-473b-b275-58f8809bfa6d', 'David Williams', 'david.williams@example.com', '2025-01-14 11:55:29', '2025-01-14 11:55:29'),\n",
                "('724e937c-b85a-4a80-a848-5f42c0feee41', 'William Brown', 'william.brown@example.com', '2025-01-14 11:55:29', '2025-01-14 11:55:29'),\n",
                "('1b62c1d3-32b9-4e13-80cf-08f46f16883e', 'Elizabeth Thompson', 'elizabeth.thompson@example.com', '2025-01-14 11:55:29', '2025-01-14 11:55:29'),\n",
                "('c92aa7e4-c158-48aa-b915-acc7f709febd', 'John Johnson', 'john.johnson@example.com', '2025-01-14 11:55:29', '2025-01-14 11:55:29'),\n",
                "('4abc16f1-f736-4306-928a-a8b3f8b847b8', 'Emma Jackson', 'emma.jackson@example.com', '2025-01-14 11:55:29', '2025-01-14 11:55:29'),\n",
                "('3762b4b9-0682-43f1-a52f-c9e06866d467', 'Patricia Harris', 'patricia.harris@example.com', '2025-01-14 11:55:29', '2025-01-14 11:55:29'),\n",
                "('2313b5f4-9de6-4ed3-8144-6f5d98e553ef', 'Thomas Taylor', 'thomas.taylor@example.com', '2025-01-14 11:55:29', '2025-01-14 11:55:29'),\n",
                "('1dc775c6-1ed6-40ff-9597-cfe25e3aea59', 'Linda Williams', 'linda.williams@example.com', '2025-01-14 11:55:29', '2025-01-14 11:55:29'),\n",
                "('86bad218-b122-44f0-a7f8-85ac5be9b279', 'Joseph Miller', 'joseph.miller@example.com', '2025-01-14 11:55:29', '2025-01-14 11:55:29'),\n",
                "('a7ec2854-59cd-4cd8-89d6-db4db1ff1def', 'Parinya Davis', 'parinya.davis@example.com', '2025-01-14 11:55:29', '2025-01-14 11:55:29'),\n",
                "('b7ee3c92-b943-4fab-9c6e-7188ef89c0ad', 'Joseph Moore', 'joseph.moore@example.com', '2025-01-14 11:55:29', '2025-01-14 11:55:29'),\n",
                "('1b2ae95a-685a-484b-b8a6-4d2d6bde6db0', 'Mary Anderson', 'mary.anderson@example.com', '2025-01-14 11:55:29', '2025-01-14 11:55:29'),\n",
                "('a2ea640b-7084-46a5-99fc-8c1d843e3cdd', 'Susan Anderson', 'susan.anderson@example.com', '2025-01-14 11:55:29', '2025-01-14 11:55:29'),\n",
                "('67c58064-54d5-4561-a019-7cba5273ee60', 'John Martin', 'john.martin@example.com', '2025-01-14 11:55:29', '2025-01-14 11:55:29'),\n",
                "('32835569-c6d4-4a8f-9a73-609244572bbf', 'Jennifer Jackson', 'jennifer.jackson@example.com', '2025-01-14 11:55:29', '2025-01-14 11:55:29'),\n",
                "('6cf16832-1492-47e6-8c8b-e078c94c3646', 'Jennifer White', 'jennifer.white@example.com', '2025-01-14 11:55:29', '2025-01-14 11:55:29'),\n",
                "('8cb3a8fa-d4c8-4678-96ec-26115d300737', 'Sarah Taylor', 'sarah.taylor@example.com', '2025-01-14 11:55:29', '2025-01-14 11:55:29'),\n",
                "('edfa6769-ce33-4c5d-9026-17b4050d4587', 'Parinya Lee', 'parinya.lee@example.com', '2025-01-14 11:55:29', '2025-01-14 11:55:29'),\n",
                "('8675f85e-aa6c-4921-9b29-98cf3a43547d', 'Mary Miller', 'mary.miller@example.com', '2025-01-14 11:55:29', '2025-01-14 11:55:29'),\n",
                "('3bcc10db-7f31-4928-868c-e87fdb0fcdc2', 'David Brown', 'david.brown@example.com', '2025-01-14 11:55:29', '2025-01-14 11:55:29'),\n",
                "('cddc91a0-217f-42cb-a85c-d261bd0c3377', 'Linda Moore', 'linda.moore@example.com', '2025-01-14 11:55:29', '2025-01-14 11:55:29'),\n",
                "('0d33dde7-c7e7-4cd9-8cec-16cae0971514', 'Patricia Jackson', 'patricia.jackson@example.com', '2025-01-14 11:55:29', '2025-01-14 11:55:29'),\n",
                "('024e59b4-7189-4b82-b54e-ac5e7f417a06', 'Barbara Lee', 'barbara.lee@example.com', '2025-01-14 11:55:29', '2025-01-14 11:55:29'),\n",
                "('72c6156c-986d-46e5-b843-2b14ef486900', 'Elizabeth Williams', 'elizabeth.williams@example.com', '2025-01-14 11:55:29', '2025-01-14 11:55:29'),\n",
                "('68bc5e3c-3385-4c33-bdba-0e0982012dc0', 'Linda Taylor', 'linda.taylor@example.com', '2025-01-14 11:55:29', '2025-01-14 11:55:29'),\n",
                "('a62d3f0d-bc56-4356-a29b-49874ef0647c', 'Sarah Brown', 'sarah.brown@example.com', '2025-01-14 11:55:29', '2025-01-14 11:55:29'),\n",
                "('13e078c6-8ca5-490a-a9e8-bdf6e5ee4035', 'Sarah Jones', 'sarah.jones@example.com', '2025-01-14 11:55:29', '2025-01-14 11:55:29'),\n",
                "('3d040ab0-3a5b-4da5-9cbd-c6ac91bc8312', 'Sarah Jackson', 'sarah.jackson@example.com', '2025-01-14 11:55:29', '2025-01-14 11:55:29'),\n",
                "('68008088-a7e0-47d7-bc0e-ac70a72fae62', 'William AO', 'william.ao@example.com', '2025-01-14 11:55:29', '2025-01-14 11:55:29'),\n",
                "('61a517eb-3c5b-4b2c-8074-1755a76fe3af', 'Susan Davis', 'susan.davis@example.com', '2025-01-14 11:55:29', '2025-01-14 11:55:29'),\n",
                "('0f76e9ac-8b38-48a4-8053-53fda384d954', 'Mary Taylor', 'mary.taylor@example.com', '2025-01-14 11:55:29', '2025-01-14 11:55:29'),\n",
                "('1df171c2-3882-4220-a417-3f3d228a517d', 'Jessica Garcia', 'jessica.garcia@example.com', '2025-01-14 11:55:29', '2025-01-14 11:55:29'),\n",
                "('908e4748-9dd4-49ac-bbd8-23becf89c7cc', 'Patricia AO', 'patricia.ao@example.com', '2025-01-14 11:55:29', '2025-01-14 11:55:29'),\n",
                "('12ed6aca-6f98-4516-aff6-58b1f34830ef', 'John Wilson', 'john.wilson@example.com', '2025-01-14 11:55:29', '2025-01-14 11:55:29'),\n",
                "('d5d2601b-6713-415f-b28a-298d4bddee88', 'William Thompson', 'william.thompson@example.com', '2025-01-14 11:55:29', '2025-01-14 11:55:29'),\n",
                "('52e1c9e7-0d18-49f6-b4ee-909ad75d4ab7', 'Elizabeth Martin', 'elizabeth.martin@example.com', '2025-01-14 11:55:29', '2025-01-14 11:55:29'),\n",
                "('dcfbce51-3587-4a46-9f9e-d5f9b813ed97', 'Susan Martin', 'susan.martin@example.com', '2025-01-14 11:55:29', '2025-01-14 11:55:29'),\n",
                "('71327d1c-d812-4aaa-a933-38325e6421e3', 'Elizabeth Wilson', 'elizabeth.wilson@example.com', '2025-01-14 11:55:29', '2025-01-14 11:55:29'),\n",
                "('5a6c8fb4-a042-4899-a9c0-df492efb3777', 'Parinya Miller', 'parinya.miller@example.com', '2025-01-14 11:55:29', '2025-01-14 11:55:29'),\n",
                "('5bd8105e-272a-4b21-9cbe-2ec4ed3e9e82', 'Michael Moore', 'michael.moore@example.com', '2025-01-14 11:55:29', '2025-01-14 11:55:29'),\n",
                "('5dafdaed-d35e-4c45-9ba3-d159a265252a', 'Jennifer Wilson', 'jennifer.wilson@example.com', '2025-01-14 11:55:29', '2025-01-14 11:55:29'),\n",
                "('db0bcf7d-9b44-44ac-b1d0-ca9ec83ced0c', 'James Brown', 'james.brown@example.com', '2025-01-14 11:55:29', '2025-01-14 11:55:29'),\n",
                "('1dec8357-9943-4e49-9331-af3a2893dece', 'Barbara Harris', 'barbara.harris@example.com', '2025-01-14 11:55:29', '2025-01-14 11:55:29'),\n",
                "('95027255-c51a-4d36-8922-5e73987acc04', 'Emma Johnson', 'emma.johnson@example.com', '2025-01-14 11:55:29', '2025-01-14 11:55:29'),\n",
                "('5fd0a04a-2ec8-42dc-a39a-a7f0457da2ed', 'Linda Harris', 'linda.harris@example.com', '2025-01-14 11:55:29', '2025-01-14 11:55:29'),\n",
                "('39ff17ec-a29a-4557-aa2f-6defd0e3d906', 'James Davis', 'james.davis@example.com', '2025-01-14 11:55:29', '2025-01-14 11:55:29'),\n",
                "('9cc83e57-55e6-4f1e-9378-08b60ad18003', 'Elizabeth Miller', 'elizabeth.miller@example.com', '2025-01-14 11:55:29', '2025-01-14 11:55:29'),\n",
                "('93b1a0d9-a6c3-40fe-8c7a-a2596268f9a7', 'Michael Jones', 'michael.jones@example.com', '2025-01-14 11:55:29', '2025-01-14 11:55:29'),\n",
                "('4ed63500-1466-47f4-b69d-7ab35cebe019', 'Elizabeth Davis', 'elizabeth.davis@example.com', '2025-01-14 11:55:29', '2025-01-14 11:55:29'),\n",
                "('aa89d3f7-533c-4a0a-bdc7-7f1ad713ca0f', 'Michael Taylor', 'michael.taylor@example.com', '2025-01-14 11:55:29', '2025-01-14 11:55:29'),\n",
                "('9eb69a04-2e5d-4510-b1fa-01128a012a74', 'Emma White', 'emma.white@example.com', '2025-01-14 11:55:29', '2025-01-14 11:55:29'),\n",
                "('a66e8fa3-c6b6-4a16-bc4a-7b0e7c7142f5', 'Barbara Smith', 'barbara.smith@example.com', '2025-01-14 11:55:29', '2025-01-14 11:55:29'),\n",
                "('6a8326b6-7a48-45ed-a0ef-ea7abd6d3e11', 'John Jones', 'john.jones@example.com', '2025-01-14 11:55:29', '2025-01-14 11:55:29'),\n",
                "('df91856a-7256-4c83-82af-5439cde862c6', 'James Johnson', 'james.johnson@example.com', '2025-01-14 11:55:29', '2025-01-14 11:55:29'),\n",
                "('c7d1552f-173b-42a8-800f-0ac57fe36582', 'Sarah Garcia', 'sarah.garcia@example.com', '2025-01-14 11:55:29', '2025-01-14 11:55:29'),\n",
                "('30901276-885b-43a2-9f08-147a2feebad7', 'Sarah Martin', 'sarah.martin@example.com', '2025-01-14 11:55:29', '2025-01-14 11:55:29'),\n",
                "('93147a93-ce09-45fb-9b2b-619b9e4035b6', 'Jessica AO', 'jessica.ao@example.com', '2025-01-14 11:55:29', '2025-01-14 11:55:29'),\n",
                "('d7d7de30-a3eb-4484-aab5-1a1809d88cf5', 'Susan Smith', 'susan.smith@example.com', '2025-01-14 11:55:29', '2025-01-14 11:55:29'),\n",
                "('57e608c9-d0c4-4ba7-8894-bbbee644b23d', 'Mary Clark', 'mary.clark@example.com', '2025-01-14 11:55:29', '2025-01-14 11:55:29'),\n",
                "('d163f04a-4c36-4f5f-9ab7-f3b19fb4d4aa', 'Michael Anderson', 'michael.anderson@example.com', '2025-01-14 11:55:29', '2025-01-14 11:55:29'),\n",
                "('487c4caa-8801-4aaf-a1e0-4cc2fa3caf68', 'Richard Brown', 'richard.brown@example.com', '2025-01-14 11:55:29', '2025-01-14 11:55:29'),\n",
                "('ac1d05e0-a031-4156-a45e-3dca4e2c9cf8', 'Richard Anderson', 'richard.anderson@example.com', '2025-01-14 11:55:29', '2025-01-14 11:55:29'),\n",
                "('941686c7-d194-4dd1-a82f-7da7c2e1758c', 'Emma Lee', 'emma.lee@example.com', '2025-01-14 11:55:29', '2025-01-14 11:55:29'),\n",
                "('f35e9bd6-ae87-4a32-a282-4cfd078becab', 'Thomas White', 'thomas.white@example.com', '2025-01-14 11:55:29', '2025-01-14 11:55:29'),\n",
                "('c9b02a00-2b0e-45b3-8619-53ae9884a385', 'Parinya Thompson', 'parinya.thompson@example.com', '2025-01-14 11:55:29', '2025-01-14 11:55:29'),\n",
                "('dbfb6886-b008-42cb-a20c-6f83c3167c5b', 'Thomas Jones', 'thomas.jones@example.com', '2025-01-14 11:55:29', '2025-01-14 11:55:29'),\n",
                "('52198dd9-dde2-4c7b-af71-2a87fcad9717', 'Susan Harris', 'susan.harris@example.com', '2025-01-14 11:55:29', '2025-01-14 11:55:29'),\n",
                "('754079b3-10c3-42dc-b3e6-9988ec3685aa', 'Patricia Williams', 'patricia.williams@example.com', '2025-01-14 11:55:29', '2025-01-14 11:55:29'),\n",
                "('956cba28-35ae-47ff-8563-f9a42e160730', 'Elizabeth AO', 'elizabeth.ao@example.com', '2025-01-14 11:55:29', '2025-01-14 11:55:29'),\n",
                "('dd136068-6c86-48f2-b4e5-d213e98b04c5', 'Thomas Davis', 'thomas.davis@example.com', '2025-01-14 11:55:29', '2025-01-14 11:55:29'),\n",
                "('af83b89d-2a3c-4e82-82b7-be73cc078ac2', 'Robert Thompson', 'robert.thompson@example.com', '2025-01-14 11:55:29', '2025-01-14 11:55:29'),\n",
                "('a138bf8e-e999-4736-8027-b405153b73f8', 'Jessica Miller', 'jessica.miller@example.com', '2025-01-14 11:55:29', '2025-01-14 11:55:29'),\n",
                "('b658b5d6-752d-44ba-9072-17f5b833d675', 'James Jackson', 'james.jackson@example.com', '2025-01-14 11:55:29', '2025-01-14 11:55:29'),\n",
                "('f444a6fb-ca3a-42c7-aae3-f42a7720a1e8', 'Sarah Miller', 'sarah.miller@example.com', '2025-01-14 11:55:29', '2025-01-14 11:55:29'),\n",
                "('44099cac-29f4-4147-9a8a-56189ed2c4e9', 'James Thompson', 'james.thompson@example.com', '2025-01-14 11:55:29', '2025-01-14 11:55:29'),\n",
                "('71f8cf28-e643-4535-b797-e5b93c6032a3', 'Joseph Jones', 'joseph.jones@example.com', '2025-01-14 11:55:29', '2025-01-14 11:55:29'),\n",
                "('97c8c80f-6f8d-45f5-a3e3-ccdfe9e87f57', 'Richard Taylor', 'richard.taylor@example.com', '2025-01-14 11:55:29', '2025-01-14 11:55:29'),\n",
                "('a119beb2-7d6a-4b87-8260-9e5937f11feb', 'Thomas Johnson', 'thomas.johnson@example.com', '2025-01-14 11:55:29', '2025-01-14 11:55:29'),\n",
                "('1f404254-a9e3-4b75-8aaa-652e6a67721f', 'Michael Martin', 'michael.martin@example.com', '2025-01-14 11:55:29', '2025-01-14 11:55:29'),\n",
                "('ff4fc7e3-4a42-424d-ba6e-f9c81d1f830a', 'Parinya Brown', 'parinya.brown@example.com', '2025-01-14 11:55:29', '2025-01-14 11:55:29'),\n",
                "('c68bbf8e-7b5f-492d-88fd-41d4bb02b8ff', 'David Wilson', 'david.wilson@example.com', '2025-01-14 11:55:29', '2025-01-14 11:55:29'),\n",
                "('5f2dd99b-842c-4047-9cc3-d6d0f88fac95', 'Barbara Williams', 'barbara.williams@example.com', '2025-01-14 11:55:29', '2025-01-14 11:55:29'),\n",
                "('94e965d0-c2a5-41f9-8850-61049a064292', 'Patricia Brown', 'patricia.brown@example.com', '2025-01-14 11:55:29', '2025-01-14 11:55:29'),\n",
                "('227cc725-8cdf-4800-92a4-26136934e9a3', 'Mary Wilson', 'mary.wilson@example.com', '2025-01-14 11:55:29', '2025-01-14 11:55:29'),\n",
                "('80424870-c097-4eb9-a031-64110245ac6b', 'Mary AO', 'mary.ao@example.com', '2025-01-14 11:55:29', '2025-01-14 11:55:29'),\n",
                "('a20ba503-5acf-423a-9bc7-a3fbd31d2b96', 'Linda Smith', 'linda.smith@example.com', '2025-01-14 11:55:29', '2025-01-14 11:55:29'),\n",
                "('235bcad4-da3e-4b5d-be88-c5aa54a05a84', 'Susan AO', 'susan.ao@example.com', '2025-01-14 11:55:29', '2025-01-14 11:55:29'),\n",
                "('ad409a00-ec96-4f21-af1f-124fcdfdf322', 'Patricia Davis', 'patricia.davis@example.com', '2025-01-14 11:55:29', '2025-01-14 11:55:29'),\n",
                "('1aa01ee0-3ea3-4559-95a4-ba4a717e0389', 'Michael Johnson', 'michael.johnson@example.com', '2025-01-14 11:55:29', '2025-01-14 11:55:29'),\n",
                "('9c4191de-5931-4c6b-9380-231da5b278e9', 'John Miller', 'john.miller@example.com', '2025-01-14 11:55:29', '2025-01-14 11:55:29'),\n",
                "('b705a6f6-44a7-4796-a71d-73d7efbfaed9', 'Thomas Jackson', 'thomas.jackson@example.com', '2025-01-14 11:55:29', '2025-01-14 11:55:29'),\n",
                "('8989fd97-36de-47e0-996d-d9b3702ff75a', 'Richard Martin', 'richard.martin@example.com', '2025-01-14 11:55:29', '2025-01-14 11:55:29'),\n",
                "('8995d463-f3b2-4abf-b34d-f4c936526261', 'William Miller', 'william.miller@example.com', '2025-01-14 11:55:29', '2025-01-14 11:55:29'),\n",
                "('4f41ff56-fe5f-423d-a536-3add8888dd49', 'Robert Smith', 'robert.smith@example.com', '2025-01-14 11:55:29', '2025-01-14 11:55:29'),\n",
                "('0cc52231-7e54-4a34-99d6-72d5bf44ce79', 'Emma Martin', 'emma.martin@example.com', '2025-01-14 11:55:29', '2025-01-14 11:55:29'),\n",
                "('e5e3a4b8-f659-4825-a3af-79432c329033', 'Jennifer Williams', 'jennifer.williams@example.com', '2025-01-14 11:55:29', '2025-01-14 11:55:29'),\n",
                "('5630414d-f732-414b-8417-836f1952ef4a', 'Barbara Jackson', 'barbara.jackson@example.com', '2025-01-14 11:55:29', '2025-01-14 11:55:29'),\n",
                "('c1efd58f-26fb-4c2c-a109-8c85a50042cf', 'Patricia Clark', 'patricia.clark@example.com', '2025-01-14 11:55:29', '2025-01-14 11:55:29'),\n",
                "('7f9fc518-5cb6-4ef6-9069-c6686077d309', 'John Jackson', 'john.jackson@example.com', '2025-01-14 11:55:29', '2025-01-14 11:55:29'),\n",
                "('a98a9592-1391-444d-9a1a-00f943fbef38', 'Susan Garcia', 'susan.garcia@example.com', '2025-01-14 11:55:29', '2025-01-14 11:55:29'),\n",
                "('81d9ef53-cd9b-4e12-8087-358a6266d46e', 'Thomas Lee', 'thomas.lee@example.com', '2025-01-14 11:55:29', '2025-01-14 11:55:29'),\n",
                "('f5869ac4-b478-4eed-b388-2aa2b6dd92c4', 'Sarah Davis', 'sarah.davis@example.com', '2025-01-14 11:55:29', '2025-01-14 11:55:29'),\n",
                "('e61d0469-dfba-4f7c-9aec-c9a2c4012d77', 'Sarah Harris', 'sarah.harris@example.com', '2025-01-14 11:55:29', '2025-01-14 11:55:29'),\n",
                "('dbcf8f29-0101-4caa-be04-89076abb5775', 'William Lee', 'william.lee@example.com', '2025-01-14 11:55:29', '2025-01-14 11:55:29'),\n",
                "('0c3edcc7-cc10-4c18-b1ec-78b0669172e3', 'Robert Lee', 'robert.lee@example.com', '2025-01-14 11:55:29', '2025-01-14 11:55:29'),\n",
                "('8fe26126-f2c4-4d1e-a9bd-1d71e2f69a55', 'Parinya Harris', 'parinya.harris@example.com', '2025-01-14 11:55:29', '2025-01-14 11:55:29'),\n",
                "('e9622364-6c02-48e9-b981-b4a20e73269c', 'Patricia Miller', 'patricia.miller@example.com', '2025-01-14 11:55:29', '2025-01-14 11:55:29'),\n",
                "('5695ca14-a54f-4835-9b39-7a188feb93ec', 'James Williams', 'james.williams@example.com', '2025-01-14 11:55:29', '2025-01-14 11:55:29'),\n",
                "('97cf1cb0-f218-4c3c-9c65-0c53d3d7f458', 'Richard Clark', 'richard.clark@example.com', '2025-01-14 11:55:29', '2025-01-14 11:55:29'),\n",
                "('4c0cf89e-1147-4554-aca6-5effc48c7ffb', 'Sarah Johnson', 'sarah.johnson@example.com', '2025-01-14 11:55:29', '2025-01-14 11:55:29'),\n",
                "('d0010e21-6405-40b6-ad70-e94d67419bf8', 'James Smith', 'james.smith@example.com', '2025-01-14 11:55:29', '2025-01-14 11:55:29'),\n",
                "('46020fab-f32e-4467-81e6-53200de4cbc5', 'Susan Taylor', 'susan.taylor@example.com', '2025-01-14 11:55:29', '2025-01-14 11:55:29'),\n",
                "('30e09fa5-8745-41e9-aea8-9911b68cc777', 'David Smith', 'david.smith@example.com', '2025-01-14 11:55:29', '2025-01-14 11:55:29'),\n",
                "('5907d575-af2a-4d42-8eec-ff230f2edff4', 'Elizabeth Smith', 'elizabeth.smith@example.com', '2025-01-14 11:55:29', '2025-01-14 11:55:29'),\n",
                "('d2ed4039-95c6-44a3-be97-612e2f94f309', 'Emma Anderson', 'emma.anderson@example.com', '2025-01-14 11:55:29', '2025-01-14 11:55:29'),\n",
                "('569ec292-f4f9-432e-8594-234b9d2c8d7e', 'Linda AO', 'linda.ao@example.com', '2025-01-14 11:55:29', '2025-01-14 11:55:29'),\n",
                "('4f72d62e-99b5-4a10-b834-4e1758925f60', 'Barbara Taylor', 'barbara.taylor@example.com', '2025-01-14 11:55:29', '2025-01-14 11:55:29'),\n",
                "('90149f2c-871c-4c94-960a-49a261f916f3', 'Jessica Clark', 'jessica.clark@example.com', '2025-01-14 11:55:29', '2025-01-14 11:55:29'),\n",
                "('d7a208bc-540f-4b5c-a02e-e252de6aa99d', 'Parinya Clark', 'parinya.clark@example.com', '2025-01-14 11:55:29', '2025-01-14 11:55:29'),\n",
                "('e26c2675-48a7-4f52-b3cd-343dfa405a4d', 'Parinya White', 'parinya.white@example.com', '2025-01-14 11:55:29', '2025-01-14 11:55:29'),\n",
                "('5bee78b9-1dbf-4abb-8e15-1a381511dde7', 'Richard Garcia', 'richard.garcia@example.com', '2025-01-14 11:55:29', '2025-01-14 11:55:29'),\n",
                "('aef1e92f-fe06-449f-9ce2-25ccd73babfb', 'William Jackson', 'william.jackson@example.com', '2025-01-14 11:55:29', '2025-01-14 11:55:29');\n",
                "\n",
                "-- Insert Tasks\n",
                "INSERT INTO Task (ID, Title, Description, Priority, Deadline, Complete, Status, CreatedAt, UpdatedAt) VALUES\n",
                "('c38b7554-af5f-42a8-bb66-e0cb477be6fa', 'Review Backend', 'Detailed description for Review Backend task including requirements and objectives', 'Low', '2025-01-30 11:55:29', 1, 'InProgress', '2025-01-14 11:55:29', '2025-01-14 11:55:29'),\n",
                "('337486e3-a4d5-45ff-b592-30aef78192c3', 'Refactor Documentation', 'Detailed description for Refactor Documentation task including requirements and objectives', 'High', '2025-02-04 11:55:29', 0, 'ToDo', '2025-01-14 11:55:29', '2025-01-14 11:55:29'),\n",
                "('6d2faf42-59b7-43fb-84b0-de4302f52e18', 'Monitor Recovery', 'Detailed description for Monitor Recovery task including requirements and objectives', 'Low', '2025-02-28 11:55:29', 0, 'ToDo', '2025-01-14 11:55:29', '2025-01-14 11:55:29'),\n",
                "('39431fca-e107-47a2-a8c1-0983dd68dfba', 'Validate Infrastructure', 'Detailed description for Validate Infrastructure task including requirements and objectives', 'High', '2025-03-21 11:55:29', 0, 'Completed', '2025-01-14 11:55:29', '2025-01-14 11:55:29'),\n",
                "('6197637a-c0e0-48c6-93b1-161ea5c67448', 'Maintain Integration', 'Detailed description for Maintain Integration task including requirements and objectives', 'Low', '2025-01-16 11:55:29', 1, 'ToDo', '2025-01-14 11:55:29', '2025-01-14 11:55:29'),\n",
                "('03f7bd03-6c74-4338-a6a3-53097f3bc3ee', 'Research Monitoring', 'Detailed description for Research Monitoring task including requirements and objectives', 'Low', '2025-02-18 11:55:29', 0, 'Completed', '2025-01-14 11:55:29', '2025-01-14 11:55:29'),\n",
                "('1b145f00-f2ec-4a41-984d-48dd4e65af3a', 'Maintain API', 'Detailed description for Maintain API task including requirements and objectives', 'Low', '2025-01-20 11:55:29', 1, 'ToDo', '2025-01-14 11:55:29', '2025-01-14 11:55:29'),\n",
                "('28e446fe-930a-4c17-bb37-3044a569dd66', 'Implement Documentation', 'Detailed description for Implement Documentation task including requirements and objectives', 'Low', '2025-02-17 11:55:29', 1, 'InProgress', '2025-01-14 11:55:29', '2025-01-14 11:55:29'),\n",
                "('32c1d8bb-9151-4f3f-aa77-b16222850353', 'Test Backup', 'Detailed description for Test Backup task including requirements and objectives', 'High', '2025-03-29 11:55:29', 0, 'Completed', '2025-01-14 11:55:29', '2025-01-14 11:55:29'),\n",
                "('d71e6981-5309-48d0-9df6-bb5235ba0ca5', 'Analyze Storage', 'Detailed description for Analyze Storage task including requirements and objectives', 'Medium', '2025-01-17 11:55:29', 1, 'ToDo', '2025-01-14 11:55:29', '2025-01-14 11:55:29'),\n",
                "('a33efce8-736b-4d6c-a836-5da12d32fa45', 'Optimize Database', 'Detailed description for Optimize Database task including requirements and objectives', 'Low', '2025-03-08 11:55:29', 0, 'InProgress', '2025-01-14 11:55:29', '2025-01-14 11:55:29'),\n",
                "('e82fd2c8-ff5f-4779-991e-96c0e7bf9a83', 'Develop Network', 'Detailed description for Develop Network task including requirements and objectives', 'Medium', '2025-02-11 11:55:29', 0, 'ToDo', '2025-01-14 11:55:29', '2025-01-14 11:55:29'),\n",
                "('e06638c7-ad8c-4135-a50c-3ba1c835d720', 'Implement Infrastructure', 'Detailed description for Implement Infrastructure task including requirements and objectives', 'High', '2025-03-19 11:55:29', 0, 'ToDo', '2025-01-14 11:55:29', '2025-01-14 11:55:29'),\n",
                "('2c746174-c055-4582-858b-e22bb1c7dc5a', 'Test API', 'Detailed description for Test API task including requirements and objectives', 'Low', '2025-02-17 11:55:29', 1, 'Completed', '2025-01-14 11:55:29', '2025-01-14 11:55:29'),\n",
                "('6a682f8d-438d-42fc-b018-f9a067e5993f', 'Validate Storage', 'Detailed description for Validate Storage task including requirements and objectives', 'High', '2025-03-20 11:55:29', 1, 'InProgress', '2025-01-14 11:55:29', '2025-01-14 11:55:29'),\n",
                "('58001221-b0ef-4639-b8bb-892d72c239f3', 'Update Testing', 'Detailed description for Update Testing task including requirements and objectives', 'High', '2025-02-01 11:55:29', 1, 'InProgress', '2025-01-14 11:55:29', '2025-01-14 11:55:29'),\n",
                "('15dac1c6-a1e4-4c81-868e-435d390286d1', 'Test Documentation', 'Detailed description for Test Documentation task including requirements and objectives', 'High', '2025-04-05 11:55:29', 0, 'ToDo', '2025-01-14 11:55:29', '2025-01-14 11:55:29'),\n",
                "('f1ede4f3-bb62-4c64-a889-6d5d5dc9db12', 'Optimize API', 'Detailed description for Optimize API task including requirements and objectives', 'Low', '2025-04-08 11:55:29', 0, 'ToDo', '2025-01-14 11:55:29', '2025-01-14 11:55:29'),\n",
                "('c94020a1-192d-44bd-84bf-9dd1c5e20406', 'Research Infrastructure', 'Detailed description for Research Infrastructure task including requirements and objectives', 'High', '2025-03-19 11:55:29', 0, 'Completed', '2025-01-14 11:55:29', '2025-01-14 11:55:29'),\n",
                "('e6cbaf9a-7f7f-429b-9008-1f0c243c1255', 'Research Recovery', 'Detailed description for Research Recovery task including requirements and objectives', 'High', '2025-03-29 11:55:29', 0, 'Completed', '2025-01-14 11:55:29', '2025-01-14 11:55:29'),\n",
                "('78e7d07c-9f80-4a44-9d78-37076264e75a', 'Research Integration', 'Detailed description for Research Integration task including requirements and objectives', 'Medium', '2025-04-14 11:55:29', 1, 'Completed', '2025-01-14 11:55:29', '2025-01-14 11:55:29'),\n",
                "('1de16eb3-1d78-49fd-a54a-c153d25cfda8', 'Document Security', 'Detailed description for Document Security task including requirements and objectives', 'Low', '2025-01-17 11:55:29', 0, 'ToDo', '2025-01-14 11:55:29', '2025-01-14 11:55:29'),\n",
                "('9396b93b-0810-485c-8289-77a05ca2447b', 'Design Integration', 'Detailed description for Design Integration task including requirements and objectives', 'Low', '2025-01-17 11:55:29', 0, 'ToDo', '2025-01-14 11:55:29', '2025-01-14 11:55:29'),\n",
                "('f3a8875e-8cfc-455d-abae-95c9db0e09b5', 'Enhance Security', 'Detailed description for Enhance Security task including requirements and objectives', 'Low', '2025-03-08 11:55:29', 1, 'InProgress', '2025-01-14 11:55:29', '2025-01-14 11:55:29'),\n",
                "('0676364f-b4fc-44b2-88bf-e184a77d733f', 'Test Testing', 'Detailed description for Test Testing task including requirements and objectives', 'Low', '2025-01-17 11:55:29', 1, 'Completed', '2025-01-14 11:55:29', '2025-01-14 11:55:29'),\n",
                "('6836e33f-fcec-4ade-9656-764f44370344', 'Implement Authentication', 'Detailed description for Implement Authentication task including requirements and objectives', 'Low', '2025-02-26 11:55:29', 0, 'InProgress', '2025-01-14 11:55:29', '2025-01-14 11:55:29'),\n",
                "('bca8800e-d381-4a12-98ed-7978bd822ef6', 'Create Backup', 'Detailed description for Create Backup task including requirements and objectives', 'Medium', '2025-03-14 11:55:29', 1, 'ToDo', '2025-01-14 11:55:29', '2025-01-14 11:55:29'),\n",
                "('cc6168d5-a9e0-4adb-a9e1-9bdb4dbce825', 'Develop Storage', 'Detailed description for Develop Storage task including requirements and objectives', 'High', '2025-04-14 11:55:29', 1, 'ToDo', '2025-01-14 11:55:29', '2025-01-14 11:55:29'),\n",
                "('a7a38b7c-ec59-4631-a342-45c7c59c69c3', 'Configure Analytics', 'Detailed description for Configure Analytics task including requirements and objectives', 'High', '2025-01-22 11:55:29', 0, 'ToDo', '2025-01-14 11:55:29', '2025-01-14 11:55:29'),\n",
                "('52ac6ded-d7f4-49ec-82e3-3ae588822f27', 'Analyze UI/UX', 'Detailed description for Analyze UI/UX task including requirements and objectives', 'Medium', '2025-03-23 11:55:29', 1, 'ToDo', '2025-01-14 11:55:29', '2025-01-14 11:55:29'),\n",
                "('79bf4e5a-18f2-47e4-8120-7827a0d0fe91', 'Test Security', 'Detailed description for Test Security task including requirements and objectives', 'Low', '2025-04-06 11:55:29', 1, 'ToDo', '2025-01-14 11:55:29', '2025-01-14 11:55:29'),\n",
                "('a58e3b87-db5e-4389-ab58-0425796f2475', 'Create Backend', 'Detailed description for Create Backend task including requirements and objectives', 'Medium', '2025-01-20 11:55:29', 0, 'ToDo', '2025-01-14 11:55:29', '2025-01-14 11:55:29'),\n",
                "('29f5f2d2-88d2-4673-9c5a-5f8aa3e596b0', 'Develop Testing', 'Detailed description for Develop Testing task including requirements and objectives', 'Low', '2025-01-21 11:55:29', 0, 'ToDo', '2025-01-14 11:55:29', '2025-01-14 11:55:29'),\n",
                "('0999701d-4b9e-418b-96ac-e7cd681afc3c', 'Implement Analytics', 'Detailed description for Implement Analytics task including requirements and objectives', 'Low', '2025-02-06 11:55:29', 1, 'Completed', '2025-01-14 11:55:29', '2025-01-14 11:55:29'),\n",
                "('a7de2133-1b76-436f-80e5-21d0c2816d13', 'Monitor Cache', 'Detailed description for Monitor Cache task including requirements and objectives', 'Medium', '2025-03-05 11:55:29', 0, 'Completed', '2025-01-14 11:55:29', '2025-01-14 11:55:29'),\n",
                "('f24f3532-5063-436a-b74c-43a9ad45ba6a', 'Optimize Documentation', 'Detailed description for Optimize Documentation task including requirements and objectives', 'High', '2025-02-16 11:55:29', 1, 'Completed', '2025-01-14 11:55:29', '2025-01-14 11:55:29'),\n",
                "('0e835949-95ca-46b6-861e-919091724a03', 'Develop Monitoring', 'Detailed description for Develop Monitoring task including requirements and objectives', 'Medium', '2025-03-06 11:55:29', 0, 'Completed', '2025-01-14 11:55:29', '2025-01-14 11:55:29'),\n",
                "('59c57ed0-de5b-4786-ac0e-637a3b9f44f2', 'Create Recovery', 'Detailed description for Create Recovery task including requirements and objectives', 'Low', '2025-04-03 11:55:29', 1, 'Completed', '2025-01-14 11:55:29', '2025-01-14 11:55:29'),\n",
                "('dba49555-22b0-4880-a6e5-07030a1819d8', 'Debug Recovery', 'Detailed description for Debug Recovery task including requirements and objectives', 'Low', '2025-01-27 11:55:29', 1, 'InProgress', '2025-01-14 11:55:29', '2025-01-14 11:55:29'),\n",
                "('0deb36e8-1083-4214-8e79-c77e90183e26', 'Refactor UI/UX', 'Detailed description for Refactor UI/UX task including requirements and objectives', 'High', '2025-04-09 11:55:29', 0, 'InProgress', '2025-01-14 11:55:29', '2025-01-14 11:55:29'),\n",
                "('90b0a54a-5c27-4d50-8393-d48f7fd97ed3', 'Update UI/UX', 'Detailed description for Update UI/UX task including requirements and objectives', 'Low', '2025-03-03 11:55:29', 1, 'InProgress', '2025-01-14 11:55:29', '2025-01-14 11:55:29'),\n",
                "('2866889c-7950-4f5c-9937-f9cd6cb56c4c', 'Create Documentation', 'Detailed description for Create Documentation task including requirements and objectives', 'Low', '2025-02-20 11:55:29', 1, 'InProgress', '2025-01-14 11:55:29', '2025-01-14 11:55:29'),\n",
                "('665677d9-e1fb-4033-b621-ba162d5eb4a2', 'Optimize UI/UX', 'Detailed description for Optimize UI/UX task including requirements and objectives', 'Low', '2025-03-04 11:55:29', 1, 'ToDo', '2025-01-14 11:55:29', '2025-01-14 11:55:29'),\n",
                "('e2dee06a-0069-4353-a054-69cb5e1e09f1', 'Analyze Cache', 'Detailed description for Analyze Cache task including requirements and objectives', 'Medium', '2025-02-16 11:55:29', 1, 'InProgress', '2025-01-14 11:55:29', '2025-01-14 11:55:29'),\n",
                "('ea4721ba-4ef3-4396-a2f1-452bc8edee4a', 'Review API', 'Detailed description for Review API task including requirements and objectives', 'High', '2025-03-06 11:55:29', 1, 'ToDo', '2025-01-14 11:55:29', '2025-01-14 11:55:29'),\n",
                "('d711a279-49a2-4b5d-bcb5-eb0dceae44d4', 'Design Logging', 'Detailed description for Design Logging task including requirements and objectives', 'High', '2025-03-06 11:55:29', 1, 'Completed', '2025-01-14 11:55:29', '2025-01-14 11:55:29'),\n",
                "('7e608b19-8afa-4344-97f7-03850dfa7bcb', 'Validate Recovery', 'Detailed description for Validate Recovery task including requirements and objectives', 'Low', '2025-03-15 11:55:29', 1, 'InProgress', '2025-01-14 11:55:29', '2025-01-14 11:55:29'),\n",
                "('4d61a05a-4407-4fc6-83bc-1a5262ed6935', 'Debug API', 'Detailed description for Debug API task including requirements and objectives', 'Medium', '2025-02-01 11:55:29', 1, 'ToDo', '2025-01-14 11:55:29', '2025-01-14 11:55:29'),\n",
                "('0d25cbd1-feaa-4a18-8c5b-5ac60a550418', 'Design Documentation', 'Detailed description for Design Documentation task including requirements and objectives', 'High', '2025-02-18 11:55:29', 1, 'InProgress', '2025-01-14 11:55:29', '2025-01-14 11:55:29'),\n",
                "('01ac09a5-9ed8-4a42-adea-b39a4bdd7936', 'Research UI/UX', 'Detailed description for Research UI/UX task including requirements and objectives', 'Medium', '2025-01-15 11:55:29', 1, 'Completed', '2025-01-14 11:55:29', '2025-01-14 11:55:29'),\n",
                "('53235559-63db-4290-8e7e-04c1783ad4ce', 'Maintain Backend', 'Detailed description for Maintain Backend task including requirements and objectives', 'High', '2025-04-10 11:55:29', 0, 'ToDo', '2025-01-14 11:55:29', '2025-01-14 11:55:29'),\n",
                "('d469e7de-bf34-4ee2-bb95-c17b25a0f80b', 'Configure Storage', 'Detailed description for Configure Storage task including requirements and objectives', 'High', '2025-03-12 11:55:29', 0, 'InProgress', '2025-01-14 11:55:29', '2025-01-14 11:55:29'),\n",
                "('4d150578-efc1-4c36-a618-f64e222ed787', 'Refactor Frontend', 'Detailed description for Refactor Frontend task including requirements and objectives', 'Low', '2025-01-22 11:55:29', 0, 'ToDo', '2025-01-14 11:55:29', '2025-01-14 11:55:29'),\n",
                "('a77ef471-0be6-41a3-8f8f-3f885d30a969', 'Maintain Storage', 'Detailed description for Maintain Storage task including requirements and objectives', 'Low', '2025-01-15 11:55:29', 1, 'InProgress', '2025-01-14 11:55:29', '2025-01-14 11:55:29'),\n",
                "('f039060e-10f8-4e04-a8e6-703a5d980a1d', 'Design Backup', 'Detailed description for Design Backup task including requirements and objectives', 'Medium', '2025-02-20 11:55:29', 1, 'ToDo', '2025-01-14 11:55:29', '2025-01-14 11:55:29'),\n",
                "('f16b79e5-c7a9-42b7-91b2-fcac090f39f0', 'Enhance UI/UX', 'Detailed description for Enhance UI/UX task including requirements and objectives', 'Low', '2025-04-10 11:55:29', 1, 'ToDo', '2025-01-14 11:55:29', '2025-01-14 11:55:29'),\n",
                "('d509f9bd-908e-4d43-bdf1-77ccb5b248cd', 'Deploy Authentication', 'Detailed description for Deploy Authentication task including requirements and objectives', 'Low', '2025-03-22 11:55:29', 1, 'ToDo', '2025-01-14 11:55:29', '2025-01-14 11:55:29'),\n",
                "('0965b2c2-2c54-4ad5-8f23-0bf9e36587ea', 'Update Network', 'Detailed description for Update Network task including requirements and objectives', 'Low', '2025-01-25 11:55:29', 1, 'Completed', '2025-01-14 11:55:29', '2025-01-14 11:55:29'),\n",
                "('2f25bc36-f6b1-4810-8099-27434cc29567', 'Debug Frontend', 'Detailed description for Debug Frontend task including requirements and objectives', 'Low', '2025-03-01 11:55:29', 1, 'InProgress', '2025-01-14 11:55:29', '2025-01-14 11:55:29'),\n",
                "('16606fa2-ab26-423c-85b7-241d0d36f3a1', 'Optimize Backend', 'Detailed description for Optimize Backend task including requirements and objectives', 'High', '2025-01-15 11:55:29', 0, 'ToDo', '2025-01-14 11:55:29', '2025-01-14 11:55:29'),\n",
                "('b6e500dd-f318-4b95-9610-3f9032d98199', 'Refactor Recovery', 'Detailed description for Refactor Recovery task including requirements and objectives', 'High', '2025-03-26 11:55:29', 0, 'Completed', '2025-01-14 11:55:29', '2025-01-14 11:55:29'),\n",
                "('a4aac9e1-826c-40a4-9df7-b9d71d4dbc64', 'Review Integration', 'Detailed description for Review Integration task including requirements and objectives', 'Medium', '2025-04-11 11:55:29', 0, 'InProgress', '2025-01-14 11:55:29', '2025-01-14 11:55:29'),\n",
                "('5bf343b3-67a1-4f5d-87d2-025aab7188d3', 'Plan Authentication', 'Detailed description for Plan Authentication task including requirements and objectives', 'High', '2025-03-17 11:55:29', 0, 'Completed', '2025-01-14 11:55:29', '2025-01-14 11:55:29'),\n",
                "('b0a5a58e-90ce-4a37-8821-a715e6711554', 'Create Infrastructure', 'Detailed description for Create Infrastructure task including requirements and objectives', 'High', '2025-03-28 11:55:29', 0, 'Completed', '2025-01-14 11:55:29', '2025-01-14 11:55:29'),\n",
                "('d4de576e-927d-4e6b-b033-e2e4da280e86', 'Enhance Network', 'Detailed description for Enhance Network task including requirements and objectives', 'Low', '2025-01-16 11:55:29', 1, 'ToDo', '2025-01-14 11:55:29', '2025-01-14 11:55:29'),\n",
                "('bb4db972-bb45-4755-a1e5-c8c887be29c5', 'Review Recovery', 'Detailed description for Review Recovery task including requirements and objectives', 'Medium', '2025-01-16 11:55:29', 0, 'Completed', '2025-01-14 11:55:29', '2025-01-14 11:55:29'),\n",
                "('09803ddf-9cac-4d8f-9efe-81cbd3f38c24', 'Research Backend', 'Detailed description for Research Backend task including requirements and objectives', 'High', '2025-03-20 11:55:29', 1, 'ToDo', '2025-01-14 11:55:29', '2025-01-14 11:55:29'),\n",
                "('d323a5b1-b6fc-4372-8dbb-977287d61b12', 'Plan Documentation', 'Detailed description for Plan Documentation task including requirements and objectives', 'High', '2025-03-09 11:55:29', 0, 'ToDo', '2025-01-14 11:55:29', '2025-01-14 11:55:29'),\n",
                "('fd94f223-62c8-4d70-a13d-c2343ed78fcf', 'Develop Backup', 'Detailed description for Develop Backup task including requirements and objectives', 'Medium', '2025-04-11 11:55:29', 1, 'InProgress', '2025-01-14 11:55:29', '2025-01-14 11:55:29'),\n",
                "('923f1f88-65ac-4edd-9c92-fb3415787a90', 'Implement Network', 'Detailed description for Implement Network task including requirements and objectives', 'High', '2025-02-24 11:55:29', 0, 'Completed', '2025-01-14 11:55:29', '2025-01-14 11:55:29'),\n",
                "('979848f1-5992-4f25-9866-ead0bec519ff', 'Refactor Security', 'Detailed description for Refactor Security task including requirements and objectives', 'High', '2025-03-29 11:55:29', 1, 'Completed', '2025-01-14 11:55:29', '2025-01-14 11:55:29'),\n",
                "('53ac4835-7460-489f-a362-e444260619da', 'Plan Testing', 'Detailed description for Plan Testing task including requirements and objectives', 'High', '2025-03-14 11:55:29', 1, 'ToDo', '2025-01-14 11:55:29', '2025-01-14 11:55:29'),\n",
                "('39588511-b052-4e9f-bc86-08c31a21853a', 'Implement Performance', 'Detailed description for Implement Performance task including requirements and objectives', 'Low', '2025-04-09 11:55:29', 1, 'Completed', '2025-01-14 11:55:29', '2025-01-14 11:55:29'),\n",
                "('d93e9bf5-055f-4953-a24c-1047f0190992', 'Review Backup', 'Detailed description for Review Backup task including requirements and objectives', 'Medium', '2025-04-03 11:55:29', 0, 'ToDo', '2025-01-14 11:55:29', '2025-01-14 11:55:29'),\n",
                "('e423fb84-97f9-4403-9436-d58c5848e6df', 'Document Performance', 'Detailed description for Document Performance task including requirements and objectives', 'Low', '2025-02-10 11:55:29', 1, 'ToDo', '2025-01-14 11:55:29', '2025-01-14 11:55:29'),\n",
                "('a3985cda-340b-405a-881a-03a482e7a611', 'Test Network', 'Detailed description for Test Network task including requirements and objectives', 'Low', '2025-01-26 11:55:29', 1, 'InProgress', '2025-01-14 11:55:29', '2025-01-14 11:55:29'),\n",
                "('bdf46b03-f26f-4db9-973e-15b19bd36b4c', 'Validate Testing', 'Detailed description for Validate Testing task including requirements and objectives', 'High', '2025-01-21 11:55:29', 0, 'Completed', '2025-01-14 11:55:29', '2025-01-14 11:55:29'),\n",
                "('5b319d48-d433-4f5d-9088-ec77baa06721', 'Create Integration', 'Detailed description for Create Integration task including requirements and objectives', 'Medium', '2025-02-21 11:55:29', 0, 'Completed', '2025-01-14 11:55:29', '2025-01-14 11:55:29'),\n",
                "('b58e504b-d877-4123-adbd-07c10643690c', 'Deploy Performance', 'Detailed description for Deploy Performance task including requirements and objectives', 'High', '2025-03-17 11:55:29', 0, 'Completed', '2025-01-14 11:55:29', '2025-01-14 11:55:29'),\n",
                "('4aad2a89-97ea-4bcd-88c8-449289c24bfa', 'Configure Authentication', 'Detailed description for Configure Authentication task including requirements and objectives', 'Low', '2025-03-19 11:55:29', 1, 'InProgress', '2025-01-14 11:55:29', '2025-01-14 11:55:29'),\n",
                "('5442c550-7713-4b30-b3dc-2a349fe97a8a', 'Document Backend', 'Detailed description for Document Backend task including requirements and objectives', 'Low', '2025-03-20 11:55:29', 0, 'ToDo', '2025-01-14 11:55:29', '2025-01-14 11:55:29'),\n",
                "('00da7d81-5b9f-483c-a26c-ad2ec4fb8e36', 'Plan API', 'Detailed description for Plan API task including requirements and objectives', 'Low', '2025-03-03 11:55:29', 0, 'Completed', '2025-01-14 11:55:29', '2025-01-14 11:55:29'),\n",
                "('901c9cc3-76f0-4f11-add1-2d3b67ef6bb4', 'Plan Monitoring', 'Detailed description for Plan Monitoring task including requirements and objectives', 'Low', '2025-03-12 11:55:29', 1, 'ToDo', '2025-01-14 11:55:29', '2025-01-14 11:55:29'),\n",
                "('91755498-a849-4850-9213-f3c4ccc78ddd', 'Research Authentication', 'Detailed description for Research Authentication task including requirements and objectives', 'High', '2025-02-25 11:55:29', 0, 'InProgress', '2025-01-14 11:55:29', '2025-01-14 11:55:29'),\n",
                "('63bbf82d-a070-4baa-abea-fee618b7e56b', 'Monitor Backend', 'Detailed description for Monitor Backend task including requirements and objectives', 'High', '2025-02-03 11:55:29', 1, 'ToDo', '2025-01-14 11:55:29', '2025-01-14 11:55:29'),\n",
                "('b7ac445e-4aa6-403e-a9b4-1df53e9bb1a7', 'Test Monitoring', 'Detailed description for Test Monitoring task including requirements and objectives', 'Medium', '2025-03-15 11:55:29', 0, 'InProgress', '2025-01-14 11:55:29', '2025-01-14 11:55:29'),\n",
                "('f26efcf0-ccae-4f15-95ca-8a1e3dbd517b', 'Design Database', 'Detailed description for Design Database task including requirements and objectives', 'Medium', '2025-02-16 11:55:29', 0, 'ToDo', '2025-01-14 11:55:29', '2025-01-14 11:55:29'),\n",
                "('8af7862a-5276-43cc-b957-618456633b44', 'Refactor Logging', 'Detailed description for Refactor Logging task including requirements and objectives', 'Medium', '2025-03-01 11:55:29', 0, 'ToDo', '2025-01-14 11:55:29', '2025-01-14 11:55:29'),\n",
                "('e849d495-4148-40f8-8d94-f06c38e271a2', 'Document Recovery', 'Detailed description for Document Recovery task including requirements and objectives', 'Medium', '2025-01-25 11:55:29', 1, 'InProgress', '2025-01-14 11:55:29', '2025-01-14 11:55:29'),\n",
                "('e2cf3ccd-d88e-484e-8571-bb14310a74f2', 'Test Cache', 'Detailed description for Test Cache task including requirements and objectives', 'High', '2025-02-20 11:55:29', 0, 'ToDo', '2025-01-14 11:55:29', '2025-01-14 11:55:29'),\n",
                "('e9cddace-2ac8-4939-b2e5-37ccb71d800d', 'Plan Storage', 'Detailed description for Plan Storage task including requirements and objectives', 'Medium', '2025-04-07 11:55:29', 0, 'ToDo', '2025-01-14 11:55:29', '2025-01-14 11:55:29'),\n",
                "('04cdbcb2-3d89-4ee8-a7c3-cb9117376f9b', 'Research Logging', 'Detailed description for Research Logging task including requirements and objectives', 'High', '2025-02-14 11:55:29', 1, 'ToDo', '2025-01-14 11:55:29', '2025-01-14 11:55:29'),\n",
                "('6e1c68a6-923c-4246-a5d5-3bb8a2ca7bd7', 'Implement Database', 'Detailed description for Implement Database task including requirements and objectives', 'High', '2025-02-04 11:55:29', 0, 'InProgress', '2025-01-14 11:55:29', '2025-01-14 11:55:29'),\n",
                "('2f72b5eb-efeb-44d0-85d9-39e6e4d42a7b', 'Enhance Infrastructure', 'Detailed description for Enhance Infrastructure task including requirements and objectives', 'High', '2025-01-15 11:55:29', 1, 'Completed', '2025-01-14 11:55:29', '2025-01-14 11:55:29'),\n",
                "('b70b3d3d-12c5-4f53-bf09-c54c0a8da2a4', 'Deploy Storage', 'Detailed description for Deploy Storage task including requirements and objectives', 'High', '2025-02-16 11:55:29', 1, 'ToDo', '2025-01-14 11:55:29', '2025-01-14 11:55:29'),\n",
                "('bc4b3e8c-dfe8-483a-b1bf-40be6b435df6', 'Design Storage', 'Detailed description for Design Storage task including requirements and objectives', 'Medium', '2025-04-05 11:55:29', 1, 'ToDo', '2025-01-14 11:55:29', '2025-01-14 11:55:29'),\n",
                "('41a73192-7fd0-4df3-b936-991719ba5d9b', 'Debug Monitoring', 'Detailed description for Debug Monitoring task including requirements and objectives', 'Medium', '2025-01-31 11:55:29', 1, 'Completed', '2025-01-14 11:55:29', '2025-01-14 11:55:29'),\n",
                "('5e59da76-83fd-4f73-a2cf-c0da2a6f2eae', 'Implement Logging', 'Detailed description for Implement Logging task including requirements and objectives', 'High', '2025-03-26 11:55:29', 1, 'Completed', '2025-01-14 11:55:29', '2025-01-14 11:55:29'),\n",
                "('62c27c68-c68b-473d-a4c1-37bf839cdcce', 'Refactor Cache', 'Detailed description for Refactor Cache task including requirements and objectives', 'High', '2025-01-25 11:55:29', 1, 'Completed', '2025-01-14 11:55:29', '2025-01-14 11:55:29'),\n",
                "('87ad8387-8719-43ac-8981-49d146f17272', 'Plan Logging', 'Detailed description for Plan Logging task including requirements and objectives', 'Medium', '2025-04-14 11:55:29', 1, 'InProgress', '2025-01-14 11:55:29', '2025-01-14 11:55:29'),\n",
                "('97dac2d2-f713-4178-b1e4-11190afeedc0', 'Document Monitoring', 'Detailed description for Document Monitoring task including requirements and objectives', 'Medium', '2025-03-02 11:55:29', 0, 'InProgress', '2025-01-14 11:55:29', '2025-01-14 11:55:29'),\n",
                "('7f710005-706e-4171-8a70-9f26d157bfec', 'Enhance Authentication', 'Detailed description for Enhance Authentication task including requirements and objectives', 'Low', '2025-04-04 11:55:29', 1, 'Completed', '2025-01-14 11:55:29', '2025-01-14 11:55:29'),\n",
                "('db31c5a2-914d-402c-8060-34094946954c', 'Monitor Integration', 'Detailed description for Monitor Integration task including requirements and objectives', 'Low', '2025-03-07 11:55:29', 0, 'Completed', '2025-01-14 11:55:29', '2025-01-14 11:55:29'),\n",
                "('f616987a-a11a-460f-86db-b391f74ebc7e', 'Enhance Performance', 'Detailed description for Enhance Performance task including requirements and objectives', 'Medium', '2025-01-24 11:55:29', 0, 'InProgress', '2025-01-14 11:55:29', '2025-01-14 11:55:29'),\n",
                "('8a8e2d89-2b93-4604-bc29-10a13e3f6723', 'Refactor Network', 'Detailed description for Refactor Network task including requirements and objectives', 'Low', '2025-01-24 11:55:29', 0, 'ToDo', '2025-01-14 11:55:29', '2025-01-14 11:55:29'),\n",
                "('0f34f6b0-19a3-4ecf-befe-96c7fa2eb636', 'Analyze Documentation', 'Detailed description for Analyze Documentation task including requirements and objectives', 'High', '2025-04-06 11:55:29', 1, 'ToDo', '2025-01-14 11:55:29', '2025-01-14 11:55:29'),\n",
                "('5245fadc-fb10-498b-b45a-5762c17da304', 'Debug Performance', 'Detailed description for Debug Performance task including requirements and objectives', 'High', '2025-01-15 11:55:29', 1, 'Completed', '2025-01-14 11:55:29', '2025-01-14 11:55:29'),\n",
                "('dd1d6a5c-0569-41db-96d1-6ae09f77f918', 'Maintain Performance', 'Detailed description for Maintain Performance task including requirements and objectives', 'Low', '2025-02-19 11:55:29', 1, 'Completed', '2025-01-14 11:55:29', '2025-01-14 11:55:29'),\n",
                "('33e59e30-e787-46c3-bf49-9515860360a2', 'Implement Security', 'Detailed description for Implement Security task including requirements and objectives', 'High', '2025-02-11 11:55:29', 1, 'Completed', '2025-01-14 11:55:29', '2025-01-14 11:55:29'),\n",
                "('7e0c99bc-bc00-45fb-b713-597985853323', 'Monitor Performance', 'Detailed description for Monitor Performance task including requirements and objectives', 'Medium', '2025-03-16 11:55:29', 0, 'InProgress', '2025-01-14 11:55:29', '2025-01-14 11:55:29'),\n",
                "('773bf4b7-cb48-4fae-b1f7-c4101d9a96c9', 'Validate Authentication', 'Detailed description for Validate Authentication task including requirements and objectives', 'High', '2025-03-25 11:55:29', 1, 'InProgress', '2025-01-14 11:55:29', '2025-01-14 11:55:29'),\n",
                "('f67a66c5-8a94-4158-9e84-0b65f1fb8049', 'Design Security', 'Detailed description for Design Security task including requirements and objectives', 'High', '2025-03-13 11:55:29', 1, 'Completed', '2025-01-14 11:55:29', '2025-01-14 11:55:29'),\n",
                "('e7705216-41b0-47f5-a500-2c2a06f6fb13', 'Deploy UI/UX', 'Detailed description for Deploy UI/UX task including requirements and objectives', 'Medium', '2025-02-14 11:55:29', 1, 'Completed', '2025-01-14 11:55:29', '2025-01-14 11:55:29'),\n",
                "('d2f88169-0378-4c1e-b173-5cb35af95a98', 'Validate Database', 'Detailed description for Validate Database task including requirements and objectives', 'Medium', '2025-02-07 11:55:29', 0, 'Completed', '2025-01-14 11:55:29', '2025-01-14 11:55:29'),\n",
                "('543d36b8-45e1-4891-ad7c-ae0d4e4acc3d', 'Refactor Authentication', 'Detailed description for Refactor Authentication task including requirements and objectives', 'High', '2025-03-25 11:55:29', 0, 'Completed', '2025-01-14 11:55:29', '2025-01-14 11:55:29'),\n",
                "('e002f25e-fa16-4157-84fb-3893a1eef018', 'Document Analytics', 'Detailed description for Document Analytics task including requirements and objectives', 'Medium', '2025-04-09 11:55:29', 1, 'ToDo', '2025-01-14 11:55:29', '2025-01-14 11:55:29'),\n",
                "('df49cb5f-9e82-4d2a-a4e3-fc9d0acb2c62', 'Enhance Monitoring', 'Detailed description for Enhance Monitoring task including requirements and objectives', 'High', '2025-04-07 11:55:29', 0, 'ToDo', '2025-01-14 11:55:29', '2025-01-14 11:55:29'),\n",
                "('73d018b5-a1d5-4c92-9cc4-41c8a80dcbe1', 'Update Cache', 'Detailed description for Update Cache task including requirements and objectives', 'Low', '2025-02-22 11:55:29', 1, 'Completed', '2025-01-14 11:55:29', '2025-01-14 11:55:29'),\n",
                "('f01a6f35-7e30-499e-abac-ccf20c0b4f02', 'Refactor Storage', 'Detailed description for Refactor Storage task including requirements and objectives', 'Low', '2025-01-24 11:55:29', 1, 'InProgress', '2025-01-14 11:55:29', '2025-01-14 11:55:29'),\n",
                "('91b16b9c-47e9-44ef-a419-6aed46cfad8d', 'Optimize Authentication', 'Detailed description for Optimize Authentication task including requirements and objectives', 'Medium', '2025-04-14 11:55:29', 0, 'Completed', '2025-01-14 11:55:29', '2025-01-14 11:55:29'),\n",
                "('9c8e385d-3d6b-4007-b1df-8cacb4b454f3', 'Maintain Logging', 'Detailed description for Maintain Logging task including requirements and objectives', 'Medium', '2025-02-12 11:55:29', 0, 'InProgress', '2025-01-14 11:55:29', '2025-01-14 11:55:29'),\n",
                "('40873df1-524c-48c6-bfb4-f483efc7d7df', 'Design Performance', 'Detailed description for Design Performance task including requirements and objectives', 'High', '2025-02-06 11:55:29', 0, 'Completed', '2025-01-14 11:55:29', '2025-01-14 11:55:29'),\n",
                "('84513686-c865-43de-8389-aab9eee18912', 'Review Storage', 'Detailed description for Review Storage task including requirements and objectives', 'High', '2025-01-25 11:55:29', 0, 'Completed', '2025-01-14 11:55:29', '2025-01-14 11:55:29'),\n",
                "('4d50ad43-22dc-4f41-9aac-0def4caa0e1b', 'Review Documentation', 'Detailed description for Review Documentation task including requirements and objectives', 'Low', '2025-01-31 11:55:29', 1, 'InProgress', '2025-01-14 11:55:29', '2025-01-14 11:55:29'),\n",
                "('3862f40b-1cf8-433e-83de-f037c942f3eb', 'Create Security', 'Detailed description for Create Security task including requirements and objectives', 'High', '2025-03-08 11:55:29', 0, 'InProgress', '2025-01-14 11:55:29', '2025-01-14 11:55:29'),\n",
                "('f900124c-bbf9-4850-8b67-b92c77d33946', 'Configure Network', 'Detailed description for Configure Network task including requirements and objectives', 'High', '2025-02-03 11:55:29', 0, 'InProgress', '2025-01-14 11:55:29', '2025-01-14 11:55:29'),\n",
                "('19468d74-ea01-4a18-aa82-ac03eb80648d', 'Analyze Frontend', 'Detailed description for Analyze Frontend task including requirements and objectives', 'Medium', '2025-03-03 11:55:29', 0, 'Completed', '2025-01-14 11:55:29', '2025-01-14 11:55:29'),\n",
                "('c71d8f9f-8bff-4b11-81d3-d64e921f5d92', 'Develop Authentication', 'Detailed description for Develop Authentication task including requirements and objectives', 'Medium', '2025-03-26 11:55:29', 0, 'InProgress', '2025-01-14 11:55:29', '2025-01-14 11:55:29'),\n",
                "('a335b854-d672-40eb-89db-28db8997276c', 'Create UI/UX', 'Detailed description for Create UI/UX task including requirements and objectives', 'Low', '2025-04-07 11:55:29', 1, 'ToDo', '2025-01-14 11:55:29', '2025-01-14 11:55:29'),\n",
                "('2ec20d97-f731-4548-a1ef-e0f57dc6a659', 'Test Analytics', 'Detailed description for Test Analytics task including requirements and objectives', 'Medium', '2025-03-25 11:55:29', 0, 'Completed', '2025-01-14 11:55:29', '2025-01-14 11:55:29'),\n",
                "('e5756436-bbfc-468a-99a0-9464865ab0b1', 'Analyze Analytics', 'Detailed description for Analyze Analytics task including requirements and objectives', 'Low', '2025-01-25 11:55:29', 1, 'ToDo', '2025-01-14 11:55:29', '2025-01-14 11:55:29'),\n",
                "('42356ed9-d436-4ac4-b5dc-04e0cb08a60e', 'Deploy Network', 'Detailed description for Deploy Network task including requirements and objectives', 'High', '2025-04-07 11:55:29', 0, 'InProgress', '2025-01-14 11:55:29', '2025-01-14 11:55:29'),\n",
                "('06b1f575-7537-4ac4-878c-9e80688d6dc9', 'Develop Database', 'Detailed description for Develop Database task including requirements and objectives', 'Low', '2025-01-23 11:55:29', 0, 'Completed', '2025-01-14 11:55:29', '2025-01-14 11:55:29'),\n",
                "('9f6f47c9-ccee-4522-9c44-c74aeedf2aa7', 'Validate Security', 'Detailed description for Validate Security task including requirements and objectives', 'Medium', '2025-03-28 11:55:29', 0, 'Completed', '2025-01-14 11:55:29', '2025-01-14 11:55:29'),\n",
                "('93c06c9c-05b9-47e7-9d66-7b6b891fc116', 'Refactor Backup', 'Detailed description for Refactor Backup task including requirements and objectives', 'Low', '2025-02-01 11:55:29', 0, 'InProgress', '2025-01-14 11:55:29', '2025-01-14 11:55:29'),\n",
                "('4dedc3ee-98c4-4db6-9afc-0c714128079d', 'Research API', 'Detailed description for Research API task including requirements and objectives', 'Medium', '2025-04-06 11:55:29', 0, 'ToDo', '2025-01-14 11:55:29', '2025-01-14 11:55:29'),\n",
                "('86c191f7-b930-40af-9050-d451f3129245', 'Monitor Monitoring', 'Detailed description for Monitor Monitoring task including requirements and objectives', 'High', '2025-01-30 11:55:29', 0, 'InProgress', '2025-01-14 11:55:29', '2025-01-14 11:55:29'),\n",
                "('496a658f-9cc6-4f06-a8f1-64736ce70522', 'Optimize Network', 'Detailed description for Optimize Network task including requirements and objectives', 'Medium', '2025-03-11 11:55:29', 0, 'ToDo', '2025-01-14 11:55:29', '2025-01-14 11:55:29'),\n",
                "('62215439-61b7-4943-9f5e-98edb7c033c5', 'Configure Documentation', 'Detailed description for Configure Documentation task including requirements and objectives', 'Medium', '2025-03-06 11:55:29', 1, 'InProgress', '2025-01-14 11:55:29', '2025-01-14 11:55:29'),\n",
                "('29ded9f2-1dcb-4f73-9c9a-3807870625bf', 'Document Network', 'Detailed description for Document Network task including requirements and objectives', 'Low', '2025-03-23 11:55:29', 1, 'ToDo', '2025-01-14 11:55:29', '2025-01-14 11:55:29'),\n",
                "('c7d03cf1-e49e-4f0c-a332-9c255df36e64', 'Debug Documentation', 'Detailed description for Debug Documentation task including requirements and objectives', 'High', '2025-03-27 11:55:29', 1, 'ToDo', '2025-01-14 11:55:29', '2025-01-14 11:55:29'),\n",
                "('e8b8a347-1e52-41b1-a8f8-3b1ac7b2d21f', 'Review Infrastructure', 'Detailed description for Review Infrastructure task including requirements and objectives', 'Low', '2025-02-05 11:55:29', 0, 'Completed', '2025-01-14 11:55:29', '2025-01-14 11:55:29'),\n",
                "('f9e05b21-0916-4f81-a58c-0086b8b655c1', 'Create Authentication', 'Detailed description for Create Authentication task including requirements and objectives', 'Low', '2025-03-21 11:55:29', 1, 'ToDo', '2025-01-14 11:55:29', '2025-01-14 11:55:29'),\n",
                "('0d013c8a-df14-4194-94c2-6f276134eca6', 'Document UI/UX', 'Detailed description for Document UI/UX task including requirements and objectives', 'Low', '2025-03-06 11:55:29', 1, 'ToDo', '2025-01-14 11:55:29', '2025-01-14 11:55:29'),\n",
                "('498197e1-78b9-4f4a-ad57-862b6e95ee59', 'Monitor Network', 'Detailed description for Monitor Network task including requirements and objectives', 'Low', '2025-02-07 11:55:29', 0, 'Completed', '2025-01-14 11:55:29', '2025-01-14 11:55:29'),\n",
                "('0f64c88b-46bf-4192-bcd9-1076723b7f12', 'Monitor Analytics', 'Detailed description for Monitor Analytics task including requirements and objectives', 'High', '2025-02-22 11:55:29', 0, 'InProgress', '2025-01-14 11:55:29', '2025-01-14 11:55:29'),\n",
                "('c20d8ad1-375a-4fb7-9e53-b537f2f63a3e', 'Refactor Backend', 'Detailed description for Refactor Backend task including requirements and objectives', 'High', '2025-01-24 11:55:29', 0, 'InProgress', '2025-01-14 11:55:29', '2025-01-14 11:55:29'),\n",
                "('b402e908-7188-4b96-ac5d-3b33ae55226c', 'Analyze Backend', 'Detailed description for Analyze Backend task including requirements and objectives', 'Low', '2025-04-02 11:55:29', 1, 'InProgress', '2025-01-14 11:55:29', '2025-01-14 11:55:29'),\n",
                "('d51f2390-c946-4ac2-8422-9a4115bf09bf', 'Deploy Frontend', 'Detailed description for Deploy Frontend task including requirements and objectives', 'Low', '2025-01-28 11:55:29', 0, 'Completed', '2025-01-14 11:55:29', '2025-01-14 11:55:29'),\n",
                "('c1713f90-17fb-4579-a7b0-74eeac12ab16', 'Validate Documentation', 'Detailed description for Validate Documentation task including requirements and objectives', 'Low', '2025-02-25 11:55:29', 0, 'Completed', '2025-01-14 11:55:29', '2025-01-14 11:55:29'),\n",
                "('fafc46ec-a179-49b4-8995-c265cbda2060', 'Develop API', 'Detailed description for Develop API task including requirements and objectives', 'High', '2025-03-25 11:55:29', 0, 'ToDo', '2025-01-14 11:55:29', '2025-01-14 11:55:29'),\n",
                "('22dc5d39-101a-4aba-a13b-6924cfd6ad85', 'Configure Security', 'Detailed description for Configure Security task including requirements and objectives', 'Low', '2025-03-26 11:55:29', 0, 'Completed', '2025-01-14 11:55:29', '2025-01-14 11:55:29'),\n",
                "('2144e82b-58b4-4250-90e7-5957bf3161f4', 'Develop Performance', 'Detailed description for Develop Performance task including requirements and objectives', 'Medium', '2025-03-29 11:55:29', 1, 'InProgress', '2025-01-14 11:55:29', '2025-01-14 11:55:29'),\n",
                "('e24641c0-1387-41cf-94a4-70abb2647198', 'Update Backend', 'Detailed description for Update Backend task including requirements and objectives', 'High', '2025-02-02 11:55:29', 0, 'Completed', '2025-01-14 11:55:29', '2025-01-14 11:55:29'),\n",
                "('99b3e24a-97fc-4689-bd39-4c4d61a18282', 'Analyze Logging', 'Detailed description for Analyze Logging task including requirements and objectives', 'Low', '2025-01-30 11:55:29', 1, 'Completed', '2025-01-14 11:55:29', '2025-01-14 11:55:29'),\n",
                "('8aa82489-08ec-4e90-9ce5-677d5ab6b425', 'Design Network', 'Detailed description for Design Network task including requirements and objectives', 'Low', '2025-03-07 11:55:29', 0, 'Completed', '2025-01-14 11:55:29', '2025-01-14 11:55:29'),\n",
                "('d1e33f4f-e569-461f-b908-9f270bc9d68d', 'Configure Performance', 'Detailed description for Configure Performance task including requirements and objectives', 'Medium', '2025-02-07 11:55:29', 0, 'Completed', '2025-01-14 11:55:29', '2025-01-14 11:55:29'),\n",
                "('46dbf417-79ce-42c0-8fa7-3457adbb0068', 'Research Documentation', 'Detailed description for Research Documentation task including requirements and objectives', 'Medium', '2025-01-21 11:55:29', 1, 'Completed', '2025-01-14 11:55:29', '2025-01-14 11:55:29'),\n",
                "('8e622aa2-f1e8-4f0d-afb4-462889aa4aaf', 'Update Monitoring', 'Detailed description for Update Monitoring task including requirements and objectives', 'Low', '2025-01-29 11:55:29', 0, 'ToDo', '2025-01-14 11:55:29', '2025-01-14 11:55:29'),\n",
                "('06592b0e-d3ed-43a5-8b68-95f09bb26f41', 'Validate Frontend', 'Detailed description for Validate Frontend task including requirements and objectives', 'Medium', '2025-02-14 11:55:29', 0, 'ToDo', '2025-01-14 11:55:29', '2025-01-14 11:55:29'),\n",
                "('865676a1-ec2e-477c-855f-0f6dc51955b2', 'Optimize Storage', 'Detailed description for Optimize Storage task including requirements and objectives', 'Low', '2025-02-15 11:55:29', 1, 'InProgress', '2025-01-14 11:55:29', '2025-01-14 11:55:29'),\n",
                "('7615cf9f-6665-4ed5-a5af-2d81536d5ecd', 'Review Analytics', 'Detailed description for Review Analytics task including requirements and objectives', 'High', '2025-02-18 11:55:29', 0, 'ToDo', '2025-01-14 11:55:29', '2025-01-14 11:55:29'),\n",
                "('9f2c6efc-94c6-48fa-9f4c-a341c49fbffa', 'Validate Backup', 'Detailed description for Validate Backup task including requirements and objectives', 'Medium', '2025-03-08 11:55:29', 1, 'ToDo', '2025-01-14 11:55:29', '2025-01-14 11:55:29'),\n",
                "('caa3a2aa-ccad-4719-8d72-fbf543d90012', 'Plan Network', 'Detailed description for Plan Network task including requirements and objectives', 'Low', '2025-02-10 11:55:29', 0, 'ToDo', '2025-01-14 11:55:29', '2025-01-14 11:55:29'),\n",
                "('ebd82f57-9fb2-423a-abeb-142140227d38', 'Create Frontend', 'Detailed description for Create Frontend task including requirements and objectives', 'High', '2025-02-16 11:55:29', 0, 'InProgress', '2025-01-14 11:55:29', '2025-01-14 11:55:29'),\n",
                "('8fc7c7ae-d131-4a6d-aa75-bb2a70229ef0', 'Design Recovery', 'Detailed description for Design Recovery task including requirements and objectives', 'High', '2025-03-27 11:55:29', 0, 'Completed', '2025-01-14 11:55:29', '2025-01-14 11:55:29'),\n",
                "('f02f28a4-c387-4a29-a7fa-504177d3e8ce', 'Design Infrastructure', 'Detailed description for Design Infrastructure task including requirements and objectives', 'High', '2025-03-17 11:55:29', 1, 'ToDo', '2025-01-14 11:55:29', '2025-01-14 11:55:29'),\n",
                "('06fc3f4d-b1da-4f80-ac72-73dd7d183a0d', 'Debug Integration', 'Detailed description for Debug Integration task including requirements and objectives', 'Low', '2025-03-31 11:55:29', 1, 'InProgress', '2025-01-14 11:55:29', '2025-01-14 11:55:29'),\n",
                "('aa9ea227-6308-4ebc-aab4-37b65556b278', 'Enhance Recovery', 'Detailed description for Enhance Recovery task including requirements and objectives', 'High', '2025-01-31 11:55:29', 0, 'InProgress', '2025-01-14 11:55:29', '2025-01-14 11:55:29'),\n",
                "('0291e6b5-5a7f-41b7-9534-0e871508f864', 'Document Database', 'Detailed description for Document Database task including requirements and objectives', 'Low', '2025-01-29 11:55:29', 1, 'ToDo', '2025-01-14 11:55:29', '2025-01-14 11:55:29'),\n",
                "('e8c7d845-5d57-44a2-ad41-e5fd08356e40', 'Review Monitoring', 'Detailed description for Review Monitoring task including requirements and objectives', 'Low', '2025-04-09 11:55:29', 0, 'ToDo', '2025-01-14 11:55:29', '2025-01-14 11:55:29'),\n",
                "('52c1ba1b-6024-4fd0-86e0-ee65ad08f77b', 'Develop Backend', 'Detailed description for Develop Backend task including requirements and objectives', 'High', '2025-01-27 11:55:29', 0, 'ToDo', '2025-01-14 11:55:29', '2025-01-14 11:55:29'),\n",
                "('10f4bfce-97eb-4f72-8d1d-66e7f0af8754', 'Configure Integration', 'Detailed description for Configure Integration task including requirements and objectives', 'High', '2025-02-03 11:55:29', 0, 'ToDo', '2025-01-14 11:55:29', '2025-01-14 11:55:29'),\n",
                "('1c40115a-fdc4-4e18-bbfe-1e57fc5301ca', 'Design Authentication', 'Detailed description for Design Authentication task including requirements and objectives', 'Medium', '2025-02-02 11:55:29', 1, 'ToDo', '2025-01-14 11:55:29', '2025-01-14 11:55:29'),\n",
                "('173a084f-c1d2-4853-9937-7964815bbbbc', 'Optimize Security', 'Detailed description for Optimize Security task including requirements and objectives', 'Low', '2025-04-10 11:55:29', 0, 'InProgress', '2025-01-14 11:55:29', '2025-01-14 11:55:29'),\n",
                "('3886aa93-1436-4f9d-a963-ceb581173415', 'Develop Logging', 'Detailed description for Develop Logging task including requirements and objectives', 'Low', '2025-01-27 11:55:29', 1, 'ToDo', '2025-01-14 11:55:29', '2025-01-14 11:55:29'),\n",
                "('4b5a0924-dd75-4dc3-8d0e-ee24ad94b5a7', 'Plan Cache', 'Detailed description for Plan Cache task including requirements and objectives', 'Medium', '2025-02-03 11:55:29', 1, 'Completed', '2025-01-14 11:55:29', '2025-01-14 11:55:29'),\n",
                "('860e7e48-475a-49b9-a295-73dd37ce068a', 'Debug Backend', 'Detailed description for Debug Backend task including requirements and objectives', 'High', '2025-01-24 11:55:29', 1, 'ToDo', '2025-01-14 11:55:29', '2025-01-14 11:55:29'),\n",
                "('ee1d06cf-894e-4b6a-bc84-7e6f1a9fcb33', 'Optimize Testing', 'Detailed description for Optimize Testing task including requirements and objectives', 'Medium', '2025-03-19 11:55:29', 0, 'Completed', '2025-01-14 11:55:29', '2025-01-14 11:55:29'),\n",
                "('7ddcf042-2611-4672-9cee-c9261ab79860', 'Update Authentication', 'Detailed description for Update Authentication task including requirements and objectives', 'High', '2025-02-13 11:55:29', 0, 'Completed', '2025-01-14 11:55:29', '2025-01-14 11:55:29'),\n",
                "('dbe23dcb-80a2-4f1b-b38f-7f83b7701f43', 'Refactor API', 'Detailed description for Refactor API task including requirements and objectives', 'High', '2025-02-17 11:55:29', 1, 'Completed', '2025-01-14 11:55:29', '2025-01-14 11:55:29'),\n",
                "('e2a43660-7131-45b4-a404-402c2b0987e5', 'Update Database', 'Detailed description for Update Database task including requirements and objectives', 'High', '2025-02-24 11:55:29', 0, 'Completed', '2025-01-14 11:55:29', '2025-01-14 11:55:29'),\n",
                "('aa3daf07-e2d4-4ca1-96e5-6c9146217112', 'Enhance Documentation', 'Detailed description for Enhance Documentation task including requirements and objectives', 'Medium', '2025-01-22 11:55:29', 0, 'ToDo', '2025-01-14 11:55:29', '2025-01-14 11:55:29'),\n",
                "('751faa7f-05c4-4a6a-a415-6ea7ff681516', 'Develop Security', 'Detailed description for Develop Security task including requirements and objectives', 'Low', '2025-01-20 11:55:29', 0, 'InProgress', '2025-01-14 11:55:29', '2025-01-14 11:55:29'),\n",
                "('39e2d1d8-1367-4f95-8076-96ddd8d443d9', 'Implement UI/UX', 'Detailed description for Implement UI/UX task including requirements and objectives', 'High', '2025-03-10 11:55:29', 1, 'ToDo', '2025-01-14 11:55:29', '2025-01-14 11:55:29'),\n",
                "('a02c1a7c-bf40-4ef7-849a-7ba69d7814d2', 'Refactor Integration', 'Detailed description for Refactor Integration task including requirements and objectives', 'Medium', '2025-03-28 11:55:29', 1, 'InProgress', '2025-01-14 11:55:29', '2025-01-14 11:55:29'),\n",
                "('9981d11a-4886-494f-80dc-7a918f7b2560', 'Deploy Logging', 'Detailed description for Deploy Logging task including requirements and objectives', 'Medium', '2025-03-15 11:55:29', 1, 'Completed', '2025-01-14 11:55:29', '2025-01-14 11:55:29'),\n",
                "('bdeb8f23-7032-4076-ace8-3827ecf7d858', 'Deploy Testing', 'Detailed description for Deploy Testing task including requirements and objectives', 'Medium', '2025-03-25 11:55:29', 1, 'Completed', '2025-01-14 11:55:29', '2025-01-14 11:55:29'),\n",
                "('23b41aa8-933f-45cc-9f76-f629a7fa75f5', 'Optimize Recovery', 'Detailed description for Optimize Recovery task including requirements and objectives', 'Medium', '2025-02-25 11:55:29', 0, 'Completed', '2025-01-14 11:55:29', '2025-01-14 11:55:29'),\n",
                "('dd3b0e7d-fb3c-46cd-aca7-f4453bdd9d14', 'Monitor Backup', 'Detailed description for Monitor Backup task including requirements and objectives', 'Medium', '2025-01-18 11:55:29', 1, 'ToDo', '2025-01-14 11:55:29', '2025-01-14 11:55:29'),\n",
                "('cba42c47-ec67-4e7a-9ad5-5049e1c08a88', 'Review Security', 'Detailed description for Review Security task including requirements and objectives', 'Medium', '2025-02-14 11:55:29', 1, 'Completed', '2025-01-14 11:55:29', '2025-01-14 11:55:29'),\n",
                "('1bf990aa-0985-4c45-9917-963c6b926fbc', 'Validate Integration', 'Detailed description for Validate Integration task including requirements and objectives', 'High', '2025-01-19 11:55:29', 0, 'ToDo', '2025-01-14 11:55:29', '2025-01-14 11:55:29'),\n",
                "('759d3566-6a98-4353-96fc-d487dbfb7815', 'Design Testing', 'Detailed description for Design Testing task including requirements and objectives', 'High', '2025-03-18 11:55:29', 0, 'Completed', '2025-01-14 11:55:29', '2025-01-14 11:55:29'),\n",
                "('105cd681-55a0-4c82-986c-f5923f91739f', 'Test Logging', 'Detailed description for Test Logging task including requirements and objectives', 'Low', '2025-03-19 11:55:29', 1, 'InProgress', '2025-01-14 11:55:29', '2025-01-14 11:55:29'),\n",
                "('2fc05847-c2a0-45f0-847b-1a1b08fbd365', 'Optimize Infrastructure', 'Detailed description for Optimize Infrastructure task including requirements and objectives', 'Medium', '2025-02-21 11:55:29', 1, 'Completed', '2025-01-14 11:55:29', '2025-01-14 11:55:29'),\n",
                "('559cfad3-1911-462e-a475-47fb02fec675', 'Update Storage', 'Detailed description for Update Storage task including requirements and objectives', 'Medium', '2025-02-23 11:55:29', 0, 'Completed', '2025-01-14 11:55:29', '2025-01-14 11:55:29'),\n",
                "('2eeaf560-54a3-4c32-b104-64646f6b9ed5', 'Deploy Documentation', 'Detailed description for Deploy Documentation task including requirements and objectives', 'High', '2025-03-18 11:55:29', 1, 'ToDo', '2025-01-14 11:55:29', '2025-01-14 11:55:29'),\n",
                "('a20ac009-56f9-4ba3-a790-1534e3a33a1e', 'Deploy Infrastructure', 'Detailed description for Deploy Infrastructure task including requirements and objectives', 'Medium', '2025-04-05 11:55:29', 0, 'ToDo', '2025-01-14 11:55:29', '2025-01-14 11:55:29'),\n",
                "('a5ff40de-6d06-4e10-9a7d-1fb56b1b3a16', 'Deploy API', 'Detailed description for Deploy API task including requirements and objectives', 'Medium', '2025-04-14 11:55:29', 0, 'InProgress', '2025-01-14 11:55:29', '2025-01-14 11:55:29'),\n",
                "('f691e5ce-fbf8-47c6-9290-1db4b78f7aa1', 'Optimize Cache', 'Detailed description for Optimize Cache task including requirements and objectives', 'Low', '2025-01-30 11:55:29', 0, 'Completed', '2025-01-14 11:55:29', '2025-01-14 11:55:29');\n",
                "\n",
                "-- Insert Categories\n",
                "INSERT INTO Category (ID, Name, Description, UserID, CreatedAt, UpdatedAt) VALUES\n",
                "('831db9b9-ca90-41d1-aaa8-c78dba68a8a1', 'Development', 'Category for managing all development related tasks and projects', '7a1b89b5-b459-4a08-9ec6-1bcad0ed282e', '2025-01-14 11:55:29', '2025-01-14 11:55:29'),\n",
                "('6cab4b23-4a6f-4345-99f4-8c73b340cf15', 'Design', 'Category for managing all design related tasks and projects', 'aef1e92f-fe06-449f-9ce2-25ccd73babfb', '2025-01-14 11:55:29', '2025-01-14 11:55:29'),\n",
                "('d9069e5f-c3b4-49f2-a383-736e698613cc', 'Planning', 'Category for managing all planning related tasks and projects', '4f72d62e-99b5-4a10-b834-4e1758925f60', '2025-01-14 11:55:29', '2025-01-14 11:55:29'),\n",
                "('5ad73741-444a-4c64-ae1d-f8a1b0729915', 'DevOps', 'Category for managing all devops related tasks and projects', '4ed63500-1466-47f4-b69d-7ab35cebe019', '2025-01-14 11:55:29', '2025-01-14 11:55:29'),\n",
                "('6a4236e6-c873-40ee-851e-c87191ce74bd', 'Cloud', 'Category for managing all cloud related tasks and projects', 'ff4fc7e3-4a42-424d-ba6e-f9c81d1f830a', '2025-01-14 11:55:29', '2025-01-14 11:55:29'),\n",
                "('f6e0e80d-773b-48a4-805a-a555ed8cfa72', 'Data Science', 'Category for managing all data science related tasks and projects', 'd45cf9de-2c3b-45e2-827f-381a4d72c940', '2025-01-14 11:55:29', '2025-01-14 11:55:29'),\n",
                "('6f47d7ab-4092-476d-8375-119f068078be', 'AI/ML', 'Category for managing all ai/ml related tasks and projects', 'db0bcf7d-9b44-44ac-b1d0-ca9ec83ced0c', '2025-01-14 11:55:29', '2025-01-14 11:55:29'),\n",
                "('9146dfdb-1db5-491f-8ac6-2e5aac0e59e2', 'Maintenance', 'Category for managing all maintenance related tasks and projects', 'a20ba503-5acf-423a-9bc7-a3fbd31d2b96', '2025-01-14 11:55:29', '2025-01-14 11:55:29'),\n",
                "('141ff36a-9ef9-41ce-b670-ffb029064592', 'Security', 'Category for managing all security related tasks and projects', '72c6156c-986d-46e5-b843-2b14ef486900', '2025-01-14 11:55:29', '2025-01-14 11:55:29'),\n",
                "('f1366de3-1249-42dc-a9b1-38aa86cdb522', 'Support', 'Category for managing all support related tasks and projects', '719514f6-c299-4d3e-87c4-1af6117ac9c8', '2025-01-14 11:55:29', '2025-01-14 11:55:29'),\n",
                "('87858e91-1e12-4043-b130-e57a625d8e10', 'Quality Assurance', 'Category for managing all quality assurance related tasks and projects', '80424870-c097-4eb9-a031-64110245ac6b', '2025-01-14 11:55:29', '2025-01-14 11:55:29'),\n",
                "('f9a9f38f-ccfe-4bb9-b359-b94576f65479', 'Documentation', 'Category for managing all documentation related tasks and projects', '5fd0a04a-2ec8-42dc-a39a-a7f0457da2ed', '2025-01-14 11:55:29', '2025-01-14 11:55:29'),\n",
                "('7c73469d-d41c-45d7-b2b7-cb484c4e8509', 'Mobile', 'Category for managing all mobile related tasks and projects', '800be58d-dea3-47ed-bea8-57483d64ef4f', '2025-01-14 11:55:29', '2025-01-14 11:55:29'),\n",
                "('b32db5e8-4add-4d6d-a25f-80ba3931bb62', 'Analytics', 'Category for managing all analytics related tasks and projects', '90149f2c-871c-4c94-960a-49a261f916f3', '2025-01-14 11:55:29', '2025-01-14 11:55:29'),\n",
                "('2b0655cf-4013-44c9-a0be-9e630ad3554c', 'Innovation', 'Category for managing all innovation related tasks and projects', 'cfc03884-1c18-444f-812c-dfa3fb29d220', '2025-01-14 11:55:29', '2025-01-14 11:55:29'),\n",
                "('b901195e-4ae3-456a-87d3-6bce5b4aacc6', 'Research', 'Category for managing all research related tasks and projects', '46020fab-f32e-4467-81e6-53200de4cbc5', '2025-01-14 11:55:29', '2025-01-14 11:55:29'),\n",
                "('961f303e-8bdb-41ee-90e3-52a09b10ba1f', 'Testing', 'Category for managing all testing related tasks and projects', '569ec292-f4f9-432e-8594-234b9d2c8d7e', '2025-01-14 11:55:29', '2025-01-14 11:55:29'),\n",
                "('259dbb15-b613-4803-bd82-cfcf6f64fc20', 'Web', 'Category for managing all web related tasks and projects', '79397f03-1f94-4708-a28f-afa899640335', '2025-01-14 11:55:29', '2025-01-14 11:55:29'),\n",
                "('fc41f64a-e2d7-43c9-85c4-4b8bde9ac042', 'Infrastructure', 'Category for managing all infrastructure related tasks and projects', 'd04c77ce-8ce5-4e31-b8f3-6bd0a39c610b', '2025-01-14 11:55:29', '2025-01-14 11:55:29'),\n",
                "('ab19fc0c-310d-47d8-a752-0c0adceca25c', 'Architecture', 'Category for managing all architecture related tasks and projects', '13ab886d-6cfc-4afe-b052-38aa429846c4', '2025-01-14 11:55:29', '2025-01-14 11:55:29'),\n",
                "('17fbcf6e-0868-4312-961c-67ae39a05216', 'Development', 'Category for managing all development related tasks and projects', '4b0d107b-d362-4f27-800b-4e769b23b794', '2025-01-14 11:55:29', '2025-01-14 11:55:29'),\n",
                "('4950fe1c-16bc-496e-a14d-28771b7c69b6', 'Design', 'Category for managing all design related tasks and projects', '68008088-a7e0-47d7-bc0e-ac70a72fae62', '2025-01-14 11:55:29', '2025-01-14 11:55:29'),\n",
                "('9b7833ae-a379-495f-a13f-880dd4e421cc', 'Planning', 'Category for managing all planning related tasks and projects', '44099cac-29f4-4147-9a8a-56189ed2c4e9', '2025-01-14 11:55:29', '2025-01-14 11:55:29'),\n",
                "('44145054-a866-4da9-8523-5730fc749bae', 'DevOps', 'Category for managing all devops related tasks and projects', '44d6ecd8-d7f6-4e80-b90c-b0308a5e3e45', '2025-01-14 11:55:29', '2025-01-14 11:55:29'),\n",
                "('2334b23d-9bd2-43f5-bb1d-be017a051249', 'Cloud', 'Category for managing all cloud related tasks and projects', '9a435ea0-cb8c-4ac6-abb0-e65a3ad7eb78', '2025-01-14 11:55:29', '2025-01-14 11:55:29'),\n",
                "('e89af4eb-458a-43fa-b014-10223cdb2613', 'Data Science', 'Category for managing all data science related tasks and projects', '93b1a0d9-a6c3-40fe-8c7a-a2596268f9a7', '2025-01-14 11:55:29', '2025-01-14 11:55:29'),\n",
                "('9bdac69b-25c7-4ea0-99d2-1fac32cca279', 'AI/ML', 'Category for managing all ai/ml related tasks and projects', '52e1c9e7-0d18-49f6-b4ee-909ad75d4ab7', '2025-01-14 11:55:29', '2025-01-14 11:55:29'),\n",
                "('0845e514-71c8-45e9-93a1-2081557f3063', 'Maintenance', 'Category for managing all maintenance related tasks and projects', 'c1efd58f-26fb-4c2c-a109-8c85a50042cf', '2025-01-14 11:55:29', '2025-01-14 11:55:29'),\n",
                "('d58cabec-87d5-474f-8968-3c2846b3c354', 'Security', 'Category for managing all security related tasks and projects', '4c0cf89e-1147-4554-aca6-5effc48c7ffb', '2025-01-14 11:55:29', '2025-01-14 11:55:29'),\n",
                "('4d269733-9226-4143-a4e5-009cf1747418', 'Support', 'Category for managing all support related tasks and projects', '951be525-f15c-4862-baa2-b947dfba6910', '2025-01-14 11:55:29', '2025-01-14 11:55:29'),\n",
                "('d1b5ae31-6fa5-4cf8-acca-92a9130f2d9e', 'Quality Assurance', 'Category for managing all quality assurance related tasks and projects', '54756f50-67a4-4398-8214-26be4eb9d802', '2025-01-14 11:55:29', '2025-01-14 11:55:29'),\n",
                "('2e44b4bf-1b21-49e6-a2b3-1920f7efd595', 'Documentation', 'Category for managing all documentation related tasks and projects', '235bcad4-da3e-4b5d-be88-c5aa54a05a84', '2025-01-14 11:55:29', '2025-01-14 11:55:29'),\n",
                "('84b37d3f-b580-47d2-bfcb-0bff208a43e3', 'Mobile', 'Category for managing all mobile related tasks and projects', '6d708dfe-2ade-4fdd-a401-bd982d7f26f5', '2025-01-14 11:55:29', '2025-01-14 11:55:29'),\n",
                "('c5237ff8-c2f9-46ad-94d0-fadbb3376d88', 'Analytics', 'Category for managing all analytics related tasks and projects', 'f444a6fb-ca3a-42c7-aae3-f42a7720a1e8', '2025-01-14 11:55:29', '2025-01-14 11:55:29'),\n",
                "('ebc0f127-c9e2-4c4a-bab8-d131a515263a', 'Innovation', 'Category for managing all innovation related tasks and projects', '8cb3a8fa-d4c8-4678-96ec-26115d300737', '2025-01-14 11:55:29', '2025-01-14 11:55:29'),\n",
                "('dded044b-760f-420b-bd90-1e723be1d798', 'Research', 'Category for managing all research related tasks and projects', '95027255-c51a-4d36-8922-5e73987acc04', '2025-01-14 11:55:29', '2025-01-14 11:55:29'),\n",
                "('d112241b-44ca-41ec-8451-d9c8b5bbfd65', 'Testing', 'Category for managing all testing related tasks and projects', 'c48e8ced-3719-4b05-95fb-c60cb9db6fbe', '2025-01-14 11:55:29', '2025-01-14 11:55:29'),\n",
                "('4efc3087-693d-45cb-90a1-235ff69be81c', 'Web', 'Category for managing all web related tasks and projects', '3762b4b9-0682-43f1-a52f-c9e06866d467', '2025-01-14 11:55:29', '2025-01-14 11:55:29'),\n",
                "('82a1725f-f9ea-4f2f-8d4a-2312ad7988e5', 'Infrastructure', 'Category for managing all infrastructure related tasks and projects', 'f5869ac4-b478-4eed-b388-2aa2b6dd92c4', '2025-01-14 11:55:29', '2025-01-14 11:55:29'),\n",
                "('15b0297e-76e6-4aff-8c54-5af1660ef723', 'Architecture', 'Category for managing all architecture related tasks and projects', '9cc83e57-55e6-4f1e-9378-08b60ad18003', '2025-01-14 11:55:29', '2025-01-14 11:55:29'),\n",
                "('36d05422-6d49-4e5d-babb-07c5ad4ed7df', 'Development', 'Category for managing all development related tasks and projects', 'c9b02a00-2b0e-45b3-8619-53ae9884a385', '2025-01-14 11:55:29', '2025-01-14 11:55:29'),\n",
                "('37d6c60d-b342-4d79-abae-16f442349a14', 'Design', 'Category for managing all design related tasks and projects', '487c4caa-8801-4aaf-a1e0-4cc2fa3caf68', '2025-01-14 11:55:29', '2025-01-14 11:55:29'),\n",
                "('7e650105-b4d0-4ee5-b0e1-336fef49067a', 'Planning', 'Category for managing all planning related tasks and projects', '44099cac-29f4-4147-9a8a-56189ed2c4e9', '2025-01-14 11:55:29', '2025-01-14 11:55:29'),\n",
                "('b6a73cf5-4a41-4e22-8e30-306f4e74acbb', 'DevOps', 'Category for managing all devops related tasks and projects', 'c9b02a00-2b0e-45b3-8619-53ae9884a385', '2025-01-14 11:55:29', '2025-01-14 11:55:29'),\n",
                "('a91bd897-3fa8-444b-8096-85a87da0d773', 'Cloud', 'Category for managing all cloud related tasks and projects', '4ed63500-1466-47f4-b69d-7ab35cebe019', '2025-01-14 11:55:29', '2025-01-14 11:55:29'),\n",
                "('dcc0685d-d7e0-454a-a3dd-c31914cda1a9', 'Data Science', 'Category for managing all data science related tasks and projects', '6a8326b6-7a48-45ed-a0ef-ea7abd6d3e11', '2025-01-14 11:55:29', '2025-01-14 11:55:29'),\n",
                "('25cb0974-e2f6-4a06-981b-979f9e5bb85c', 'AI/ML', 'Category for managing all ai/ml related tasks and projects', '68bc5e3c-3385-4c33-bdba-0e0982012dc0', '2025-01-14 11:55:29', '2025-01-14 11:55:29'),\n",
                "('5d0f9bd0-299c-4b34-8ee1-cf59dafda4fe', 'Maintenance', 'Category for managing all maintenance related tasks and projects', '47c14bf2-8057-4828-9638-0db29e697723', '2025-01-14 11:55:29', '2025-01-14 11:55:29'),\n",
                "('4aa0082f-cdb1-4fc4-889c-85a518fd9d3e', 'Security', 'Category for managing all security related tasks and projects', 'd7d7de30-a3eb-4484-aab5-1a1809d88cf5', '2025-01-14 11:55:29', '2025-01-14 11:55:29'),\n",
                "('ac3eae90-b5b8-4f15-b0c6-6f3b2cdb83d2', 'Support', 'Category for managing all support related tasks and projects', '30901276-885b-43a2-9f08-147a2feebad7', '2025-01-14 11:55:29', '2025-01-14 11:55:29'),\n",
                "('81398492-c814-4f7d-a50a-4509ab1da173', 'Quality Assurance', 'Category for managing all quality assurance related tasks and projects', '68bc5e3c-3385-4c33-bdba-0e0982012dc0', '2025-01-14 11:55:29', '2025-01-14 11:55:29'),\n",
                "('1b66da6d-d5f0-4e20-91ec-b29af8d839d1', 'Documentation', 'Category for managing all documentation related tasks and projects', 'b7ee3c92-b943-4fab-9c6e-7188ef89c0ad', '2025-01-14 11:55:29', '2025-01-14 11:55:29'),\n",
                "('f3b7e1b7-ad9f-403f-9585-5ee491429cab', 'Mobile', 'Category for managing all mobile related tasks and projects', 'aef1e92f-fe06-449f-9ce2-25ccd73babfb', '2025-01-14 11:55:29', '2025-01-14 11:55:29'),\n",
                "('4f469636-12fc-46c9-9757-679350a90b1e', 'Analytics', 'Category for managing all analytics related tasks and projects', '569ec292-f4f9-432e-8594-234b9d2c8d7e', '2025-01-14 11:55:29', '2025-01-14 11:55:29'),\n",
                "('806ea282-2ed8-46be-97cd-4d66591a01f4', 'Innovation', 'Category for managing all innovation related tasks and projects', 'f444a6fb-ca3a-42c7-aae3-f42a7720a1e8', '2025-01-14 11:55:29', '2025-01-14 11:55:29'),\n",
                "('689779a2-6f26-4aa3-ac18-4777fb1797e2', 'Research', 'Category for managing all research related tasks and projects', '2a70aa97-dd38-4847-bf81-033345d468af', '2025-01-14 11:55:29', '2025-01-14 11:55:29'),\n",
                "('db5f594c-2d6e-403c-811c-830d8eace4fc', 'Testing', 'Category for managing all testing related tasks and projects', '5fd0a04a-2ec8-42dc-a39a-a7f0457da2ed', '2025-01-14 11:55:29', '2025-01-14 11:55:29'),\n",
                "('90b70006-9cc0-4e14-a50e-2f8bce007448', 'Web', 'Category for managing all web related tasks and projects', '1dc775c6-1ed6-40ff-9597-cfe25e3aea59', '2025-01-14 11:55:29', '2025-01-14 11:55:29'),\n",
                "('d691aaea-6ce6-49df-972c-8c711d02fafa', 'Infrastructure', 'Category for managing all infrastructure related tasks and projects', '68008088-a7e0-47d7-bc0e-ac70a72fae62', '2025-01-14 11:55:29', '2025-01-14 11:55:29'),\n",
                "('14767a10-3460-4c18-be96-6e7332e39f21', 'Architecture', 'Category for managing all architecture related tasks and projects', '5907d575-af2a-4d42-8eec-ff230f2edff4', '2025-01-14 11:55:29', '2025-01-14 11:55:29'),\n",
                "('d4d87450-72b8-4f95-add8-e9e6c2a1b4d9', 'Development', 'Category for managing all development related tasks and projects', '7dccd797-54be-4a97-929a-e300088b2140', '2025-01-14 11:55:29', '2025-01-14 11:55:29'),\n",
                "('c3e70129-82a7-4936-a8de-645a6d4420ed', 'Design', 'Category for managing all design related tasks and projects', 'd7a208bc-540f-4b5c-a02e-e252de6aa99d', '2025-01-14 11:55:29', '2025-01-14 11:55:29'),\n",
                "('bf5be8d7-e9e9-4cd1-9c16-0352bc2ebbaa', 'Planning', 'Category for managing all planning related tasks and projects', '3b4dbb3f-c320-4bd8-a5c6-280883da8887', '2025-01-14 11:55:29', '2025-01-14 11:55:29'),\n",
                "('ef106c51-10f5-4bd9-a0b2-aeef37fc9a4d', 'DevOps', 'Category for managing all devops related tasks and projects', '81684c10-7a53-4471-b134-39fa6e1945e0', '2025-01-14 11:55:29', '2025-01-14 11:55:29'),\n",
                "('ebda57af-5b3c-47ce-b8e3-1a0b216dc28a', 'Cloud', 'Category for managing all cloud related tasks and projects', '30e09fa5-8745-41e9-aea8-9911b68cc777', '2025-01-14 11:55:29', '2025-01-14 11:55:29'),\n",
                "('5e495889-a0e4-44b9-ba8d-0b3263d365af', 'Data Science', 'Category for managing all data science related tasks and projects', '5fd0a04a-2ec8-42dc-a39a-a7f0457da2ed', '2025-01-14 11:55:29', '2025-01-14 11:55:29'),\n",
                "('ba588c95-6091-4b03-bf35-f325f593323c', 'AI/ML', 'Category for managing all ai/ml related tasks and projects', '81684c10-7a53-4471-b134-39fa6e1945e0', '2025-01-14 11:55:29', '2025-01-14 11:55:29'),\n",
                "('0160bad2-67a9-4cf7-8ff8-1b92302a26e5', 'Maintenance', 'Category for managing all maintenance related tasks and projects', '190234ec-7152-4f16-83eb-537a5ec16e1a', '2025-01-14 11:55:29', '2025-01-14 11:55:29'),\n",
                "('b861b619-e445-4f25-b2d0-9db6a05859a5', 'Security', 'Category for managing all security related tasks and projects', 'd3111ed3-bbd2-4797-b3aa-b23bc7a66f4d', '2025-01-14 11:55:29', '2025-01-14 11:55:29'),\n",
                "('9946a0ef-bde6-4c37-8078-d6f1e48e3a40', 'Support', 'Category for managing all support related tasks and projects', '9cc83e57-55e6-4f1e-9378-08b60ad18003', '2025-01-14 11:55:29', '2025-01-14 11:55:29'),\n",
                "('e6e8714e-23a7-446a-a17c-5282ee95e0a8', 'Quality Assurance', 'Category for managing all quality assurance related tasks and projects', 'ae73decf-8fa1-486b-bd17-7a25b9b35dd7', '2025-01-14 11:55:29', '2025-01-14 11:55:29'),\n",
                "('9c6cfd42-2c1b-4b3d-bca0-aa904379271a', 'Documentation', 'Category for managing all documentation related tasks and projects', '6cf16832-1492-47e6-8c8b-e078c94c3646', '2025-01-14 11:55:29', '2025-01-14 11:55:29'),\n",
                "('347046bb-69d8-41ec-b741-fb22924ea9e8', 'Mobile', 'Category for managing all mobile related tasks and projects', '299049b9-5a02-47ff-a872-9b0fca7c6965', '2025-01-14 11:55:29', '2025-01-14 11:55:29'),\n",
                "('18d597ed-d34a-4970-9e0f-5cbf950f709b', 'Analytics', 'Category for managing all analytics related tasks and projects', '8989fd97-36de-47e0-996d-d9b3702ff75a', '2025-01-14 11:55:29', '2025-01-14 11:55:29'),\n",
                "('3e636db1-af5b-4bab-9900-e46e01f88164', 'Innovation', 'Category for managing all innovation related tasks and projects', 'fac1636d-e435-48a4-9a56-a1de2628297e', '2025-01-14 11:55:29', '2025-01-14 11:55:29'),\n",
                "('7c83cb82-428e-4e4c-804b-6c2d00d9d886', 'Research', 'Category for managing all research related tasks and projects', '105f1e8f-94ae-46b1-8173-478184875065', '2025-01-14 11:55:29', '2025-01-14 11:55:29'),\n",
                "('5b1d006c-b5dc-4884-bf5a-9769195f933a', 'Testing', 'Category for managing all testing related tasks and projects', 'b7ee3c92-b943-4fab-9c6e-7188ef89c0ad', '2025-01-14 11:55:29', '2025-01-14 11:55:29'),\n",
                "('dfcd1ba1-3dcc-4e53-9a86-2d18ba928f75', 'Web', 'Category for managing all web related tasks and projects', 'a66e8fa3-c6b6-4a16-bc4a-7b0e7c7142f5', '2025-01-14 11:55:29', '2025-01-14 11:55:29'),\n",
                "('602ebff5-b59e-40b4-a1e6-abb14120622a', 'Infrastructure', 'Category for managing all infrastructure related tasks and projects', '487c4caa-8801-4aaf-a1e0-4cc2fa3caf68', '2025-01-14 11:55:29', '2025-01-14 11:55:29'),\n",
                "('57208be3-bc9e-4252-9fc5-528d6253487d', 'Architecture', 'Category for managing all architecture related tasks and projects', 'cfc03884-1c18-444f-812c-dfa3fb29d220', '2025-01-14 11:55:29', '2025-01-14 11:55:29'),\n",
                "('2070ac24-f466-428f-92ea-9194b92c814c', 'Development', 'Category for managing all development related tasks and projects', 'e26c2675-48a7-4f52-b3cd-343dfa405a4d', '2025-01-14 11:55:29', '2025-01-14 11:55:29'),\n",
                "('2077c286-f0fd-4b7a-8ee8-46859a205567', 'Design', 'Category for managing all design related tasks and projects', '87c109e3-e3df-4995-b226-22b85cc2183d', '2025-01-14 11:55:29', '2025-01-14 11:55:29'),\n",
                "('ce377edc-e356-4c3d-82e5-4b3eae28cfea', 'Planning', 'Category for managing all planning related tasks and projects', '024e59b4-7189-4b82-b54e-ac5e7f417a06', '2025-01-14 11:55:29', '2025-01-14 11:55:29'),\n",
                "('91c3407e-d648-4927-944e-3c2a16b70526', 'DevOps', 'Category for managing all devops related tasks and projects', '6f8e3463-b8e6-4790-9204-d33a1e20f048', '2025-01-14 11:55:29', '2025-01-14 11:55:29'),\n",
                "('b7fc3a9b-58db-4252-a83c-9f833d7073a7', 'Cloud', 'Category for managing all cloud related tasks and projects', 'da55427b-784a-4472-82a9-2c2f5c4fd576', '2025-01-14 11:55:29', '2025-01-14 11:55:29'),\n",
                "('38e62148-0af2-494c-b44d-b44d7917e5e7', 'Data Science', 'Category for managing all data science related tasks and projects', '190234ec-7152-4f16-83eb-537a5ec16e1a', '2025-01-14 11:55:29', '2025-01-14 11:55:29'),\n",
                "('62181ed0-914b-4944-a37d-09d5586e4050', 'AI/ML', 'Category for managing all ai/ml related tasks and projects', '6f8e3463-b8e6-4790-9204-d33a1e20f048', '2025-01-14 11:55:29', '2025-01-14 11:55:29'),\n",
                "('446a33f6-282c-4540-8da9-2b5d04efb980', 'Maintenance', 'Category for managing all maintenance related tasks and projects', 'd0010e21-6405-40b6-ad70-e94d67419bf8', '2025-01-14 11:55:29', '2025-01-14 11:55:29'),\n",
                "('1dc2e9be-e9b1-4c68-9748-3ad03bed314a', 'Security', 'Category for managing all security related tasks and projects', 'aa89d3f7-533c-4a0a-bdc7-7f1ad713ca0f', '2025-01-14 11:55:29', '2025-01-14 11:55:29'),\n",
                "('a297e574-94bd-45c9-8fac-deb4068d1a8e', 'Support', 'Category for managing all support related tasks and projects', '235bcad4-da3e-4b5d-be88-c5aa54a05a84', '2025-01-14 11:55:29', '2025-01-14 11:55:29'),\n",
                "('f7b968e2-4d2d-4662-abf3-09b8aafc6f38', 'Quality Assurance', 'Category for managing all quality assurance related tasks and projects', '05a2d6e1-99a8-4eac-87de-fad697610f19', '2025-01-14 11:55:29', '2025-01-14 11:55:29'),\n",
                "('fafe2002-2bd5-41d3-af6f-468cc02d1ddb', 'Documentation', 'Category for managing all documentation related tasks and projects', '93b1a0d9-a6c3-40fe-8c7a-a2596268f9a7', '2025-01-14 11:55:29', '2025-01-14 11:55:29'),\n",
                "('8d95f67a-3cdd-4154-8119-1e0f84f0f665', 'Mobile', 'Category for managing all mobile related tasks and projects', '7dccd797-54be-4a97-929a-e300088b2140', '2025-01-14 11:55:29', '2025-01-14 11:55:29'),\n",
                "('cc83b414-e6ac-4c72-a0cd-0d57fe69ceea', 'Analytics', 'Category for managing all analytics related tasks and projects', '9a435ea0-cb8c-4ac6-abb0-e65a3ad7eb78', '2025-01-14 11:55:29', '2025-01-14 11:55:29'),\n",
                "('f495a376-b5ce-42d0-a913-9cdad3b2c1ef', 'Innovation', 'Category for managing all innovation related tasks and projects', 'd45cf9de-2c3b-45e2-827f-381a4d72c940', '2025-01-14 11:55:29', '2025-01-14 11:55:29'),\n",
                "('62d17c3a-89e3-41cb-af86-619aa67cf569', 'Research', 'Category for managing all research related tasks and projects', '8de4a6a3-e3c8-4317-abbc-8c0d5a2d9556', '2025-01-14 11:55:29', '2025-01-14 11:55:29'),\n",
                "('8efa3ecb-6fbb-4ba1-8f09-77051736bb60', 'Testing', 'Category for managing all testing related tasks and projects', '1aa01ee0-3ea3-4559-95a4-ba4a717e0389', '2025-01-14 11:55:29', '2025-01-14 11:55:29'),\n",
                "('e5b5765c-1c01-40df-a286-6d2bb7733a62', 'Web', 'Category for managing all web related tasks and projects', 'a41674e8-5413-405a-a15b-cc2ef988c6b4', '2025-01-14 11:55:29', '2025-01-14 11:55:29'),\n",
                "('dd352883-61b5-402a-ba87-25bc0e006172', 'Infrastructure', 'Category for managing all infrastructure related tasks and projects', '97cf1cb0-f218-4c3c-9c65-0c53d3d7f458', '2025-01-14 11:55:29', '2025-01-14 11:55:29'),\n",
                "('2edf1658-7bac-49a5-98f2-e429ee647745', 'Architecture', 'Category for managing all architecture related tasks and projects', 'edfa6769-ce33-4c5d-9026-17b4050d4587', '2025-01-14 11:55:29', '2025-01-14 11:55:29'),\n",
                "('44db2eac-6be1-4be9-bea1-a91c6ab27bdf', 'Development', 'Category for managing all development related tasks and projects', '6dc49c6e-dddc-4a8a-bc72-06107427e302', '2025-01-14 11:55:29', '2025-01-14 11:55:29'),\n",
                "('30ac9322-690d-434b-9604-d6cc812c9dba', 'Design', 'Category for managing all design related tasks and projects', '97cf1cb0-f218-4c3c-9c65-0c53d3d7f458', '2025-01-14 11:55:29', '2025-01-14 11:55:29'),\n",
                "('934619d5-7741-486b-aa70-2bb4a2f178ab', 'Planning', 'Category for managing all planning related tasks and projects', '800be58d-dea3-47ed-bea8-57483d64ef4f', '2025-01-14 11:55:29', '2025-01-14 11:55:29'),\n",
                "('d511b5b3-a9ea-4b76-9289-aaf51e155b29', 'DevOps', 'Category for managing all devops related tasks and projects', '97c8c80f-6f8d-45f5-a3e3-ccdfe9e87f57', '2025-01-14 11:55:29', '2025-01-14 11:55:29'),\n",
                "('b61ad47b-d9ac-45ec-8538-24553b4315f6', 'Cloud', 'Category for managing all cloud related tasks and projects', '951be525-f15c-4862-baa2-b947dfba6910', '2025-01-14 11:55:29', '2025-01-14 11:55:29'),\n",
                "('12b4dad0-59e8-4fb6-b453-1cf4a1eeeff7', 'Data Science', 'Category for managing all data science related tasks and projects', '754079b3-10c3-42dc-b3e6-9988ec3685aa', '2025-01-14 11:55:29', '2025-01-14 11:55:29'),\n",
                "('b5237b68-8399-4e0d-a029-c3eecedf4413', 'AI/ML', 'Category for managing all ai/ml related tasks and projects', '8cb3a8fa-d4c8-4678-96ec-26115d300737', '2025-01-14 11:55:29', '2025-01-14 11:55:29'),\n",
                "('7ec5d95e-f8f6-4c41-aeec-8859c27a0cff', 'Maintenance', 'Category for managing all maintenance related tasks and projects', '44099cac-29f4-4147-9a8a-56189ed2c4e9', '2025-01-14 11:55:29', '2025-01-14 11:55:29'),\n",
                "('de2ab6f3-73bb-4f90-b53d-0e6487fd5094', 'Security', 'Category for managing all security related tasks and projects', '6a8326b6-7a48-45ed-a0ef-ea7abd6d3e11', '2025-01-14 11:55:29', '2025-01-14 11:55:29'),\n",
                "('084e586f-b72b-4c0b-937f-0889f56dc085', 'Support', 'Category for managing all support related tasks and projects', 'a138bf8e-e999-4736-8027-b405153b73f8', '2025-01-14 11:55:29', '2025-01-14 11:55:29'),\n",
                "('31cc8ead-a057-4802-92ae-5b11692037df', 'Quality Assurance', 'Category for managing all quality assurance related tasks and projects', '71327d1c-d812-4aaa-a933-38325e6421e3', '2025-01-14 11:55:29', '2025-01-14 11:55:29'),\n",
                "('b182e00c-2199-48da-9627-8e1c0e157adb', 'Documentation', 'Category for managing all documentation related tasks and projects', '7f1db049-29bd-45de-b3dc-8230ac0b1a95', '2025-01-14 11:55:29', '2025-01-14 11:55:29'),\n",
                "('ca8ba2a4-8f33-415d-8582-bd65ad9fa0b8', 'Mobile', 'Category for managing all mobile related tasks and projects', '7629c1c4-f693-489d-b955-cb636bf13828', '2025-01-14 11:55:29', '2025-01-14 11:55:29'),\n",
                "('8493b3ac-c131-4b6c-9fbd-c9ef629fa53b', 'Analytics', 'Category for managing all analytics related tasks and projects', '105f1e8f-94ae-46b1-8173-478184875065', '2025-01-14 11:55:29', '2025-01-14 11:55:29'),\n",
                "('beffed5a-cdaa-4b07-b689-0d8b1dab5870', 'Innovation', 'Category for managing all innovation related tasks and projects', 'd3111ed3-bbd2-4797-b3aa-b23bc7a66f4d', '2025-01-14 11:55:29', '2025-01-14 11:55:29'),\n",
                "('3a32eeb6-85c4-4afb-8963-1ab6a8876726', 'Research', 'Category for managing all research related tasks and projects', 'da55427b-784a-4472-82a9-2c2f5c4fd576', '2025-01-14 11:55:29', '2025-01-14 11:55:29'),\n",
                "('db930636-58fc-4e0e-a710-6f3caf2e1bbc', 'Testing', 'Category for managing all testing related tasks and projects', '0e124161-753c-4253-bde6-0f0fcd9d5a8a', '2025-01-14 11:55:29', '2025-01-14 11:55:29'),\n",
                "('4f6566f5-6e9a-48c9-914a-807b1980b178', 'Web', 'Category for managing all web related tasks and projects', '4f41ff56-fe5f-423d-a536-3add8888dd49', '2025-01-14 11:55:29', '2025-01-14 11:55:29'),\n",
                "('c659cdcf-2f35-48f8-b7df-b482e7be4da9', 'Infrastructure', 'Category for managing all infrastructure related tasks and projects', 'fb510efb-ee95-4f8f-a398-3a021beb6635', '2025-01-14 11:55:29', '2025-01-14 11:55:29'),\n",
                "('a2a24136-5dad-4fe5-90f7-4664a349e680', 'Architecture', 'Category for managing all architecture related tasks and projects', 'd0d29000-ddb5-4f67-87b0-d6ffcbb38cf7', '2025-01-14 11:55:29', '2025-01-14 11:55:29'),\n",
                "('05e5a21a-4ddc-4540-a015-40ca54cb057c', 'Development', 'Category for managing all development related tasks and projects', 'b705a6f6-44a7-4796-a71d-73d7efbfaed9', '2025-01-14 11:55:29', '2025-01-14 11:55:29'),\n",
                "('44adf313-a857-4637-9eba-faafae0a8104', 'Design', 'Category for managing all design related tasks and projects', 'c1efd58f-26fb-4c2c-a109-8c85a50042cf', '2025-01-14 11:55:29', '2025-01-14 11:55:29'),\n",
                "('d27fd8eb-d2ee-4c14-9e80-81dda41fc5c1', 'Planning', 'Category for managing all planning related tasks and projects', '9cc83e57-55e6-4f1e-9378-08b60ad18003', '2025-01-14 11:55:29', '2025-01-14 11:55:29'),\n",
                "('4ad75f05-f2e7-48fb-99e2-54d2dcac60ee', 'DevOps', 'Category for managing all devops related tasks and projects', '8ca69a35-ce59-4724-b996-1c7843389e3a', '2025-01-14 11:55:29', '2025-01-14 11:55:29'),\n",
                "('db86f593-999f-42ad-a1c7-30d7bf10f0b2', 'Cloud', 'Category for managing all cloud related tasks and projects', 'dcfbce51-3587-4a46-9f9e-d5f9b813ed97', '2025-01-14 11:55:29', '2025-01-14 11:55:29'),\n",
                "('18612802-8ffd-4684-a47c-0496325db846', 'Data Science', 'Category for managing all data science related tasks and projects', '5f2dd99b-842c-4047-9cc3-d6d0f88fac95', '2025-01-14 11:55:29', '2025-01-14 11:55:29'),\n",
                "('aceec995-89c0-40a4-86f8-6e920c82df7e', 'AI/ML', 'Category for managing all ai/ml related tasks and projects', '0f76e9ac-8b38-48a4-8053-53fda384d954', '2025-01-14 11:55:29', '2025-01-14 11:55:29'),\n",
                "('9438dd14-088b-441c-a05c-12c121156f6c', 'Maintenance', 'Category for managing all maintenance related tasks and projects', 'a4cb827d-0083-4c25-863a-9844331dbd66', '2025-01-14 11:55:29', '2025-01-14 11:55:29'),\n",
                "('71f216c7-2edf-40b5-95b2-c5c66218d8a9', 'Security', 'Category for managing all security related tasks and projects', 'b658b5d6-752d-44ba-9072-17f5b833d675', '2025-01-14 11:55:29', '2025-01-14 11:55:29'),\n",
                "('13c630f1-1576-47cc-8312-4d39ef4d8b3d', 'Support', 'Category for managing all support related tasks and projects', '754079b3-10c3-42dc-b3e6-9988ec3685aa', '2025-01-14 11:55:29', '2025-01-14 11:55:29'),\n",
                "('d10710f1-f702-42db-a905-79c52762d3e6', 'Quality Assurance', 'Category for managing all quality assurance related tasks and projects', 'fe6df415-2567-473b-b275-58f8809bfa6d', '2025-01-14 11:55:29', '2025-01-14 11:55:29'),\n",
                "('afa1ceb3-2d5e-4b9a-9587-5573155ce90a', 'Documentation', 'Category for managing all documentation related tasks and projects', 'ae73decf-8fa1-486b-bd17-7a25b9b35dd7', '2025-01-14 11:55:29', '2025-01-14 11:55:29'),\n",
                "('42030aa5-57c9-46c3-8054-3db323833f32', 'Mobile', 'Category for managing all mobile related tasks and projects', '7a1b89b5-b459-4a08-9ec6-1bcad0ed282e', '2025-01-14 11:55:29', '2025-01-14 11:55:29'),\n",
                "('3be9a4a7-9eb6-42da-8265-c4ed48d8b4bd', 'Analytics', 'Category for managing all analytics related tasks and projects', 'dac8021e-05d0-4d66-bb92-51766e3c9f41', '2025-01-14 11:55:29', '2025-01-14 11:55:29'),\n",
                "('5da8a972-e467-4156-b49e-4ae409d0bb13', 'Innovation', 'Category for managing all innovation related tasks and projects', '1dec8357-9943-4e49-9331-af3a2893dece', '2025-01-14 11:55:29', '2025-01-14 11:55:29'),\n",
                "('1a49c7f5-2455-4ed3-bbc7-effc6fee0b4a', 'Research', 'Category for managing all research related tasks and projects', '231ce659-1f2a-466e-96a4-4cd485438344', '2025-01-14 11:55:29', '2025-01-14 11:55:29'),\n",
                "('ebf5f275-cf27-47b6-875e-045cca07f471', 'Testing', 'Category for managing all testing related tasks and projects', '68008088-a7e0-47d7-bc0e-ac70a72fae62', '2025-01-14 11:55:29', '2025-01-14 11:55:29'),\n",
                "('36a23433-c68a-4b09-b351-81ad5b3db2d5', 'Web', 'Category for managing all web related tasks and projects', 'd04c77ce-8ce5-4e31-b8f3-6bd0a39c610b', '2025-01-14 11:55:29', '2025-01-14 11:55:29'),\n",
                "('06612416-8c65-4643-be4f-c7fea8cc56fe', 'Infrastructure', 'Category for managing all infrastructure related tasks and projects', '754079b3-10c3-42dc-b3e6-9988ec3685aa', '2025-01-14 11:55:29', '2025-01-14 11:55:29'),\n",
                "('5328213e-10eb-4061-ac50-6ec45eacacb8', 'Architecture', 'Category for managing all architecture related tasks and projects', 'd45cf9de-2c3b-45e2-827f-381a4d72c940', '2025-01-14 11:55:29', '2025-01-14 11:55:29'),\n",
                "('aa991983-8123-475e-b86b-6cfede05f3c2', 'Development', 'Category for managing all development related tasks and projects', 'd7d7de30-a3eb-4484-aab5-1a1809d88cf5', '2025-01-14 11:55:29', '2025-01-14 11:55:29'),\n",
                "('055c9fcf-ab0a-4f22-be9f-cf3da87e5ffd', 'Design', 'Category for managing all design related tasks and projects', '3762b4b9-0682-43f1-a52f-c9e06866d467', '2025-01-14 11:55:29', '2025-01-14 11:55:29'),\n",
                "('5116394e-8dad-45fb-a1bb-02841438a549', 'Planning', 'Category for managing all planning related tasks and projects', 'd2ed4039-95c6-44a3-be97-612e2f94f309', '2025-01-14 11:55:29', '2025-01-14 11:55:29'),\n",
                "('57b6346d-c196-4725-8916-584399cba61b', 'DevOps', 'Category for managing all devops related tasks and projects', 'a7ec2854-59cd-4cd8-89d6-db4db1ff1def', '2025-01-14 11:55:29', '2025-01-14 11:55:29'),\n",
                "('d7b1e843-b696-4bb4-8cc0-cca493ff5d82', 'Cloud', 'Category for managing all cloud related tasks and projects', '5bd8105e-272a-4b21-9cbe-2ec4ed3e9e82', '2025-01-14 11:55:29', '2025-01-14 11:55:29'),\n",
                "('b99830ce-b7ba-4ce8-8ef1-d5b4a0a58112', 'Data Science', 'Category for managing all data science related tasks and projects', 'e9622364-6c02-48e9-b981-b4a20e73269c', '2025-01-14 11:55:29', '2025-01-14 11:55:29'),\n",
                "('96b66835-5274-4dd3-a1a1-67ae5013ee44', 'AI/ML', 'Category for managing all ai/ml related tasks and projects', 'f35e9bd6-ae87-4a32-a282-4cfd078becab', '2025-01-14 11:55:29', '2025-01-14 11:55:29'),\n",
                "('c57dcbfc-b72f-4f17-ba78-05285bef3872', 'Maintenance', 'Category for managing all maintenance related tasks and projects', 'e5e3a4b8-f659-4825-a3af-79432c329033', '2025-01-14 11:55:29', '2025-01-14 11:55:29'),\n",
                "('ab2406f6-729b-4f79-b3bc-d818cbabacf3', 'Security', 'Category for managing all security related tasks and projects', 'a119beb2-7d6a-4b87-8260-9e5937f11feb', '2025-01-14 11:55:29', '2025-01-14 11:55:29'),\n",
                "('1bfb6ec1-077f-471d-bbf4-504ba7a2bba0', 'Support', 'Category for managing all support related tasks and projects', 'c92aa7e4-c158-48aa-b915-acc7f709febd', '2025-01-14 11:55:29', '2025-01-14 11:55:29'),\n",
                "('7332c326-7deb-461e-82e0-f975e8ea28be', 'Quality Assurance', 'Category for managing all quality assurance related tasks and projects', '337df05b-4863-4d79-8058-68327529f62f', '2025-01-14 11:55:29', '2025-01-14 11:55:29'),\n",
                "('bee89d28-ef53-449b-ac93-ddbde05018a1', 'Documentation', 'Category for managing all documentation related tasks and projects', 'a7ec2854-59cd-4cd8-89d6-db4db1ff1def', '2025-01-14 11:55:29', '2025-01-14 11:55:29'),\n",
                "('5c110c71-fe93-49ce-b560-5891eb73c68d', 'Mobile', 'Category for managing all mobile related tasks and projects', '86bad218-b122-44f0-a7f8-85ac5be9b279', '2025-01-14 11:55:29', '2025-01-14 11:55:29'),\n",
                "('5c6a9088-df13-4786-99f8-6893460a249b', 'Analytics', 'Category for managing all analytics related tasks and projects', 'b7ee3c92-b943-4fab-9c6e-7188ef89c0ad', '2025-01-14 11:55:29', '2025-01-14 11:55:29'),\n",
                "('bc90a2aa-18fa-4b62-a170-5d837dd715c6', 'Innovation', 'Category for managing all innovation related tasks and projects', '7a1b89b5-b459-4a08-9ec6-1bcad0ed282e', '2025-01-14 11:55:29', '2025-01-14 11:55:29'),\n",
                "('f35f9e84-e76b-4f0e-97bc-3b05deb51626', 'Research', 'Category for managing all research related tasks and projects', '3bcc10db-7f31-4928-868c-e87fdb0fcdc2', '2025-01-14 11:55:29', '2025-01-14 11:55:29'),\n",
                "('bba9fd86-63f9-434c-bfc7-31c3802c1dba', 'Testing', 'Category for managing all testing related tasks and projects', '1f4e346f-70ec-409c-b301-24904639eb89', '2025-01-14 11:55:29', '2025-01-14 11:55:29'),\n",
                "('10d13de6-2768-43a5-8c27-65f901660984', 'Web', 'Category for managing all web related tasks and projects', '7629c1c4-f693-489d-b955-cb636bf13828', '2025-01-14 11:55:29', '2025-01-14 11:55:29'),\n",
                "('0b903b2f-b350-48d6-a548-a7107c7e76c6', 'Infrastructure', 'Category for managing all infrastructure related tasks and projects', '32835569-c6d4-4a8f-9a73-609244572bbf', '2025-01-14 11:55:29', '2025-01-14 11:55:29'),\n",
                "('e154de5c-40d5-4ef4-b17c-1e3b4e7f9137', 'Architecture', 'Category for managing all architecture related tasks and projects', 'aef1e92f-fe06-449f-9ce2-25ccd73babfb', '2025-01-14 11:55:29', '2025-01-14 11:55:29'),\n",
                "('89dfed3c-adf2-4571-944d-b64ba250d34f', 'Development', 'Category for managing all development related tasks and projects', '0cc52231-7e54-4a34-99d6-72d5bf44ce79', '2025-01-14 11:55:29', '2025-01-14 11:55:29'),\n",
                "('80b8fb28-c175-4e52-afed-e249ebd20956', 'Design', 'Category for managing all design related tasks and projects', '3b4dbb3f-c320-4bd8-a5c6-280883da8887', '2025-01-14 11:55:29', '2025-01-14 11:55:29'),\n",
                "('b65cdd50-b8ec-4016-b620-8edb94e50f9a', 'Planning', 'Category for managing all planning related tasks and projects', '299049b9-5a02-47ff-a872-9b0fca7c6965', '2025-01-14 11:55:29', '2025-01-14 11:55:29'),\n",
                "('af22ea5f-a0e8-4f0e-92d1-4201e2e3ab09', 'DevOps', 'Category for managing all devops related tasks and projects', '5bd8105e-272a-4b21-9cbe-2ec4ed3e9e82', '2025-01-14 11:55:29', '2025-01-14 11:55:29'),\n",
                "('10c650d9-28ea-4dbb-98c0-05ed628d29b4', 'Cloud', 'Category for managing all cloud related tasks and projects', '94e965d0-c2a5-41f9-8850-61049a064292', '2025-01-14 11:55:29', '2025-01-14 11:55:29'),\n",
                "('b9da4408-e228-46f5-9a2b-ba26da4cc23c', 'Data Science', 'Category for managing all data science related tasks and projects', '4abc16f1-f736-4306-928a-a8b3f8b847b8', '2025-01-14 11:55:29', '2025-01-14 11:55:29'),\n",
                "('cb64a7b5-99bf-4e9f-b56c-58aebd97884c', 'AI/ML', 'Category for managing all ai/ml related tasks and projects', '0f76e9ac-8b38-48a4-8053-53fda384d954', '2025-01-14 11:55:29', '2025-01-14 11:55:29'),\n",
                "('7c7cecec-4cd4-4ff7-8572-15c296b9bd9b', 'Maintenance', 'Category for managing all maintenance related tasks and projects', '1b62c1d3-32b9-4e13-80cf-08f46f16883e', '2025-01-14 11:55:29', '2025-01-14 11:55:29'),\n",
                "('dbd57f6d-4008-45bb-b6c8-e3d4d2aa59e6', 'Security', 'Category for managing all security related tasks and projects', '9fc54413-a0f7-4acb-b3c9-8fc1fb652923', '2025-01-14 11:55:29', '2025-01-14 11:55:29'),\n",
                "('7fcfbdc9-3b32-4e51-82ef-bfcc2c6a9b98', 'Support', 'Category for managing all support related tasks and projects', '87c109e3-e3df-4995-b226-22b85cc2183d', '2025-01-14 11:55:29', '2025-01-14 11:55:29'),\n",
                "('6a9519e2-e273-4216-a71d-1886e8abfe1d', 'Quality Assurance', 'Category for managing all quality assurance related tasks and projects', 'c1efd58f-26fb-4c2c-a109-8c85a50042cf', '2025-01-14 11:55:29', '2025-01-14 11:55:29'),\n",
                "('135f6605-58b7-449a-b9df-fd9fa9c8c5ec', 'Documentation', 'Category for managing all documentation related tasks and projects', 'ff4fc7e3-4a42-424d-ba6e-f9c81d1f830a', '2025-01-14 11:55:29', '2025-01-14 11:55:29'),\n",
                "('047bff85-8683-4ffc-9a3c-6cfe45543088', 'Mobile', 'Category for managing all mobile related tasks and projects', 'd6b602aa-c6ee-4ebb-9e08-247486574f93', '2025-01-14 11:55:29', '2025-01-14 11:55:29'),\n",
                "('960a4dc8-f3a9-4411-ae4a-e3a4304d5d68', 'Analytics', 'Category for managing all analytics related tasks and projects', '6a8326b6-7a48-45ed-a0ef-ea7abd6d3e11', '2025-01-14 11:55:29', '2025-01-14 11:55:29'),\n",
                "('0225dab9-d158-42b3-8c30-dd0eadff27d4', 'Innovation', 'Category for managing all innovation related tasks and projects', 'aa0320e5-2d2f-4330-81ae-537a970278a8', '2025-01-14 11:55:29', '2025-01-14 11:55:29'),\n",
                "('a6005838-3e5c-4989-a067-1cf0a1118cfb', 'Research', 'Category for managing all research related tasks and projects', 'd6d89413-ad9f-4f7d-8d9b-94ca3963bf40', '2025-01-14 11:55:29', '2025-01-14 11:55:29'),\n",
                "('86ab1ff7-637e-4fbd-a3b7-9294277b842d', 'Testing', 'Category for managing all testing related tasks and projects', '6bc1ef96-8d68-4f2a-bd5e-233725620e43', '2025-01-14 11:55:29', '2025-01-14 11:55:29'),\n",
                "('99dcb34b-05e9-4433-8ca6-c5929a1efff4', 'Web', 'Category for managing all web related tasks and projects', '3762b4b9-0682-43f1-a52f-c9e06866d467', '2025-01-14 11:55:29', '2025-01-14 11:55:29'),\n",
                "('f9837cc4-750e-4f67-baa4-97f17c2d3753', 'Infrastructure', 'Category for managing all infrastructure related tasks and projects', '97c8c80f-6f8d-45f5-a3e3-ccdfe9e87f57', '2025-01-14 11:55:29', '2025-01-14 11:55:29'),\n",
                "('ce3455ab-767a-461f-bddb-ba0151dfe94a', 'Architecture', 'Category for managing all architecture related tasks and projects', '87c109e3-e3df-4995-b226-22b85cc2183d', '2025-01-14 11:55:29', '2025-01-14 11:55:29'),\n",
                "('be18eaf4-67b1-4b1a-9a5f-23526be91939', 'Development', 'Category for managing all development related tasks and projects', '800be58d-dea3-47ed-bea8-57483d64ef4f', '2025-01-14 11:55:29', '2025-01-14 11:55:29'),\n",
                "('03fe9c94-982a-4593-9aa7-871c34f219d9', 'Design', 'Category for managing all design related tasks and projects', '8da51b7b-2e4b-46d2-a9a5-dc9611b7f0fe', '2025-01-14 11:55:29', '2025-01-14 11:55:29'),\n",
                "('adfb8e9b-3d84-4e9a-91cd-b77a78eb1a3a', 'Planning', 'Category for managing all planning related tasks and projects', '52e1c9e7-0d18-49f6-b4ee-909ad75d4ab7', '2025-01-14 11:55:29', '2025-01-14 11:55:29'),\n",
                "('888cc5ae-a5a8-4f7c-a28f-3a6ca274c61f', 'DevOps', 'Category for managing all devops related tasks and projects', '980d368a-e923-45a1-98c7-77b1d472e41d', '2025-01-14 11:55:29', '2025-01-14 11:55:29'),\n",
                "('843c00a9-24b1-4a7c-b57b-cb655072b2b1', 'Cloud', 'Category for managing all cloud related tasks and projects', '5695ca14-a54f-4835-9b39-7a188feb93ec', '2025-01-14 11:55:29', '2025-01-14 11:55:29'),\n",
                "('39bc7156-caaa-4854-b36c-464520d4a9b8', 'Data Science', 'Category for managing all data science related tasks and projects', '8cb3a8fa-d4c8-4678-96ec-26115d300737', '2025-01-14 11:55:29', '2025-01-14 11:55:29'),\n",
                "('6029ac83-93cf-4f1c-bda5-315cbc255e8d', 'AI/ML', 'Category for managing all ai/ml related tasks and projects', 'b705a6f6-44a7-4796-a71d-73d7efbfaed9', '2025-01-14 11:55:29', '2025-01-14 11:55:29'),\n",
                "('c48e651a-5c82-4315-b23e-d8b561415865', 'Maintenance', 'Category for managing all maintenance related tasks and projects', 'c7d1552f-173b-42a8-800f-0ac57fe36582', '2025-01-14 11:55:29', '2025-01-14 11:55:29'),\n",
                "('14fbdc86-50fe-4984-b4d5-4c7763d0dcd4', 'Security', 'Category for managing all security related tasks and projects', '81684c10-7a53-4471-b134-39fa6e1945e0', '2025-01-14 11:55:29', '2025-01-14 11:55:29'),\n",
                "('89aa131c-01c2-4de4-80db-9e1d9cd7d4ad', 'Support', 'Category for managing all support related tasks and projects', '1df171c2-3882-4220-a417-3f3d228a517d', '2025-01-14 11:55:29', '2025-01-14 11:55:29'),\n",
                "('932bc65f-a7d9-4a78-9425-4c33f632b98d', 'Quality Assurance', 'Category for managing all quality assurance related tasks and projects', '5dafdaed-d35e-4c45-9ba3-d159a265252a', '2025-01-14 11:55:29', '2025-01-14 11:55:29'),\n",
                "('0ae96ce2-841b-4a6c-8e15-d9e78fcecb32', 'Documentation', 'Category for managing all documentation related tasks and projects', '5bd8105e-272a-4b21-9cbe-2ec4ed3e9e82', '2025-01-14 11:55:29', '2025-01-14 11:55:29'),\n",
                "('72aed851-1c48-4515-b2df-c8ac8bc81a86', 'Mobile', 'Category for managing all mobile related tasks and projects', '80424870-c097-4eb9-a031-64110245ac6b', '2025-01-14 11:55:29', '2025-01-14 11:55:29'),\n",
                "('8b000379-3fd9-4c17-b33e-e02fc8a3b9eb', 'Analytics', 'Category for managing all analytics related tasks and projects', 'a20ba503-5acf-423a-9bc7-a3fbd31d2b96', '2025-01-14 11:55:29', '2025-01-14 11:55:29'),\n",
                "('9664d948-6cd4-4a8f-b229-a4805b8dfa1c', 'Innovation', 'Category for managing all innovation related tasks and projects', '81684c10-7a53-4471-b134-39fa6e1945e0', '2025-01-14 11:55:29', '2025-01-14 11:55:29'),\n",
                "('c0a55c6a-7d9b-4104-91b1-79b572a1990e', 'Research', 'Category for managing all research related tasks and projects', 'dbfb6886-b008-42cb-a20c-6f83c3167c5b', '2025-01-14 11:55:29', '2025-01-14 11:55:29'),\n",
                "('b3ff3cca-9394-400c-b522-f5b4e393adf2', 'Testing', 'Category for managing all testing related tasks and projects', '93b1a0d9-a6c3-40fe-8c7a-a2596268f9a7', '2025-01-14 11:55:29', '2025-01-14 11:55:29'),\n",
                "('920c07f1-4dfa-474a-bef3-2c677378563c', 'Web', 'Category for managing all web related tasks and projects', '1dec8357-9943-4e49-9331-af3a2893dece', '2025-01-14 11:55:29', '2025-01-14 11:55:29'),\n",
                "('0488f06e-937b-427f-976f-77ced6b57441', 'Infrastructure', 'Category for managing all infrastructure related tasks and projects', '5a6c8fb4-a042-4899-a9c0-df492efb3777', '2025-01-14 11:55:29', '2025-01-14 11:55:29'),\n",
                "('f47ff78f-543d-46e2-a318-8704dc7d7b89', 'Architecture', 'Category for managing all architecture related tasks and projects', 'd7d7de30-a3eb-4484-aab5-1a1809d88cf5', '2025-01-14 11:55:29', '2025-01-14 11:55:29');\n",
                "\n",
                "-- Insert TaskCategories\n",
                "INSERT INTO TaskCategory (ID, TaskID, CategoryID, AssignedDate, Importance) VALUES\n",
                "('6b6281d0-340d-430b-b4db-c397152b407b', 'a7de2133-1b76-436f-80e5-21d0c2816d13', '5c6a9088-df13-4786-99f8-6893460a249b', '2025-01-14 11:55:29', 1),\n",
                "('7b716295-d4dd-4bfb-8f24-7b1a0b4834ef', 'a7de2133-1b76-436f-80e5-21d0c2816d13', 'f7b968e2-4d2d-4662-abf3-09b8aafc6f38', '2025-01-14 11:55:29', 10),\n",
                "('a6e59d40-77ae-410e-96a2-1ff036a8c4c8', '19468d74-ea01-4a18-aa82-ac03eb80648d', 'f9837cc4-750e-4f67-baa4-97f17c2d3753', '2025-01-14 11:55:29', 1),\n",
                "('bda00d9c-ae60-411f-9173-006fed7c6783', 'db31c5a2-914d-402c-8060-34094946954c', 'ba588c95-6091-4b03-bf35-f325f593323c', '2025-01-14 11:55:29', 2),\n",
                "('c1898cea-ebb1-4bb7-9efa-e198660c5e8b', '0965b2c2-2c54-4ad5-8f23-0bf9e36587ea', '259dbb15-b613-4803-bd82-cfcf6f64fc20', '2025-01-14 11:55:29', 6),\n",
                "('25d8772a-49d4-44b8-8a79-139972811eea', 'fd94f223-62c8-4d70-a13d-c2343ed78fcf', '86ab1ff7-637e-4fbd-a3b7-9294277b842d', '2025-01-14 11:55:29', 7),\n",
                "('dcb1ccf1-288b-4161-87e0-35452c3fb029', 'f24f3532-5063-436a-b74c-43a9ad45ba6a', '2070ac24-f466-428f-92ea-9194b92c814c', '2025-01-14 11:55:29', 10),\n",
                "('56433e1c-3a89-490d-958d-57387c2e4a9c', '52ac6ded-d7f4-49ec-82e3-3ae588822f27', 'c5237ff8-c2f9-46ad-94d0-fadbb3376d88', '2025-01-14 11:55:29', 4),\n",
                "('8016820a-6e83-4484-becf-b0c3ecb6b702', 'b6e500dd-f318-4b95-9610-3f9032d98199', '961f303e-8bdb-41ee-90e3-52a09b10ba1f', '2025-01-14 11:55:29', 9),\n",
                "('3d4bc67a-0eec-4dbc-899c-ee04500c424c', '8e622aa2-f1e8-4f0d-afb4-462889aa4aaf', 'd10710f1-f702-42db-a905-79c52762d3e6', '2025-01-14 11:55:29', 8),\n",
                "('02f95ee8-08ec-44ae-baab-d2a6a847290e', '4d150578-efc1-4c36-a618-f64e222ed787', '7ec5d95e-f8f6-4c41-aeec-8859c27a0cff', '2025-01-14 11:55:29', 7),\n",
                "('058e0e9e-abba-4c74-b0b9-c5ee351712f6', 'e5756436-bbfc-468a-99a0-9464865ab0b1', 'ef106c51-10f5-4bd9-a0b2-aeef37fc9a4d', '2025-01-14 11:55:29', 2),\n",
                "('b484a566-9015-4261-bc77-1f358ed29c5e', '8a8e2d89-2b93-4604-bc29-10a13e3f6723', 'b6a73cf5-4a41-4e22-8e30-306f4e74acbb', '2025-01-14 11:55:29', 6),\n",
                "('90b4417f-7104-4447-9c4a-18778ee5a513', '7e0c99bc-bc00-45fb-b713-597985853323', '5328213e-10eb-4061-ac50-6ec45eacacb8', '2025-01-14 11:55:29', 1),\n",
                "('a0990dfc-70fa-47c9-9339-c9e27aaab851', 'd93e9bf5-055f-4953-a24c-1047f0190992', 'd112241b-44ca-41ec-8451-d9c8b5bbfd65', '2025-01-14 11:55:29', 8),\n",
                "('bcb039d3-4811-413d-938c-04204d449027', '3862f40b-1cf8-433e-83de-f037c942f3eb', '0160bad2-67a9-4cf7-8ff8-1b92302a26e5', '2025-01-14 11:55:29', 4),\n",
                "('d65ae451-8443-4050-88ed-db83aa8f5887', 'cba42c47-ec67-4e7a-9ad5-5049e1c08a88', '12b4dad0-59e8-4fb6-b453-1cf4a1eeeff7', '2025-01-14 11:55:29', 10),\n",
                "('a9bae2da-fe3a-4f19-bff0-97a991487523', 'f9e05b21-0916-4f81-a58c-0086b8b655c1', '1a49c7f5-2455-4ed3-bbc7-effc6fee0b4a', '2025-01-14 11:55:29', 1),\n",
                "('48def3a4-521c-4a29-b1f3-5c3e845649f6', 'bc4b3e8c-dfe8-483a-b1bf-40be6b435df6', '81398492-c814-4f7d-a50a-4509ab1da173', '2025-01-14 11:55:29', 9),\n",
                "('ad4e8695-e3ba-40d1-9abd-b67332d5114a', '0deb36e8-1083-4214-8e79-c77e90183e26', '62d17c3a-89e3-41cb-af86-619aa67cf569', '2025-01-14 11:55:29', 5),\n",
                "('55e5dd3e-9111-40f3-bd56-3f3ab27f0875', '8aa82489-08ec-4e90-9ce5-677d5ab6b425', 'f9837cc4-750e-4f67-baa4-97f17c2d3753', '2025-01-14 11:55:29', 1),\n",
                "('7d83270c-7fd4-499a-bd8f-1a1d4ec1d47e', 'bdf46b03-f26f-4db9-973e-15b19bd36b4c', 'd7b1e843-b696-4bb4-8cc0-cca493ff5d82', '2025-01-14 11:55:29', 5),\n",
                "('5be822ed-27d3-4f54-a486-fda4c4ee0287', '04cdbcb2-3d89-4ee8-a7c3-cb9117376f9b', 'dd352883-61b5-402a-ba87-25bc0e006172', '2025-01-14 11:55:29', 10),\n",
                "('c1d970d3-bf3d-4678-9190-869086e7c1b3', '8af7862a-5276-43cc-b957-618456633b44', '2077c286-f0fd-4b7a-8ee8-46859a205567', '2025-01-14 11:55:29', 10),\n",
                "('b82f2bfa-9eb6-4841-8ead-e5afb7cc56ca', 'f9e05b21-0916-4f81-a58c-0086b8b655c1', '446a33f6-282c-4540-8da9-2b5d04efb980', '2025-01-14 11:55:29', 9),\n",
                "('d2c73a6a-e019-41e8-8ad5-e7da96c40cb2', '5442c550-7713-4b30-b3dc-2a349fe97a8a', '7e650105-b4d0-4ee5-b0e1-336fef49067a', '2025-01-14 11:55:29', 5),\n",
                "('c84fcce8-bb23-4970-9041-aae8067e948f', 'f1ede4f3-bb62-4c64-a889-6d5d5dc9db12', '36d05422-6d49-4e5d-babb-07c5ad4ed7df', '2025-01-14 11:55:29', 6),\n",
                "('253d7cd6-5205-4452-9e66-fb9ca54fd598', 'e2cf3ccd-d88e-484e-8571-bb14310a74f2', '689779a2-6f26-4aa3-ac18-4777fb1797e2', '2025-01-14 11:55:29', 2),\n",
                "('3f4fdbde-2638-4e56-8c0b-85cec2ebfc2d', 'e849d495-4148-40f8-8d94-f06c38e271a2', '4f469636-12fc-46c9-9757-679350a90b1e', '2025-01-14 11:55:29', 8),\n",
                "('98d14880-a2aa-4607-9387-44ecd5fe7370', 'f9e05b21-0916-4f81-a58c-0086b8b655c1', '4d269733-9226-4143-a4e5-009cf1747418', '2025-01-14 11:55:29', 10),\n",
                "('7adab452-b346-44f9-b099-372b6f8d64e4', '0291e6b5-5a7f-41b7-9534-0e871508f864', '2e44b4bf-1b21-49e6-a2b3-1920f7efd595', '2025-01-14 11:55:29', 5),\n",
                "('ec34c0a8-47d8-44e5-a1c8-05a06257d2a9', 'c7d03cf1-e49e-4f0c-a332-9c255df36e64', 'c3e70129-82a7-4936-a8de-645a6d4420ed', '2025-01-14 11:55:29', 5),\n",
                "('c82dd199-871d-4f8c-b586-ee9b98eb97da', '0d25cbd1-feaa-4a18-8c5b-5ac60a550418', '0488f06e-937b-427f-976f-77ced6b57441', '2025-01-14 11:55:29', 5),\n",
                "('c8784a7c-d475-4e3a-8c54-5f9f5f11e3d8', '1c40115a-fdc4-4e18-bbfe-1e57fc5301ca', 'b182e00c-2199-48da-9627-8e1c0e157adb', '2025-01-14 11:55:29', 3),\n",
                "('30dd3e30-43ac-4d3b-8a69-639f987e44c1', '559cfad3-1911-462e-a475-47fb02fec675', '920c07f1-4dfa-474a-bef3-2c677378563c', '2025-01-14 11:55:29', 2),\n",
                "('2bd92102-5287-4c23-a3a5-ac18b9361bbe', 'e8c7d845-5d57-44a2-ad41-e5fd08356e40', '961f303e-8bdb-41ee-90e3-52a09b10ba1f', '2025-01-14 11:55:29', 5),\n",
                "('d74b2593-b18e-438c-9abe-df67e683e3f6', '99b3e24a-97fc-4689-bd39-4c4d61a18282', '1b66da6d-d5f0-4e20-91ec-b29af8d839d1', '2025-01-14 11:55:29', 5),\n",
                "('1d5d7e3a-f944-4833-a9fb-c4d0b893a3b7', 'f16b79e5-c7a9-42b7-91b2-fcac090f39f0', '7ec5d95e-f8f6-4c41-aeec-8859c27a0cff', '2025-01-14 11:55:29', 6),\n",
                "('3870b71d-7b6c-46b7-a0a1-11a234c85131', 'bca8800e-d381-4a12-98ed-7978bd822ef6', '4f6566f5-6e9a-48c9-914a-807b1980b178', '2025-01-14 11:55:29', 3),\n",
                "('61084b45-3c6b-4432-a74a-467a5ab2889e', 'c38b7554-af5f-42a8-bb66-e0cb477be6fa', 'beffed5a-cdaa-4b07-b689-0d8b1dab5870', '2025-01-14 11:55:29', 2),\n",
                "('0e334441-53df-4907-8a7c-0d4a6c56279d', '06b1f575-7537-4ac4-878c-9e80688d6dc9', '831db9b9-ca90-41d1-aaa8-c78dba68a8a1', '2025-01-14 11:55:29', 7),\n",
                "('116b2520-d7b6-4d16-9707-2a887416bcef', 'f67a66c5-8a94-4158-9e84-0b65f1fb8049', 'ef106c51-10f5-4bd9-a0b2-aeef37fc9a4d', '2025-01-14 11:55:29', 7),\n",
                "('dcecd723-3f8d-47a5-ba84-7342a3d27473', 'e2a43660-7131-45b4-a404-402c2b0987e5', 'fc41f64a-e2d7-43c9-85c4-4b8bde9ac042', '2025-01-14 11:55:29', 10),\n",
                "('c0277e77-f435-48b7-8c8d-ac21c43a30e7', '5442c550-7713-4b30-b3dc-2a349fe97a8a', '6a9519e2-e273-4216-a71d-1886e8abfe1d', '2025-01-14 11:55:29', 10),\n",
                "('4178b675-26c3-40e9-a0eb-b493e680871e', '0965b2c2-2c54-4ad5-8f23-0bf9e36587ea', '5c110c71-fe93-49ce-b560-5891eb73c68d', '2025-01-14 11:55:29', 1),\n",
                "('bd70c2c2-8a8d-4037-b205-eff30cffc758', 'dbe23dcb-80a2-4f1b-b38f-7f83b7701f43', '6a4236e6-c873-40ee-851e-c87191ce74bd', '2025-01-14 11:55:29', 5),\n",
                "('faf495a7-6409-42a2-a6c9-4b0728d06a03', 'e849d495-4148-40f8-8d94-f06c38e271a2', '5e495889-a0e4-44b9-ba8d-0b3263d365af', '2025-01-14 11:55:29', 8),\n",
                "('ec46e650-6535-4bf0-811e-62f9bc5ad248', '2f25bc36-f6b1-4810-8099-27434cc29567', 'bba9fd86-63f9-434c-bfc7-31c3802c1dba', '2025-01-14 11:55:29', 5),\n",
                "('4fbd2947-7900-49ab-b24b-c5c8bc7d31c2', '6836e33f-fcec-4ade-9656-764f44370344', '9438dd14-088b-441c-a05c-12c121156f6c', '2025-01-14 11:55:29', 1),\n",
                "('54fb10f8-3988-4f61-b1ec-1f3353659941', '63bbf82d-a070-4baa-abea-fee618b7e56b', '920c07f1-4dfa-474a-bef3-2c677378563c', '2025-01-14 11:55:29', 10),\n",
                "('21c0c1ee-c3fb-4f60-bc8a-6d24c90f14be', '00da7d81-5b9f-483c-a26c-ad2ec4fb8e36', '84b37d3f-b580-47d2-bfcb-0bff208a43e3', '2025-01-14 11:55:29', 9),\n",
                "('09a12bf8-c9a0-4795-bcb7-23b554e199ba', 'd1e33f4f-e569-461f-b908-9f270bc9d68d', '62181ed0-914b-4944-a37d-09d5586e4050', '2025-01-14 11:55:29', 7),\n",
                "('490294b7-dbae-45a5-9ffb-41dfab6eae60', '59c57ed0-de5b-4786-ac0e-637a3b9f44f2', '689779a2-6f26-4aa3-ac18-4777fb1797e2', '2025-01-14 11:55:29', 3),\n",
                "('317d40ed-b584-4ca5-a69d-f0edd7b93daa', '6a682f8d-438d-42fc-b018-f9a067e5993f', '5328213e-10eb-4061-ac50-6ec45eacacb8', '2025-01-14 11:55:29', 4),\n",
                "('07f85506-bd5c-41cd-b42b-498b9e8b4da3', '5bf343b3-67a1-4f5d-87d2-025aab7188d3', 'c3e70129-82a7-4936-a8de-645a6d4420ed', '2025-01-14 11:55:29', 6),\n",
                "('29c3fab3-9419-44f0-bcdd-986ee5b0ac81', 'bb4db972-bb45-4755-a1e5-c8c887be29c5', '932bc65f-a7d9-4a78-9425-4c33f632b98d', '2025-01-14 11:55:29', 5),\n",
                "('7b26329f-2e56-4cd1-b19d-757a80f733ae', 'b0a5a58e-90ce-4a37-8821-a715e6711554', '84b37d3f-b580-47d2-bfcb-0bff208a43e3', '2025-01-14 11:55:29', 6),\n",
                "('ddc0ca5e-e1e7-4b06-987f-5ea1b0b15d29', 'dba49555-22b0-4880-a6e5-07030a1819d8', 'f6e0e80d-773b-48a4-805a-a555ed8cfa72', '2025-01-14 11:55:29', 7),\n",
                "('a42a99e6-b463-49db-8b36-6b00ba15dfa2', '6d2faf42-59b7-43fb-84b0-de4302f52e18', '2334b23d-9bd2-43f5-bb1d-be017a051249', '2025-01-14 11:55:29', 8),\n",
                "('4cf7e1df-82b9-4c5e-ac1f-6942e0b03921', '0f64c88b-46bf-4192-bcd9-1076723b7f12', '961f303e-8bdb-41ee-90e3-52a09b10ba1f', '2025-01-14 11:55:29', 10),\n",
                "('6c4513b5-064a-442e-b4ce-1b43c8d502fd', 'c7d03cf1-e49e-4f0c-a332-9c255df36e64', 'aa991983-8123-475e-b86b-6cfede05f3c2', '2025-01-14 11:55:29', 9),\n",
                "('70e59ae8-bc60-4a69-93e6-f1483610a24c', 'ee1d06cf-894e-4b6a-bc84-7e6f1a9fcb33', '44145054-a866-4da9-8523-5730fc749bae', '2025-01-14 11:55:29', 10),\n",
                "('af334550-a1d1-43b1-920f-78c064bc1baf', 'cc6168d5-a9e0-4adb-a9e1-9bdb4dbce825', 'be18eaf4-67b1-4b1a-9a5f-23526be91939', '2025-01-14 11:55:29', 9),\n",
                "('fa9cee4f-fcdf-4894-8500-828cd90d7e2d', '4b5a0924-dd75-4dc3-8d0e-ee24ad94b5a7', '44db2eac-6be1-4be9-bea1-a91c6ab27bdf', '2025-01-14 11:55:29', 5),\n",
                "('f075b088-1729-4ca5-9d75-7601e329e527', '665677d9-e1fb-4033-b621-ba162d5eb4a2', '4f469636-12fc-46c9-9757-679350a90b1e', '2025-01-14 11:55:29', 6),\n",
                "('c109cbc1-6ed7-4307-816f-309998f44318', 'f26efcf0-ccae-4f15-95ca-8a1e3dbd517b', '15b0297e-76e6-4aff-8c54-5af1660ef723', '2025-01-14 11:55:29', 3),\n",
                "('3598b2f6-b5c5-4064-b880-922f966c708d', 'e7705216-41b0-47f5-a500-2c2a06f6fb13', 'b5237b68-8399-4e0d-a029-c3eecedf4413', '2025-01-14 11:55:29', 5),\n",
                "('0cfdb391-9297-4b76-b226-a85d3d822fe2', 'df49cb5f-9e82-4d2a-a4e3-fc9d0acb2c62', '71f216c7-2edf-40b5-95b2-c5c66218d8a9', '2025-01-14 11:55:29', 4),\n",
                "('3fc88223-3ab7-450e-96d5-e943f2fffaba', '93c06c9c-05b9-47e7-9d66-7b6b891fc116', '05e5a21a-4ddc-4540-a015-40ca54cb057c', '2025-01-14 11:55:29', 2),\n",
                "('bbb91685-5ed9-4a37-99ce-7b161f4e06c7', '543d36b8-45e1-4891-ad7c-ae0d4e4acc3d', '4aa0082f-cdb1-4fc4-889c-85a518fd9d3e', '2025-01-14 11:55:29', 6),\n",
                "('0e0a5df6-eb68-472f-ae18-467e7706f952', '33e59e30-e787-46c3-bf49-9515860360a2', '4950fe1c-16bc-496e-a14d-28771b7c69b6', '2025-01-14 11:55:29', 8),\n",
                "('995b54f5-8920-4070-9043-4d420da74da0', '04cdbcb2-3d89-4ee8-a7c3-cb9117376f9b', '8b000379-3fd9-4c17-b33e-e02fc8a3b9eb', '2025-01-14 11:55:29', 3),\n",
                "('c5529e01-ba86-4f2f-893c-e9a0cf4b5f14', '4dedc3ee-98c4-4db6-9afc-0c714128079d', '5c6a9088-df13-4786-99f8-6893460a249b', '2025-01-14 11:55:29', 2),\n",
                "('374aa372-9172-4cb6-9fdf-2a69185d0084', 'ea4721ba-4ef3-4396-a2f1-452bc8edee4a', '5b1d006c-b5dc-4884-bf5a-9769195f933a', '2025-01-14 11:55:29', 10),\n",
                "('74c24f6b-d4e6-42a5-9998-504f835633ab', '59c57ed0-de5b-4786-ac0e-637a3b9f44f2', '0845e514-71c8-45e9-93a1-2081557f3063', '2025-01-14 11:55:29', 2),\n",
                "('d6b3e81c-e557-41ed-bee7-39897252c933', '79bf4e5a-18f2-47e4-8120-7827a0d0fe91', 'd112241b-44ca-41ec-8451-d9c8b5bbfd65', '2025-01-14 11:55:29', 8),\n",
                "('60359902-3856-463e-9965-809a23a76308', 'c71d8f9f-8bff-4b11-81d3-d64e921f5d92', '932bc65f-a7d9-4a78-9425-4c33f632b98d', '2025-01-14 11:55:29', 8),\n",
                "('a9fcc64d-b525-463b-b3cd-f652e12b27c7', '8a8e2d89-2b93-4604-bc29-10a13e3f6723', 'c5237ff8-c2f9-46ad-94d0-fadbb3376d88', '2025-01-14 11:55:29', 9),\n",
                "('25e5a84d-3343-4a58-90a2-15b5adb97191', 'd711a279-49a2-4b5d-bcb5-eb0dceae44d4', 'b6a73cf5-4a41-4e22-8e30-306f4e74acbb', '2025-01-14 11:55:29', 2),\n",
                "('7b649c9d-d016-4263-855d-0e85934d2951', '32c1d8bb-9151-4f3f-aa77-b16222850353', '7fcfbdc9-3b32-4e51-82ef-bfcc2c6a9b98', '2025-01-14 11:55:29', 3),\n",
                "('35d20033-c087-4950-aded-1bb15a208194', '52ac6ded-d7f4-49ec-82e3-3ae588822f27', '12b4dad0-59e8-4fb6-b453-1cf4a1eeeff7', '2025-01-14 11:55:29', 1),\n",
                "('515c914f-2cd1-49b8-bbec-c960d548203f', 'f24f3532-5063-436a-b74c-43a9ad45ba6a', 'b5237b68-8399-4e0d-a029-c3eecedf4413', '2025-01-14 11:55:29', 1),\n",
                "('742e0b56-379c-4bdb-b01b-847eaaa72f56', '16606fa2-ab26-423c-85b7-241d0d36f3a1', '135f6605-58b7-449a-b9df-fd9fa9c8c5ec', '2025-01-14 11:55:29', 7),\n",
                "('4445dffa-aa77-44c0-ae7b-92b7cee87135', '979848f1-5992-4f25-9866-ead0bec519ff', '806ea282-2ed8-46be-97cd-4d66591a01f4', '2025-01-14 11:55:29', 10),\n",
                "('95640c0e-f90d-45a4-b01b-dd57bc8b50a0', 'e7705216-41b0-47f5-a500-2c2a06f6fb13', 'e5b5765c-1c01-40df-a286-6d2bb7733a62', '2025-01-14 11:55:29', 6),\n",
                "('9e34f813-562e-4ff5-88cf-b0afb2e9e3d7', 'a20ac009-56f9-4ba3-a790-1534e3a33a1e', '7c83cb82-428e-4e4c-804b-6c2d00d9d886', '2025-01-14 11:55:29', 7),\n",
                "('0ce6fc3f-c7dc-4249-805a-1bd50115136c', '2144e82b-58b4-4250-90e7-5957bf3161f4', 'a297e574-94bd-45c9-8fac-deb4068d1a8e', '2025-01-14 11:55:29', 6),\n",
                "('1da52ed6-6392-437f-8a68-68c0c0bc3945', '39431fca-e107-47a2-a8c1-0983dd68dfba', '5ad73741-444a-4c64-ae1d-f8a1b0729915', '2025-01-14 11:55:29', 10),\n",
                "('b9206111-b35f-42e1-9caf-35c941bf1c3d', 'a5ff40de-6d06-4e10-9a7d-1fb56b1b3a16', 'dded044b-760f-420b-bd90-1e723be1d798', '2025-01-14 11:55:29', 2),\n",
                "('d2bb0b17-8576-4df0-825e-b34c71424079', '0965b2c2-2c54-4ad5-8f23-0bf9e36587ea', '57b6346d-c196-4725-8916-584399cba61b', '2025-01-14 11:55:29', 2),\n",
                "('5cee0d78-3175-477f-9ae2-731cbfdb309c', 'df49cb5f-9e82-4d2a-a4e3-fc9d0acb2c62', 'adfb8e9b-3d84-4e9a-91cd-b77a78eb1a3a', '2025-01-14 11:55:29', 7),\n",
                "('371ff2ce-e6bb-450e-816c-c81d283435cf', '773bf4b7-cb48-4fae-b1f7-c4101d9a96c9', '87858e91-1e12-4043-b130-e57a625d8e10', '2025-01-14 11:55:29', 8),\n",
                "('2f50cafa-a479-4dbb-a870-c4aa0f5fcc28', '06592b0e-d3ed-43a5-8b68-95f09bb26f41', 'db930636-58fc-4e0e-a710-6f3caf2e1bbc', '2025-01-14 11:55:29', 9),\n",
                "('38c07d7f-5ef1-4604-9a39-c772b103e197', 'b7ac445e-4aa6-403e-a9b4-1df53e9bb1a7', 'b3ff3cca-9394-400c-b522-f5b4e393adf2', '2025-01-14 11:55:29', 2),\n",
                "('829aa877-4554-46ea-94c7-5efff0c3fcec', 'dd3b0e7d-fb3c-46cd-aca7-f4453bdd9d14', '14fbdc86-50fe-4984-b4d5-4c7763d0dcd4', '2025-01-14 11:55:29', 6),\n",
                "('a457c542-dff0-4b34-a620-22d511ffbc80', '2866889c-7950-4f5c-9937-f9cd6cb56c4c', 'd511b5b3-a9ea-4b76-9289-aaf51e155b29', '2025-01-14 11:55:29', 3),\n",
                "('fccaaa68-57c8-4b7d-be56-ae8d8855e9b1', '8aa82489-08ec-4e90-9ce5-677d5ab6b425', 'b9da4408-e228-46f5-9a2b-ba26da4cc23c', '2025-01-14 11:55:29', 10),\n",
                "('48fd7b47-d6c4-4f18-99f7-edf4cef40bef', '496a658f-9cc6-4f06-a8f1-64736ce70522', '44db2eac-6be1-4be9-bea1-a91c6ab27bdf', '2025-01-14 11:55:29', 10),\n",
                "('6018939e-c18b-4a26-a172-7564734ee7e4', 'e002f25e-fa16-4157-84fb-3893a1eef018', '6a4236e6-c873-40ee-851e-c87191ce74bd', '2025-01-14 11:55:29', 7),\n",
                "('92b134ae-9d27-405f-b9a2-74809b0680f3', '4d61a05a-4407-4fc6-83bc-1a5262ed6935', '4aa0082f-cdb1-4fc4-889c-85a518fd9d3e', '2025-01-14 11:55:29', 9),\n",
                "('9be688de-ce1b-45a2-a995-62d1d0a5a8de', 'a7de2133-1b76-436f-80e5-21d0c2816d13', '6cab4b23-4a6f-4345-99f4-8c73b340cf15', '2025-01-14 11:55:29', 7),\n",
                "('11e86e72-7455-42f8-9826-1c0239229509', '6836e33f-fcec-4ade-9656-764f44370344', 'c659cdcf-2f35-48f8-b7df-b482e7be4da9', '2025-01-14 11:55:29', 8),\n",
                "('40640b2c-d357-4e27-ad19-43861b672865', 'cba42c47-ec67-4e7a-9ad5-5049e1c08a88', '2334b23d-9bd2-43f5-bb1d-be017a051249', '2025-01-14 11:55:29', 9),\n",
                "('a113eb4d-6bac-419c-be8f-49beb2acd5f4', '91b16b9c-47e9-44ef-a419-6aed46cfad8d', '602ebff5-b59e-40b4-a1e6-abb14120622a', '2025-01-14 11:55:29', 1),\n",
                "('fe410d4d-c7d3-4555-bf3c-8963831dc976', 'd509f9bd-908e-4d43-bdf1-77ccb5b248cd', '87858e91-1e12-4043-b130-e57a625d8e10', '2025-01-14 11:55:29', 2),\n",
                "('70aa9ed4-b183-4846-8fb0-fb437a49344b', 'e06638c7-ad8c-4135-a50c-3ba1c835d720', 'f495a376-b5ce-42d0-a913-9cdad3b2c1ef', '2025-01-14 11:55:29', 1),\n",
                "('cbdfedc2-4fc3-4038-9cbb-ee185d334be2', '86c191f7-b930-40af-9050-d451f3129245', '2070ac24-f466-428f-92ea-9194b92c814c', '2025-01-14 11:55:29', 10),\n",
                "('a627c115-bf80-48b4-88c8-67a5d04641ad', '6a682f8d-438d-42fc-b018-f9a067e5993f', 'f3b7e1b7-ad9f-403f-9585-5ee491429cab', '2025-01-14 11:55:29', 7),\n",
                "('cdd25b1e-c978-447f-ad80-8f1b88145054', '9396b93b-0810-485c-8289-77a05ca2447b', '44db2eac-6be1-4be9-bea1-a91c6ab27bdf', '2025-01-14 11:55:29', 5),\n",
                "('c1c9539d-a5e0-4fc3-bcd2-df4e0db92257', '42356ed9-d436-4ac4-b5dc-04e0cb08a60e', '2b0655cf-4013-44c9-a0be-9e630ad3554c', '2025-01-14 11:55:29', 1),\n",
                "('2b854b2f-0706-4624-93a8-71bb1411faf5', '5245fadc-fb10-498b-b45a-5762c17da304', '10d13de6-2768-43a5-8c27-65f901660984', '2025-01-14 11:55:29', 4),\n",
                "('3e0d6011-a529-407a-aadf-eaee9508ab95', '22dc5d39-101a-4aba-a13b-6924cfd6ad85', '6f47d7ab-4092-476d-8375-119f068078be', '2025-01-14 11:55:29', 4),\n",
                "('8f9ca673-ddf1-4b93-aae3-87d1ae6a8ea5', '9981d11a-4886-494f-80dc-7a918f7b2560', '1a49c7f5-2455-4ed3-bbc7-effc6fee0b4a', '2025-01-14 11:55:29', 2),\n",
                "('11cc5b9c-5aed-4723-b773-e7a2ddd63b20', '6836e33f-fcec-4ade-9656-764f44370344', 'db86f593-999f-42ad-a1c7-30d7bf10f0b2', '2025-01-14 11:55:29', 8),\n",
                "('0f3f7dd4-1c4c-4c56-8619-57fe6f45161d', '0999701d-4b9e-418b-96ac-e7cd681afc3c', 'cc83b414-e6ac-4c72-a0cd-0d57fe69ceea', '2025-01-14 11:55:29', 10),\n",
                "('1bfb3c35-3bf1-43ba-89ad-916411dcd0cb', '1b145f00-f2ec-4a41-984d-48dd4e65af3a', '084e586f-b72b-4c0b-937f-0889f56dc085', '2025-01-14 11:55:29', 3),\n",
                "('cb6ac6be-b50f-4e21-bdc7-3ed63121b1c0', '9981d11a-4886-494f-80dc-7a918f7b2560', 'b901195e-4ae3-456a-87d3-6bce5b4aacc6', '2025-01-14 11:55:29', 9),\n",
                "('35977d46-39ac-415b-b475-c6b99e81fe4d', 'df49cb5f-9e82-4d2a-a4e3-fc9d0acb2c62', '5ad73741-444a-4c64-ae1d-f8a1b0729915', '2025-01-14 11:55:29', 6),\n",
                "('d0712a5a-c7d5-47ef-8fab-7f2720dc0bea', '0999701d-4b9e-418b-96ac-e7cd681afc3c', 'b182e00c-2199-48da-9627-8e1c0e157adb', '2025-01-14 11:55:29', 5),\n",
                "('2536a566-1b6a-4c61-9405-f09b11aeb0d8', '3862f40b-1cf8-433e-83de-f037c942f3eb', '5c110c71-fe93-49ce-b560-5891eb73c68d', '2025-01-14 11:55:29', 7),\n",
                "('b886c7d8-5807-44b6-a2c3-520467d83377', '19468d74-ea01-4a18-aa82-ac03eb80648d', '5116394e-8dad-45fb-a1bb-02841438a549', '2025-01-14 11:55:29', 7),\n",
                "('67558ae7-2bca-44d0-a5de-7f5dcec3a61e', 'e24641c0-1387-41cf-94a4-70abb2647198', 'ca8ba2a4-8f33-415d-8582-bd65ad9fa0b8', '2025-01-14 11:55:29', 3),\n",
                "('5d1d82d4-6851-41ea-b50e-31e4f579bd7a', 'f16b79e5-c7a9-42b7-91b2-fcac090f39f0', 'f9a9f38f-ccfe-4bb9-b359-b94576f65479', '2025-01-14 11:55:29', 5),\n",
                "('e9f8f30d-708b-4b4e-9b96-3b416582b04d', '40873df1-524c-48c6-bfb4-f483efc7d7df', '62d17c3a-89e3-41cb-af86-619aa67cf569', '2025-01-14 11:55:29', 7),\n",
                "('ca8eb26a-34c1-4ca6-99ae-f2f79c0637ca', '6a682f8d-438d-42fc-b018-f9a067e5993f', '81398492-c814-4f7d-a50a-4509ab1da173', '2025-01-14 11:55:29', 10),\n",
                "('6b298ea2-9a95-4c89-a373-361cd1f8f76e', 'fafc46ec-a179-49b4-8995-c265cbda2060', '920c07f1-4dfa-474a-bef3-2c677378563c', '2025-01-14 11:55:29', 7),\n",
                "('d6a08335-7f6d-4803-bbb0-ba4c302a1c7f', 'bc4b3e8c-dfe8-483a-b1bf-40be6b435df6', '602ebff5-b59e-40b4-a1e6-abb14120622a', '2025-01-14 11:55:29', 3),\n",
                "('28e738d5-e671-4681-b7e7-7cca366e8145', 'e8c7d845-5d57-44a2-ad41-e5fd08356e40', 'ebf5f275-cf27-47b6-875e-045cca07f471', '2025-01-14 11:55:29', 1),\n",
                "('08f76b6d-0b80-41e5-8d4a-e2f484a7ae50', '4d61a05a-4407-4fc6-83bc-1a5262ed6935', '4aa0082f-cdb1-4fc4-889c-85a518fd9d3e', '2025-01-14 11:55:29', 10),\n",
                "('fea1c34a-4586-4119-a979-29656841e0e0', 'e82fd2c8-ff5f-4779-991e-96c0e7bf9a83', '831db9b9-ca90-41d1-aaa8-c78dba68a8a1', '2025-01-14 11:55:29', 10),\n",
                "('8882927c-bfc1-4eaf-bedb-627fa645e285', '751faa7f-05c4-4a6a-a415-6ea7ff681516', '2e44b4bf-1b21-49e6-a2b3-1920f7efd595', '2025-01-14 11:55:29', 4),\n",
                "('d996a5ec-ccf3-4f4d-b89a-799961c50758', 'a20ac009-56f9-4ba3-a790-1534e3a33a1e', 'b32db5e8-4add-4d6d-a25f-80ba3931bb62', '2025-01-14 11:55:29', 4),\n",
                "('7edecc6c-8891-4dd7-8f8b-3306f3fd2ba7', 'e82fd2c8-ff5f-4779-991e-96c0e7bf9a83', '2077c286-f0fd-4b7a-8ee8-46859a205567', '2025-01-14 11:55:29', 8),\n",
                "('37538a18-48f4-45b7-a2d9-5acf16cf5552', '4d50ad43-22dc-4f41-9aac-0def4caa0e1b', '06612416-8c65-4643-be4f-c7fea8cc56fe', '2025-01-14 11:55:29', 6),\n",
                "('e26a600a-2e4c-4902-b432-29525b4b13d1', 'a335b854-d672-40eb-89db-28db8997276c', '96b66835-5274-4dd3-a1a1-67ae5013ee44', '2025-01-14 11:55:29', 9),\n",
                "('bdac9d67-7880-41a4-8f33-48810d4dad87', 'd1e33f4f-e569-461f-b908-9f270bc9d68d', '259dbb15-b613-4803-bd82-cfcf6f64fc20', '2025-01-14 11:55:29', 3),\n",
                "('a7a08065-7759-4d7d-b88b-89526c3667a0', '337486e3-a4d5-45ff-b592-30aef78192c3', 'ebf5f275-cf27-47b6-875e-045cca07f471', '2025-01-14 11:55:29', 8),\n",
                "('d7647f29-20d0-48dd-a301-3cb7ebc9b433', '2ec20d97-f731-4548-a1ef-e0f57dc6a659', '7c7cecec-4cd4-4ff7-8572-15c296b9bd9b', '2025-01-14 11:55:29', 6),\n",
                "('d7f4b378-d771-4b65-96a9-014b36f18ed9', '22dc5d39-101a-4aba-a13b-6924cfd6ad85', '9438dd14-088b-441c-a05c-12c121156f6c', '2025-01-14 11:55:29', 10),\n",
                "('20966d5d-619d-4b9c-9b48-2d702f77324c', '06b1f575-7537-4ac4-878c-9e80688d6dc9', '9bdac69b-25c7-4ea0-99d2-1fac32cca279', '2025-01-14 11:55:29', 5),\n",
                "('8ecf964d-1183-44a2-82f7-2587336f7396', 'e8b8a347-1e52-41b1-a8f8-3b1ac7b2d21f', 'b99830ce-b7ba-4ce8-8ef1-d5b4a0a58112', '2025-01-14 11:55:29', 2),\n",
                "('b30cd1db-f727-4107-896d-82185599156a', '29f5f2d2-88d2-4673-9c5a-5f8aa3e596b0', '82a1725f-f9ea-4f2f-8d4a-2312ad7988e5', '2025-01-14 11:55:29', 9),\n",
                "('c7a24e8e-9e5d-4fa2-9b5d-8c8dbca8c1f3', '5245fadc-fb10-498b-b45a-5762c17da304', 'ef106c51-10f5-4bd9-a0b2-aeef37fc9a4d', '2025-01-14 11:55:29', 1),\n",
                "('a054ce79-2892-4302-a4a6-cd53675b7056', '0f34f6b0-19a3-4ecf-befe-96c7fa2eb636', '10d13de6-2768-43a5-8c27-65f901660984', '2025-01-14 11:55:29', 9),\n",
                "('fa6a2a1c-78f7-46da-8245-d5c8858b64f0', '46dbf417-79ce-42c0-8fa7-3457adbb0068', 'b65cdd50-b8ec-4016-b620-8edb94e50f9a', '2025-01-14 11:55:29', 8),\n",
                "('08fcc733-b5d9-467d-b08d-f2cfbfa958c5', '58001221-b0ef-4639-b8bb-892d72c239f3', '62181ed0-914b-4944-a37d-09d5586e4050', '2025-01-14 11:55:29', 7),\n",
                "('5964619d-54d3-4b34-92c3-fee02498f14e', 'ea4721ba-4ef3-4396-a2f1-452bc8edee4a', 'c48e651a-5c82-4315-b23e-d8b561415865', '2025-01-14 11:55:29', 5),\n",
                "('ceac3c38-870f-45b3-b227-331975003176', 'a33efce8-736b-4d6c-a836-5da12d32fa45', 'b7fc3a9b-58db-4252-a83c-9f833d7073a7', '2025-01-14 11:55:29', 9),\n",
                "('5804c8b3-c3bf-4852-a8e3-7c04c6d39944', 'd2f88169-0378-4c1e-b173-5cb35af95a98', '99dcb34b-05e9-4433-8ca6-c5929a1efff4', '2025-01-14 11:55:29', 7),\n",
                "('a956a50e-617b-42bc-ab89-078f040ffd54', 'b58e504b-d877-4123-adbd-07c10643690c', '4950fe1c-16bc-496e-a14d-28771b7c69b6', '2025-01-14 11:55:29', 10),\n",
                "('79b245a6-e21e-44b2-96b6-388bf0d34176', '105cd681-55a0-4c82-986c-f5923f91739f', '9664d948-6cd4-4a8f-b229-a4805b8dfa1c', '2025-01-14 11:55:29', 5),\n",
                "('6d1ca64e-2c31-46c8-9d0b-519adc3d5c2b', 'aa9ea227-6308-4ebc-aab4-37b65556b278', 'c659cdcf-2f35-48f8-b7df-b482e7be4da9', '2025-01-14 11:55:29', 3),\n",
                "('a79be843-a8ea-43ec-8e3f-e21b400c7344', 'ee1d06cf-894e-4b6a-bc84-7e6f1a9fcb33', '831db9b9-ca90-41d1-aaa8-c78dba68a8a1', '2025-01-14 11:55:29', 9),\n",
                "('3a192bcc-54b3-4e2d-a046-7a6dd05c0fed', 'a5ff40de-6d06-4e10-9a7d-1fb56b1b3a16', '3a32eeb6-85c4-4afb-8963-1ab6a8876726', '2025-01-14 11:55:29', 5),\n",
                "('eef9ba16-d5ad-4f35-9d38-c32a849e98da', '04cdbcb2-3d89-4ee8-a7c3-cb9117376f9b', 'f9837cc4-750e-4f67-baa4-97f17c2d3753', '2025-01-14 11:55:29', 4),\n",
                "('9f0516cb-78a0-473b-95f9-b45e8734f3d9', '87ad8387-8719-43ac-8981-49d146f17272', '5ad73741-444a-4c64-ae1d-f8a1b0729915', '2025-01-14 11:55:29', 7),\n",
                "('755795f3-9d91-49b7-90a8-12745c85650b', '29f5f2d2-88d2-4673-9c5a-5f8aa3e596b0', 'e6e8714e-23a7-446a-a17c-5282ee95e0a8', '2025-01-14 11:55:29', 1),\n",
                "('8d4f66a2-dec9-41eb-af67-8a3f0c62c277', '93c06c9c-05b9-47e7-9d66-7b6b891fc116', '7332c326-7deb-461e-82e0-f975e8ea28be', '2025-01-14 11:55:29', 4),\n",
                "('681574e8-59a5-4322-9228-f87cf2cf36c9', '4dedc3ee-98c4-4db6-9afc-0c714128079d', '86ab1ff7-637e-4fbd-a3b7-9294277b842d', '2025-01-14 11:55:29', 1),\n",
                "('66253c83-2b91-441b-85f9-8f26d6f3bf65', '7e0c99bc-bc00-45fb-b713-597985853323', '9146dfdb-1db5-491f-8ac6-2e5aac0e59e2', '2025-01-14 11:55:29', 1),\n",
                "('385c0e26-ba7c-444d-a457-750810236850', '5bf343b3-67a1-4f5d-87d2-025aab7188d3', 'f9a9f38f-ccfe-4bb9-b359-b94576f65479', '2025-01-14 11:55:29', 4),\n",
                "('9d0b1bb7-ccb6-4ab7-a4d6-00a33e8585ab', 'c20d8ad1-375a-4fb7-9e53-b537f2f63a3e', '44adf313-a857-4637-9eba-faafae0a8104', '2025-01-14 11:55:29', 4),\n",
                "('e07a01d0-e17d-4a2c-a8dc-daee5e2b3b4b', '8fc7c7ae-d131-4a6d-aa75-bb2a70229ef0', '135f6605-58b7-449a-b9df-fd9fa9c8c5ec', '2025-01-14 11:55:29', 3),\n",
                "('7b3fad7d-31c1-4572-aa76-e7326f9badb6', '105cd681-55a0-4c82-986c-f5923f91739f', '6cab4b23-4a6f-4345-99f4-8c73b340cf15', '2025-01-14 11:55:29', 5),\n",
                "('6c406599-a79a-4bb0-8d3d-901bb37ba2ad', 'e82fd2c8-ff5f-4779-991e-96c0e7bf9a83', '0225dab9-d158-42b3-8c30-dd0eadff27d4', '2025-01-14 11:55:29', 4),\n",
                "('1aa25036-cb75-40d3-b2bb-d2c4db301ba7', '42356ed9-d436-4ac4-b5dc-04e0cb08a60e', 'f1366de3-1249-42dc-a9b1-38aa86cdb522', '2025-01-14 11:55:29', 5),\n",
                "('c99347cf-9ddd-4cae-a830-ca60a9741406', 'dd3b0e7d-fb3c-46cd-aca7-f4453bdd9d14', '141ff36a-9ef9-41ce-b670-ffb029064592', '2025-01-14 11:55:29', 7),\n",
                "('33067549-2221-4ceb-ad91-6160902b40db', 'fafc46ec-a179-49b4-8995-c265cbda2060', '3be9a4a7-9eb6-42da-8265-c4ed48d8b4bd', '2025-01-14 11:55:29', 10),\n",
                "('13cfdf8a-5751-4a58-86f3-2af76ec69088', '16606fa2-ab26-423c-85b7-241d0d36f3a1', 'f35f9e84-e76b-4f0e-97bc-3b05deb51626', '2025-01-14 11:55:29', 6),\n",
                "('2ad6c425-88ca-4735-a75a-6480bf08afd1', 'b6e500dd-f318-4b95-9610-3f9032d98199', '9664d948-6cd4-4a8f-b229-a4805b8dfa1c', '2025-01-14 11:55:29', 5),\n",
                "('2372eda7-00d9-4f20-b879-14cf06331e62', '39588511-b052-4e9f-bc86-08c31a21853a', 'ebc0f127-c9e2-4c4a-bab8-d131a515263a', '2025-01-14 11:55:29', 9),\n",
                "('4923f814-3db4-46c9-adf9-b5d88a2a99dc', 'd93e9bf5-055f-4953-a24c-1047f0190992', '7e650105-b4d0-4ee5-b0e1-336fef49067a', '2025-01-14 11:55:29', 5),\n",
                "('9c5c0541-0964-4340-ac6e-aaa964e81870', 'b58e504b-d877-4123-adbd-07c10643690c', '4ad75f05-f2e7-48fb-99e2-54d2dcac60ee', '2025-01-14 11:55:29', 1),\n",
                "('ab45d47d-af90-425e-91cd-7987e63dd658', '39e2d1d8-1367-4f95-8076-96ddd8d443d9', '141ff36a-9ef9-41ce-b670-ffb029064592', '2025-01-14 11:55:29', 9),\n",
                "('2d0ba33d-b477-489c-8e6f-c36d8b8e0c29', '8af7862a-5276-43cc-b957-618456633b44', '4efc3087-693d-45cb-90a1-235ff69be81c', '2025-01-14 11:55:29', 4),\n",
                "('923058d4-ea1e-4532-96d2-f23ca251efa3', 'a20ac009-56f9-4ba3-a790-1534e3a33a1e', 'bee89d28-ef53-449b-ac93-ddbde05018a1', '2025-01-14 11:55:29', 10),\n",
                "('20720603-e7cf-46e6-a119-7ae2ac5e8dc4', '0f64c88b-46bf-4192-bcd9-1076723b7f12', '89aa131c-01c2-4de4-80db-9e1d9cd7d4ad', '2025-01-14 11:55:29', 1),\n",
                "('53052795-0bc6-47b9-b45a-774111b7280e', '1bf990aa-0985-4c45-9917-963c6b926fbc', 'dfcd1ba1-3dcc-4e53-9a86-2d18ba928f75', '2025-01-14 11:55:29', 10),\n",
                "('ad62b6fb-0bc2-4639-806d-2aea0796eda9', '2fc05847-c2a0-45f0-847b-1a1b08fbd365', '135f6605-58b7-449a-b9df-fd9fa9c8c5ec', '2025-01-14 11:55:29', 1),\n",
                "('5fd63321-dd24-408b-9eeb-7e7763a3140b', '63bbf82d-a070-4baa-abea-fee618b7e56b', 'db86f593-999f-42ad-a1c7-30d7bf10f0b2', '2025-01-14 11:55:29', 1),\n",
                "('6ebd2952-1329-4929-8d44-9655c962682f', '39431fca-e107-47a2-a8c1-0983dd68dfba', '259dbb15-b613-4803-bd82-cfcf6f64fc20', '2025-01-14 11:55:29', 9),\n",
                "('c0ad2386-4557-4834-bf80-60433a7ced14', '4d61a05a-4407-4fc6-83bc-1a5262ed6935', '920c07f1-4dfa-474a-bef3-2c677378563c', '2025-01-14 11:55:29', 4),\n",
                "('efb05f1a-ec33-46ce-9d59-0118ee8c1218', '22dc5d39-101a-4aba-a13b-6924cfd6ad85', 'b3ff3cca-9394-400c-b522-f5b4e393adf2', '2025-01-14 11:55:29', 3),\n",
                "('648f8373-eb18-4eea-ad44-01fd2a61d2bc', 'c7d03cf1-e49e-4f0c-a332-9c255df36e64', '0845e514-71c8-45e9-93a1-2081557f3063', '2025-01-14 11:55:29', 7),\n",
                "('37960466-3cf1-4ed2-b9c4-7b0887ff3f68', '52c1ba1b-6024-4fd0-86e0-ee65ad08f77b', '9bdac69b-25c7-4ea0-99d2-1fac32cca279', '2025-01-14 11:55:29', 6),\n",
                "('aab0be07-0745-42a8-8853-253dd15c7dfb', 'bb4db972-bb45-4755-a1e5-c8c887be29c5', '14fbdc86-50fe-4984-b4d5-4c7763d0dcd4', '2025-01-14 11:55:29', 4),\n",
                "('367b0ae4-6e9c-4655-8278-efdfc81c0328', 'e2cf3ccd-d88e-484e-8571-bb14310a74f2', 'b861b619-e445-4f25-b2d0-9db6a05859a5', '2025-01-14 11:55:29', 9),\n",
                "('966f4898-c316-40d5-9de6-847a2b9bcdc8', '4dedc3ee-98c4-4db6-9afc-0c714128079d', '055c9fcf-ab0a-4f22-be9f-cf3da87e5ffd', '2025-01-14 11:55:29', 10),\n",
                "('d5d11f71-dbf3-439a-86d2-323a76baeabb', '559cfad3-1911-462e-a475-47fb02fec675', '10d13de6-2768-43a5-8c27-65f901660984', '2025-01-14 11:55:29', 1),\n",
                "('6e987475-c4a3-4730-b5da-ece7f8e94d44', '8af7862a-5276-43cc-b957-618456633b44', '82a1725f-f9ea-4f2f-8d4a-2312ad7988e5', '2025-01-14 11:55:29', 4),\n",
                "('0e9456a4-61f4-4d00-a178-36eaedc7957f', 'a7de2133-1b76-436f-80e5-21d0c2816d13', '7c73469d-d41c-45d7-b2b7-cb484c4e8509', '2025-01-14 11:55:29', 3),\n",
                "('046fd8e8-761e-4888-a421-c1503c3e7f3f', '29ded9f2-1dcb-4f73-9c9a-3807870625bf', '10c650d9-28ea-4dbb-98c0-05ed628d29b4', '2025-01-14 11:55:29', 5),\n",
                "('c777de11-c128-4f2b-9dec-5d2f5083885d', '865676a1-ec2e-477c-855f-0f6dc51955b2', '7e650105-b4d0-4ee5-b0e1-336fef49067a', '2025-01-14 11:55:29', 9),\n",
                "('2270bdc2-041d-4d67-84fc-0d3bfc691bb9', 'b7ac445e-4aa6-403e-a9b4-1df53e9bb1a7', '5da8a972-e467-4156-b49e-4ae409d0bb13', '2025-01-14 11:55:29', 10),\n",
                "('9224cd4e-6a4e-42d2-b7ce-1bcdf1d54efe', '4d150578-efc1-4c36-a618-f64e222ed787', 'b5237b68-8399-4e0d-a029-c3eecedf4413', '2025-01-14 11:55:29', 5),\n",
                "('f9bb8d98-ffc8-4666-8518-a4febc931cad', 'd4de576e-927d-4e6b-b033-e2e4da280e86', 'b5237b68-8399-4e0d-a029-c3eecedf4413', '2025-01-14 11:55:29', 3),\n",
                "('95c7fd32-3524-4f9e-8e11-df1d39d33080', '0d25cbd1-feaa-4a18-8c5b-5ac60a550418', 'f7b968e2-4d2d-4662-abf3-09b8aafc6f38', '2025-01-14 11:55:29', 3),\n",
                "('16123bcc-e79d-44f7-a02f-87a852013839', '923f1f88-65ac-4edd-9c92-fb3415787a90', 'b61ad47b-d9ac-45ec-8538-24553b4315f6', '2025-01-14 11:55:29', 9),\n",
                "('171a2485-f200-4793-8e9c-cd387d37805c', '33e59e30-e787-46c3-bf49-9515860360a2', '82a1725f-f9ea-4f2f-8d4a-2312ad7988e5', '2025-01-14 11:55:29', 2),\n",
                "('040576c4-413a-4782-8ba4-0812d8bd1620', '9c8e385d-3d6b-4007-b1df-8cacb4b454f3', 'cb64a7b5-99bf-4e9f-b56c-58aebd97884c', '2025-01-14 11:55:29', 1);\n",
                "\n",
                "-- Insert TaskUsers\n",
                "INSERT INTO TaskUser (ID, TaskID, UserID, AssignedDate) VALUES\n",
                "('432ce516-9fd1-4287-b72f-120b197db754', '1bf990aa-0985-4c45-9917-963c6b926fbc', '9e5e8ed0-fcec-4394-8d89-d94a43bc4d90', '2025-01-14 11:55:29'),\n",
                "('ef29d8ff-3fee-4346-aa4c-fd9dad5f9d31', 'f9e05b21-0916-4f81-a58c-0086b8b655c1', 'd7a208bc-540f-4b5c-a02e-e252de6aa99d', '2025-01-14 11:55:29'),\n",
                "('4e484fae-fdd4-4e18-aa27-892dbd54640e', '773bf4b7-cb48-4fae-b1f7-c4101d9a96c9', '6d708dfe-2ade-4fdd-a401-bd982d7f26f5', '2025-01-14 11:55:29'),\n",
                "('752a601b-dfdf-4f83-9316-0941d2ffedc2', 'a33efce8-736b-4d6c-a836-5da12d32fa45', 'a119beb2-7d6a-4b87-8260-9e5937f11feb', '2025-01-14 11:55:29'),\n",
                "('fb09181e-fb6f-4b3c-92c2-0b08b1153d0a', '9981d11a-4886-494f-80dc-7a918f7b2560', '7a1b89b5-b459-4a08-9ec6-1bcad0ed282e', '2025-01-14 11:55:29'),\n",
                "('fa5ba1c0-d03d-4e66-82d6-d05899cbf8b8', '8fc7c7ae-d131-4a6d-aa75-bb2a70229ef0', '72c6156c-986d-46e5-b843-2b14ef486900', '2025-01-14 11:55:29'),\n",
                "('f1c02d9f-81ad-487c-b21f-8c0904003076', '2f25bc36-f6b1-4810-8099-27434cc29567', 'd5d2601b-6713-415f-b28a-298d4bddee88', '2025-01-14 11:55:29'),\n",
                "('21c0ff39-29df-48f1-8a6a-a8fcfd285d9d', '04cdbcb2-3d89-4ee8-a7c3-cb9117376f9b', 'cddc91a0-217f-42cb-a85c-d261bd0c3377', '2025-01-14 11:55:29'),\n",
                "('df00e00e-8823-4352-bcf9-062ae47df305', '543d36b8-45e1-4891-ad7c-ae0d4e4acc3d', 'd3111ed3-bbd2-4797-b3aa-b23bc7a66f4d', '2025-01-14 11:55:29'),\n",
                "('e9e773b4-05f6-4af6-b365-0b84701f040f', 'db31c5a2-914d-402c-8060-34094946954c', 'dd136068-6c86-48f2-b4e5-d213e98b04c5', '2025-01-14 11:55:29'),\n",
                "('e8c25164-77ac-4bff-9e4c-2695a02f28cf', 'db31c5a2-914d-402c-8060-34094946954c', '9fc54413-a0f7-4acb-b3c9-8fc1fb652923', '2025-01-14 11:55:29'),\n",
                "('015e2c08-1e70-491b-a388-092a8bdd5742', '759d3566-6a98-4353-96fc-d487dbfb7815', '71327d1c-d812-4aaa-a933-38325e6421e3', '2025-01-14 11:55:29'),\n",
                "('2a82ac7c-9107-4e28-9d17-7b3906341f95', '5442c550-7713-4b30-b3dc-2a349fe97a8a', 'aa0320e5-2d2f-4330-81ae-537a970278a8', '2025-01-14 11:55:29'),\n",
                "('895299c5-19fd-4703-9436-a4c00615de4e', '5245fadc-fb10-498b-b45a-5762c17da304', '57e608c9-d0c4-4ba7-8894-bbbee644b23d', '2025-01-14 11:55:29'),\n",
                "('35154019-f670-44b0-be14-cc3c8414f73e', 'f24f3532-5063-436a-b74c-43a9ad45ba6a', '105f1e8f-94ae-46b1-8173-478184875065', '2025-01-14 11:55:29'),\n",
                "('d6a3f422-1830-4372-b3f7-5665bcc3b1c5', 'a7de2133-1b76-436f-80e5-21d0c2816d13', 'af1c32b5-9470-4a20-840d-1d00e074c53f', '2025-01-14 11:55:29'),\n",
                "('f35b1b15-1a21-47ab-a7e0-655079a6b49f', 'f01a6f35-7e30-499e-abac-ccf20c0b4f02', 'c68bbf8e-7b5f-492d-88fd-41d4bb02b8ff', '2025-01-14 11:55:29'),\n",
                "('ce7932c4-0354-4874-9b72-6965482f7af0', '79bf4e5a-18f2-47e4-8120-7827a0d0fe91', '86bad218-b122-44f0-a7f8-85ac5be9b279', '2025-01-14 11:55:29'),\n",
                "('c7dfa31e-ddc2-4782-86cf-40675470d9d0', 'ebd82f57-9fb2-423a-abeb-142140227d38', 'b705a6f6-44a7-4796-a71d-73d7efbfaed9', '2025-01-14 11:55:29'),\n",
                "('822f861f-8228-41b4-9b55-df5c5323d764', 'b0a5a58e-90ce-4a37-8821-a715e6711554', 'ad409a00-ec96-4f21-af1f-124fcdfdf322', '2025-01-14 11:55:29'),\n",
                "('f9d23603-6078-4c24-8ca1-d32da812ee86', '23b41aa8-933f-45cc-9f76-f629a7fa75f5', 'ae73decf-8fa1-486b-bd17-7a25b9b35dd7', '2025-01-14 11:55:29'),\n",
                "('6aefbcc6-b0cd-48d5-84e8-089c4893a769', '73d018b5-a1d5-4c92-9cc4-41c8a80dcbe1', 'c48e8ced-3719-4b05-95fb-c60cb9db6fbe', '2025-01-14 11:55:29'),\n",
                "('8f2f5731-5c26-41be-8043-e7ceba0d1046', '39431fca-e107-47a2-a8c1-0983dd68dfba', '4f41ff56-fe5f-423d-a536-3add8888dd49', '2025-01-14 11:55:29'),\n",
                "('956c5ac4-faf4-4e50-924b-b9d89630d060', 'e002f25e-fa16-4157-84fb-3893a1eef018', 'db0bcf7d-9b44-44ac-b1d0-ca9ec83ced0c', '2025-01-14 11:55:29'),\n",
                "('e64fe433-333a-4fc2-b575-16067c70b802', '0d013c8a-df14-4194-94c2-6f276134eca6', '71327d1c-d812-4aaa-a933-38325e6421e3', '2025-01-14 11:55:29'),\n",
                "('e01e0520-faba-44ec-9521-c3e29c4e8b12', '10f4bfce-97eb-4f72-8d1d-66e7f0af8754', 'ff4fc7e3-4a42-424d-ba6e-f9c81d1f830a', '2025-01-14 11:55:29'),\n",
                "('0da34aac-3e00-4c80-9a84-6103de1edd42', 'e002f25e-fa16-4157-84fb-3893a1eef018', 'aef1e92f-fe06-449f-9ce2-25ccd73babfb', '2025-01-14 11:55:29'),\n",
                "('d26de444-95c3-40fa-bc7a-dde77844d5ff', '6e1c68a6-923c-4246-a5d5-3bb8a2ca7bd7', '0cc52231-7e54-4a34-99d6-72d5bf44ce79', '2025-01-14 11:55:29'),\n",
                "('654d2dad-28cf-4b9c-9dbf-867fb24b7c63', 'e849d495-4148-40f8-8d94-f06c38e271a2', '87c109e3-e3df-4995-b226-22b85cc2183d', '2025-01-14 11:55:29'),\n",
                "('76bb7ea4-e95c-42c8-b277-68fe4ec91be6', 'e8c7d845-5d57-44a2-ad41-e5fd08356e40', 'd163f04a-4c36-4f5f-9ab7-f3b19fb4d4aa', '2025-01-14 11:55:29'),\n",
                "('ab13f902-5b4b-4ce6-b508-2553ed91c713', 'e06638c7-ad8c-4135-a50c-3ba1c835d720', 'edfa6769-ce33-4c5d-9026-17b4050d4587', '2025-01-14 11:55:29'),\n",
                "('ffdd5c43-fdea-44d2-bb47-ef5d94355f57', 'ea4721ba-4ef3-4396-a2f1-452bc8edee4a', '01af455f-4a05-42ee-810e-c5d1abcf9e4a', '2025-01-14 11:55:29'),\n",
                "('4dcb6d7c-0d6d-4876-bf95-345226252540', '9f6f47c9-ccee-4522-9c44-c74aeedf2aa7', '97cf1cb0-f218-4c3c-9c65-0c53d3d7f458', '2025-01-14 11:55:29'),\n",
                "('6a18eade-3b56-47f0-b453-748eb2b25dea', '4d61a05a-4407-4fc6-83bc-1a5262ed6935', '79397f03-1f94-4708-a28f-afa899640335', '2025-01-14 11:55:29'),\n",
                "('077d4ce7-bcc7-43e7-b1d3-b8ff167f1b1d', 'c7d03cf1-e49e-4f0c-a332-9c255df36e64', '9c4191de-5931-4c6b-9380-231da5b278e9', '2025-01-14 11:55:29'),\n",
                "('a93b4d19-9550-484b-8ab7-dda2a83fcc27', 'a02c1a7c-bf40-4ef7-849a-7ba69d7814d2', 'd2ed4039-95c6-44a3-be97-612e2f94f309', '2025-01-14 11:55:29'),\n",
                "('303308db-d204-44f4-81c2-d77f51f5cb9d', '10f4bfce-97eb-4f72-8d1d-66e7f0af8754', 'edfa6769-ce33-4c5d-9026-17b4050d4587', '2025-01-14 11:55:29'),\n",
                "('7f1f7caf-1792-45a0-8bb7-43bb75e5697e', '559cfad3-1911-462e-a475-47fb02fec675', 'f38b6f1e-81b1-4438-ad84-0da01d9bd307', '2025-01-14 11:55:29'),\n",
                "('5e47d5ca-c4a7-49af-afde-c87cc1ac309e', '8af7862a-5276-43cc-b957-618456633b44', '3d040ab0-3a5b-4da5-9cbd-c6ac91bc8312', '2025-01-14 11:55:29'),\n",
                "('050bc7b5-cbcb-4251-9240-46109ba0d280', '33e59e30-e787-46c3-bf49-9515860360a2', '4abc16f1-f736-4306-928a-a8b3f8b847b8', '2025-01-14 11:55:29'),\n",
                "('8ef07d11-6acd-42af-9479-f9ac97acbd98', 'b6e500dd-f318-4b95-9610-3f9032d98199', 'c92aa7e4-c158-48aa-b915-acc7f709febd', '2025-01-14 11:55:29'),\n",
                "('e63c484e-0983-40c5-a144-20accd746448', 'f67a66c5-8a94-4158-9e84-0b65f1fb8049', '9eb69a04-2e5d-4510-b1fa-01128a012a74', '2025-01-14 11:55:29'),\n",
                "('d5d05668-6640-4040-a0f4-a05d50a46f0f', 'fd94f223-62c8-4d70-a13d-c2343ed78fcf', '337df05b-4863-4d79-8058-68327529f62f', '2025-01-14 11:55:29'),\n",
                "('daae6cb3-a1c2-4465-b6d8-aa89b961bbc2', '91755498-a849-4850-9213-f3c4ccc78ddd', '4f41ff56-fe5f-423d-a536-3add8888dd49', '2025-01-14 11:55:29'),\n",
                "('4ddc3cfb-88cc-479e-804c-b6eada093bf4', '53235559-63db-4290-8e7e-04c1783ad4ce', 'cddc91a0-217f-42cb-a85c-d261bd0c3377', '2025-01-14 11:55:29'),\n",
                "('8eee19e6-df04-486a-bc7b-cd5ceb910463', '0676364f-b4fc-44b2-88bf-e184a77d733f', 'fb510efb-ee95-4f8f-a398-3a021beb6635', '2025-01-14 11:55:29'),\n",
                "('2f686250-55c1-4dab-a59c-5180a4d03255', '06b1f575-7537-4ac4-878c-9e80688d6dc9', 'df91856a-7256-4c83-82af-5439cde862c6', '2025-01-14 11:55:29'),\n",
                "('d0e0e4ea-38b5-43b9-a536-fdcd407bfd6b', 'a5ff40de-6d06-4e10-9a7d-1fb56b1b3a16', 'd7d7de30-a3eb-4484-aab5-1a1809d88cf5', '2025-01-14 11:55:29'),\n",
                "('16012a68-6a4e-4c46-8bab-c2f1dbd6bfd3', 'e002f25e-fa16-4157-84fb-3893a1eef018', '95027255-c51a-4d36-8922-5e73987acc04', '2025-01-14 11:55:29'),\n",
                "('f7d2ba5b-6148-4a0f-bcd6-990110f69563', '759d3566-6a98-4353-96fc-d487dbfb7815', 'dbfb6886-b008-42cb-a20c-6f83c3167c5b', '2025-01-14 11:55:29'),\n",
                "('45c9578a-38b4-4067-927f-5dfb9a98abdd', '58001221-b0ef-4639-b8bb-892d72c239f3', '8cb3a8fa-d4c8-4678-96ec-26115d300737', '2025-01-14 11:55:29'),\n",
                "('939345af-1598-430b-abff-a0d2e137b228', '42356ed9-d436-4ac4-b5dc-04e0cb08a60e', '0cc52231-7e54-4a34-99d6-72d5bf44ce79', '2025-01-14 11:55:29'),\n",
                "('7dfa5ce0-af1f-4b12-b4b4-c95487613a96', '173a084f-c1d2-4853-9937-7964815bbbbc', '8989fd97-36de-47e0-996d-d9b3702ff75a', '2025-01-14 11:55:29'),\n",
                "('d4695aaf-8835-4183-bcd6-25ba580136d2', 'e8b8a347-1e52-41b1-a8f8-3b1ac7b2d21f', 'dbfb6886-b008-42cb-a20c-6f83c3167c5b', '2025-01-14 11:55:29'),\n",
                "('7b7c8d32-b427-4ab2-832b-1a46a9ac9e15', '29ded9f2-1dcb-4f73-9c9a-3807870625bf', '1f4e346f-70ec-409c-b301-24904639eb89', '2025-01-14 11:55:29'),\n",
                "('94daec28-dd49-4a8e-8ae3-7fb7485cc3e9', '06b1f575-7537-4ac4-878c-9e80688d6dc9', '52e1c9e7-0d18-49f6-b4ee-909ad75d4ab7', '2025-01-14 11:55:29'),\n",
                "('2edcf794-9bcb-45bc-92eb-e98153a33a10', 'a02c1a7c-bf40-4ef7-849a-7ba69d7814d2', '44099cac-29f4-4147-9a8a-56189ed2c4e9', '2025-01-14 11:55:29'),\n",
                "('3ec32415-7480-47ec-9ab1-1b62643eb79a', 'b7ac445e-4aa6-403e-a9b4-1df53e9bb1a7', 'fe6df415-2567-473b-b275-58f8809bfa6d', '2025-01-14 11:55:29'),\n",
                "('d48c0d95-6a52-414c-8928-f3061f5ae2a2', 'bdeb8f23-7032-4076-ace8-3827ecf7d858', 'ac1d05e0-a031-4156-a45e-3dca4e2c9cf8', '2025-01-14 11:55:29'),\n",
                "('464c1f49-3286-439e-9faf-df7362a3b991', '79bf4e5a-18f2-47e4-8120-7827a0d0fe91', '337df05b-4863-4d79-8058-68327529f62f', '2025-01-14 11:55:29'),\n",
                "('fe2fd565-52ca-4ed0-95c0-fa703ec7ea37', 'f67a66c5-8a94-4158-9e84-0b65f1fb8049', '299049b9-5a02-47ff-a872-9b0fca7c6965', '2025-01-14 11:55:29'),\n",
                "('6ebacd15-c566-47ea-bc80-699f117b50de', 'd4de576e-927d-4e6b-b033-e2e4da280e86', 'db0bcf7d-9b44-44ac-b1d0-ca9ec83ced0c', '2025-01-14 11:55:29'),\n",
                "('98774b02-dfe9-4b8f-8b5d-3ff0fa8b3e0f', '46dbf417-79ce-42c0-8fa7-3457adbb0068', '5630414d-f732-414b-8417-836f1952ef4a', '2025-01-14 11:55:29'),\n",
                "('2ab7f193-993a-4d76-8c39-a33648fe1a0a', '9c8e385d-3d6b-4007-b1df-8cacb4b454f3', '7f1db049-29bd-45de-b3dc-8230ac0b1a95', '2025-01-14 11:55:29'),\n",
                "('d1e7df95-5af7-4613-9369-ac7d16e87382', '86c191f7-b930-40af-9050-d451f3129245', '44099cac-29f4-4147-9a8a-56189ed2c4e9', '2025-01-14 11:55:29'),\n",
                "('09dc8f65-4282-4794-a517-22dbf8768b0c', '665677d9-e1fb-4033-b621-ba162d5eb4a2', '719514f6-c299-4d3e-87c4-1af6117ac9c8', '2025-01-14 11:55:29'),\n",
                "('6ca82718-67fe-4f73-8c31-139c6965e82e', '62c27c68-c68b-473d-a4c1-37bf839cdcce', '05a2d6e1-99a8-4eac-87de-fad697610f19', '2025-01-14 11:55:29'),\n",
                "('7fe5f12a-b735-459f-a77e-7f8f82994c3f', '0999701d-4b9e-418b-96ac-e7cd681afc3c', 'dac8021e-05d0-4d66-bb92-51766e3c9f41', '2025-01-14 11:55:29'),\n",
                "('a33bc1e5-0c1a-4f96-9dd1-aac14ff76625', '63bbf82d-a070-4baa-abea-fee618b7e56b', '7f9fc518-5cb6-4ef6-9069-c6686077d309', '2025-01-14 11:55:29'),\n",
                "('43d83bf6-d275-4221-a585-ea7b0f142e84', '0d013c8a-df14-4194-94c2-6f276134eca6', 'f38b6f1e-81b1-4438-ad84-0da01d9bd307', '2025-01-14 11:55:29'),\n",
                "('ef36bc1e-ee8b-4cb5-bbe7-d4bfe395d1fd', '0e835949-95ca-46b6-861e-919091724a03', '337df05b-4863-4d79-8058-68327529f62f', '2025-01-14 11:55:29'),\n",
                "('0f0f794f-35df-4471-945f-a381a3cc0e43', 'd2f88169-0378-4c1e-b173-5cb35af95a98', 'a66e8fa3-c6b6-4a16-bc4a-7b0e7c7142f5', '2025-01-14 11:55:29'),\n",
                "('83e7bb16-2f49-4c0f-933f-4379a77c8573', '90b0a54a-5c27-4d50-8393-d48f7fd97ed3', '754079b3-10c3-42dc-b3e6-9988ec3685aa', '2025-01-14 11:55:29'),\n",
                "('0a36b515-eff8-4c40-aba0-1cda531e3a78', 'd93e9bf5-055f-4953-a24c-1047f0190992', 'cfc03884-1c18-444f-812c-dfa3fb29d220', '2025-01-14 11:55:29'),\n",
                "('806eeb87-05bb-4a61-ad43-c2892f6e919c', '901c9cc3-76f0-4f11-add1-2d3b67ef6bb4', '1dec8357-9943-4e49-9331-af3a2893dece', '2025-01-14 11:55:29'),\n",
                "('7549bbc5-25e6-4029-b696-c0f9ab24c103', 'd469e7de-bf34-4ee2-bb95-c17b25a0f80b', '754079b3-10c3-42dc-b3e6-9988ec3685aa', '2025-01-14 11:55:29'),\n",
                "('906ca69b-28c3-40e3-be97-b367123e7c0d', 'b58e504b-d877-4123-adbd-07c10643690c', '81d9ef53-cd9b-4e12-8087-358a6266d46e', '2025-01-14 11:55:29'),\n",
                "('52509ca4-788d-42bd-bc75-093a69045e3e', '2c746174-c055-4582-858b-e22bb1c7dc5a', 'e61d0469-dfba-4f7c-9aec-c9a2c4012d77', '2025-01-14 11:55:29'),\n",
                "('46107d17-6379-47ce-81d6-7324ad441fb7', 'e002f25e-fa16-4157-84fb-3893a1eef018', '9a435ea0-cb8c-4ac6-abb0-e65a3ad7eb78', '2025-01-14 11:55:29'),\n",
                "('781135e4-d189-43d9-946c-8c14bbd92569', 'b0a5a58e-90ce-4a37-8821-a715e6711554', '57e608c9-d0c4-4ba7-8894-bbbee644b23d', '2025-01-14 11:55:29'),\n",
                "('e2e9ae62-f74e-4c32-bb5d-5b73c96da465', '6e1c68a6-923c-4246-a5d5-3bb8a2ca7bd7', 'a2ea640b-7084-46a5-99fc-8c1d843e3cdd', '2025-01-14 11:55:29'),\n",
                "('f31c0a4a-45b1-481d-a89b-7e94603897ff', '39e2d1d8-1367-4f95-8076-96ddd8d443d9', '1dc775c6-1ed6-40ff-9597-cfe25e3aea59', '2025-01-14 11:55:29'),\n",
                "('27b07d8d-37f1-497c-9796-0e8830dd9187', '2fc05847-c2a0-45f0-847b-1a1b08fbd365', 'dcfbce51-3587-4a46-9f9e-d5f9b813ed97', '2025-01-14 11:55:29'),\n",
                "('a2028955-7c98-4696-ab05-7f9f60c921f0', 'bc4b3e8c-dfe8-483a-b1bf-40be6b435df6', 'a2ea640b-7084-46a5-99fc-8c1d843e3cdd', '2025-01-14 11:55:29'),\n",
                "('22a54c2a-77dc-4139-8205-1bbe425bc707', '4d50ad43-22dc-4f41-9aac-0def4caa0e1b', 'f38b6f1e-81b1-4438-ad84-0da01d9bd307', '2025-01-14 11:55:29'),\n",
                "('157dfa1a-aca8-4c81-a3b4-1ed587a61a49', 'a77ef471-0be6-41a3-8f8f-3f885d30a969', '4ed63500-1466-47f4-b69d-7ab35cebe019', '2025-01-14 11:55:29'),\n",
                "('209b3e4c-8d9b-4a47-a5a1-b6ca2df2e7a2', '39431fca-e107-47a2-a8c1-0983dd68dfba', 'ae73decf-8fa1-486b-bd17-7a25b9b35dd7', '2025-01-14 11:55:29'),\n",
                "('840694e7-9202-4d9f-8ba2-9a82e915d77a', 'a33efce8-736b-4d6c-a836-5da12d32fa45', '0c3edcc7-cc10-4c18-b1ec-78b0669172e3', '2025-01-14 11:55:29'),\n",
                "('c774be12-cc5b-45fb-a03d-8fcefb4e1712', 'b7ac445e-4aa6-403e-a9b4-1df53e9bb1a7', '487c4caa-8801-4aaf-a1e0-4cc2fa3caf68', '2025-01-14 11:55:29'),\n",
                "('5cb06020-e60c-4cf4-af83-8e81ec876350', '06b1f575-7537-4ac4-878c-9e80688d6dc9', 'b658b5d6-752d-44ba-9072-17f5b833d675', '2025-01-14 11:55:29'),\n",
                "('429b5408-d0a7-4c7d-bcf4-0955e382fafb', '4b5a0924-dd75-4dc3-8d0e-ee24ad94b5a7', '8eb6d792-2b7f-42c3-aac1-a6fac2ebd698', '2025-01-14 11:55:29'),\n",
                "('9a962008-13f9-4b13-b693-973594a2587b', '6d2faf42-59b7-43fb-84b0-de4302f52e18', '81684c10-7a53-4471-b134-39fa6e1945e0', '2025-01-14 11:55:29'),\n",
                "('4dac818e-404e-4429-a1ff-4f509c64186b', '15dac1c6-a1e4-4c81-868e-435d390286d1', '754079b3-10c3-42dc-b3e6-9988ec3685aa', '2025-01-14 11:55:29'),\n",
                "('95c3424e-795f-45cd-8a69-989ae458d875', '16606fa2-ab26-423c-85b7-241d0d36f3a1', '7f1db049-29bd-45de-b3dc-8230ac0b1a95', '2025-01-14 11:55:29'),\n",
                "('a45eef38-c2d9-4d07-bedd-a34212fc8e1d', 'e8b8a347-1e52-41b1-a8f8-3b1ac7b2d21f', '190234ec-7152-4f16-83eb-537a5ec16e1a', '2025-01-14 11:55:29'),\n",
                "('4aa5d467-7f02-4ae0-b38b-6db3b2ce0fe8', '52ac6ded-d7f4-49ec-82e3-3ae588822f27', 'af83b89d-2a3c-4e82-82b7-be73cc078ac2', '2025-01-14 11:55:29'),\n",
                "('411e0da3-d0df-43e8-8387-bc38a0a3826e', '5e59da76-83fd-4f73-a2cf-c0da2a6f2eae', '54756f50-67a4-4398-8214-26be4eb9d802', '2025-01-14 11:55:29'),\n",
                "('8cfadc6c-5faf-4bd0-ba1e-768aa675062d', 'b6e500dd-f318-4b95-9610-3f9032d98199', 'aa89d3f7-533c-4a0a-bdc7-7f1ad713ca0f', '2025-01-14 11:55:29'),\n",
                "('a64646e2-b58c-47f5-8d93-af6fe3ee0880', 'a3985cda-340b-405a-881a-03a482e7a611', '9fc54413-a0f7-4acb-b3c9-8fc1fb652923', '2025-01-14 11:55:29'),\n",
                "('0ce72a3b-d6c6-4a0a-9aa4-2318da37eee0', '0deb36e8-1083-4214-8e79-c77e90183e26', 'd0010e21-6405-40b6-ad70-e94d67419bf8', '2025-01-14 11:55:29'),\n",
                "('b3e2dc7a-a50d-4825-b8ed-0989ab450951', 'c38b7554-af5f-42a8-bb66-e0cb477be6fa', 'cfc03884-1c18-444f-812c-dfa3fb29d220', '2025-01-14 11:55:29'),\n",
                "('51a66832-ef24-428c-8266-2209418256db', '0291e6b5-5a7f-41b7-9534-0e871508f864', '13e078c6-8ca5-490a-a9e8-bdf6e5ee4035', '2025-01-14 11:55:29'),\n",
                "('6dba7ba2-a1c5-42c7-bc01-50de0cdb5d36', 'b0a5a58e-90ce-4a37-8821-a715e6711554', 'd6b602aa-c6ee-4ebb-9e08-247486574f93', '2025-01-14 11:55:29'),\n",
                "('0d520d77-a74e-46b1-8b0a-1acd3a50dc1c', '03f7bd03-6c74-4338-a6a3-53097f3bc3ee', '024e59b4-7189-4b82-b54e-ac5e7f417a06', '2025-01-14 11:55:29'),\n",
                "('25c39413-5d5b-4d04-b8bf-524d48ffd42d', '01ac09a5-9ed8-4a42-adea-b39a4bdd7936', '487c4caa-8801-4aaf-a1e0-4cc2fa3caf68', '2025-01-14 11:55:29'),\n",
                "('5d7432fe-7631-450a-b917-485e44b5e07f', 'dba49555-22b0-4880-a6e5-07030a1819d8', 'dcfbce51-3587-4a46-9f9e-d5f9b813ed97', '2025-01-14 11:55:29'),\n",
                "('3995b428-52e4-4d58-b139-3f0aef09e001', '0999701d-4b9e-418b-96ac-e7cd681afc3c', 'e7524fe6-9a2a-48cf-b4c8-ab6b5da7a160', '2025-01-14 11:55:29'),\n",
                "('5133dbf6-01cd-4b27-8e51-1b106dd09524', '33e59e30-e787-46c3-bf49-9515860360a2', '95027255-c51a-4d36-8922-5e73987acc04', '2025-01-14 11:55:29'),\n",
                "('2bec190f-2602-4987-af0c-507c0b38e45a', '06fc3f4d-b1da-4f80-ac72-73dd7d183a0d', '4abc16f1-f736-4306-928a-a8b3f8b847b8', '2025-01-14 11:55:29'),\n",
                "('661f0675-50b3-4e57-b80f-b00a34ce97e4', 'e06638c7-ad8c-4135-a50c-3ba1c835d720', '024e59b4-7189-4b82-b54e-ac5e7f417a06', '2025-01-14 11:55:29'),\n",
                "('79e30d8c-a68d-4a14-a8da-be645a228270', 'f26efcf0-ccae-4f15-95ca-8a1e3dbd517b', '754079b3-10c3-42dc-b3e6-9988ec3685aa', '2025-01-14 11:55:29'),\n",
                "('0fd2322b-be42-4d0c-b626-9306b5341cb1', 'e6cbaf9a-7f7f-429b-9008-1f0c243c1255', 'a7ec2854-59cd-4cd8-89d6-db4db1ff1def', '2025-01-14 11:55:29'),\n",
                "('249bf6e1-1d22-41af-a9b1-884a63537611', 'a20ac009-56f9-4ba3-a790-1534e3a33a1e', '1f404254-a9e3-4b75-8aaa-652e6a67721f', '2025-01-14 11:55:29'),\n",
                "('a8f79da5-ae5f-4ea0-847e-cc54d1af179d', 'e24641c0-1387-41cf-94a4-70abb2647198', '12ed6aca-6f98-4516-aff6-58b1f34830ef', '2025-01-14 11:55:29'),\n",
                "('7937d60d-a3ae-4c0e-a2cf-d94a6e70d14a', 'e002f25e-fa16-4157-84fb-3893a1eef018', 'c48e8ced-3719-4b05-95fb-c60cb9db6fbe', '2025-01-14 11:55:29'),\n",
                "('09a9f746-9d9f-4a72-a2f4-375ce1cb4fe0', 'a58e3b87-db5e-4389-ab58-0425796f2475', '754079b3-10c3-42dc-b3e6-9988ec3685aa', '2025-01-14 11:55:29'),\n",
                "('2ae056f4-f1c5-41f9-a327-addd66af1c1b', 'f616987a-a11a-460f-86db-b391f74ebc7e', 'af1c32b5-9470-4a20-840d-1d00e074c53f', '2025-01-14 11:55:29'),\n",
                "('26983751-b4bd-4acc-9f08-473d59fdc321', 'e8b8a347-1e52-41b1-a8f8-3b1ac7b2d21f', 'd3111ed3-bbd2-4797-b3aa-b23bc7a66f4d', '2025-01-14 11:55:29'),\n",
                "('ececc3e3-70ee-4519-a5c4-73d70292560e', '3886aa93-1436-4f9d-a963-ceb581173415', '337df05b-4863-4d79-8058-68327529f62f', '2025-01-14 11:55:29'),\n",
                "('ab191876-e2c8-4bac-8c2c-9038e317086e', 'b70b3d3d-12c5-4f53-bf09-c54c0a8da2a4', '6dc49c6e-dddc-4a8a-bc72-06107427e302', '2025-01-14 11:55:29'),\n",
                "('9cbfae82-44cb-4ba1-91a9-4067ed55b8c2', '8af7862a-5276-43cc-b957-618456633b44', '8eb6d792-2b7f-42c3-aac1-a6fac2ebd698', '2025-01-14 11:55:29'),\n",
                "('3f09491d-c080-42fa-ab96-4837a21b5f48', '4b5a0924-dd75-4dc3-8d0e-ee24ad94b5a7', 'a119beb2-7d6a-4b87-8260-9e5937f11feb', '2025-01-14 11:55:29'),\n",
                "('16592f32-5678-4188-a955-3347b960002c', '2f25bc36-f6b1-4810-8099-27434cc29567', 'a98a9592-1391-444d-9a1a-00f943fbef38', '2025-01-14 11:55:29'),\n",
                "('c8a28cc6-9e7a-4689-bebb-845f81f30bcc', 'e5756436-bbfc-468a-99a0-9464865ab0b1', '9a435ea0-cb8c-4ac6-abb0-e65a3ad7eb78', '2025-01-14 11:55:29'),\n",
                "('8d1ea259-9d82-4cba-8c1f-2b27a3ce780e', 'e002f25e-fa16-4157-84fb-3893a1eef018', '9a435ea0-cb8c-4ac6-abb0-e65a3ad7eb78', '2025-01-14 11:55:29'),\n",
                "('af2bba42-8de0-49d8-832d-0c07972c53bf', '78e7d07c-9f80-4a44-9d78-37076264e75a', '8fe26126-f2c4-4d1e-a9bd-1d71e2f69a55', '2025-01-14 11:55:29'),\n",
                "('2450b43f-36e3-40ff-8723-fc92621f7c94', 'b70b3d3d-12c5-4f53-bf09-c54c0a8da2a4', '8de4a6a3-e3c8-4317-abbc-8c0d5a2d9556', '2025-01-14 11:55:29'),\n",
                "('623452ed-6a56-40a8-b2ad-db0c4cd8a235', 'd93e9bf5-055f-4953-a24c-1047f0190992', 'dd136068-6c86-48f2-b4e5-d213e98b04c5', '2025-01-14 11:55:29'),\n",
                "('cc761789-a24f-4b25-8f25-1b084e592bc7', '73d018b5-a1d5-4c92-9cc4-41c8a80dcbe1', 'f38b6f1e-81b1-4438-ad84-0da01d9bd307', '2025-01-14 11:55:29'),\n",
                "('ea2fb088-94d8-4c00-a22a-3a1218668690', 'c71d8f9f-8bff-4b11-81d3-d64e921f5d92', 'cfc03884-1c18-444f-812c-dfa3fb29d220', '2025-01-14 11:55:29'),\n",
                "('7218f6ce-fc45-4dc9-baa8-9c67eefcd48e', 'e9cddace-2ac8-4939-b2e5-37ccb71d800d', 'ac1d05e0-a031-4156-a45e-3dca4e2c9cf8', '2025-01-14 11:55:29'),\n",
                "('13fcf7b3-f7da-4575-8f46-5a93e0beda5c', '29ded9f2-1dcb-4f73-9c9a-3807870625bf', '3bdd9d49-64c3-4595-b574-cd8487461a74', '2025-01-14 11:55:29'),\n",
                "('947c9320-1310-4ee5-8fda-a72b1122c00e', '9981d11a-4886-494f-80dc-7a918f7b2560', '47c14bf2-8057-4828-9638-0db29e697723', '2025-01-14 11:55:29'),\n",
                "('43aac625-d25d-48f7-9ab8-3f4dfd7820bb', 'd71e6981-5309-48d0-9df6-bb5235ba0ca5', '941686c7-d194-4dd1-a82f-7da7c2e1758c', '2025-01-14 11:55:29'),\n",
                "('50b65863-21f8-44b7-aab6-736e0d357def', '01ac09a5-9ed8-4a42-adea-b39a4bdd7936', 'c1efd58f-26fb-4c2c-a109-8c85a50042cf', '2025-01-14 11:55:29'),\n",
                "('db5910f5-17dd-4284-a877-edb268150cd4', 'cba42c47-ec67-4e7a-9ad5-5049e1c08a88', '94e965d0-c2a5-41f9-8850-61049a064292', '2025-01-14 11:55:29'),\n",
                "('19e0631b-30de-4d8b-9e4f-dd9d3b688bb7', '2f25bc36-f6b1-4810-8099-27434cc29567', '8de4a6a3-e3c8-4317-abbc-8c0d5a2d9556', '2025-01-14 11:55:29'),\n",
                "('4fd2ee98-d67c-432d-8381-5ba7a5aa27e4', '5bf343b3-67a1-4f5d-87d2-025aab7188d3', '0cc52231-7e54-4a34-99d6-72d5bf44ce79', '2025-01-14 11:55:29'),\n",
                "('83c23536-1331-4ec0-b1b0-1f66062aeb02', '2eeaf560-54a3-4c32-b104-64646f6b9ed5', '46020fab-f32e-4467-81e6-53200de4cbc5', '2025-01-14 11:55:29'),\n",
                "('848ecd80-70fd-428f-be3c-cbc8f37240b4', '3886aa93-1436-4f9d-a963-ceb581173415', 'cddc91a0-217f-42cb-a85c-d261bd0c3377', '2025-01-14 11:55:29'),\n",
                "('71922918-c8cc-480e-99f1-0d6791725598', '46dbf417-79ce-42c0-8fa7-3457adbb0068', '4ed63500-1466-47f4-b69d-7ab35cebe019', '2025-01-14 11:55:29'),\n",
                "('abebb530-ad48-44fc-9bac-b80e20a7e8c0', 'e8b8a347-1e52-41b1-a8f8-3b1ac7b2d21f', '13e078c6-8ca5-490a-a9e8-bdf6e5ee4035', '2025-01-14 11:55:29'),\n",
                "('fb906ee9-2bf9-4a5b-894a-e03170f9a94c', '9f6f47c9-ccee-4522-9c44-c74aeedf2aa7', '3762b4b9-0682-43f1-a52f-c9e06866d467', '2025-01-14 11:55:29'),\n",
                "('4fa4e81b-537d-4e62-aea4-bff8ad53347b', '09803ddf-9cac-4d8f-9efe-81cbd3f38c24', 'dbcf8f29-0101-4caa-be04-89076abb5775', '2025-01-14 11:55:29'),\n",
                "('416f4970-24a3-40c5-ab87-5c1618bad601', 'cba42c47-ec67-4e7a-9ad5-5049e1c08a88', 'c1efd58f-26fb-4c2c-a109-8c85a50042cf', '2025-01-14 11:55:29'),\n",
                "('b5b61c25-cb2c-4573-897f-66b02c69ddcb', 'dbe23dcb-80a2-4f1b-b38f-7f83b7701f43', 'db0bcf7d-9b44-44ac-b1d0-ca9ec83ced0c', '2025-01-14 11:55:29'),\n",
                "('837ea2d3-b062-4de3-8ac8-c57a8662a40a', '62215439-61b7-4943-9f5e-98edb7c033c5', '32835569-c6d4-4a8f-9a73-609244572bbf', '2025-01-14 11:55:29'),\n",
                "('628a9fdd-99ca-4193-9c9c-03af6552c62a', 'bdf46b03-f26f-4db9-973e-15b19bd36b4c', 'e5e3a4b8-f659-4825-a3af-79432c329033', '2025-01-14 11:55:29'),\n",
                "('485bb762-c67a-4774-af70-fd318cf86b8f', '00da7d81-5b9f-483c-a26c-ad2ec4fb8e36', '6a8326b6-7a48-45ed-a0ef-ea7abd6d3e11', '2025-01-14 11:55:29'),\n",
                "('c2b67aea-3c9c-4b54-8f8b-ddf584a7fd9b', '2f72b5eb-efeb-44d0-85d9-39e6e4d42a7b', '719514f6-c299-4d3e-87c4-1af6117ac9c8', '2025-01-14 11:55:29'),\n",
                "('3aba0d5e-0a74-4e8c-bcd9-3fc37cba5221', '2144e82b-58b4-4250-90e7-5957bf3161f4', '44099cac-29f4-4147-9a8a-56189ed2c4e9', '2025-01-14 11:55:29'),\n",
                "('3e77744e-cd5c-49a1-a086-ee1256800799', 'f67a66c5-8a94-4158-9e84-0b65f1fb8049', 'a66e8fa3-c6b6-4a16-bc4a-7b0e7c7142f5', '2025-01-14 11:55:29'),\n",
                "('a05f722d-917e-4594-ae1e-2474a0f17bf5', 'd51f2390-c946-4ac2-8422-9a4115bf09bf', '9a435ea0-cb8c-4ac6-abb0-e65a3ad7eb78', '2025-01-14 11:55:29'),\n",
                "('860580ab-b16d-402e-a62d-fbcd867ad26d', '0291e6b5-5a7f-41b7-9534-0e871508f864', '487c4caa-8801-4aaf-a1e0-4cc2fa3caf68', '2025-01-14 11:55:29'),\n",
                "('0a1cd4bf-ef0d-491c-aebe-a6cadf61e3cc', 'bb4db972-bb45-4755-a1e5-c8c887be29c5', 'a98a9592-1391-444d-9a1a-00f943fbef38', '2025-01-14 11:55:29'),\n",
                "('41c29463-27c5-43cd-b5af-4aec10a5d0e5', '8af7862a-5276-43cc-b957-618456633b44', 'b7ee3c92-b943-4fab-9c6e-7188ef89c0ad', '2025-01-14 11:55:29'),\n",
                "('2df0cf16-ff21-4bb5-b05b-f965fa07b11d', 'a02c1a7c-bf40-4ef7-849a-7ba69d7814d2', 'cfc03884-1c18-444f-812c-dfa3fb29d220', '2025-01-14 11:55:29'),\n",
                "('ca70cdba-1d44-4c95-947f-39f6058ad39f', '0d013c8a-df14-4194-94c2-6f276134eca6', '3b4dbb3f-c320-4bd8-a5c6-280883da8887', '2025-01-14 11:55:29'),\n",
                "('b6ad6d61-62af-4c2e-a993-d1ad75793225', 'dbe23dcb-80a2-4f1b-b38f-7f83b7701f43', '80424870-c097-4eb9-a031-64110245ac6b', '2025-01-14 11:55:29'),\n",
                "('35fa8c26-b1e9-407c-b0ab-7b5a2e2bccb3', 'a335b854-d672-40eb-89db-28db8997276c', '299049b9-5a02-47ff-a872-9b0fca7c6965', '2025-01-14 11:55:29'),\n",
                "('33c2b2c8-0acc-4195-a8cd-4ba745b2cb3a', '2f25bc36-f6b1-4810-8099-27434cc29567', '9cc83e57-55e6-4f1e-9378-08b60ad18003', '2025-01-14 11:55:29'),\n",
                "('019ab3ae-943a-4930-9958-08e8912123b5', '901c9cc3-76f0-4f11-add1-2d3b67ef6bb4', '7a1b89b5-b459-4a08-9ec6-1bcad0ed282e', '2025-01-14 11:55:29'),\n",
                "('d996c274-3a9c-41bb-9c5f-95dcadd90c71', '3862f40b-1cf8-433e-83de-f037c942f3eb', '754079b3-10c3-42dc-b3e6-9988ec3685aa', '2025-01-14 11:55:29'),\n",
                "('9b6e696f-8e95-4536-a27b-1c03ba75a843', 'bb4db972-bb45-4755-a1e5-c8c887be29c5', 'dbfb6886-b008-42cb-a20c-6f83c3167c5b', '2025-01-14 11:55:29'),\n",
                "('199ae16b-d9d5-4fc8-a309-f2e1341f8595', 'e2a43660-7131-45b4-a404-402c2b0987e5', '67c58064-54d5-4561-a019-7cba5273ee60', '2025-01-14 11:55:29'),\n",
                "('d50434f0-c2df-48f7-8221-28c75c9e4766', '9c8e385d-3d6b-4007-b1df-8cacb4b454f3', '5bd8105e-272a-4b21-9cbe-2ec4ed3e9e82', '2025-01-14 11:55:29'),\n",
                "('c7e9c394-ce31-4416-a6f7-c9b50bfd8b93', 'f16b79e5-c7a9-42b7-91b2-fcac090f39f0', '71f8cf28-e643-4535-b797-e5b93c6032a3', '2025-01-14 11:55:29'),\n",
                "('7811bd51-bb2b-4938-a879-ee9c3f751f8d', '2c746174-c055-4582-858b-e22bb1c7dc5a', 'ac1d05e0-a031-4156-a45e-3dca4e2c9cf8', '2025-01-14 11:55:29'),\n",
                "('95b235fa-927a-4468-acaa-e2dd6102865e', '751faa7f-05c4-4a6a-a415-6ea7ff681516', '68008088-a7e0-47d7-bc0e-ac70a72fae62', '2025-01-14 11:55:29'),\n",
                "('7413498a-3fa1-4eb5-bd0a-fdb0e523afc4', '10f4bfce-97eb-4f72-8d1d-66e7f0af8754', '4f41ff56-fe5f-423d-a536-3add8888dd49', '2025-01-14 11:55:29'),\n",
                "('e8c18f98-cac3-48bf-a263-f68f3e3ef715', 'a7de2133-1b76-436f-80e5-21d0c2816d13', '024e59b4-7189-4b82-b54e-ac5e7f417a06', '2025-01-14 11:55:29'),\n",
                "('e7377570-1d62-4a73-a7fd-8c84f0453d28', '86c191f7-b930-40af-9050-d451f3129245', '299049b9-5a02-47ff-a872-9b0fca7c6965', '2025-01-14 11:55:29'),\n",
                "('4f644b4b-76a2-4b2d-b61d-3db368aa80d1', '03f7bd03-6c74-4338-a6a3-53097f3bc3ee', 'd6b602aa-c6ee-4ebb-9e08-247486574f93', '2025-01-14 11:55:29'),\n",
                "('101eabfb-c872-431c-a9c8-feb4397a883f', '751faa7f-05c4-4a6a-a415-6ea7ff681516', 'a4cb827d-0083-4c25-863a-9844331dbd66', '2025-01-14 11:55:29'),\n",
                "('94d8d969-56e9-4a29-b803-924456e5fd25', '63bbf82d-a070-4baa-abea-fee618b7e56b', 'abbe7eaf-719f-4a6e-834c-8cc6983ce50d', '2025-01-14 11:55:29'),\n",
                "('5165c400-1bd3-4f1d-818f-016e78bc4f64', 'c1713f90-17fb-4579-a7b0-74eeac12ab16', '86bad218-b122-44f0-a7f8-85ac5be9b279', '2025-01-14 11:55:29'),\n",
                "('1d8f9984-0571-4d66-ac22-5b1ac3d53b06', 'f67a66c5-8a94-4158-9e84-0b65f1fb8049', '9cc83e57-55e6-4f1e-9378-08b60ad18003', '2025-01-14 11:55:29'),\n",
                "('e842c1c0-85d0-4918-802c-1e7428477262', '5e59da76-83fd-4f73-a2cf-c0da2a6f2eae', '61a517eb-3c5b-4b2c-8074-1755a76fe3af', '2025-01-14 11:55:29'),\n",
                "('74adfcce-f813-41a5-9cf9-7e30fb36ecee', 'cba42c47-ec67-4e7a-9ad5-5049e1c08a88', '52e1c9e7-0d18-49f6-b4ee-909ad75d4ab7', '2025-01-14 11:55:29'),\n",
                "('15609738-53ee-4154-b712-f060e2a7e8a7', '8af7862a-5276-43cc-b957-618456633b44', '337df05b-4863-4d79-8058-68327529f62f', '2025-01-14 11:55:29'),\n",
                "('68ee0e9e-8064-44f4-9ea3-2e186124b944', '22dc5d39-101a-4aba-a13b-6924cfd6ad85', '54756f50-67a4-4398-8214-26be4eb9d802', '2025-01-14 11:55:29'),\n",
                "('b14c058c-36d7-4b97-b5ea-6514abba50c6', '4d61a05a-4407-4fc6-83bc-1a5262ed6935', '6118a169-ecc2-4ede-8dfb-6cca62b98023', '2025-01-14 11:55:29'),\n",
                "('44742df0-8e6a-45f2-981d-8bedc5dcba03', '29f5f2d2-88d2-4673-9c5a-5f8aa3e596b0', '57e608c9-d0c4-4ba7-8894-bbbee644b23d', '2025-01-14 11:55:29'),\n",
                "('90c37e0c-9d84-467c-93a9-e8027ee9b85e', 'a335b854-d672-40eb-89db-28db8997276c', '724e937c-b85a-4a80-a848-5f42c0feee41', '2025-01-14 11:55:29'),\n",
                "('7b46d9dc-c55d-417d-b6d9-0af94675719b', 'e6cbaf9a-7f7f-429b-9008-1f0c243c1255', '87c109e3-e3df-4995-b226-22b85cc2183d', '2025-01-14 11:55:29'),\n",
                "('0fe21f60-569d-40bb-ba47-d35f54e832b2', '0d013c8a-df14-4194-94c2-6f276134eca6', 'a62d3f0d-bc56-4356-a29b-49874ef0647c', '2025-01-14 11:55:29'),\n",
                "('71618700-e632-477a-8757-9079ac6fd040', '0676364f-b4fc-44b2-88bf-e184a77d733f', 'fb510efb-ee95-4f8f-a398-3a021beb6635', '2025-01-14 11:55:29'),\n",
                "('4976a8e2-883a-4466-972b-018c9fe8bd94', 'b7ac445e-4aa6-403e-a9b4-1df53e9bb1a7', 'aa89d3f7-533c-4a0a-bdc7-7f1ad713ca0f', '2025-01-14 11:55:29'),\n",
                "('6fd18d99-be13-4d16-824f-2f06f3b6f800', 'e8c7d845-5d57-44a2-ad41-e5fd08356e40', 'b91f5b62-234e-45c9-bf23-204eaba762e2', '2025-01-14 11:55:29'),\n",
                "('fbdf5d25-8099-4421-b0e3-a08e7a967326', '15dac1c6-a1e4-4c81-868e-435d390286d1', 'cddc91a0-217f-42cb-a85c-d261bd0c3377', '2025-01-14 11:55:29'),\n",
                "('c14c1f4f-77b7-473e-bc06-a3602dd1fd57', '7ddcf042-2611-4672-9cee-c9261ab79860', 'cfc03884-1c18-444f-812c-dfa3fb29d220', '2025-01-14 11:55:29'),\n",
                "('7fa96694-1813-431b-b8c9-d58355310fea', 'caa3a2aa-ccad-4719-8d72-fbf543d90012', '3bdd9d49-64c3-4595-b574-cd8487461a74', '2025-01-14 11:55:29'),\n",
                "('a89067f0-4365-4361-82e8-7a5bafed66d0', '32c1d8bb-9151-4f3f-aa77-b16222850353', 'd6d89413-ad9f-4f7d-8d9b-94ca3963bf40', '2025-01-14 11:55:29'),\n",
                "('5014592b-a187-4da3-8b77-0bf7457ee63e', 'e423fb84-97f9-4403-9436-d58c5848e6df', 'e7524fe6-9a2a-48cf-b4c8-ab6b5da7a160', '2025-01-14 11:55:29'),\n",
                "('44b922d5-1f31-4eb5-9096-fe223e100e8c', 'aa3daf07-e2d4-4ca1-96e5-6c9146217112', 'b7ee3c92-b943-4fab-9c6e-7188ef89c0ad', '2025-01-14 11:55:29'),\n",
                "('6ad73fae-0817-4b93-9fe7-44d83ba297fd', 'e8c7d845-5d57-44a2-ad41-e5fd08356e40', '2313b5f4-9de6-4ed3-8144-6f5d98e553ef', '2025-01-14 11:55:29'),\n",
                "('1824ea16-6e39-4951-a73d-f9daec1532fe', 'd51f2390-c946-4ac2-8422-9a4115bf09bf', '235bcad4-da3e-4b5d-be88-c5aa54a05a84', '2025-01-14 11:55:29'),\n",
                "('af7f4373-17a1-4dda-aef3-8492539a577d', 'db31c5a2-914d-402c-8060-34094946954c', 'fac1636d-e435-48a4-9a56-a1de2628297e', '2025-01-14 11:55:29'),\n",
                "('6e0fa730-d045-41a8-a80c-01c07f0773d5', '4b5a0924-dd75-4dc3-8d0e-ee24ad94b5a7', '7dccd797-54be-4a97-929a-e300088b2140', '2025-01-14 11:55:29'),\n",
                "('9deadf59-de85-4117-8887-e2959826c0ce', '59c57ed0-de5b-4786-ac0e-637a3b9f44f2', 'a66e8fa3-c6b6-4a16-bc4a-7b0e7c7142f5', '2025-01-14 11:55:29');\n",
                "\n",
                "-- Verification Queries:"
            ],
            "metadata": {
                "language": "sql",
                "azdata_cell_guid": "4ed598ae-7fca-4d7d-a611-15a216999378"
            },
            "outputs": [
                {
                    "output_type": "display_data",
                    "data": {
                        "text/html": "(200 rows affected)"
                    },
                    "metadata": {}
                },
                {
                    "output_type": "display_data",
                    "data": {
                        "text/html": "(200 rows affected)"
                    },
                    "metadata": {}
                },
                {
                    "output_type": "display_data",
                    "data": {
                        "text/html": "(200 rows affected)"
                    },
                    "metadata": {}
                },
                {
                    "output_type": "display_data",
                    "data": {
                        "text/html": "(200 rows affected)"
                    },
                    "metadata": {}
                },
                {
                    "output_type": "display_data",
                    "data": {
                        "text/html": "(200 rows affected)"
                    },
                    "metadata": {}
                },
                {
                    "output_type": "display_data",
                    "data": {
                        "text/html": "Total execution time: 00:00:00.927"
                    },
                    "metadata": {}
                }
            ],
            "execution_count": 24
        },
        {
            "cell_type": "code",
            "source": [
                "SELECT COUNT(*) AS UserCount FROM Users;\n",
                "SELECT COUNT(*) AS TaskCount FROM Task;\n",
                "SELECT COUNT(*) AS CategoryCount FROM Category;\n",
                "SELECT COUNT(*) AS TaskCategoryCount FROM TaskCategory;\n",
                "SELECT COUNT(*) AS TaskUserCount FROM TaskUser;"
            ],
            "metadata": {
                "language": "sql",
                "azdata_cell_guid": "143f03dc-3965-4b88-80ef-5dcbafd4c606"
            },
            "outputs": [
                {
                    "output_type": "display_data",
                    "data": {
                        "text/html": "(1 row affected)"
                    },
                    "metadata": {}
                },
                {
                    "output_type": "display_data",
                    "data": {
                        "text/html": "(1 row affected)"
                    },
                    "metadata": {}
                },
                {
                    "output_type": "display_data",
                    "data": {
                        "text/html": "(1 row affected)"
                    },
                    "metadata": {}
                },
                {
                    "output_type": "display_data",
                    "data": {
                        "text/html": "(1 row affected)"
                    },
                    "metadata": {}
                },
                {
                    "output_type": "display_data",
                    "data": {
                        "text/html": "(1 row affected)"
                    },
                    "metadata": {}
                },
                {
                    "output_type": "display_data",
                    "data": {
                        "text/html": "Total execution time: 00:00:00.008"
                    },
                    "metadata": {}
                },
                {
                    "output_type": "execute_result",
                    "metadata": {},
                    "execution_count": 27,
                    "data": {
                        "application/vnd.dataresource+json": {
                            "schema": {
                                "fields": [
                                    {
                                        "name": "UserCount"
                                    }
                                ]
                            },
                            "data": [
                                {
                                    "UserCount": "200"
                                }
                            ]
                        },
                        "text/html": [
                            "<table>",
                            "<tr><th>UserCount</th></tr>",
                            "<tr><td>200</td></tr>",
                            "</table>"
                        ]
                    }
                },
                {
                    "output_type": "execute_result",
                    "metadata": {},
                    "execution_count": 27,
                    "data": {
                        "application/vnd.dataresource+json": {
                            "schema": {
                                "fields": [
                                    {
                                        "name": "TaskCount"
                                    }
                                ]
                            },
                            "data": [
                                {
                                    "TaskCount": "200"
                                }
                            ]
                        },
                        "text/html": [
                            "<table>",
                            "<tr><th>TaskCount</th></tr>",
                            "<tr><td>200</td></tr>",
                            "</table>"
                        ]
                    }
                },
                {
                    "output_type": "execute_result",
                    "metadata": {},
                    "execution_count": 27,
                    "data": {
                        "application/vnd.dataresource+json": {
                            "schema": {
                                "fields": [
                                    {
                                        "name": "CategoryCount"
                                    }
                                ]
                            },
                            "data": [
                                {
                                    "CategoryCount": "200"
                                }
                            ]
                        },
                        "text/html": [
                            "<table>",
                            "<tr><th>CategoryCount</th></tr>",
                            "<tr><td>200</td></tr>",
                            "</table>"
                        ]
                    }
                },
                {
                    "output_type": "execute_result",
                    "metadata": {},
                    "execution_count": 27,
                    "data": {
                        "application/vnd.dataresource+json": {
                            "schema": {
                                "fields": [
                                    {
                                        "name": "TaskCategoryCount"
                                    }
                                ]
                            },
                            "data": [
                                {
                                    "TaskCategoryCount": "200"
                                }
                            ]
                        },
                        "text/html": [
                            "<table>",
                            "<tr><th>TaskCategoryCount</th></tr>",
                            "<tr><td>200</td></tr>",
                            "</table>"
                        ]
                    }
                },
                {
                    "output_type": "execute_result",
                    "metadata": {},
                    "execution_count": 27,
                    "data": {
                        "application/vnd.dataresource+json": {
                            "schema": {
                                "fields": [
                                    {
                                        "name": "TaskUserCount"
                                    }
                                ]
                            },
                            "data": [
                                {
                                    "TaskUserCount": "200"
                                }
                            ]
                        },
                        "text/html": [
                            "<table>",
                            "<tr><th>TaskUserCount</th></tr>",
                            "<tr><td>200</td></tr>",
                            "</table>"
                        ]
                    }
                }
            ],
            "execution_count": 27
        },
        {
            "cell_type": "markdown",
            "source": [
                "QUery"
            ],
            "metadata": {
                "language": "sql",
                "azdata_cell_guid": "a0aa8ba1-ee9c-4db6-9279-601327fbe943"
            },
            "attachments": {}
        },
        {
            "cell_type": "code",
            "source": [
                "-- 1.find categorire that only belong to task marked as 'Complete'\n",
                "select c.id, c.name \n",
                "from Category c\n",
                "\n",
                "WHERE c.id  IN (\n",
                "    select tc.CategoryID\n",
                "    from TaskCategory tc\n",
                "    join task t on  tc.taskid = t.id\n",
                "    WHERE t.status = 'Completed'\n",
                ")\n",
                ";"
            ],
            "metadata": {
                "language": "sql",
                "azdata_cell_guid": "163a3da2-5e25-4940-bcff-ddb1a4863b67"
            },
            "outputs": [
                {
                    "output_type": "display_data",
                    "data": {
                        "text/html": "(62 rows affected)"
                    },
                    "metadata": {}
                },
                {
                    "output_type": "display_data",
                    "data": {
                        "text/html": "Total execution time: 00:00:00.045"
                    },
                    "metadata": {}
                },
                {
                    "output_type": "execute_result",
                    "metadata": {},
                    "execution_count": 28,
                    "data": {
                        "application/vnd.dataresource+json": {
                            "schema": {
                                "fields": [
                                    {
                                        "name": "id"
                                    },
                                    {
                                        "name": "name"
                                    }
                                ]
                            },
                            "data": [
                                {
                                    "id": "0845e514-71c8-45e9-93a1-2081557f3063",
                                    "name": "Maintenance"
                                },
                                {
                                    "id": "10d13de6-2768-43a5-8c27-65f901660984",
                                    "name": "Web"
                                },
                                {
                                    "id": "12b4dad0-59e8-4fb6-b453-1cf4a1eeeff7",
                                    "name": "Data Science"
                                },
                                {
                                    "id": "135f6605-58b7-449a-b9df-fd9fa9c8c5ec",
                                    "name": "Documentation"
                                },
                                {
                                    "id": "14fbdc86-50fe-4984-b4d5-4c7763d0dcd4",
                                    "name": "Security"
                                },
                                {
                                    "id": "1a49c7f5-2455-4ed3-bbc7-effc6fee0b4a",
                                    "name": "Research"
                                },
                                {
                                    "id": "1b66da6d-d5f0-4e20-91ec-b29af8d839d1",
                                    "name": "Documentation"
                                },
                                {
                                    "id": "2070ac24-f466-428f-92ea-9194b92c814c",
                                    "name": "Development"
                                },
                                {
                                    "id": "2334b23d-9bd2-43f5-bb1d-be017a051249",
                                    "name": "Cloud"
                                },
                                {
                                    "id": "259dbb15-b613-4803-bd82-cfcf6f64fc20",
                                    "name": "Web"
                                },
                                {
                                    "id": "44145054-a866-4da9-8523-5730fc749bae",
                                    "name": "DevOps"
                                },
                                {
                                    "id": "44db2eac-6be1-4be9-bea1-a91c6ab27bdf",
                                    "name": "Development"
                                },
                                {
                                    "id": "4950fe1c-16bc-496e-a14d-28771b7c69b6",
                                    "name": "Design"
                                },
                                {
                                    "id": "4aa0082f-cdb1-4fc4-889c-85a518fd9d3e",
                                    "name": "Security"
                                },
                                {
                                    "id": "4ad75f05-f2e7-48fb-99e2-54d2dcac60ee",
                                    "name": "DevOps"
                                },
                                {
                                    "id": "5116394e-8dad-45fb-a1bb-02841438a549",
                                    "name": "Planning"
                                },
                                {
                                    "id": "57b6346d-c196-4725-8916-584399cba61b",
                                    "name": "DevOps"
                                },
                                {
                                    "id": "5ad73741-444a-4c64-ae1d-f8a1b0729915",
                                    "name": "DevOps"
                                },
                                {
                                    "id": "5c110c71-fe93-49ce-b560-5891eb73c68d",
                                    "name": "Mobile"
                                },
                                {
                                    "id": "5c6a9088-df13-4786-99f8-6893460a249b",
                                    "name": "Analytics"
                                },
                                {
                                    "id": "602ebff5-b59e-40b4-a1e6-abb14120622a",
                                    "name": "Infrastructure"
                                },
                                {
                                    "id": "62181ed0-914b-4944-a37d-09d5586e4050",
                                    "name": "AI/ML"
                                },
                                {
                                    "id": "62d17c3a-89e3-41cb-af86-619aa67cf569",
                                    "name": "Research"
                                },
                                {
                                    "id": "689779a2-6f26-4aa3-ac18-4777fb1797e2",
                                    "name": "Research"
                                },
                                {
                                    "id": "6a4236e6-c873-40ee-851e-c87191ce74bd",
                                    "name": "Cloud"
                                },
                                {
                                    "id": "6cab4b23-4a6f-4345-99f4-8c73b340cf15",
                                    "name": "Design"
                                },
                                {
                                    "id": "6f47d7ab-4092-476d-8375-119f068078be",
                                    "name": "AI/ML"
                                },
                                {
                                    "id": "7c73469d-d41c-45d7-b2b7-cb484c4e8509",
                                    "name": "Mobile"
                                },
                                {
                                    "id": "7c7cecec-4cd4-4ff7-8572-15c296b9bd9b",
                                    "name": "Maintenance"
                                },
                                {
                                    "id": "7fcfbdc9-3b32-4e51-82ef-bfcc2c6a9b98",
                                    "name": "Support"
                                },
                                {
                                    "id": "806ea282-2ed8-46be-97cd-4d66591a01f4",
                                    "name": "Innovation"
                                },
                                {
                                    "id": "82a1725f-f9ea-4f2f-8d4a-2312ad7988e5",
                                    "name": "Infrastructure"
                                },
                                {
                                    "id": "831db9b9-ca90-41d1-aaa8-c78dba68a8a1",
                                    "name": "Development"
                                },
                                {
                                    "id": "84b37d3f-b580-47d2-bfcb-0bff208a43e3",
                                    "name": "Mobile"
                                },
                                {
                                    "id": "920c07f1-4dfa-474a-bef3-2c677378563c",
                                    "name": "Web"
                                },
                                {
                                    "id": "932bc65f-a7d9-4a78-9425-4c33f632b98d",
                                    "name": "Quality Assurance"
                                },
                                {
                                    "id": "9438dd14-088b-441c-a05c-12c121156f6c",
                                    "name": "Maintenance"
                                },
                                {
                                    "id": "961f303e-8bdb-41ee-90e3-52a09b10ba1f",
                                    "name": "Testing"
                                },
                                {
                                    "id": "9664d948-6cd4-4a8f-b229-a4805b8dfa1c",
                                    "name": "Innovation"
                                },
                                {
                                    "id": "99dcb34b-05e9-4433-8ca6-c5929a1efff4",
                                    "name": "Web"
                                },
                                {
                                    "id": "9bdac69b-25c7-4ea0-99d2-1fac32cca279",
                                    "name": "AI/ML"
                                },
                                {
                                    "id": "b182e00c-2199-48da-9627-8e1c0e157adb",
                                    "name": "Documentation"
                                },
                                {
                                    "id": "b3ff3cca-9394-400c-b522-f5b4e393adf2",
                                    "name": "Testing"
                                },
                                {
                                    "id": "b5237b68-8399-4e0d-a029-c3eecedf4413",
                                    "name": "AI/ML"
                                },
                                {
                                    "id": "b61ad47b-d9ac-45ec-8538-24553b4315f6",
                                    "name": "Cloud"
                                },
                                {
                                    "id": "b65cdd50-b8ec-4016-b620-8edb94e50f9a",
                                    "name": "Planning"
                                },
                                {
                                    "id": "b6a73cf5-4a41-4e22-8e30-306f4e74acbb",
                                    "name": "DevOps"
                                },
                                {
                                    "id": "b901195e-4ae3-456a-87d3-6bce5b4aacc6",
                                    "name": "Research"
                                },
                                {
                                    "id": "b99830ce-b7ba-4ce8-8ef1-d5b4a0a58112",
                                    "name": "Data Science"
                                },
                                {
                                    "id": "b9da4408-e228-46f5-9a2b-ba26da4cc23c",
                                    "name": "Data Science"
                                },
                                {
                                    "id": "ba588c95-6091-4b03-bf35-f325f593323c",
                                    "name": "AI/ML"
                                },
                                {
                                    "id": "c3e70129-82a7-4936-a8de-645a6d4420ed",
                                    "name": "Design"
                                },
                                {
                                    "id": "ca8ba2a4-8f33-415d-8582-bd65ad9fa0b8",
                                    "name": "Mobile"
                                },
                                {
                                    "id": "cc83b414-e6ac-4c72-a0cd-0d57fe69ceea",
                                    "name": "Analytics"
                                },
                                {
                                    "id": "d7b1e843-b696-4bb4-8cc0-cca493ff5d82",
                                    "name": "Cloud"
                                },
                                {
                                    "id": "e5b5765c-1c01-40df-a286-6d2bb7733a62",
                                    "name": "Web"
                                },
                                {
                                    "id": "ebc0f127-c9e2-4c4a-bab8-d131a515263a",
                                    "name": "Innovation"
                                },
                                {
                                    "id": "ef106c51-10f5-4bd9-a0b2-aeef37fc9a4d",
                                    "name": "DevOps"
                                },
                                {
                                    "id": "f7b968e2-4d2d-4662-abf3-09b8aafc6f38",
                                    "name": "Quality Assurance"
                                },
                                {
                                    "id": "f9837cc4-750e-4f67-baa4-97f17c2d3753",
                                    "name": "Infrastructure"
                                },
                                {
                                    "id": "f9a9f38f-ccfe-4bb9-b359-b94576f65479",
                                    "name": "Documentation"
                                },
                                {
                                    "id": "fc41f64a-e2d7-43c9-85c4-4b8bde9ac042",
                                    "name": "Infrastructure"
                                }
                            ]
                        },
                        "text/html": [
                            "<table>",
                            "<tr><th>id</th><th>name</th></tr>",
                            "<tr><td>0845e514-71c8-45e9-93a1-2081557f3063</td><td>Maintenance</td></tr>",
                            "<tr><td>10d13de6-2768-43a5-8c27-65f901660984</td><td>Web</td></tr>",
                            "<tr><td>12b4dad0-59e8-4fb6-b453-1cf4a1eeeff7</td><td>Data Science</td></tr>",
                            "<tr><td>135f6605-58b7-449a-b9df-fd9fa9c8c5ec</td><td>Documentation</td></tr>",
                            "<tr><td>14fbdc86-50fe-4984-b4d5-4c7763d0dcd4</td><td>Security</td></tr>",
                            "<tr><td>1a49c7f5-2455-4ed3-bbc7-effc6fee0b4a</td><td>Research</td></tr>",
                            "<tr><td>1b66da6d-d5f0-4e20-91ec-b29af8d839d1</td><td>Documentation</td></tr>",
                            "<tr><td>2070ac24-f466-428f-92ea-9194b92c814c</td><td>Development</td></tr>",
                            "<tr><td>2334b23d-9bd2-43f5-bb1d-be017a051249</td><td>Cloud</td></tr>",
                            "<tr><td>259dbb15-b613-4803-bd82-cfcf6f64fc20</td><td>Web</td></tr>",
                            "<tr><td>44145054-a866-4da9-8523-5730fc749bae</td><td>DevOps</td></tr>",
                            "<tr><td>44db2eac-6be1-4be9-bea1-a91c6ab27bdf</td><td>Development</td></tr>",
                            "<tr><td>4950fe1c-16bc-496e-a14d-28771b7c69b6</td><td>Design</td></tr>",
                            "<tr><td>4aa0082f-cdb1-4fc4-889c-85a518fd9d3e</td><td>Security</td></tr>",
                            "<tr><td>4ad75f05-f2e7-48fb-99e2-54d2dcac60ee</td><td>DevOps</td></tr>",
                            "<tr><td>5116394e-8dad-45fb-a1bb-02841438a549</td><td>Planning</td></tr>",
                            "<tr><td>57b6346d-c196-4725-8916-584399cba61b</td><td>DevOps</td></tr>",
                            "<tr><td>5ad73741-444a-4c64-ae1d-f8a1b0729915</td><td>DevOps</td></tr>",
                            "<tr><td>5c110c71-fe93-49ce-b560-5891eb73c68d</td><td>Mobile</td></tr>",
                            "<tr><td>5c6a9088-df13-4786-99f8-6893460a249b</td><td>Analytics</td></tr>",
                            "<tr><td>602ebff5-b59e-40b4-a1e6-abb14120622a</td><td>Infrastructure</td></tr>",
                            "<tr><td>62181ed0-914b-4944-a37d-09d5586e4050</td><td>AI/ML</td></tr>",
                            "<tr><td>62d17c3a-89e3-41cb-af86-619aa67cf569</td><td>Research</td></tr>",
                            "<tr><td>689779a2-6f26-4aa3-ac18-4777fb1797e2</td><td>Research</td></tr>",
                            "<tr><td>6a4236e6-c873-40ee-851e-c87191ce74bd</td><td>Cloud</td></tr>",
                            "<tr><td>6cab4b23-4a6f-4345-99f4-8c73b340cf15</td><td>Design</td></tr>",
                            "<tr><td>6f47d7ab-4092-476d-8375-119f068078be</td><td>AI/ML</td></tr>",
                            "<tr><td>7c73469d-d41c-45d7-b2b7-cb484c4e8509</td><td>Mobile</td></tr>",
                            "<tr><td>7c7cecec-4cd4-4ff7-8572-15c296b9bd9b</td><td>Maintenance</td></tr>",
                            "<tr><td>7fcfbdc9-3b32-4e51-82ef-bfcc2c6a9b98</td><td>Support</td></tr>",
                            "<tr><td>806ea282-2ed8-46be-97cd-4d66591a01f4</td><td>Innovation</td></tr>",
                            "<tr><td>82a1725f-f9ea-4f2f-8d4a-2312ad7988e5</td><td>Infrastructure</td></tr>",
                            "<tr><td>831db9b9-ca90-41d1-aaa8-c78dba68a8a1</td><td>Development</td></tr>",
                            "<tr><td>84b37d3f-b580-47d2-bfcb-0bff208a43e3</td><td>Mobile</td></tr>",
                            "<tr><td>920c07f1-4dfa-474a-bef3-2c677378563c</td><td>Web</td></tr>",
                            "<tr><td>932bc65f-a7d9-4a78-9425-4c33f632b98d</td><td>Quality Assurance</td></tr>",
                            "<tr><td>9438dd14-088b-441c-a05c-12c121156f6c</td><td>Maintenance</td></tr>",
                            "<tr><td>961f303e-8bdb-41ee-90e3-52a09b10ba1f</td><td>Testing</td></tr>",
                            "<tr><td>9664d948-6cd4-4a8f-b229-a4805b8dfa1c</td><td>Innovation</td></tr>",
                            "<tr><td>99dcb34b-05e9-4433-8ca6-c5929a1efff4</td><td>Web</td></tr>",
                            "<tr><td>9bdac69b-25c7-4ea0-99d2-1fac32cca279</td><td>AI/ML</td></tr>",
                            "<tr><td>b182e00c-2199-48da-9627-8e1c0e157adb</td><td>Documentation</td></tr>",
                            "<tr><td>b3ff3cca-9394-400c-b522-f5b4e393adf2</td><td>Testing</td></tr>",
                            "<tr><td>b5237b68-8399-4e0d-a029-c3eecedf4413</td><td>AI/ML</td></tr>",
                            "<tr><td>b61ad47b-d9ac-45ec-8538-24553b4315f6</td><td>Cloud</td></tr>",
                            "<tr><td>b65cdd50-b8ec-4016-b620-8edb94e50f9a</td><td>Planning</td></tr>",
                            "<tr><td>b6a73cf5-4a41-4e22-8e30-306f4e74acbb</td><td>DevOps</td></tr>",
                            "<tr><td>b901195e-4ae3-456a-87d3-6bce5b4aacc6</td><td>Research</td></tr>",
                            "<tr><td>b99830ce-b7ba-4ce8-8ef1-d5b4a0a58112</td><td>Data Science</td></tr>",
                            "<tr><td>b9da4408-e228-46f5-9a2b-ba26da4cc23c</td><td>Data Science</td></tr>",
                            "<tr><td>ba588c95-6091-4b03-bf35-f325f593323c</td><td>AI/ML</td></tr>",
                            "<tr><td>c3e70129-82a7-4936-a8de-645a6d4420ed</td><td>Design</td></tr>",
                            "<tr><td>ca8ba2a4-8f33-415d-8582-bd65ad9fa0b8</td><td>Mobile</td></tr>",
                            "<tr><td>cc83b414-e6ac-4c72-a0cd-0d57fe69ceea</td><td>Analytics</td></tr>",
                            "<tr><td>d7b1e843-b696-4bb4-8cc0-cca493ff5d82</td><td>Cloud</td></tr>",
                            "<tr><td>e5b5765c-1c01-40df-a286-6d2bb7733a62</td><td>Web</td></tr>",
                            "<tr><td>ebc0f127-c9e2-4c4a-bab8-d131a515263a</td><td>Innovation</td></tr>",
                            "<tr><td>ef106c51-10f5-4bd9-a0b2-aeef37fc9a4d</td><td>DevOps</td></tr>",
                            "<tr><td>f7b968e2-4d2d-4662-abf3-09b8aafc6f38</td><td>Quality Assurance</td></tr>",
                            "<tr><td>f9837cc4-750e-4f67-baa4-97f17c2d3753</td><td>Infrastructure</td></tr>",
                            "<tr><td>f9a9f38f-ccfe-4bb9-b359-b94576f65479</td><td>Documentation</td></tr>",
                            "<tr><td>fc41f64a-e2d7-43c9-85c4-4b8bde9ac042</td><td>Infrastructure</td></tr>",
                            "</table>"
                        ]
                    }
                }
            ],
            "execution_count": 28
        },
        {
            "cell_type": "code",
            "source": [
                "-- 2. Display tasks sorted by creation date plus the row number, then filter\n",
                "select title, Priority,\n",
                "    case \n",
                "        when Priority = 'High' Then 'act now'\n",
                "        when Priority = 'Medium' then 'check'\n",
                "        when Priority = 'Low' then 'dont concern'\n",
                "    end as label\n",
                "from Task"
            ],
            "metadata": {
                "language": "sql",
                "azdata_cell_guid": "8ce06922-53cb-40b6-8c3a-2b53904e865f"
            },
            "outputs": [
                {
                    "output_type": "display_data",
                    "data": {
                        "text/html": "(200 rows affected)"
                    },
                    "metadata": {}
                },
                {
                    "output_type": "display_data",
                    "data": {
                        "text/html": "Total execution time: 00:00:00.008"
                    },
                    "metadata": {}
                },
                {
                    "output_type": "execute_result",
                    "metadata": {},
                    "execution_count": 29,
                    "data": {
                        "application/vnd.dataresource+json": {
                            "schema": {
                                "fields": [
                                    {
                                        "name": "title"
                                    },
                                    {
                                        "name": "Priority"
                                    },
                                    {
                                        "name": "label"
                                    }
                                ]
                            },
                            "data": [
                                {
                                    "title": "Plan API",
                                    "Priority": "Low",
                                    "label": "dont concern"
                                },
                                {
                                    "title": "Research UI/UX",
                                    "Priority": "Medium",
                                    "label": "check"
                                },
                                {
                                    "title": "Document Database",
                                    "Priority": "Low",
                                    "label": "dont concern"
                                },
                                {
                                    "title": "Research Monitoring",
                                    "Priority": "Low",
                                    "label": "dont concern"
                                },
                                {
                                    "title": "Research Logging",
                                    "Priority": "High",
                                    "label": "act now"
                                },
                                {
                                    "title": "Validate Frontend",
                                    "Priority": "Medium",
                                    "label": "check"
                                },
                                {
                                    "title": "Test Testing",
                                    "Priority": "Low",
                                    "label": "dont concern"
                                },
                                {
                                    "title": "Develop Database",
                                    "Priority": "Low",
                                    "label": "dont concern"
                                },
                                {
                                    "title": "Debug Integration",
                                    "Priority": "Low",
                                    "label": "dont concern"
                                },
                                {
                                    "title": "Update Network",
                                    "Priority": "Low",
                                    "label": "dont concern"
                                },
                                {
                                    "title": "Research Backend",
                                    "Priority": "High",
                                    "label": "act now"
                                },
                                {
                                    "title": "Implement Analytics",
                                    "Priority": "Low",
                                    "label": "dont concern"
                                },
                                {
                                    "title": "Document UI/UX",
                                    "Priority": "Low",
                                    "label": "dont concern"
                                },
                                {
                                    "title": "Design Documentation",
                                    "Priority": "High",
                                    "label": "act now"
                                },
                                {
                                    "title": "Refactor UI/UX",
                                    "Priority": "High",
                                    "label": "act now"
                                },
                                {
                                    "title": "Develop Monitoring",
                                    "Priority": "Medium",
                                    "label": "check"
                                },
                                {
                                    "title": "Analyze Documentation",
                                    "Priority": "High",
                                    "label": "act now"
                                },
                                {
                                    "title": "Monitor Analytics",
                                    "Priority": "High",
                                    "label": "act now"
                                },
                                {
                                    "title": "Test Logging",
                                    "Priority": "Low",
                                    "label": "dont concern"
                                },
                                {
                                    "title": "Configure Integration",
                                    "Priority": "High",
                                    "label": "act now"
                                },
                                {
                                    "title": "Test Documentation",
                                    "Priority": "High",
                                    "label": "act now"
                                },
                                {
                                    "title": "Optimize Backend",
                                    "Priority": "High",
                                    "label": "act now"
                                },
                                {
                                    "title": "Optimize Security",
                                    "Priority": "Low",
                                    "label": "dont concern"
                                },
                                {
                                    "title": "Analyze Frontend",
                                    "Priority": "Medium",
                                    "label": "check"
                                },
                                {
                                    "title": "Maintain API",
                                    "Priority": "Low",
                                    "label": "dont concern"
                                },
                                {
                                    "title": "Validate Integration",
                                    "Priority": "High",
                                    "label": "act now"
                                },
                                {
                                    "title": "Design Authentication",
                                    "Priority": "Medium",
                                    "label": "check"
                                },
                                {
                                    "title": "Document Security",
                                    "Priority": "Low",
                                    "label": "dont concern"
                                },
                                {
                                    "title": "Develop Performance",
                                    "Priority": "Medium",
                                    "label": "check"
                                },
                                {
                                    "title": "Configure Security",
                                    "Priority": "Low",
                                    "label": "dont concern"
                                },
                                {
                                    "title": "Optimize Recovery",
                                    "Priority": "Medium",
                                    "label": "check"
                                },
                                {
                                    "title": "Create Documentation",
                                    "Priority": "Low",
                                    "label": "dont concern"
                                },
                                {
                                    "title": "Implement Documentation",
                                    "Priority": "Low",
                                    "label": "dont concern"
                                },
                                {
                                    "title": "Document Network",
                                    "Priority": "Low",
                                    "label": "dont concern"
                                },
                                {
                                    "title": "Develop Testing",
                                    "Priority": "Low",
                                    "label": "dont concern"
                                },
                                {
                                    "title": "Test API",
                                    "Priority": "Low",
                                    "label": "dont concern"
                                },
                                {
                                    "title": "Test Analytics",
                                    "Priority": "Medium",
                                    "label": "check"
                                },
                                {
                                    "title": "Deploy Documentation",
                                    "Priority": "High",
                                    "label": "act now"
                                },
                                {
                                    "title": "Debug Frontend",
                                    "Priority": "Low",
                                    "label": "dont concern"
                                },
                                {
                                    "title": "Enhance Infrastructure",
                                    "Priority": "High",
                                    "label": "act now"
                                },
                                {
                                    "title": "Optimize Infrastructure",
                                    "Priority": "Medium",
                                    "label": "check"
                                },
                                {
                                    "title": "Test Backup",
                                    "Priority": "High",
                                    "label": "act now"
                                },
                                {
                                    "title": "Refactor Documentation",
                                    "Priority": "High",
                                    "label": "act now"
                                },
                                {
                                    "title": "Implement Security",
                                    "Priority": "High",
                                    "label": "act now"
                                },
                                {
                                    "title": "Create Security",
                                    "Priority": "High",
                                    "label": "act now"
                                },
                                {
                                    "title": "Develop Logging",
                                    "Priority": "Low",
                                    "label": "dont concern"
                                },
                                {
                                    "title": "Validate Infrastructure",
                                    "Priority": "High",
                                    "label": "act now"
                                },
                                {
                                    "title": "Implement Performance",
                                    "Priority": "Low",
                                    "label": "dont concern"
                                },
                                {
                                    "title": "Implement UI/UX",
                                    "Priority": "High",
                                    "label": "act now"
                                },
                                {
                                    "title": "Design Performance",
                                    "Priority": "High",
                                    "label": "act now"
                                },
                                {
                                    "title": "Debug Monitoring",
                                    "Priority": "Medium",
                                    "label": "check"
                                },
                                {
                                    "title": "Deploy Network",
                                    "Priority": "High",
                                    "label": "act now"
                                },
                                {
                                    "title": "Research Documentation",
                                    "Priority": "Medium",
                                    "label": "check"
                                },
                                {
                                    "title": "Optimize Network",
                                    "Priority": "Medium",
                                    "label": "check"
                                },
                                {
                                    "title": "Monitor Network",
                                    "Priority": "Low",
                                    "label": "dont concern"
                                },
                                {
                                    "title": "Configure Authentication",
                                    "Priority": "Low",
                                    "label": "dont concern"
                                },
                                {
                                    "title": "Plan Cache",
                                    "Priority": "Medium",
                                    "label": "check"
                                },
                                {
                                    "title": "Refactor Frontend",
                                    "Priority": "Low",
                                    "label": "dont concern"
                                },
                                {
                                    "title": "Review Documentation",
                                    "Priority": "Low",
                                    "label": "dont concern"
                                },
                                {
                                    "title": "Debug API",
                                    "Priority": "Medium",
                                    "label": "check"
                                },
                                {
                                    "title": "Research API",
                                    "Priority": "Medium",
                                    "label": "check"
                                },
                                {
                                    "title": "Debug Performance",
                                    "Priority": "High",
                                    "label": "act now"
                                },
                                {
                                    "title": "Analyze UI/UX",
                                    "Priority": "Medium",
                                    "label": "check"
                                },
                                {
                                    "title": "Develop Backend",
                                    "Priority": "High",
                                    "label": "act now"
                                },
                                {
                                    "title": "Maintain Backend",
                                    "Priority": "High",
                                    "label": "act now"
                                },
                                {
                                    "title": "Plan Testing",
                                    "Priority": "High",
                                    "label": "act now"
                                },
                                {
                                    "title": "Refactor Authentication",
                                    "Priority": "High",
                                    "label": "act now"
                                },
                                {
                                    "title": "Document Backend",
                                    "Priority": "Low",
                                    "label": "dont concern"
                                },
                                {
                                    "title": "Update Storage",
                                    "Priority": "Medium",
                                    "label": "check"
                                },
                                {
                                    "title": "Update Testing",
                                    "Priority": "High",
                                    "label": "act now"
                                },
                                {
                                    "title": "Create Recovery",
                                    "Priority": "Low",
                                    "label": "dont concern"
                                },
                                {
                                    "title": "Create Integration",
                                    "Priority": "Medium",
                                    "label": "check"
                                },
                                {
                                    "title": "Plan Authentication",
                                    "Priority": "High",
                                    "label": "act now"
                                },
                                {
                                    "title": "Implement Logging",
                                    "Priority": "High",
                                    "label": "act now"
                                },
                                {
                                    "title": "Maintain Integration",
                                    "Priority": "Low",
                                    "label": "dont concern"
                                },
                                {
                                    "title": "Configure Documentation",
                                    "Priority": "Medium",
                                    "label": "check"
                                },
                                {
                                    "title": "Refactor Cache",
                                    "Priority": "High",
                                    "label": "act now"
                                },
                                {
                                    "title": "Monitor Backend",
                                    "Priority": "High",
                                    "label": "act now"
                                },
                                {
                                    "title": "Optimize UI/UX",
                                    "Priority": "Low",
                                    "label": "dont concern"
                                },
                                {
                                    "title": "Implement Authentication",
                                    "Priority": "Low",
                                    "label": "dont concern"
                                },
                                {
                                    "title": "Validate Storage",
                                    "Priority": "High",
                                    "label": "act now"
                                },
                                {
                                    "title": "Monitor Recovery",
                                    "Priority": "Low",
                                    "label": "dont concern"
                                },
                                {
                                    "title": "Implement Database",
                                    "Priority": "High",
                                    "label": "act now"
                                },
                                {
                                    "title": "Update Cache",
                                    "Priority": "Low",
                                    "label": "dont concern"
                                },
                                {
                                    "title": "Develop Security",
                                    "Priority": "Low",
                                    "label": "dont concern"
                                },
                                {
                                    "title": "Design Testing",
                                    "Priority": "High",
                                    "label": "act now"
                                },
                                {
                                    "title": "Review Analytics",
                                    "Priority": "High",
                                    "label": "act now"
                                },
                                {
                                    "title": "Validate Authentication",
                                    "Priority": "High",
                                    "label": "act now"
                                },
                                {
                                    "title": "Research Integration",
                                    "Priority": "Medium",
                                    "label": "check"
                                },
                                {
                                    "title": "Test Security",
                                    "Priority": "Low",
                                    "label": "dont concern"
                                },
                                {
                                    "title": "Update Authentication",
                                    "Priority": "High",
                                    "label": "act now"
                                },
                                {
                                    "title": "Monitor Performance",
                                    "Priority": "Medium",
                                    "label": "check"
                                },
                                {
                                    "title": "Validate Recovery",
                                    "Priority": "Low",
                                    "label": "dont concern"
                                },
                                {
                                    "title": "Enhance Authentication",
                                    "Priority": "Low",
                                    "label": "dont concern"
                                },
                                {
                                    "title": "Review Storage",
                                    "Priority": "High",
                                    "label": "act now"
                                },
                                {
                                    "title": "Debug Backend",
                                    "Priority": "High",
                                    "label": "act now"
                                },
                                {
                                    "title": "Optimize Storage",
                                    "Priority": "Low",
                                    "label": "dont concern"
                                },
                                {
                                    "title": "Monitor Monitoring",
                                    "Priority": "High",
                                    "label": "act now"
                                },
                                {
                                    "title": "Plan Logging",
                                    "Priority": "Medium",
                                    "label": "check"
                                },
                                {
                                    "title": "Refactor Network",
                                    "Priority": "Low",
                                    "label": "dont concern"
                                },
                                {
                                    "title": "Design Network",
                                    "Priority": "Low",
                                    "label": "dont concern"
                                },
                                {
                                    "title": "Refactor Logging",
                                    "Priority": "Medium",
                                    "label": "check"
                                },
                                {
                                    "title": "Update Monitoring",
                                    "Priority": "Low",
                                    "label": "dont concern"
                                },
                                {
                                    "title": "Design Recovery",
                                    "Priority": "High",
                                    "label": "act now"
                                },
                                {
                                    "title": "Plan Monitoring",
                                    "Priority": "Low",
                                    "label": "dont concern"
                                },
                                {
                                    "title": "Update UI/UX",
                                    "Priority": "Low",
                                    "label": "dont concern"
                                },
                                {
                                    "title": "Research Authentication",
                                    "Priority": "High",
                                    "label": "act now"
                                },
                                {
                                    "title": "Optimize Authentication",
                                    "Priority": "Medium",
                                    "label": "check"
                                },
                                {
                                    "title": "Implement Network",
                                    "Priority": "High",
                                    "label": "act now"
                                },
                                {
                                    "title": "Design Integration",
                                    "Priority": "Low",
                                    "label": "dont concern"
                                },
                                {
                                    "title": "Refactor Backup",
                                    "Priority": "Low",
                                    "label": "dont concern"
                                },
                                {
                                    "title": "Refactor Security",
                                    "Priority": "High",
                                    "label": "act now"
                                },
                                {
                                    "title": "Document Monitoring",
                                    "Priority": "Medium",
                                    "label": "check"
                                },
                                {
                                    "title": "Deploy Logging",
                                    "Priority": "Medium",
                                    "label": "check"
                                },
                                {
                                    "title": "Analyze Logging",
                                    "Priority": "Low",
                                    "label": "dont concern"
                                },
                                {
                                    "title": "Maintain Logging",
                                    "Priority": "Medium",
                                    "label": "check"
                                },
                                {
                                    "title": "Validate Backup",
                                    "Priority": "Medium",
                                    "label": "check"
                                },
                                {
                                    "title": "Validate Security",
                                    "Priority": "Medium",
                                    "label": "check"
                                },
                                {
                                    "title": "Refactor Integration",
                                    "Priority": "Medium",
                                    "label": "check"
                                },
                                {
                                    "title": "Deploy Infrastructure",
                                    "Priority": "Medium",
                                    "label": "check"
                                },
                                {
                                    "title": "Create UI/UX",
                                    "Priority": "Low",
                                    "label": "dont concern"
                                },
                                {
                                    "title": "Optimize Database",
                                    "Priority": "Low",
                                    "label": "dont concern"
                                },
                                {
                                    "title": "Test Network",
                                    "Priority": "Low",
                                    "label": "dont concern"
                                },
                                {
                                    "title": "Review Integration",
                                    "Priority": "Medium",
                                    "label": "check"
                                },
                                {
                                    "title": "Create Backend",
                                    "Priority": "Medium",
                                    "label": "check"
                                },
                                {
                                    "title": "Deploy API",
                                    "Priority": "Medium",
                                    "label": "check"
                                },
                                {
                                    "title": "Maintain Storage",
                                    "Priority": "Low",
                                    "label": "dont concern"
                                },
                                {
                                    "title": "Configure Analytics",
                                    "Priority": "High",
                                    "label": "act now"
                                },
                                {
                                    "title": "Monitor Cache",
                                    "Priority": "Medium",
                                    "label": "check"
                                },
                                {
                                    "title": "Enhance Documentation",
                                    "Priority": "Medium",
                                    "label": "check"
                                },
                                {
                                    "title": "Enhance Recovery",
                                    "Priority": "High",
                                    "label": "act now"
                                },
                                {
                                    "title": "Create Infrastructure",
                                    "Priority": "High",
                                    "label": "act now"
                                },
                                {
                                    "title": "Analyze Backend",
                                    "Priority": "Low",
                                    "label": "dont concern"
                                },
                                {
                                    "title": "Deploy Performance",
                                    "Priority": "High",
                                    "label": "act now"
                                },
                                {
                                    "title": "Refactor Recovery",
                                    "Priority": "High",
                                    "label": "act now"
                                },
                                {
                                    "title": "Deploy Storage",
                                    "Priority": "High",
                                    "label": "act now"
                                },
                                {
                                    "title": "Test Monitoring",
                                    "Priority": "Medium",
                                    "label": "check"
                                },
                                {
                                    "title": "Review Recovery",
                                    "Priority": "Medium",
                                    "label": "check"
                                },
                                {
                                    "title": "Design Storage",
                                    "Priority": "Medium",
                                    "label": "check"
                                },
                                {
                                    "title": "Create Backup",
                                    "Priority": "Medium",
                                    "label": "check"
                                },
                                {
                                    "title": "Deploy Testing",
                                    "Priority": "Medium",
                                    "label": "check"
                                },
                                {
                                    "title": "Validate Testing",
                                    "Priority": "High",
                                    "label": "act now"
                                },
                                {
                                    "title": "Validate Documentation",
                                    "Priority": "Low",
                                    "label": "dont concern"
                                },
                                {
                                    "title": "Refactor Backend",
                                    "Priority": "High",
                                    "label": "act now"
                                },
                                {
                                    "title": "Review Backend",
                                    "Priority": "Low",
                                    "label": "dont concern"
                                },
                                {
                                    "title": "Develop Authentication",
                                    "Priority": "Medium",
                                    "label": "check"
                                },
                                {
                                    "title": "Debug Documentation",
                                    "Priority": "High",
                                    "label": "act now"
                                },
                                {
                                    "title": "Research Infrastructure",
                                    "Priority": "High",
                                    "label": "act now"
                                },
                                {
                                    "title": "Plan Network",
                                    "Priority": "Low",
                                    "label": "dont concern"
                                },
                                {
                                    "title": "Review Security",
                                    "Priority": "Medium",
                                    "label": "check"
                                },
                                {
                                    "title": "Develop Storage",
                                    "Priority": "High",
                                    "label": "act now"
                                },
                                {
                                    "title": "Configure Performance",
                                    "Priority": "Medium",
                                    "label": "check"
                                },
                                {
                                    "title": "Validate Database",
                                    "Priority": "Medium",
                                    "label": "check"
                                },
                                {
                                    "title": "Plan Documentation",
                                    "Priority": "High",
                                    "label": "act now"
                                },
                                {
                                    "title": "Configure Storage",
                                    "Priority": "High",
                                    "label": "act now"
                                },
                                {
                                    "title": "Enhance Network",
                                    "Priority": "Low",
                                    "label": "dont concern"
                                },
                                {
                                    "title": "Deploy Authentication",
                                    "Priority": "Low",
                                    "label": "dont concern"
                                },
                                {
                                    "title": "Deploy Frontend",
                                    "Priority": "Low",
                                    "label": "dont concern"
                                },
                                {
                                    "title": "Design Logging",
                                    "Priority": "High",
                                    "label": "act now"
                                },
                                {
                                    "title": "Analyze Storage",
                                    "Priority": "Medium",
                                    "label": "check"
                                },
                                {
                                    "title": "Review Backup",
                                    "Priority": "Medium",
                                    "label": "check"
                                },
                                {
                                    "title": "Monitor Integration",
                                    "Priority": "Low",
                                    "label": "dont concern"
                                },
                                {
                                    "title": "Debug Recovery",
                                    "Priority": "Low",
                                    "label": "dont concern"
                                },
                                {
                                    "title": "Refactor API",
                                    "Priority": "High",
                                    "label": "act now"
                                },
                                {
                                    "title": "Maintain Performance",
                                    "Priority": "Low",
                                    "label": "dont concern"
                                },
                                {
                                    "title": "Monitor Backup",
                                    "Priority": "Medium",
                                    "label": "check"
                                },
                                {
                                    "title": "Enhance Monitoring",
                                    "Priority": "High",
                                    "label": "act now"
                                },
                                {
                                    "title": "Document Analytics",
                                    "Priority": "Medium",
                                    "label": "check"
                                },
                                {
                                    "title": "Implement Infrastructure",
                                    "Priority": "High",
                                    "label": "act now"
                                },
                                {
                                    "title": "Update Backend",
                                    "Priority": "High",
                                    "label": "act now"
                                },
                                {
                                    "title": "Update Database",
                                    "Priority": "High",
                                    "label": "act now"
                                },
                                {
                                    "title": "Test Cache",
                                    "Priority": "High",
                                    "label": "act now"
                                },
                                {
                                    "title": "Analyze Cache",
                                    "Priority": "Medium",
                                    "label": "check"
                                },
                                {
                                    "title": "Document Performance",
                                    "Priority": "Low",
                                    "label": "dont concern"
                                },
                                {
                                    "title": "Analyze Analytics",
                                    "Priority": "Low",
                                    "label": "dont concern"
                                },
                                {
                                    "title": "Research Recovery",
                                    "Priority": "High",
                                    "label": "act now"
                                },
                                {
                                    "title": "Deploy UI/UX",
                                    "Priority": "Medium",
                                    "label": "check"
                                },
                                {
                                    "title": "Develop Network",
                                    "Priority": "Medium",
                                    "label": "check"
                                },
                                {
                                    "title": "Document Recovery",
                                    "Priority": "Medium",
                                    "label": "check"
                                },
                                {
                                    "title": "Review Infrastructure",
                                    "Priority": "Low",
                                    "label": "dont concern"
                                },
                                {
                                    "title": "Review Monitoring",
                                    "Priority": "Low",
                                    "label": "dont concern"
                                },
                                {
                                    "title": "Plan Storage",
                                    "Priority": "Medium",
                                    "label": "check"
                                },
                                {
                                    "title": "Review API",
                                    "Priority": "High",
                                    "label": "act now"
                                },
                                {
                                    "title": "Create Frontend",
                                    "Priority": "High",
                                    "label": "act now"
                                },
                                {
                                    "title": "Optimize Testing",
                                    "Priority": "Medium",
                                    "label": "check"
                                },
                                {
                                    "title": "Refactor Storage",
                                    "Priority": "Low",
                                    "label": "dont concern"
                                },
                                {
                                    "title": "Design Infrastructure",
                                    "Priority": "High",
                                    "label": "act now"
                                },
                                {
                                    "title": "Design Backup",
                                    "Priority": "Medium",
                                    "label": "check"
                                },
                                {
                                    "title": "Enhance UI/UX",
                                    "Priority": "Low",
                                    "label": "dont concern"
                                },
                                {
                                    "title": "Optimize API",
                                    "Priority": "Low",
                                    "label": "dont concern"
                                },
                                {
                                    "title": "Optimize Documentation",
                                    "Priority": "High",
                                    "label": "act now"
                                },
                                {
                                    "title": "Design Database",
                                    "Priority": "Medium",
                                    "label": "check"
                                },
                                {
                                    "title": "Enhance Security",
                                    "Priority": "Low",
                                    "label": "dont concern"
                                },
                                {
                                    "title": "Enhance Performance",
                                    "Priority": "Medium",
                                    "label": "check"
                                },
                                {
                                    "title": "Design Security",
                                    "Priority": "High",
                                    "label": "act now"
                                },
                                {
                                    "title": "Optimize Cache",
                                    "Priority": "Low",
                                    "label": "dont concern"
                                },
                                {
                                    "title": "Configure Network",
                                    "Priority": "High",
                                    "label": "act now"
                                },
                                {
                                    "title": "Create Authentication",
                                    "Priority": "Low",
                                    "label": "dont concern"
                                },
                                {
                                    "title": "Develop API",
                                    "Priority": "High",
                                    "label": "act now"
                                },
                                {
                                    "title": "Develop Backup",
                                    "Priority": "Medium",
                                    "label": "check"
                                }
                            ]
                        },
                        "text/html": [
                            "<table>",
                            "<tr><th>title</th><th>Priority</th><th>label</th></tr>",
                            "<tr><td>Plan API</td><td>Low</td><td>dont concern</td></tr>",
                            "<tr><td>Research UI/UX</td><td>Medium</td><td>check</td></tr>",
                            "<tr><td>Document Database</td><td>Low</td><td>dont concern</td></tr>",
                            "<tr><td>Research Monitoring</td><td>Low</td><td>dont concern</td></tr>",
                            "<tr><td>Research Logging</td><td>High</td><td>act now</td></tr>",
                            "<tr><td>Validate Frontend</td><td>Medium</td><td>check</td></tr>",
                            "<tr><td>Test Testing</td><td>Low</td><td>dont concern</td></tr>",
                            "<tr><td>Develop Database</td><td>Low</td><td>dont concern</td></tr>",
                            "<tr><td>Debug Integration</td><td>Low</td><td>dont concern</td></tr>",
                            "<tr><td>Update Network</td><td>Low</td><td>dont concern</td></tr>",
                            "<tr><td>Research Backend</td><td>High</td><td>act now</td></tr>",
                            "<tr><td>Implement Analytics</td><td>Low</td><td>dont concern</td></tr>",
                            "<tr><td>Document UI/UX</td><td>Low</td><td>dont concern</td></tr>",
                            "<tr><td>Design Documentation</td><td>High</td><td>act now</td></tr>",
                            "<tr><td>Refactor UI/UX</td><td>High</td><td>act now</td></tr>",
                            "<tr><td>Develop Monitoring</td><td>Medium</td><td>check</td></tr>",
                            "<tr><td>Analyze Documentation</td><td>High</td><td>act now</td></tr>",
                            "<tr><td>Monitor Analytics</td><td>High</td><td>act now</td></tr>",
                            "<tr><td>Test Logging</td><td>Low</td><td>dont concern</td></tr>",
                            "<tr><td>Configure Integration</td><td>High</td><td>act now</td></tr>",
                            "<tr><td>Test Documentation</td><td>High</td><td>act now</td></tr>",
                            "<tr><td>Optimize Backend</td><td>High</td><td>act now</td></tr>",
                            "<tr><td>Optimize Security</td><td>Low</td><td>dont concern</td></tr>",
                            "<tr><td>Analyze Frontend</td><td>Medium</td><td>check</td></tr>",
                            "<tr><td>Maintain API</td><td>Low</td><td>dont concern</td></tr>",
                            "<tr><td>Validate Integration</td><td>High</td><td>act now</td></tr>",
                            "<tr><td>Design Authentication</td><td>Medium</td><td>check</td></tr>",
                            "<tr><td>Document Security</td><td>Low</td><td>dont concern</td></tr>",
                            "<tr><td>Develop Performance</td><td>Medium</td><td>check</td></tr>",
                            "<tr><td>Configure Security</td><td>Low</td><td>dont concern</td></tr>",
                            "<tr><td>Optimize Recovery</td><td>Medium</td><td>check</td></tr>",
                            "<tr><td>Create Documentation</td><td>Low</td><td>dont concern</td></tr>",
                            "<tr><td>Implement Documentation</td><td>Low</td><td>dont concern</td></tr>",
                            "<tr><td>Document Network</td><td>Low</td><td>dont concern</td></tr>",
                            "<tr><td>Develop Testing</td><td>Low</td><td>dont concern</td></tr>",
                            "<tr><td>Test API</td><td>Low</td><td>dont concern</td></tr>",
                            "<tr><td>Test Analytics</td><td>Medium</td><td>check</td></tr>",
                            "<tr><td>Deploy Documentation</td><td>High</td><td>act now</td></tr>",
                            "<tr><td>Debug Frontend</td><td>Low</td><td>dont concern</td></tr>",
                            "<tr><td>Enhance Infrastructure</td><td>High</td><td>act now</td></tr>",
                            "<tr><td>Optimize Infrastructure</td><td>Medium</td><td>check</td></tr>",
                            "<tr><td>Test Backup</td><td>High</td><td>act now</td></tr>",
                            "<tr><td>Refactor Documentation</td><td>High</td><td>act now</td></tr>",
                            "<tr><td>Implement Security</td><td>High</td><td>act now</td></tr>",
                            "<tr><td>Create Security</td><td>High</td><td>act now</td></tr>",
                            "<tr><td>Develop Logging</td><td>Low</td><td>dont concern</td></tr>",
                            "<tr><td>Validate Infrastructure</td><td>High</td><td>act now</td></tr>",
                            "<tr><td>Implement Performance</td><td>Low</td><td>dont concern</td></tr>",
                            "<tr><td>Implement UI/UX</td><td>High</td><td>act now</td></tr>",
                            "<tr><td>Design Performance</td><td>High</td><td>act now</td></tr>",
                            "<tr><td>Debug Monitoring</td><td>Medium</td><td>check</td></tr>",
                            "<tr><td>Deploy Network</td><td>High</td><td>act now</td></tr>",
                            "<tr><td>Research Documentation</td><td>Medium</td><td>check</td></tr>",
                            "<tr><td>Optimize Network</td><td>Medium</td><td>check</td></tr>",
                            "<tr><td>Monitor Network</td><td>Low</td><td>dont concern</td></tr>",
                            "<tr><td>Configure Authentication</td><td>Low</td><td>dont concern</td></tr>",
                            "<tr><td>Plan Cache</td><td>Medium</td><td>check</td></tr>",
                            "<tr><td>Refactor Frontend</td><td>Low</td><td>dont concern</td></tr>",
                            "<tr><td>Review Documentation</td><td>Low</td><td>dont concern</td></tr>",
                            "<tr><td>Debug API</td><td>Medium</td><td>check</td></tr>",
                            "<tr><td>Research API</td><td>Medium</td><td>check</td></tr>",
                            "<tr><td>Debug Performance</td><td>High</td><td>act now</td></tr>",
                            "<tr><td>Analyze UI/UX</td><td>Medium</td><td>check</td></tr>",
                            "<tr><td>Develop Backend</td><td>High</td><td>act now</td></tr>",
                            "<tr><td>Maintain Backend</td><td>High</td><td>act now</td></tr>",
                            "<tr><td>Plan Testing</td><td>High</td><td>act now</td></tr>",
                            "<tr><td>Refactor Authentication</td><td>High</td><td>act now</td></tr>",
                            "<tr><td>Document Backend</td><td>Low</td><td>dont concern</td></tr>",
                            "<tr><td>Update Storage</td><td>Medium</td><td>check</td></tr>",
                            "<tr><td>Update Testing</td><td>High</td><td>act now</td></tr>",
                            "<tr><td>Create Recovery</td><td>Low</td><td>dont concern</td></tr>",
                            "<tr><td>Create Integration</td><td>Medium</td><td>check</td></tr>",
                            "<tr><td>Plan Authentication</td><td>High</td><td>act now</td></tr>",
                            "<tr><td>Implement Logging</td><td>High</td><td>act now</td></tr>",
                            "<tr><td>Maintain Integration</td><td>Low</td><td>dont concern</td></tr>",
                            "<tr><td>Configure Documentation</td><td>Medium</td><td>check</td></tr>",
                            "<tr><td>Refactor Cache</td><td>High</td><td>act now</td></tr>",
                            "<tr><td>Monitor Backend</td><td>High</td><td>act now</td></tr>",
                            "<tr><td>Optimize UI/UX</td><td>Low</td><td>dont concern</td></tr>",
                            "<tr><td>Implement Authentication</td><td>Low</td><td>dont concern</td></tr>",
                            "<tr><td>Validate Storage</td><td>High</td><td>act now</td></tr>",
                            "<tr><td>Monitor Recovery</td><td>Low</td><td>dont concern</td></tr>",
                            "<tr><td>Implement Database</td><td>High</td><td>act now</td></tr>",
                            "<tr><td>Update Cache</td><td>Low</td><td>dont concern</td></tr>",
                            "<tr><td>Develop Security</td><td>Low</td><td>dont concern</td></tr>",
                            "<tr><td>Design Testing</td><td>High</td><td>act now</td></tr>",
                            "<tr><td>Review Analytics</td><td>High</td><td>act now</td></tr>",
                            "<tr><td>Validate Authentication</td><td>High</td><td>act now</td></tr>",
                            "<tr><td>Research Integration</td><td>Medium</td><td>check</td></tr>",
                            "<tr><td>Test Security</td><td>Low</td><td>dont concern</td></tr>",
                            "<tr><td>Update Authentication</td><td>High</td><td>act now</td></tr>",
                            "<tr><td>Monitor Performance</td><td>Medium</td><td>check</td></tr>",
                            "<tr><td>Validate Recovery</td><td>Low</td><td>dont concern</td></tr>",
                            "<tr><td>Enhance Authentication</td><td>Low</td><td>dont concern</td></tr>",
                            "<tr><td>Review Storage</td><td>High</td><td>act now</td></tr>",
                            "<tr><td>Debug Backend</td><td>High</td><td>act now</td></tr>",
                            "<tr><td>Optimize Storage</td><td>Low</td><td>dont concern</td></tr>",
                            "<tr><td>Monitor Monitoring</td><td>High</td><td>act now</td></tr>",
                            "<tr><td>Plan Logging</td><td>Medium</td><td>check</td></tr>",
                            "<tr><td>Refactor Network</td><td>Low</td><td>dont concern</td></tr>",
                            "<tr><td>Design Network</td><td>Low</td><td>dont concern</td></tr>",
                            "<tr><td>Refactor Logging</td><td>Medium</td><td>check</td></tr>",
                            "<tr><td>Update Monitoring</td><td>Low</td><td>dont concern</td></tr>",
                            "<tr><td>Design Recovery</td><td>High</td><td>act now</td></tr>",
                            "<tr><td>Plan Monitoring</td><td>Low</td><td>dont concern</td></tr>",
                            "<tr><td>Update UI/UX</td><td>Low</td><td>dont concern</td></tr>",
                            "<tr><td>Research Authentication</td><td>High</td><td>act now</td></tr>",
                            "<tr><td>Optimize Authentication</td><td>Medium</td><td>check</td></tr>",
                            "<tr><td>Implement Network</td><td>High</td><td>act now</td></tr>",
                            "<tr><td>Design Integration</td><td>Low</td><td>dont concern</td></tr>",
                            "<tr><td>Refactor Backup</td><td>Low</td><td>dont concern</td></tr>",
                            "<tr><td>Refactor Security</td><td>High</td><td>act now</td></tr>",
                            "<tr><td>Document Monitoring</td><td>Medium</td><td>check</td></tr>",
                            "<tr><td>Deploy Logging</td><td>Medium</td><td>check</td></tr>",
                            "<tr><td>Analyze Logging</td><td>Low</td><td>dont concern</td></tr>",
                            "<tr><td>Maintain Logging</td><td>Medium</td><td>check</td></tr>",
                            "<tr><td>Validate Backup</td><td>Medium</td><td>check</td></tr>",
                            "<tr><td>Validate Security</td><td>Medium</td><td>check</td></tr>",
                            "<tr><td>Refactor Integration</td><td>Medium</td><td>check</td></tr>",
                            "<tr><td>Deploy Infrastructure</td><td>Medium</td><td>check</td></tr>",
                            "<tr><td>Create UI/UX</td><td>Low</td><td>dont concern</td></tr>",
                            "<tr><td>Optimize Database</td><td>Low</td><td>dont concern</td></tr>",
                            "<tr><td>Test Network</td><td>Low</td><td>dont concern</td></tr>",
                            "<tr><td>Review Integration</td><td>Medium</td><td>check</td></tr>",
                            "<tr><td>Create Backend</td><td>Medium</td><td>check</td></tr>",
                            "<tr><td>Deploy API</td><td>Medium</td><td>check</td></tr>",
                            "<tr><td>Maintain Storage</td><td>Low</td><td>dont concern</td></tr>",
                            "<tr><td>Configure Analytics</td><td>High</td><td>act now</td></tr>",
                            "<tr><td>Monitor Cache</td><td>Medium</td><td>check</td></tr>",
                            "<tr><td>Enhance Documentation</td><td>Medium</td><td>check</td></tr>",
                            "<tr><td>Enhance Recovery</td><td>High</td><td>act now</td></tr>",
                            "<tr><td>Create Infrastructure</td><td>High</td><td>act now</td></tr>",
                            "<tr><td>Analyze Backend</td><td>Low</td><td>dont concern</td></tr>",
                            "<tr><td>Deploy Performance</td><td>High</td><td>act now</td></tr>",
                            "<tr><td>Refactor Recovery</td><td>High</td><td>act now</td></tr>",
                            "<tr><td>Deploy Storage</td><td>High</td><td>act now</td></tr>",
                            "<tr><td>Test Monitoring</td><td>Medium</td><td>check</td></tr>",
                            "<tr><td>Review Recovery</td><td>Medium</td><td>check</td></tr>",
                            "<tr><td>Design Storage</td><td>Medium</td><td>check</td></tr>",
                            "<tr><td>Create Backup</td><td>Medium</td><td>check</td></tr>",
                            "<tr><td>Deploy Testing</td><td>Medium</td><td>check</td></tr>",
                            "<tr><td>Validate Testing</td><td>High</td><td>act now</td></tr>",
                            "<tr><td>Validate Documentation</td><td>Low</td><td>dont concern</td></tr>",
                            "<tr><td>Refactor Backend</td><td>High</td><td>act now</td></tr>",
                            "<tr><td>Review Backend</td><td>Low</td><td>dont concern</td></tr>",
                            "<tr><td>Develop Authentication</td><td>Medium</td><td>check</td></tr>",
                            "<tr><td>Debug Documentation</td><td>High</td><td>act now</td></tr>",
                            "<tr><td>Research Infrastructure</td><td>High</td><td>act now</td></tr>",
                            "<tr><td>Plan Network</td><td>Low</td><td>dont concern</td></tr>",
                            "<tr><td>Review Security</td><td>Medium</td><td>check</td></tr>",
                            "<tr><td>Develop Storage</td><td>High</td><td>act now</td></tr>",
                            "<tr><td>Configure Performance</td><td>Medium</td><td>check</td></tr>",
                            "<tr><td>Validate Database</td><td>Medium</td><td>check</td></tr>",
                            "<tr><td>Plan Documentation</td><td>High</td><td>act now</td></tr>",
                            "<tr><td>Configure Storage</td><td>High</td><td>act now</td></tr>",
                            "<tr><td>Enhance Network</td><td>Low</td><td>dont concern</td></tr>",
                            "<tr><td>Deploy Authentication</td><td>Low</td><td>dont concern</td></tr>",
                            "<tr><td>Deploy Frontend</td><td>Low</td><td>dont concern</td></tr>",
                            "<tr><td>Design Logging</td><td>High</td><td>act now</td></tr>",
                            "<tr><td>Analyze Storage</td><td>Medium</td><td>check</td></tr>",
                            "<tr><td>Review Backup</td><td>Medium</td><td>check</td></tr>",
                            "<tr><td>Monitor Integration</td><td>Low</td><td>dont concern</td></tr>",
                            "<tr><td>Debug Recovery</td><td>Low</td><td>dont concern</td></tr>",
                            "<tr><td>Refactor API</td><td>High</td><td>act now</td></tr>",
                            "<tr><td>Maintain Performance</td><td>Low</td><td>dont concern</td></tr>",
                            "<tr><td>Monitor Backup</td><td>Medium</td><td>check</td></tr>",
                            "<tr><td>Enhance Monitoring</td><td>High</td><td>act now</td></tr>",
                            "<tr><td>Document Analytics</td><td>Medium</td><td>check</td></tr>",
                            "<tr><td>Implement Infrastructure</td><td>High</td><td>act now</td></tr>",
                            "<tr><td>Update Backend</td><td>High</td><td>act now</td></tr>",
                            "<tr><td>Update Database</td><td>High</td><td>act now</td></tr>",
                            "<tr><td>Test Cache</td><td>High</td><td>act now</td></tr>",
                            "<tr><td>Analyze Cache</td><td>Medium</td><td>check</td></tr>",
                            "<tr><td>Document Performance</td><td>Low</td><td>dont concern</td></tr>",
                            "<tr><td>Analyze Analytics</td><td>Low</td><td>dont concern</td></tr>",
                            "<tr><td>Research Recovery</td><td>High</td><td>act now</td></tr>",
                            "<tr><td>Deploy UI/UX</td><td>Medium</td><td>check</td></tr>",
                            "<tr><td>Develop Network</td><td>Medium</td><td>check</td></tr>",
                            "<tr><td>Document Recovery</td><td>Medium</td><td>check</td></tr>",
                            "<tr><td>Review Infrastructure</td><td>Low</td><td>dont concern</td></tr>",
                            "<tr><td>Review Monitoring</td><td>Low</td><td>dont concern</td></tr>",
                            "<tr><td>Plan Storage</td><td>Medium</td><td>check</td></tr>",
                            "<tr><td>Review API</td><td>High</td><td>act now</td></tr>",
                            "<tr><td>Create Frontend</td><td>High</td><td>act now</td></tr>",
                            "<tr><td>Optimize Testing</td><td>Medium</td><td>check</td></tr>",
                            "<tr><td>Refactor Storage</td><td>Low</td><td>dont concern</td></tr>",
                            "<tr><td>Design Infrastructure</td><td>High</td><td>act now</td></tr>",
                            "<tr><td>Design Backup</td><td>Medium</td><td>check</td></tr>",
                            "<tr><td>Enhance UI/UX</td><td>Low</td><td>dont concern</td></tr>",
                            "<tr><td>Optimize API</td><td>Low</td><td>dont concern</td></tr>",
                            "<tr><td>Optimize Documentation</td><td>High</td><td>act now</td></tr>",
                            "<tr><td>Design Database</td><td>Medium</td><td>check</td></tr>",
                            "<tr><td>Enhance Security</td><td>Low</td><td>dont concern</td></tr>",
                            "<tr><td>Enhance Performance</td><td>Medium</td><td>check</td></tr>",
                            "<tr><td>Design Security</td><td>High</td><td>act now</td></tr>",
                            "<tr><td>Optimize Cache</td><td>Low</td><td>dont concern</td></tr>",
                            "<tr><td>Configure Network</td><td>High</td><td>act now</td></tr>",
                            "<tr><td>Create Authentication</td><td>Low</td><td>dont concern</td></tr>",
                            "<tr><td>Develop API</td><td>High</td><td>act now</td></tr>",
                            "<tr><td>Develop Backup</td><td>Medium</td><td>check</td></tr>",
                            "</table>"
                        ]
                    }
                }
            ],
            "execution_count": 29
        },
        {
            "cell_type": "code",
            "source": [
                "-- 3. Find users who have been assigned the maximum number of tasks\n",
                "select u.ID,\n",
                "    u.Name,\n",
                "    TaskCount\n",
                "from ( \n",
                "    select tu.userid, count(tu.taskid) as taskcount\n",
                "    from taskuser tu \n",
                "    group by tu.Userid\n",
                ") userTaskCounts\n",
                "INNER JOIN Users u ON userTaskCounts.UserID = u.ID\n",
                "WHERE TaskCount = (\n",
                "    SELECT MAX(TaskCount)\n",
                "    FROM (\n",
                "        SELECT \n",
                "            COUNT(tu.TaskID) AS TaskCount\n",
                "        FROM TaskUser tu\n",
                "        GROUP BY tu.UserID\n",
                "    ) MaxCounts\n",
                ");\n",
                ""
            ],
            "metadata": {
                "language": "sql",
                "azdata_cell_guid": "8ef54dfb-dcd8-435e-a359-4934e6efc1cb"
            },
            "outputs": [
                {
                    "output_type": "display_data",
                    "data": {
                        "text/html": "(1 row affected)"
                    },
                    "metadata": {}
                },
                {
                    "output_type": "display_data",
                    "data": {
                        "text/html": "Total execution time: 00:00:00.020"
                    },
                    "metadata": {}
                },
                {
                    "output_type": "execute_result",
                    "metadata": {},
                    "execution_count": 37,
                    "data": {
                        "application/vnd.dataresource+json": {
                            "schema": {
                                "fields": [
                                    {
                                        "name": "ID"
                                    },
                                    {
                                        "name": "Name"
                                    },
                                    {
                                        "name": "TaskCount"
                                    }
                                ]
                            },
                            "data": [
                                {
                                    "ID": "754079b3-10c3-42dc-b3e6-9988ec3685aa",
                                    "Name": "Patricia Williams",
                                    "TaskCount": "6"
                                }
                            ]
                        },
                        "text/html": [
                            "<table>",
                            "<tr><th>ID</th><th>Name</th><th>TaskCount</th></tr>",
                            "<tr><td>754079b3-10c3-42dc-b3e6-9988ec3685aa</td><td>Patricia Williams</td><td>6</td></tr>",
                            "</table>"
                        ]
                    }
                }
            ],
            "execution_count": 37
        },
        {
            "cell_type": "code",
            "source": [
                "-- 4. Using a CTE to find the most recent tasks\n",
                "WITH RecentTasks AS (\n",
                "    SELECT \n",
                "        ID, \n",
                "        Title, \n",
                "        CreatedAt,\n",
                "        ROW_NUMBER() OVER (ORDER BY CreatedAt) AS RowNum\n",
                "    FROM Task\n",
                ")\n",
                "SELECT * FROM RecentTasks WHERE RowNum <= 5;"
            ],
            "metadata": {
                "language": "sql",
                "azdata_cell_guid": "fca785c5-95eb-464d-befd-b8ad39a5bf8b"
            },
            "outputs": [
                {
                    "output_type": "display_data",
                    "data": {
                        "text/html": "(5 rows affected)"
                    },
                    "metadata": {}
                },
                {
                    "output_type": "display_data",
                    "data": {
                        "text/html": "Total execution time: 00:00:00.006"
                    },
                    "metadata": {}
                },
                {
                    "output_type": "execute_result",
                    "metadata": {},
                    "execution_count": 40,
                    "data": {
                        "application/vnd.dataresource+json": {
                            "schema": {
                                "fields": [
                                    {
                                        "name": "ID"
                                    },
                                    {
                                        "name": "Title"
                                    },
                                    {
                                        "name": "CreatedAt"
                                    },
                                    {
                                        "name": "RowNum"
                                    }
                                ]
                            },
                            "data": [
                                {
                                    "ID": "00da7d81-5b9f-483c-a26c-ad2ec4fb8e36",
                                    "Title": "Plan API",
                                    "CreatedAt": "2025-01-14 11:55:29.000",
                                    "RowNum": "1"
                                },
                                {
                                    "ID": "01ac09a5-9ed8-4a42-adea-b39a4bdd7936",
                                    "Title": "Research UI/UX",
                                    "CreatedAt": "2025-01-14 11:55:29.000",
                                    "RowNum": "2"
                                },
                                {
                                    "ID": "0291e6b5-5a7f-41b7-9534-0e871508f864",
                                    "Title": "Document Database",
                                    "CreatedAt": "2025-01-14 11:55:29.000",
                                    "RowNum": "3"
                                },
                                {
                                    "ID": "03f7bd03-6c74-4338-a6a3-53097f3bc3ee",
                                    "Title": "Research Monitoring",
                                    "CreatedAt": "2025-01-14 11:55:29.000",
                                    "RowNum": "4"
                                },
                                {
                                    "ID": "04cdbcb2-3d89-4ee8-a7c3-cb9117376f9b",
                                    "Title": "Research Logging",
                                    "CreatedAt": "2025-01-14 11:55:29.000",
                                    "RowNum": "5"
                                }
                            ]
                        },
                        "text/html": [
                            "<table>",
                            "<tr><th>ID</th><th>Title</th><th>CreatedAt</th><th>RowNum</th></tr>",
                            "<tr><td>00da7d81-5b9f-483c-a26c-ad2ec4fb8e36</td><td>Plan API</td><td>2025-01-14 11:55:29.000</td><td>1</td></tr>",
                            "<tr><td>01ac09a5-9ed8-4a42-adea-b39a4bdd7936</td><td>Research UI/UX</td><td>2025-01-14 11:55:29.000</td><td>2</td></tr>",
                            "<tr><td>0291e6b5-5a7f-41b7-9534-0e871508f864</td><td>Document Database</td><td>2025-01-14 11:55:29.000</td><td>3</td></tr>",
                            "<tr><td>03f7bd03-6c74-4338-a6a3-53097f3bc3ee</td><td>Research Monitoring</td><td>2025-01-14 11:55:29.000</td><td>4</td></tr>",
                            "<tr><td>04cdbcb2-3d89-4ee8-a7c3-cb9117376f9b</td><td>Research Logging</td><td>2025-01-14 11:55:29.000</td><td>5</td></tr>",
                            "</table>"
                        ]
                    }
                }
            ],
            "execution_count": 40
        },
        {
            "cell_type": "code",
            "source": [
                "-- 5. Joining users with their assigned tasks\n",
                "select u.ID AS UserID,\n",
                "    u.Name AS UserName,\n",
                "    t.Title AS TaskTitle,\n",
                "    tu.AssignedDate\n",
                "\n",
                "from Users u\n",
                "inner join Taskuser tu on u.id = tu.userid\n",
                "INNER JOIN Task t ON tu.TaskID = t.ID;\n",
                ""
            ],
            "metadata": {
                "language": "sql",
                "azdata_cell_guid": "e6d5080d-d22a-4850-a836-d32b8f21525e"
            },
            "outputs": [
                {
                    "output_type": "display_data",
                    "data": {
                        "text/html": "(200 rows affected)"
                    },
                    "metadata": {}
                },
                {
                    "output_type": "display_data",
                    "data": {
                        "text/html": "Total execution time: 00:00:00.011"
                    },
                    "metadata": {}
                },
                {
                    "output_type": "execute_result",
                    "metadata": {},
                    "execution_count": 42,
                    "data": {
                        "application/vnd.dataresource+json": {
                            "schema": {
                                "fields": [
                                    {
                                        "name": "UserID"
                                    },
                                    {
                                        "name": "UserName"
                                    },
                                    {
                                        "name": "TaskTitle"
                                    },
                                    {
                                        "name": "AssignedDate"
                                    }
                                ]
                            },
                            "data": [
                                {
                                    "UserID": "01af455f-4a05-42ee-810e-c5d1abcf9e4a",
                                    "UserName": "Mary Johnson",
                                    "TaskTitle": "Review API",
                                    "AssignedDate": "2025-01-14 11:55:29.000"
                                },
                                {
                                    "UserID": "024e59b4-7189-4b82-b54e-ac5e7f417a06",
                                    "UserName": "Barbara Lee",
                                    "TaskTitle": "Research Monitoring",
                                    "AssignedDate": "2025-01-14 11:55:29.000"
                                },
                                {
                                    "UserID": "024e59b4-7189-4b82-b54e-ac5e7f417a06",
                                    "UserName": "Barbara Lee",
                                    "TaskTitle": "Implement Infrastructure",
                                    "AssignedDate": "2025-01-14 11:55:29.000"
                                },
                                {
                                    "UserID": "024e59b4-7189-4b82-b54e-ac5e7f417a06",
                                    "UserName": "Barbara Lee",
                                    "TaskTitle": "Monitor Cache",
                                    "AssignedDate": "2025-01-14 11:55:29.000"
                                },
                                {
                                    "UserID": "05a2d6e1-99a8-4eac-87de-fad697610f19",
                                    "UserName": "Parinya Garcia",
                                    "TaskTitle": "Refactor Cache",
                                    "AssignedDate": "2025-01-14 11:55:29.000"
                                },
                                {
                                    "UserID": "0c3edcc7-cc10-4c18-b1ec-78b0669172e3",
                                    "UserName": "Robert Lee",
                                    "TaskTitle": "Optimize Database",
                                    "AssignedDate": "2025-01-14 11:55:29.000"
                                },
                                {
                                    "UserID": "0cc52231-7e54-4a34-99d6-72d5bf44ce79",
                                    "UserName": "Emma Martin",
                                    "TaskTitle": "Plan Authentication",
                                    "AssignedDate": "2025-01-14 11:55:29.000"
                                },
                                {
                                    "UserID": "0cc52231-7e54-4a34-99d6-72d5bf44ce79",
                                    "UserName": "Emma Martin",
                                    "TaskTitle": "Deploy Network",
                                    "AssignedDate": "2025-01-14 11:55:29.000"
                                },
                                {
                                    "UserID": "0cc52231-7e54-4a34-99d6-72d5bf44ce79",
                                    "UserName": "Emma Martin",
                                    "TaskTitle": "Implement Database",
                                    "AssignedDate": "2025-01-14 11:55:29.000"
                                },
                                {
                                    "UserID": "105f1e8f-94ae-46b1-8173-478184875065",
                                    "UserName": "Joseph Davis",
                                    "TaskTitle": "Optimize Documentation",
                                    "AssignedDate": "2025-01-14 11:55:29.000"
                                },
                                {
                                    "UserID": "12ed6aca-6f98-4516-aff6-58b1f34830ef",
                                    "UserName": "John Wilson",
                                    "TaskTitle": "Update Backend",
                                    "AssignedDate": "2025-01-14 11:55:29.000"
                                },
                                {
                                    "UserID": "13e078c6-8ca5-490a-a9e8-bdf6e5ee4035",
                                    "UserName": "Sarah Jones",
                                    "TaskTitle": "Document Database",
                                    "AssignedDate": "2025-01-14 11:55:29.000"
                                },
                                {
                                    "UserID": "13e078c6-8ca5-490a-a9e8-bdf6e5ee4035",
                                    "UserName": "Sarah Jones",
                                    "TaskTitle": "Review Infrastructure",
                                    "AssignedDate": "2025-01-14 11:55:29.000"
                                },
                                {
                                    "UserID": "190234ec-7152-4f16-83eb-537a5ec16e1a",
                                    "UserName": "Richard Moore",
                                    "TaskTitle": "Review Infrastructure",
                                    "AssignedDate": "2025-01-14 11:55:29.000"
                                },
                                {
                                    "UserID": "1dc775c6-1ed6-40ff-9597-cfe25e3aea59",
                                    "UserName": "Linda Williams",
                                    "TaskTitle": "Implement UI/UX",
                                    "AssignedDate": "2025-01-14 11:55:29.000"
                                },
                                {
                                    "UserID": "1dec8357-9943-4e49-9331-af3a2893dece",
                                    "UserName": "Barbara Harris",
                                    "TaskTitle": "Plan Monitoring",
                                    "AssignedDate": "2025-01-14 11:55:29.000"
                                },
                                {
                                    "UserID": "1f404254-a9e3-4b75-8aaa-652e6a67721f",
                                    "UserName": "Michael Martin",
                                    "TaskTitle": "Deploy Infrastructure",
                                    "AssignedDate": "2025-01-14 11:55:29.000"
                                },
                                {
                                    "UserID": "1f4e346f-70ec-409c-b301-24904639eb89",
                                    "UserName": "Sarah White",
                                    "TaskTitle": "Document Network",
                                    "AssignedDate": "2025-01-14 11:55:29.000"
                                },
                                {
                                    "UserID": "2313b5f4-9de6-4ed3-8144-6f5d98e553ef",
                                    "UserName": "Thomas Taylor",
                                    "TaskTitle": "Review Monitoring",
                                    "AssignedDate": "2025-01-14 11:55:29.000"
                                },
                                {
                                    "UserID": "235bcad4-da3e-4b5d-be88-c5aa54a05a84",
                                    "UserName": "Susan AO",
                                    "TaskTitle": "Deploy Frontend",
                                    "AssignedDate": "2025-01-14 11:55:29.000"
                                },
                                {
                                    "UserID": "299049b9-5a02-47ff-a872-9b0fca7c6965",
                                    "UserName": "David Anderson",
                                    "TaskTitle": "Create UI/UX",
                                    "AssignedDate": "2025-01-14 11:55:29.000"
                                },
                                {
                                    "UserID": "299049b9-5a02-47ff-a872-9b0fca7c6965",
                                    "UserName": "David Anderson",
                                    "TaskTitle": "Monitor Monitoring",
                                    "AssignedDate": "2025-01-14 11:55:29.000"
                                },
                                {
                                    "UserID": "299049b9-5a02-47ff-a872-9b0fca7c6965",
                                    "UserName": "David Anderson",
                                    "TaskTitle": "Design Security",
                                    "AssignedDate": "2025-01-14 11:55:29.000"
                                },
                                {
                                    "UserID": "32835569-c6d4-4a8f-9a73-609244572bbf",
                                    "UserName": "Jennifer Jackson",
                                    "TaskTitle": "Configure Documentation",
                                    "AssignedDate": "2025-01-14 11:55:29.000"
                                },
                                {
                                    "UserID": "337df05b-4863-4d79-8058-68327529f62f",
                                    "UserName": "Patricia Moore",
                                    "TaskTitle": "Refactor Logging",
                                    "AssignedDate": "2025-01-14 11:55:29.000"
                                },
                                {
                                    "UserID": "337df05b-4863-4d79-8058-68327529f62f",
                                    "UserName": "Patricia Moore",
                                    "TaskTitle": "Test Security",
                                    "AssignedDate": "2025-01-14 11:55:29.000"
                                },
                                {
                                    "UserID": "337df05b-4863-4d79-8058-68327529f62f",
                                    "UserName": "Patricia Moore",
                                    "TaskTitle": "Develop Backup",
                                    "AssignedDate": "2025-01-14 11:55:29.000"
                                },
                                {
                                    "UserID": "337df05b-4863-4d79-8058-68327529f62f",
                                    "UserName": "Patricia Moore",
                                    "TaskTitle": "Develop Logging",
                                    "AssignedDate": "2025-01-14 11:55:29.000"
                                },
                                {
                                    "UserID": "337df05b-4863-4d79-8058-68327529f62f",
                                    "UserName": "Patricia Moore",
                                    "TaskTitle": "Develop Monitoring",
                                    "AssignedDate": "2025-01-14 11:55:29.000"
                                },
                                {
                                    "UserID": "3762b4b9-0682-43f1-a52f-c9e06866d467",
                                    "UserName": "Patricia Harris",
                                    "TaskTitle": "Validate Security",
                                    "AssignedDate": "2025-01-14 11:55:29.000"
                                },
                                {
                                    "UserID": "3b4dbb3f-c320-4bd8-a5c6-280883da8887",
                                    "UserName": "Jennifer Moore",
                                    "TaskTitle": "Document UI/UX",
                                    "AssignedDate": "2025-01-14 11:55:29.000"
                                },
                                {
                                    "UserID": "3bdd9d49-64c3-4595-b574-cd8487461a74",
                                    "UserName": "William Johnson",
                                    "TaskTitle": "Document Network",
                                    "AssignedDate": "2025-01-14 11:55:29.000"
                                },
                                {
                                    "UserID": "3bdd9d49-64c3-4595-b574-cd8487461a74",
                                    "UserName": "William Johnson",
                                    "TaskTitle": "Plan Network",
                                    "AssignedDate": "2025-01-14 11:55:29.000"
                                },
                                {
                                    "UserID": "3d040ab0-3a5b-4da5-9cbd-c6ac91bc8312",
                                    "UserName": "Sarah Jackson",
                                    "TaskTitle": "Refactor Logging",
                                    "AssignedDate": "2025-01-14 11:55:29.000"
                                },
                                {
                                    "UserID": "44099cac-29f4-4147-9a8a-56189ed2c4e9",
                                    "UserName": "James Thompson",
                                    "TaskTitle": "Refactor Integration",
                                    "AssignedDate": "2025-01-14 11:55:29.000"
                                },
                                {
                                    "UserID": "44099cac-29f4-4147-9a8a-56189ed2c4e9",
                                    "UserName": "James Thompson",
                                    "TaskTitle": "Develop Performance",
                                    "AssignedDate": "2025-01-14 11:55:29.000"
                                },
                                {
                                    "UserID": "44099cac-29f4-4147-9a8a-56189ed2c4e9",
                                    "UserName": "James Thompson",
                                    "TaskTitle": "Monitor Monitoring",
                                    "AssignedDate": "2025-01-14 11:55:29.000"
                                },
                                {
                                    "UserID": "46020fab-f32e-4467-81e6-53200de4cbc5",
                                    "UserName": "Susan Taylor",
                                    "TaskTitle": "Deploy Documentation",
                                    "AssignedDate": "2025-01-14 11:55:29.000"
                                },
                                {
                                    "UserID": "47c14bf2-8057-4828-9638-0db29e697723",
                                    "UserName": "Richard Davis",
                                    "TaskTitle": "Deploy Logging",
                                    "AssignedDate": "2025-01-14 11:55:29.000"
                                },
                                {
                                    "UserID": "487c4caa-8801-4aaf-a1e0-4cc2fa3caf68",
                                    "UserName": "Richard Brown",
                                    "TaskTitle": "Research UI/UX",
                                    "AssignedDate": "2025-01-14 11:55:29.000"
                                },
                                {
                                    "UserID": "487c4caa-8801-4aaf-a1e0-4cc2fa3caf68",
                                    "UserName": "Richard Brown",
                                    "TaskTitle": "Document Database",
                                    "AssignedDate": "2025-01-14 11:55:29.000"
                                },
                                {
                                    "UserID": "487c4caa-8801-4aaf-a1e0-4cc2fa3caf68",
                                    "UserName": "Richard Brown",
                                    "TaskTitle": "Test Monitoring",
                                    "AssignedDate": "2025-01-14 11:55:29.000"
                                },
                                {
                                    "UserID": "4abc16f1-f736-4306-928a-a8b3f8b847b8",
                                    "UserName": "Emma Jackson",
                                    "TaskTitle": "Implement Security",
                                    "AssignedDate": "2025-01-14 11:55:29.000"
                                },
                                {
                                    "UserID": "4abc16f1-f736-4306-928a-a8b3f8b847b8",
                                    "UserName": "Emma Jackson",
                                    "TaskTitle": "Debug Integration",
                                    "AssignedDate": "2025-01-14 11:55:29.000"
                                },
                                {
                                    "UserID": "4ed63500-1466-47f4-b69d-7ab35cebe019",
                                    "UserName": "Elizabeth Davis",
                                    "TaskTitle": "Maintain Storage",
                                    "AssignedDate": "2025-01-14 11:55:29.000"
                                },
                                {
                                    "UserID": "4ed63500-1466-47f4-b69d-7ab35cebe019",
                                    "UserName": "Elizabeth Davis",
                                    "TaskTitle": "Research Documentation",
                                    "AssignedDate": "2025-01-14 11:55:29.000"
                                },
                                {
                                    "UserID": "4f41ff56-fe5f-423d-a536-3add8888dd49",
                                    "UserName": "Robert Smith",
                                    "TaskTitle": "Configure Integration",
                                    "AssignedDate": "2025-01-14 11:55:29.000"
                                },
                                {
                                    "UserID": "4f41ff56-fe5f-423d-a536-3add8888dd49",
                                    "UserName": "Robert Smith",
                                    "TaskTitle": "Validate Infrastructure",
                                    "AssignedDate": "2025-01-14 11:55:29.000"
                                },
                                {
                                    "UserID": "4f41ff56-fe5f-423d-a536-3add8888dd49",
                                    "UserName": "Robert Smith",
                                    "TaskTitle": "Research Authentication",
                                    "AssignedDate": "2025-01-14 11:55:29.000"
                                },
                                {
                                    "UserID": "52e1c9e7-0d18-49f6-b4ee-909ad75d4ab7",
                                    "UserName": "Elizabeth Martin",
                                    "TaskTitle": "Review Security",
                                    "AssignedDate": "2025-01-14 11:55:29.000"
                                },
                                {
                                    "UserID": "52e1c9e7-0d18-49f6-b4ee-909ad75d4ab7",
                                    "UserName": "Elizabeth Martin",
                                    "TaskTitle": "Develop Database",
                                    "AssignedDate": "2025-01-14 11:55:29.000"
                                },
                                {
                                    "UserID": "54756f50-67a4-4398-8214-26be4eb9d802",
                                    "UserName": "Mary Davis",
                                    "TaskTitle": "Implement Logging",
                                    "AssignedDate": "2025-01-14 11:55:29.000"
                                },
                                {
                                    "UserID": "54756f50-67a4-4398-8214-26be4eb9d802",
                                    "UserName": "Mary Davis",
                                    "TaskTitle": "Configure Security",
                                    "AssignedDate": "2025-01-14 11:55:29.000"
                                },
                                {
                                    "UserID": "5630414d-f732-414b-8417-836f1952ef4a",
                                    "UserName": "Barbara Jackson",
                                    "TaskTitle": "Research Documentation",
                                    "AssignedDate": "2025-01-14 11:55:29.000"
                                },
                                {
                                    "UserID": "57e608c9-d0c4-4ba7-8894-bbbee644b23d",
                                    "UserName": "Mary Clark",
                                    "TaskTitle": "Develop Testing",
                                    "AssignedDate": "2025-01-14 11:55:29.000"
                                },
                                {
                                    "UserID": "57e608c9-d0c4-4ba7-8894-bbbee644b23d",
                                    "UserName": "Mary Clark",
                                    "TaskTitle": "Create Infrastructure",
                                    "AssignedDate": "2025-01-14 11:55:29.000"
                                },
                                {
                                    "UserID": "57e608c9-d0c4-4ba7-8894-bbbee644b23d",
                                    "UserName": "Mary Clark",
                                    "TaskTitle": "Debug Performance",
                                    "AssignedDate": "2025-01-14 11:55:29.000"
                                },
                                {
                                    "UserID": "5bd8105e-272a-4b21-9cbe-2ec4ed3e9e82",
                                    "UserName": "Michael Moore",
                                    "TaskTitle": "Maintain Logging",
                                    "AssignedDate": "2025-01-14 11:55:29.000"
                                },
                                {
                                    "UserID": "6118a169-ecc2-4ede-8dfb-6cca62b98023",
                                    "UserName": "David Johnson",
                                    "TaskTitle": "Debug API",
                                    "AssignedDate": "2025-01-14 11:55:29.000"
                                },
                                {
                                    "UserID": "61a517eb-3c5b-4b2c-8074-1755a76fe3af",
                                    "UserName": "Susan Davis",
                                    "TaskTitle": "Implement Logging",
                                    "AssignedDate": "2025-01-14 11:55:29.000"
                                },
                                {
                                    "UserID": "67c58064-54d5-4561-a019-7cba5273ee60",
                                    "UserName": "John Martin",
                                    "TaskTitle": "Update Database",
                                    "AssignedDate": "2025-01-14 11:55:29.000"
                                },
                                {
                                    "UserID": "68008088-a7e0-47d7-bc0e-ac70a72fae62",
                                    "UserName": "William AO",
                                    "TaskTitle": "Develop Security",
                                    "AssignedDate": "2025-01-14 11:55:29.000"
                                },
                                {
                                    "UserID": "6a8326b6-7a48-45ed-a0ef-ea7abd6d3e11",
                                    "UserName": "John Jones",
                                    "TaskTitle": "Plan API",
                                    "AssignedDate": "2025-01-14 11:55:29.000"
                                },
                                {
                                    "UserID": "6d708dfe-2ade-4fdd-a401-bd982d7f26f5",
                                    "UserName": "Robert Anderson",
                                    "TaskTitle": "Validate Authentication",
                                    "AssignedDate": "2025-01-14 11:55:29.000"
                                },
                                {
                                    "UserID": "6dc49c6e-dddc-4a8a-bc72-06107427e302",
                                    "UserName": "Jennifer Garcia",
                                    "TaskTitle": "Deploy Storage",
                                    "AssignedDate": "2025-01-14 11:55:29.000"
                                },
                                {
                                    "UserID": "71327d1c-d812-4aaa-a933-38325e6421e3",
                                    "UserName": "Elizabeth Wilson",
                                    "TaskTitle": "Design Testing",
                                    "AssignedDate": "2025-01-14 11:55:29.000"
                                },
                                {
                                    "UserID": "71327d1c-d812-4aaa-a933-38325e6421e3",
                                    "UserName": "Elizabeth Wilson",
                                    "TaskTitle": "Document UI/UX",
                                    "AssignedDate": "2025-01-14 11:55:29.000"
                                },
                                {
                                    "UserID": "719514f6-c299-4d3e-87c4-1af6117ac9c8",
                                    "UserName": "Mary Jackson",
                                    "TaskTitle": "Optimize UI/UX",
                                    "AssignedDate": "2025-01-14 11:55:29.000"
                                },
                                {
                                    "UserID": "719514f6-c299-4d3e-87c4-1af6117ac9c8",
                                    "UserName": "Mary Jackson",
                                    "TaskTitle": "Enhance Infrastructure",
                                    "AssignedDate": "2025-01-14 11:55:29.000"
                                },
                                {
                                    "UserID": "71f8cf28-e643-4535-b797-e5b93c6032a3",
                                    "UserName": "Joseph Jones",
                                    "TaskTitle": "Enhance UI/UX",
                                    "AssignedDate": "2025-01-14 11:55:29.000"
                                },
                                {
                                    "UserID": "724e937c-b85a-4a80-a848-5f42c0feee41",
                                    "UserName": "William Brown",
                                    "TaskTitle": "Create UI/UX",
                                    "AssignedDate": "2025-01-14 11:55:29.000"
                                },
                                {
                                    "UserID": "72c6156c-986d-46e5-b843-2b14ef486900",
                                    "UserName": "Elizabeth Williams",
                                    "TaskTitle": "Design Recovery",
                                    "AssignedDate": "2025-01-14 11:55:29.000"
                                },
                                {
                                    "UserID": "754079b3-10c3-42dc-b3e6-9988ec3685aa",
                                    "UserName": "Patricia Williams",
                                    "TaskTitle": "Create Backend",
                                    "AssignedDate": "2025-01-14 11:55:29.000"
                                },
                                {
                                    "UserID": "754079b3-10c3-42dc-b3e6-9988ec3685aa",
                                    "UserName": "Patricia Williams",
                                    "TaskTitle": "Test Documentation",
                                    "AssignedDate": "2025-01-14 11:55:29.000"
                                },
                                {
                                    "UserID": "754079b3-10c3-42dc-b3e6-9988ec3685aa",
                                    "UserName": "Patricia Williams",
                                    "TaskTitle": "Configure Storage",
                                    "AssignedDate": "2025-01-14 11:55:29.000"
                                },
                                {
                                    "UserID": "754079b3-10c3-42dc-b3e6-9988ec3685aa",
                                    "UserName": "Patricia Williams",
                                    "TaskTitle": "Design Database",
                                    "AssignedDate": "2025-01-14 11:55:29.000"
                                },
                                {
                                    "UserID": "754079b3-10c3-42dc-b3e6-9988ec3685aa",
                                    "UserName": "Patricia Williams",
                                    "TaskTitle": "Update UI/UX",
                                    "AssignedDate": "2025-01-14 11:55:29.000"
                                },
                                {
                                    "UserID": "754079b3-10c3-42dc-b3e6-9988ec3685aa",
                                    "UserName": "Patricia Williams",
                                    "TaskTitle": "Create Security",
                                    "AssignedDate": "2025-01-14 11:55:29.000"
                                },
                                {
                                    "UserID": "79397f03-1f94-4708-a28f-afa899640335",
                                    "UserName": "Joseph White",
                                    "TaskTitle": "Debug API",
                                    "AssignedDate": "2025-01-14 11:55:29.000"
                                },
                                {
                                    "UserID": "7a1b89b5-b459-4a08-9ec6-1bcad0ed282e",
                                    "UserName": "Parinya Jones",
                                    "TaskTitle": "Plan Monitoring",
                                    "AssignedDate": "2025-01-14 11:55:29.000"
                                },
                                {
                                    "UserID": "7a1b89b5-b459-4a08-9ec6-1bcad0ed282e",
                                    "UserName": "Parinya Jones",
                                    "TaskTitle": "Deploy Logging",
                                    "AssignedDate": "2025-01-14 11:55:29.000"
                                },
                                {
                                    "UserID": "7dccd797-54be-4a97-929a-e300088b2140",
                                    "UserName": "John Davis",
                                    "TaskTitle": "Plan Cache",
                                    "AssignedDate": "2025-01-14 11:55:29.000"
                                },
                                {
                                    "UserID": "7f1db049-29bd-45de-b3dc-8230ac0b1a95",
                                    "UserName": "David White",
                                    "TaskTitle": "Maintain Logging",
                                    "AssignedDate": "2025-01-14 11:55:29.000"
                                },
                                {
                                    "UserID": "7f1db049-29bd-45de-b3dc-8230ac0b1a95",
                                    "UserName": "David White",
                                    "TaskTitle": "Optimize Backend",
                                    "AssignedDate": "2025-01-14 11:55:29.000"
                                },
                                {
                                    "UserID": "7f9fc518-5cb6-4ef6-9069-c6686077d309",
                                    "UserName": "John Jackson",
                                    "TaskTitle": "Monitor Backend",
                                    "AssignedDate": "2025-01-14 11:55:29.000"
                                },
                                {
                                    "UserID": "80424870-c097-4eb9-a031-64110245ac6b",
                                    "UserName": "Mary AO",
                                    "TaskTitle": "Refactor API",
                                    "AssignedDate": "2025-01-14 11:55:29.000"
                                },
                                {
                                    "UserID": "81684c10-7a53-4471-b134-39fa6e1945e0",
                                    "UserName": "Joseph Clark",
                                    "TaskTitle": "Monitor Recovery",
                                    "AssignedDate": "2025-01-14 11:55:29.000"
                                },
                                {
                                    "UserID": "81d9ef53-cd9b-4e12-8087-358a6266d46e",
                                    "UserName": "Thomas Lee",
                                    "TaskTitle": "Deploy Performance",
                                    "AssignedDate": "2025-01-14 11:55:29.000"
                                },
                                {
                                    "UserID": "86bad218-b122-44f0-a7f8-85ac5be9b279",
                                    "UserName": "Joseph Miller",
                                    "TaskTitle": "Validate Documentation",
                                    "AssignedDate": "2025-01-14 11:55:29.000"
                                },
                                {
                                    "UserID": "86bad218-b122-44f0-a7f8-85ac5be9b279",
                                    "UserName": "Joseph Miller",
                                    "TaskTitle": "Test Security",
                                    "AssignedDate": "2025-01-14 11:55:29.000"
                                },
                                {
                                    "UserID": "87c109e3-e3df-4995-b226-22b85cc2183d",
                                    "UserName": "Richard Harris",
                                    "TaskTitle": "Document Recovery",
                                    "AssignedDate": "2025-01-14 11:55:29.000"
                                },
                                {
                                    "UserID": "87c109e3-e3df-4995-b226-22b85cc2183d",
                                    "UserName": "Richard Harris",
                                    "TaskTitle": "Research Recovery",
                                    "AssignedDate": "2025-01-14 11:55:29.000"
                                },
                                {
                                    "UserID": "8989fd97-36de-47e0-996d-d9b3702ff75a",
                                    "UserName": "Richard Martin",
                                    "TaskTitle": "Optimize Security",
                                    "AssignedDate": "2025-01-14 11:55:29.000"
                                },
                                {
                                    "UserID": "8cb3a8fa-d4c8-4678-96ec-26115d300737",
                                    "UserName": "Sarah Taylor",
                                    "TaskTitle": "Update Testing",
                                    "AssignedDate": "2025-01-14 11:55:29.000"
                                },
                                {
                                    "UserID": "8de4a6a3-e3c8-4317-abbc-8c0d5a2d9556",
                                    "UserName": "Parinya Moore",
                                    "TaskTitle": "Debug Frontend",
                                    "AssignedDate": "2025-01-14 11:55:29.000"
                                },
                                {
                                    "UserID": "8de4a6a3-e3c8-4317-abbc-8c0d5a2d9556",
                                    "UserName": "Parinya Moore",
                                    "TaskTitle": "Deploy Storage",
                                    "AssignedDate": "2025-01-14 11:55:29.000"
                                },
                                {
                                    "UserID": "8eb6d792-2b7f-42c3-aac1-a6fac2ebd698",
                                    "UserName": "William Harris",
                                    "TaskTitle": "Plan Cache",
                                    "AssignedDate": "2025-01-14 11:55:29.000"
                                },
                                {
                                    "UserID": "8eb6d792-2b7f-42c3-aac1-a6fac2ebd698",
                                    "UserName": "William Harris",
                                    "TaskTitle": "Refactor Logging",
                                    "AssignedDate": "2025-01-14 11:55:29.000"
                                },
                                {
                                    "UserID": "8fe26126-f2c4-4d1e-a9bd-1d71e2f69a55",
                                    "UserName": "Parinya Harris",
                                    "TaskTitle": "Research Integration",
                                    "AssignedDate": "2025-01-14 11:55:29.000"
                                },
                                {
                                    "UserID": "941686c7-d194-4dd1-a82f-7da7c2e1758c",
                                    "UserName": "Emma Lee",
                                    "TaskTitle": "Analyze Storage",
                                    "AssignedDate": "2025-01-14 11:55:29.000"
                                },
                                {
                                    "UserID": "94e965d0-c2a5-41f9-8850-61049a064292",
                                    "UserName": "Patricia Brown",
                                    "TaskTitle": "Review Security",
                                    "AssignedDate": "2025-01-14 11:55:29.000"
                                },
                                {
                                    "UserID": "95027255-c51a-4d36-8922-5e73987acc04",
                                    "UserName": "Emma Johnson",
                                    "TaskTitle": "Document Analytics",
                                    "AssignedDate": "2025-01-14 11:55:29.000"
                                },
                                {
                                    "UserID": "95027255-c51a-4d36-8922-5e73987acc04",
                                    "UserName": "Emma Johnson",
                                    "TaskTitle": "Implement Security",
                                    "AssignedDate": "2025-01-14 11:55:29.000"
                                },
                                {
                                    "UserID": "97cf1cb0-f218-4c3c-9c65-0c53d3d7f458",
                                    "UserName": "Richard Clark",
                                    "TaskTitle": "Validate Security",
                                    "AssignedDate": "2025-01-14 11:55:29.000"
                                },
                                {
                                    "UserID": "9a435ea0-cb8c-4ac6-abb0-e65a3ad7eb78",
                                    "UserName": "Joseph Anderson",
                                    "TaskTitle": "Document Analytics",
                                    "AssignedDate": "2025-01-14 11:55:29.000"
                                },
                                {
                                    "UserID": "9a435ea0-cb8c-4ac6-abb0-e65a3ad7eb78",
                                    "UserName": "Joseph Anderson",
                                    "TaskTitle": "Document Analytics",
                                    "AssignedDate": "2025-01-14 11:55:29.000"
                                },
                                {
                                    "UserID": "9a435ea0-cb8c-4ac6-abb0-e65a3ad7eb78",
                                    "UserName": "Joseph Anderson",
                                    "TaskTitle": "Deploy Frontend",
                                    "AssignedDate": "2025-01-14 11:55:29.000"
                                },
                                {
                                    "UserID": "9a435ea0-cb8c-4ac6-abb0-e65a3ad7eb78",
                                    "UserName": "Joseph Anderson",
                                    "TaskTitle": "Analyze Analytics",
                                    "AssignedDate": "2025-01-14 11:55:29.000"
                                },
                                {
                                    "UserID": "9c4191de-5931-4c6b-9380-231da5b278e9",
                                    "UserName": "John Miller",
                                    "TaskTitle": "Debug Documentation",
                                    "AssignedDate": "2025-01-14 11:55:29.000"
                                },
                                {
                                    "UserID": "9cc83e57-55e6-4f1e-9378-08b60ad18003",
                                    "UserName": "Elizabeth Miller",
                                    "TaskTitle": "Design Security",
                                    "AssignedDate": "2025-01-14 11:55:29.000"
                                },
                                {
                                    "UserID": "9cc83e57-55e6-4f1e-9378-08b60ad18003",
                                    "UserName": "Elizabeth Miller",
                                    "TaskTitle": "Debug Frontend",
                                    "AssignedDate": "2025-01-14 11:55:29.000"
                                },
                                {
                                    "UserID": "9e5e8ed0-fcec-4394-8d89-d94a43bc4d90",
                                    "UserName": "Parinya Wilson",
                                    "TaskTitle": "Validate Integration",
                                    "AssignedDate": "2025-01-14 11:55:29.000"
                                },
                                {
                                    "UserID": "9eb69a04-2e5d-4510-b1fa-01128a012a74",
                                    "UserName": "Emma White",
                                    "TaskTitle": "Design Security",
                                    "AssignedDate": "2025-01-14 11:55:29.000"
                                },
                                {
                                    "UserID": "9fc54413-a0f7-4acb-b3c9-8fc1fb652923",
                                    "UserName": "Susan Wilson",
                                    "TaskTitle": "Test Network",
                                    "AssignedDate": "2025-01-14 11:55:29.000"
                                },
                                {
                                    "UserID": "9fc54413-a0f7-4acb-b3c9-8fc1fb652923",
                                    "UserName": "Susan Wilson",
                                    "TaskTitle": "Monitor Integration",
                                    "AssignedDate": "2025-01-14 11:55:29.000"
                                },
                                {
                                    "UserID": "a119beb2-7d6a-4b87-8260-9e5937f11feb",
                                    "UserName": "Thomas Johnson",
                                    "TaskTitle": "Plan Cache",
                                    "AssignedDate": "2025-01-14 11:55:29.000"
                                },
                                {
                                    "UserID": "a119beb2-7d6a-4b87-8260-9e5937f11feb",
                                    "UserName": "Thomas Johnson",
                                    "TaskTitle": "Optimize Database",
                                    "AssignedDate": "2025-01-14 11:55:29.000"
                                },
                                {
                                    "UserID": "a2ea640b-7084-46a5-99fc-8c1d843e3cdd",
                                    "UserName": "Susan Anderson",
                                    "TaskTitle": "Design Storage",
                                    "AssignedDate": "2025-01-14 11:55:29.000"
                                },
                                {
                                    "UserID": "a2ea640b-7084-46a5-99fc-8c1d843e3cdd",
                                    "UserName": "Susan Anderson",
                                    "TaskTitle": "Implement Database",
                                    "AssignedDate": "2025-01-14 11:55:29.000"
                                },
                                {
                                    "UserID": "a4cb827d-0083-4c25-863a-9844331dbd66",
                                    "UserName": "Patricia Martin",
                                    "TaskTitle": "Develop Security",
                                    "AssignedDate": "2025-01-14 11:55:29.000"
                                },
                                {
                                    "UserID": "a62d3f0d-bc56-4356-a29b-49874ef0647c",
                                    "UserName": "Sarah Brown",
                                    "TaskTitle": "Document UI/UX",
                                    "AssignedDate": "2025-01-14 11:55:29.000"
                                },
                                {
                                    "UserID": "a66e8fa3-c6b6-4a16-bc4a-7b0e7c7142f5",
                                    "UserName": "Barbara Smith",
                                    "TaskTitle": "Validate Database",
                                    "AssignedDate": "2025-01-14 11:55:29.000"
                                },
                                {
                                    "UserID": "a66e8fa3-c6b6-4a16-bc4a-7b0e7c7142f5",
                                    "UserName": "Barbara Smith",
                                    "TaskTitle": "Design Security",
                                    "AssignedDate": "2025-01-14 11:55:29.000"
                                },
                                {
                                    "UserID": "a66e8fa3-c6b6-4a16-bc4a-7b0e7c7142f5",
                                    "UserName": "Barbara Smith",
                                    "TaskTitle": "Create Recovery",
                                    "AssignedDate": "2025-01-14 11:55:29.000"
                                },
                                {
                                    "UserID": "a7ec2854-59cd-4cd8-89d6-db4db1ff1def",
                                    "UserName": "Parinya Davis",
                                    "TaskTitle": "Research Recovery",
                                    "AssignedDate": "2025-01-14 11:55:29.000"
                                },
                                {
                                    "UserID": "a98a9592-1391-444d-9a1a-00f943fbef38",
                                    "UserName": "Susan Garcia",
                                    "TaskTitle": "Review Recovery",
                                    "AssignedDate": "2025-01-14 11:55:29.000"
                                },
                                {
                                    "UserID": "a98a9592-1391-444d-9a1a-00f943fbef38",
                                    "UserName": "Susan Garcia",
                                    "TaskTitle": "Debug Frontend",
                                    "AssignedDate": "2025-01-14 11:55:29.000"
                                },
                                {
                                    "UserID": "aa0320e5-2d2f-4330-81ae-537a970278a8",
                                    "UserName": "Susan Jones",
                                    "TaskTitle": "Document Backend",
                                    "AssignedDate": "2025-01-14 11:55:29.000"
                                },
                                {
                                    "UserID": "aa89d3f7-533c-4a0a-bdc7-7f1ad713ca0f",
                                    "UserName": "Michael Taylor",
                                    "TaskTitle": "Test Monitoring",
                                    "AssignedDate": "2025-01-14 11:55:29.000"
                                },
                                {
                                    "UserID": "aa89d3f7-533c-4a0a-bdc7-7f1ad713ca0f",
                                    "UserName": "Michael Taylor",
                                    "TaskTitle": "Refactor Recovery",
                                    "AssignedDate": "2025-01-14 11:55:29.000"
                                },
                                {
                                    "UserID": "abbe7eaf-719f-4a6e-834c-8cc6983ce50d",
                                    "UserName": "William White",
                                    "TaskTitle": "Monitor Backend",
                                    "AssignedDate": "2025-01-14 11:55:29.000"
                                },
                                {
                                    "UserID": "ac1d05e0-a031-4156-a45e-3dca4e2c9cf8",
                                    "UserName": "Richard Anderson",
                                    "TaskTitle": "Plan Storage",
                                    "AssignedDate": "2025-01-14 11:55:29.000"
                                },
                                {
                                    "UserID": "ac1d05e0-a031-4156-a45e-3dca4e2c9cf8",
                                    "UserName": "Richard Anderson",
                                    "TaskTitle": "Test API",
                                    "AssignedDate": "2025-01-14 11:55:29.000"
                                },
                                {
                                    "UserID": "ac1d05e0-a031-4156-a45e-3dca4e2c9cf8",
                                    "UserName": "Richard Anderson",
                                    "TaskTitle": "Deploy Testing",
                                    "AssignedDate": "2025-01-14 11:55:29.000"
                                },
                                {
                                    "UserID": "ad409a00-ec96-4f21-af1f-124fcdfdf322",
                                    "UserName": "Patricia Davis",
                                    "TaskTitle": "Create Infrastructure",
                                    "AssignedDate": "2025-01-14 11:55:29.000"
                                },
                                {
                                    "UserID": "ae73decf-8fa1-486b-bd17-7a25b9b35dd7",
                                    "UserName": "William Taylor",
                                    "TaskTitle": "Validate Infrastructure",
                                    "AssignedDate": "2025-01-14 11:55:29.000"
                                },
                                {
                                    "UserID": "ae73decf-8fa1-486b-bd17-7a25b9b35dd7",
                                    "UserName": "William Taylor",
                                    "TaskTitle": "Optimize Recovery",
                                    "AssignedDate": "2025-01-14 11:55:29.000"
                                },
                                {
                                    "UserID": "aef1e92f-fe06-449f-9ce2-25ccd73babfb",
                                    "UserName": "William Jackson",
                                    "TaskTitle": "Document Analytics",
                                    "AssignedDate": "2025-01-14 11:55:29.000"
                                },
                                {
                                    "UserID": "af1c32b5-9470-4a20-840d-1d00e074c53f",
                                    "UserName": "David Moore",
                                    "TaskTitle": "Enhance Performance",
                                    "AssignedDate": "2025-01-14 11:55:29.000"
                                },
                                {
                                    "UserID": "af1c32b5-9470-4a20-840d-1d00e074c53f",
                                    "UserName": "David Moore",
                                    "TaskTitle": "Monitor Cache",
                                    "AssignedDate": "2025-01-14 11:55:29.000"
                                },
                                {
                                    "UserID": "af83b89d-2a3c-4e82-82b7-be73cc078ac2",
                                    "UserName": "Robert Thompson",
                                    "TaskTitle": "Analyze UI/UX",
                                    "AssignedDate": "2025-01-14 11:55:29.000"
                                },
                                {
                                    "UserID": "b658b5d6-752d-44ba-9072-17f5b833d675",
                                    "UserName": "James Jackson",
                                    "TaskTitle": "Develop Database",
                                    "AssignedDate": "2025-01-14 11:55:29.000"
                                },
                                {
                                    "UserID": "b705a6f6-44a7-4796-a71d-73d7efbfaed9",
                                    "UserName": "Thomas Jackson",
                                    "TaskTitle": "Create Frontend",
                                    "AssignedDate": "2025-01-14 11:55:29.000"
                                },
                                {
                                    "UserID": "b7ee3c92-b943-4fab-9c6e-7188ef89c0ad",
                                    "UserName": "Joseph Moore",
                                    "TaskTitle": "Refactor Logging",
                                    "AssignedDate": "2025-01-14 11:55:29.000"
                                },
                                {
                                    "UserID": "b7ee3c92-b943-4fab-9c6e-7188ef89c0ad",
                                    "UserName": "Joseph Moore",
                                    "TaskTitle": "Enhance Documentation",
                                    "AssignedDate": "2025-01-14 11:55:29.000"
                                },
                                {
                                    "UserID": "b91f5b62-234e-45c9-bf23-204eaba762e2",
                                    "UserName": "Elizabeth Harris",
                                    "TaskTitle": "Review Monitoring",
                                    "AssignedDate": "2025-01-14 11:55:29.000"
                                },
                                {
                                    "UserID": "c1efd58f-26fb-4c2c-a109-8c85a50042cf",
                                    "UserName": "Patricia Clark",
                                    "TaskTitle": "Review Security",
                                    "AssignedDate": "2025-01-14 11:55:29.000"
                                },
                                {
                                    "UserID": "c1efd58f-26fb-4c2c-a109-8c85a50042cf",
                                    "UserName": "Patricia Clark",
                                    "TaskTitle": "Research UI/UX",
                                    "AssignedDate": "2025-01-14 11:55:29.000"
                                },
                                {
                                    "UserID": "c48e8ced-3719-4b05-95fb-c60cb9db6fbe",
                                    "UserName": "David Jones",
                                    "TaskTitle": "Update Cache",
                                    "AssignedDate": "2025-01-14 11:55:29.000"
                                },
                                {
                                    "UserID": "c48e8ced-3719-4b05-95fb-c60cb9db6fbe",
                                    "UserName": "David Jones",
                                    "TaskTitle": "Document Analytics",
                                    "AssignedDate": "2025-01-14 11:55:29.000"
                                },
                                {
                                    "UserID": "c68bbf8e-7b5f-492d-88fd-41d4bb02b8ff",
                                    "UserName": "David Wilson",
                                    "TaskTitle": "Refactor Storage",
                                    "AssignedDate": "2025-01-14 11:55:29.000"
                                },
                                {
                                    "UserID": "c92aa7e4-c158-48aa-b915-acc7f709febd",
                                    "UserName": "John Johnson",
                                    "TaskTitle": "Refactor Recovery",
                                    "AssignedDate": "2025-01-14 11:55:29.000"
                                },
                                {
                                    "UserID": "cddc91a0-217f-42cb-a85c-d261bd0c3377",
                                    "UserName": "Linda Moore",
                                    "TaskTitle": "Research Logging",
                                    "AssignedDate": "2025-01-14 11:55:29.000"
                                },
                                {
                                    "UserID": "cddc91a0-217f-42cb-a85c-d261bd0c3377",
                                    "UserName": "Linda Moore",
                                    "TaskTitle": "Maintain Backend",
                                    "AssignedDate": "2025-01-14 11:55:29.000"
                                },
                                {
                                    "UserID": "cddc91a0-217f-42cb-a85c-d261bd0c3377",
                                    "UserName": "Linda Moore",
                                    "TaskTitle": "Develop Logging",
                                    "AssignedDate": "2025-01-14 11:55:29.000"
                                },
                                {
                                    "UserID": "cddc91a0-217f-42cb-a85c-d261bd0c3377",
                                    "UserName": "Linda Moore",
                                    "TaskTitle": "Test Documentation",
                                    "AssignedDate": "2025-01-14 11:55:29.000"
                                },
                                {
                                    "UserID": "cfc03884-1c18-444f-812c-dfa3fb29d220",
                                    "UserName": "Robert Davis",
                                    "TaskTitle": "Review Backup",
                                    "AssignedDate": "2025-01-14 11:55:29.000"
                                },
                                {
                                    "UserID": "cfc03884-1c18-444f-812c-dfa3fb29d220",
                                    "UserName": "Robert Davis",
                                    "TaskTitle": "Refactor Integration",
                                    "AssignedDate": "2025-01-14 11:55:29.000"
                                },
                                {
                                    "UserID": "cfc03884-1c18-444f-812c-dfa3fb29d220",
                                    "UserName": "Robert Davis",
                                    "TaskTitle": "Review Backend",
                                    "AssignedDate": "2025-01-14 11:55:29.000"
                                },
                                {
                                    "UserID": "cfc03884-1c18-444f-812c-dfa3fb29d220",
                                    "UserName": "Robert Davis",
                                    "TaskTitle": "Update Authentication",
                                    "AssignedDate": "2025-01-14 11:55:29.000"
                                },
                                {
                                    "UserID": "cfc03884-1c18-444f-812c-dfa3fb29d220",
                                    "UserName": "Robert Davis",
                                    "TaskTitle": "Develop Authentication",
                                    "AssignedDate": "2025-01-14 11:55:29.000"
                                },
                                {
                                    "UserID": "d0010e21-6405-40b6-ad70-e94d67419bf8",
                                    "UserName": "James Smith",
                                    "TaskTitle": "Refactor UI/UX",
                                    "AssignedDate": "2025-01-14 11:55:29.000"
                                },
                                {
                                    "UserID": "d163f04a-4c36-4f5f-9ab7-f3b19fb4d4aa",
                                    "UserName": "Michael Anderson",
                                    "TaskTitle": "Review Monitoring",
                                    "AssignedDate": "2025-01-14 11:55:29.000"
                                },
                                {
                                    "UserID": "d2ed4039-95c6-44a3-be97-612e2f94f309",
                                    "UserName": "Emma Anderson",
                                    "TaskTitle": "Refactor Integration",
                                    "AssignedDate": "2025-01-14 11:55:29.000"
                                },
                                {
                                    "UserID": "d3111ed3-bbd2-4797-b3aa-b23bc7a66f4d",
                                    "UserName": "Jessica Moore",
                                    "TaskTitle": "Review Infrastructure",
                                    "AssignedDate": "2025-01-14 11:55:29.000"
                                },
                                {
                                    "UserID": "d3111ed3-bbd2-4797-b3aa-b23bc7a66f4d",
                                    "UserName": "Jessica Moore",
                                    "TaskTitle": "Refactor Authentication",
                                    "AssignedDate": "2025-01-14 11:55:29.000"
                                },
                                {
                                    "UserID": "d5d2601b-6713-415f-b28a-298d4bddee88",
                                    "UserName": "William Thompson",
                                    "TaskTitle": "Debug Frontend",
                                    "AssignedDate": "2025-01-14 11:55:29.000"
                                },
                                {
                                    "UserID": "d6b602aa-c6ee-4ebb-9e08-247486574f93",
                                    "UserName": "Elizabeth Garcia",
                                    "TaskTitle": "Research Monitoring",
                                    "AssignedDate": "2025-01-14 11:55:29.000"
                                },
                                {
                                    "UserID": "d6b602aa-c6ee-4ebb-9e08-247486574f93",
                                    "UserName": "Elizabeth Garcia",
                                    "TaskTitle": "Create Infrastructure",
                                    "AssignedDate": "2025-01-14 11:55:29.000"
                                },
                                {
                                    "UserID": "d6d89413-ad9f-4f7d-8d9b-94ca3963bf40",
                                    "UserName": "Linda Thompson",
                                    "TaskTitle": "Test Backup",
                                    "AssignedDate": "2025-01-14 11:55:29.000"
                                },
                                {
                                    "UserID": "d7a208bc-540f-4b5c-a02e-e252de6aa99d",
                                    "UserName": "Parinya Clark",
                                    "TaskTitle": "Create Authentication",
                                    "AssignedDate": "2025-01-14 11:55:29.000"
                                },
                                {
                                    "UserID": "d7d7de30-a3eb-4484-aab5-1a1809d88cf5",
                                    "UserName": "Susan Smith",
                                    "TaskTitle": "Deploy API",
                                    "AssignedDate": "2025-01-14 11:55:29.000"
                                },
                                {
                                    "UserID": "dac8021e-05d0-4d66-bb92-51766e3c9f41",
                                    "UserName": "Patricia White",
                                    "TaskTitle": "Implement Analytics",
                                    "AssignedDate": "2025-01-14 11:55:29.000"
                                },
                                {
                                    "UserID": "db0bcf7d-9b44-44ac-b1d0-ca9ec83ced0c",
                                    "UserName": "James Brown",
                                    "TaskTitle": "Enhance Network",
                                    "AssignedDate": "2025-01-14 11:55:29.000"
                                },
                                {
                                    "UserID": "db0bcf7d-9b44-44ac-b1d0-ca9ec83ced0c",
                                    "UserName": "James Brown",
                                    "TaskTitle": "Document Analytics",
                                    "AssignedDate": "2025-01-14 11:55:29.000"
                                },
                                {
                                    "UserID": "db0bcf7d-9b44-44ac-b1d0-ca9ec83ced0c",
                                    "UserName": "James Brown",
                                    "TaskTitle": "Refactor API",
                                    "AssignedDate": "2025-01-14 11:55:29.000"
                                },
                                {
                                    "UserID": "dbcf8f29-0101-4caa-be04-89076abb5775",
                                    "UserName": "William Lee",
                                    "TaskTitle": "Research Backend",
                                    "AssignedDate": "2025-01-14 11:55:29.000"
                                },
                                {
                                    "UserID": "dbfb6886-b008-42cb-a20c-6f83c3167c5b",
                                    "UserName": "Thomas Jones",
                                    "TaskTitle": "Review Recovery",
                                    "AssignedDate": "2025-01-14 11:55:29.000"
                                },
                                {
                                    "UserID": "dbfb6886-b008-42cb-a20c-6f83c3167c5b",
                                    "UserName": "Thomas Jones",
                                    "TaskTitle": "Review Infrastructure",
                                    "AssignedDate": "2025-01-14 11:55:29.000"
                                },
                                {
                                    "UserID": "dbfb6886-b008-42cb-a20c-6f83c3167c5b",
                                    "UserName": "Thomas Jones",
                                    "TaskTitle": "Design Testing",
                                    "AssignedDate": "2025-01-14 11:55:29.000"
                                },
                                {
                                    "UserID": "dcfbce51-3587-4a46-9f9e-d5f9b813ed97",
                                    "UserName": "Susan Martin",
                                    "TaskTitle": "Optimize Infrastructure",
                                    "AssignedDate": "2025-01-14 11:55:29.000"
                                },
                                {
                                    "UserID": "dcfbce51-3587-4a46-9f9e-d5f9b813ed97",
                                    "UserName": "Susan Martin",
                                    "TaskTitle": "Debug Recovery",
                                    "AssignedDate": "2025-01-14 11:55:29.000"
                                },
                                {
                                    "UserID": "dd136068-6c86-48f2-b4e5-d213e98b04c5",
                                    "UserName": "Thomas Davis",
                                    "TaskTitle": "Review Backup",
                                    "AssignedDate": "2025-01-14 11:55:29.000"
                                },
                                {
                                    "UserID": "dd136068-6c86-48f2-b4e5-d213e98b04c5",
                                    "UserName": "Thomas Davis",
                                    "TaskTitle": "Monitor Integration",
                                    "AssignedDate": "2025-01-14 11:55:29.000"
                                },
                                {
                                    "UserID": "df91856a-7256-4c83-82af-5439cde862c6",
                                    "UserName": "James Johnson",
                                    "TaskTitle": "Develop Database",
                                    "AssignedDate": "2025-01-14 11:55:29.000"
                                },
                                {
                                    "UserID": "e5e3a4b8-f659-4825-a3af-79432c329033",
                                    "UserName": "Jennifer Williams",
                                    "TaskTitle": "Validate Testing",
                                    "AssignedDate": "2025-01-14 11:55:29.000"
                                },
                                {
                                    "UserID": "e61d0469-dfba-4f7c-9aec-c9a2c4012d77",
                                    "UserName": "Sarah Harris",
                                    "TaskTitle": "Test API",
                                    "AssignedDate": "2025-01-14 11:55:29.000"
                                },
                                {
                                    "UserID": "e7524fe6-9a2a-48cf-b4c8-ab6b5da7a160",
                                    "UserName": "Jessica Lee",
                                    "TaskTitle": "Implement Analytics",
                                    "AssignedDate": "2025-01-14 11:55:29.000"
                                },
                                {
                                    "UserID": "e7524fe6-9a2a-48cf-b4c8-ab6b5da7a160",
                                    "UserName": "Jessica Lee",
                                    "TaskTitle": "Document Performance",
                                    "AssignedDate": "2025-01-14 11:55:29.000"
                                },
                                {
                                    "UserID": "edfa6769-ce33-4c5d-9026-17b4050d4587",
                                    "UserName": "Parinya Lee",
                                    "TaskTitle": "Configure Integration",
                                    "AssignedDate": "2025-01-14 11:55:29.000"
                                },
                                {
                                    "UserID": "edfa6769-ce33-4c5d-9026-17b4050d4587",
                                    "UserName": "Parinya Lee",
                                    "TaskTitle": "Implement Infrastructure",
                                    "AssignedDate": "2025-01-14 11:55:29.000"
                                },
                                {
                                    "UserID": "f38b6f1e-81b1-4438-ad84-0da01d9bd307",
                                    "UserName": "Patricia Jones",
                                    "TaskTitle": "Review Documentation",
                                    "AssignedDate": "2025-01-14 11:55:29.000"
                                },
                                {
                                    "UserID": "f38b6f1e-81b1-4438-ad84-0da01d9bd307",
                                    "UserName": "Patricia Jones",
                                    "TaskTitle": "Document UI/UX",
                                    "AssignedDate": "2025-01-14 11:55:29.000"
                                },
                                {
                                    "UserID": "f38b6f1e-81b1-4438-ad84-0da01d9bd307",
                                    "UserName": "Patricia Jones",
                                    "TaskTitle": "Update Storage",
                                    "AssignedDate": "2025-01-14 11:55:29.000"
                                },
                                {
                                    "UserID": "f38b6f1e-81b1-4438-ad84-0da01d9bd307",
                                    "UserName": "Patricia Jones",
                                    "TaskTitle": "Update Cache",
                                    "AssignedDate": "2025-01-14 11:55:29.000"
                                },
                                {
                                    "UserID": "fac1636d-e435-48a4-9a56-a1de2628297e",
                                    "UserName": "Jennifer Anderson",
                                    "TaskTitle": "Monitor Integration",
                                    "AssignedDate": "2025-01-14 11:55:29.000"
                                },
                                {
                                    "UserID": "fb510efb-ee95-4f8f-a398-3a021beb6635",
                                    "UserName": "Joseph Thompson",
                                    "TaskTitle": "Test Testing",
                                    "AssignedDate": "2025-01-14 11:55:29.000"
                                },
                                {
                                    "UserID": "fb510efb-ee95-4f8f-a398-3a021beb6635",
                                    "UserName": "Joseph Thompson",
                                    "TaskTitle": "Test Testing",
                                    "AssignedDate": "2025-01-14 11:55:29.000"
                                },
                                {
                                    "UserID": "fe6df415-2567-473b-b275-58f8809bfa6d",
                                    "UserName": "David Williams",
                                    "TaskTitle": "Test Monitoring",
                                    "AssignedDate": "2025-01-14 11:55:29.000"
                                },
                                {
                                    "UserID": "ff4fc7e3-4a42-424d-ba6e-f9c81d1f830a",
                                    "UserName": "Parinya Brown",
                                    "TaskTitle": "Configure Integration",
                                    "AssignedDate": "2025-01-14 11:55:29.000"
                                }
                            ]
                        },
                        "text/html": [
                            "<table>",
                            "<tr><th>UserID</th><th>UserName</th><th>TaskTitle</th><th>AssignedDate</th></tr>",
                            "<tr><td>01af455f-4a05-42ee-810e-c5d1abcf9e4a</td><td>Mary Johnson</td><td>Review API</td><td>2025-01-14 11:55:29.000</td></tr>",
                            "<tr><td>024e59b4-7189-4b82-b54e-ac5e7f417a06</td><td>Barbara Lee</td><td>Research Monitoring</td><td>2025-01-14 11:55:29.000</td></tr>",
                            "<tr><td>024e59b4-7189-4b82-b54e-ac5e7f417a06</td><td>Barbara Lee</td><td>Implement Infrastructure</td><td>2025-01-14 11:55:29.000</td></tr>",
                            "<tr><td>024e59b4-7189-4b82-b54e-ac5e7f417a06</td><td>Barbara Lee</td><td>Monitor Cache</td><td>2025-01-14 11:55:29.000</td></tr>",
                            "<tr><td>05a2d6e1-99a8-4eac-87de-fad697610f19</td><td>Parinya Garcia</td><td>Refactor Cache</td><td>2025-01-14 11:55:29.000</td></tr>",
                            "<tr><td>0c3edcc7-cc10-4c18-b1ec-78b0669172e3</td><td>Robert Lee</td><td>Optimize Database</td><td>2025-01-14 11:55:29.000</td></tr>",
                            "<tr><td>0cc52231-7e54-4a34-99d6-72d5bf44ce79</td><td>Emma Martin</td><td>Plan Authentication</td><td>2025-01-14 11:55:29.000</td></tr>",
                            "<tr><td>0cc52231-7e54-4a34-99d6-72d5bf44ce79</td><td>Emma Martin</td><td>Deploy Network</td><td>2025-01-14 11:55:29.000</td></tr>",
                            "<tr><td>0cc52231-7e54-4a34-99d6-72d5bf44ce79</td><td>Emma Martin</td><td>Implement Database</td><td>2025-01-14 11:55:29.000</td></tr>",
                            "<tr><td>105f1e8f-94ae-46b1-8173-478184875065</td><td>Joseph Davis</td><td>Optimize Documentation</td><td>2025-01-14 11:55:29.000</td></tr>",
                            "<tr><td>12ed6aca-6f98-4516-aff6-58b1f34830ef</td><td>John Wilson</td><td>Update Backend</td><td>2025-01-14 11:55:29.000</td></tr>",
                            "<tr><td>13e078c6-8ca5-490a-a9e8-bdf6e5ee4035</td><td>Sarah Jones</td><td>Document Database</td><td>2025-01-14 11:55:29.000</td></tr>",
                            "<tr><td>13e078c6-8ca5-490a-a9e8-bdf6e5ee4035</td><td>Sarah Jones</td><td>Review Infrastructure</td><td>2025-01-14 11:55:29.000</td></tr>",
                            "<tr><td>190234ec-7152-4f16-83eb-537a5ec16e1a</td><td>Richard Moore</td><td>Review Infrastructure</td><td>2025-01-14 11:55:29.000</td></tr>",
                            "<tr><td>1dc775c6-1ed6-40ff-9597-cfe25e3aea59</td><td>Linda Williams</td><td>Implement UI/UX</td><td>2025-01-14 11:55:29.000</td></tr>",
                            "<tr><td>1dec8357-9943-4e49-9331-af3a2893dece</td><td>Barbara Harris</td><td>Plan Monitoring</td><td>2025-01-14 11:55:29.000</td></tr>",
                            "<tr><td>1f404254-a9e3-4b75-8aaa-652e6a67721f</td><td>Michael Martin</td><td>Deploy Infrastructure</td><td>2025-01-14 11:55:29.000</td></tr>",
                            "<tr><td>1f4e346f-70ec-409c-b301-24904639eb89</td><td>Sarah White</td><td>Document Network</td><td>2025-01-14 11:55:29.000</td></tr>",
                            "<tr><td>2313b5f4-9de6-4ed3-8144-6f5d98e553ef</td><td>Thomas Taylor</td><td>Review Monitoring</td><td>2025-01-14 11:55:29.000</td></tr>",
                            "<tr><td>235bcad4-da3e-4b5d-be88-c5aa54a05a84</td><td>Susan AO</td><td>Deploy Frontend</td><td>2025-01-14 11:55:29.000</td></tr>",
                            "<tr><td>299049b9-5a02-47ff-a872-9b0fca7c6965</td><td>David Anderson</td><td>Create UI/UX</td><td>2025-01-14 11:55:29.000</td></tr>",
                            "<tr><td>299049b9-5a02-47ff-a872-9b0fca7c6965</td><td>David Anderson</td><td>Monitor Monitoring</td><td>2025-01-14 11:55:29.000</td></tr>",
                            "<tr><td>299049b9-5a02-47ff-a872-9b0fca7c6965</td><td>David Anderson</td><td>Design Security</td><td>2025-01-14 11:55:29.000</td></tr>",
                            "<tr><td>32835569-c6d4-4a8f-9a73-609244572bbf</td><td>Jennifer Jackson</td><td>Configure Documentation</td><td>2025-01-14 11:55:29.000</td></tr>",
                            "<tr><td>337df05b-4863-4d79-8058-68327529f62f</td><td>Patricia Moore</td><td>Refactor Logging</td><td>2025-01-14 11:55:29.000</td></tr>",
                            "<tr><td>337df05b-4863-4d79-8058-68327529f62f</td><td>Patricia Moore</td><td>Test Security</td><td>2025-01-14 11:55:29.000</td></tr>",
                            "<tr><td>337df05b-4863-4d79-8058-68327529f62f</td><td>Patricia Moore</td><td>Develop Backup</td><td>2025-01-14 11:55:29.000</td></tr>",
                            "<tr><td>337df05b-4863-4d79-8058-68327529f62f</td><td>Patricia Moore</td><td>Develop Logging</td><td>2025-01-14 11:55:29.000</td></tr>",
                            "<tr><td>337df05b-4863-4d79-8058-68327529f62f</td><td>Patricia Moore</td><td>Develop Monitoring</td><td>2025-01-14 11:55:29.000</td></tr>",
                            "<tr><td>3762b4b9-0682-43f1-a52f-c9e06866d467</td><td>Patricia Harris</td><td>Validate Security</td><td>2025-01-14 11:55:29.000</td></tr>",
                            "<tr><td>3b4dbb3f-c320-4bd8-a5c6-280883da8887</td><td>Jennifer Moore</td><td>Document UI/UX</td><td>2025-01-14 11:55:29.000</td></tr>",
                            "<tr><td>3bdd9d49-64c3-4595-b574-cd8487461a74</td><td>William Johnson</td><td>Document Network</td><td>2025-01-14 11:55:29.000</td></tr>",
                            "<tr><td>3bdd9d49-64c3-4595-b574-cd8487461a74</td><td>William Johnson</td><td>Plan Network</td><td>2025-01-14 11:55:29.000</td></tr>",
                            "<tr><td>3d040ab0-3a5b-4da5-9cbd-c6ac91bc8312</td><td>Sarah Jackson</td><td>Refactor Logging</td><td>2025-01-14 11:55:29.000</td></tr>",
                            "<tr><td>44099cac-29f4-4147-9a8a-56189ed2c4e9</td><td>James Thompson</td><td>Refactor Integration</td><td>2025-01-14 11:55:29.000</td></tr>",
                            "<tr><td>44099cac-29f4-4147-9a8a-56189ed2c4e9</td><td>James Thompson</td><td>Develop Performance</td><td>2025-01-14 11:55:29.000</td></tr>",
                            "<tr><td>44099cac-29f4-4147-9a8a-56189ed2c4e9</td><td>James Thompson</td><td>Monitor Monitoring</td><td>2025-01-14 11:55:29.000</td></tr>",
                            "<tr><td>46020fab-f32e-4467-81e6-53200de4cbc5</td><td>Susan Taylor</td><td>Deploy Documentation</td><td>2025-01-14 11:55:29.000</td></tr>",
                            "<tr><td>47c14bf2-8057-4828-9638-0db29e697723</td><td>Richard Davis</td><td>Deploy Logging</td><td>2025-01-14 11:55:29.000</td></tr>",
                            "<tr><td>487c4caa-8801-4aaf-a1e0-4cc2fa3caf68</td><td>Richard Brown</td><td>Research UI/UX</td><td>2025-01-14 11:55:29.000</td></tr>",
                            "<tr><td>487c4caa-8801-4aaf-a1e0-4cc2fa3caf68</td><td>Richard Brown</td><td>Document Database</td><td>2025-01-14 11:55:29.000</td></tr>",
                            "<tr><td>487c4caa-8801-4aaf-a1e0-4cc2fa3caf68</td><td>Richard Brown</td><td>Test Monitoring</td><td>2025-01-14 11:55:29.000</td></tr>",
                            "<tr><td>4abc16f1-f736-4306-928a-a8b3f8b847b8</td><td>Emma Jackson</td><td>Implement Security</td><td>2025-01-14 11:55:29.000</td></tr>",
                            "<tr><td>4abc16f1-f736-4306-928a-a8b3f8b847b8</td><td>Emma Jackson</td><td>Debug Integration</td><td>2025-01-14 11:55:29.000</td></tr>",
                            "<tr><td>4ed63500-1466-47f4-b69d-7ab35cebe019</td><td>Elizabeth Davis</td><td>Maintain Storage</td><td>2025-01-14 11:55:29.000</td></tr>",
                            "<tr><td>4ed63500-1466-47f4-b69d-7ab35cebe019</td><td>Elizabeth Davis</td><td>Research Documentation</td><td>2025-01-14 11:55:29.000</td></tr>",
                            "<tr><td>4f41ff56-fe5f-423d-a536-3add8888dd49</td><td>Robert Smith</td><td>Configure Integration</td><td>2025-01-14 11:55:29.000</td></tr>",
                            "<tr><td>4f41ff56-fe5f-423d-a536-3add8888dd49</td><td>Robert Smith</td><td>Validate Infrastructure</td><td>2025-01-14 11:55:29.000</td></tr>",
                            "<tr><td>4f41ff56-fe5f-423d-a536-3add8888dd49</td><td>Robert Smith</td><td>Research Authentication</td><td>2025-01-14 11:55:29.000</td></tr>",
                            "<tr><td>52e1c9e7-0d18-49f6-b4ee-909ad75d4ab7</td><td>Elizabeth Martin</td><td>Review Security</td><td>2025-01-14 11:55:29.000</td></tr>",
                            "<tr><td>52e1c9e7-0d18-49f6-b4ee-909ad75d4ab7</td><td>Elizabeth Martin</td><td>Develop Database</td><td>2025-01-14 11:55:29.000</td></tr>",
                            "<tr><td>54756f50-67a4-4398-8214-26be4eb9d802</td><td>Mary Davis</td><td>Implement Logging</td><td>2025-01-14 11:55:29.000</td></tr>",
                            "<tr><td>54756f50-67a4-4398-8214-26be4eb9d802</td><td>Mary Davis</td><td>Configure Security</td><td>2025-01-14 11:55:29.000</td></tr>",
                            "<tr><td>5630414d-f732-414b-8417-836f1952ef4a</td><td>Barbara Jackson</td><td>Research Documentation</td><td>2025-01-14 11:55:29.000</td></tr>",
                            "<tr><td>57e608c9-d0c4-4ba7-8894-bbbee644b23d</td><td>Mary Clark</td><td>Develop Testing</td><td>2025-01-14 11:55:29.000</td></tr>",
                            "<tr><td>57e608c9-d0c4-4ba7-8894-bbbee644b23d</td><td>Mary Clark</td><td>Create Infrastructure</td><td>2025-01-14 11:55:29.000</td></tr>",
                            "<tr><td>57e608c9-d0c4-4ba7-8894-bbbee644b23d</td><td>Mary Clark</td><td>Debug Performance</td><td>2025-01-14 11:55:29.000</td></tr>",
                            "<tr><td>5bd8105e-272a-4b21-9cbe-2ec4ed3e9e82</td><td>Michael Moore</td><td>Maintain Logging</td><td>2025-01-14 11:55:29.000</td></tr>",
                            "<tr><td>6118a169-ecc2-4ede-8dfb-6cca62b98023</td><td>David Johnson</td><td>Debug API</td><td>2025-01-14 11:55:29.000</td></tr>",
                            "<tr><td>61a517eb-3c5b-4b2c-8074-1755a76fe3af</td><td>Susan Davis</td><td>Implement Logging</td><td>2025-01-14 11:55:29.000</td></tr>",
                            "<tr><td>67c58064-54d5-4561-a019-7cba5273ee60</td><td>John Martin</td><td>Update Database</td><td>2025-01-14 11:55:29.000</td></tr>",
                            "<tr><td>68008088-a7e0-47d7-bc0e-ac70a72fae62</td><td>William AO</td><td>Develop Security</td><td>2025-01-14 11:55:29.000</td></tr>",
                            "<tr><td>6a8326b6-7a48-45ed-a0ef-ea7abd6d3e11</td><td>John Jones</td><td>Plan API</td><td>2025-01-14 11:55:29.000</td></tr>",
                            "<tr><td>6d708dfe-2ade-4fdd-a401-bd982d7f26f5</td><td>Robert Anderson</td><td>Validate Authentication</td><td>2025-01-14 11:55:29.000</td></tr>",
                            "<tr><td>6dc49c6e-dddc-4a8a-bc72-06107427e302</td><td>Jennifer Garcia</td><td>Deploy Storage</td><td>2025-01-14 11:55:29.000</td></tr>",
                            "<tr><td>71327d1c-d812-4aaa-a933-38325e6421e3</td><td>Elizabeth Wilson</td><td>Design Testing</td><td>2025-01-14 11:55:29.000</td></tr>",
                            "<tr><td>71327d1c-d812-4aaa-a933-38325e6421e3</td><td>Elizabeth Wilson</td><td>Document UI/UX</td><td>2025-01-14 11:55:29.000</td></tr>",
                            "<tr><td>719514f6-c299-4d3e-87c4-1af6117ac9c8</td><td>Mary Jackson</td><td>Optimize UI/UX</td><td>2025-01-14 11:55:29.000</td></tr>",
                            "<tr><td>719514f6-c299-4d3e-87c4-1af6117ac9c8</td><td>Mary Jackson</td><td>Enhance Infrastructure</td><td>2025-01-14 11:55:29.000</td></tr>",
                            "<tr><td>71f8cf28-e643-4535-b797-e5b93c6032a3</td><td>Joseph Jones</td><td>Enhance UI/UX</td><td>2025-01-14 11:55:29.000</td></tr>",
                            "<tr><td>724e937c-b85a-4a80-a848-5f42c0feee41</td><td>William Brown</td><td>Create UI/UX</td><td>2025-01-14 11:55:29.000</td></tr>",
                            "<tr><td>72c6156c-986d-46e5-b843-2b14ef486900</td><td>Elizabeth Williams</td><td>Design Recovery</td><td>2025-01-14 11:55:29.000</td></tr>",
                            "<tr><td>754079b3-10c3-42dc-b3e6-9988ec3685aa</td><td>Patricia Williams</td><td>Create Backend</td><td>2025-01-14 11:55:29.000</td></tr>",
                            "<tr><td>754079b3-10c3-42dc-b3e6-9988ec3685aa</td><td>Patricia Williams</td><td>Test Documentation</td><td>2025-01-14 11:55:29.000</td></tr>",
                            "<tr><td>754079b3-10c3-42dc-b3e6-9988ec3685aa</td><td>Patricia Williams</td><td>Configure Storage</td><td>2025-01-14 11:55:29.000</td></tr>",
                            "<tr><td>754079b3-10c3-42dc-b3e6-9988ec3685aa</td><td>Patricia Williams</td><td>Design Database</td><td>2025-01-14 11:55:29.000</td></tr>",
                            "<tr><td>754079b3-10c3-42dc-b3e6-9988ec3685aa</td><td>Patricia Williams</td><td>Update UI/UX</td><td>2025-01-14 11:55:29.000</td></tr>",
                            "<tr><td>754079b3-10c3-42dc-b3e6-9988ec3685aa</td><td>Patricia Williams</td><td>Create Security</td><td>2025-01-14 11:55:29.000</td></tr>",
                            "<tr><td>79397f03-1f94-4708-a28f-afa899640335</td><td>Joseph White</td><td>Debug API</td><td>2025-01-14 11:55:29.000</td></tr>",
                            "<tr><td>7a1b89b5-b459-4a08-9ec6-1bcad0ed282e</td><td>Parinya Jones</td><td>Plan Monitoring</td><td>2025-01-14 11:55:29.000</td></tr>",
                            "<tr><td>7a1b89b5-b459-4a08-9ec6-1bcad0ed282e</td><td>Parinya Jones</td><td>Deploy Logging</td><td>2025-01-14 11:55:29.000</td></tr>",
                            "<tr><td>7dccd797-54be-4a97-929a-e300088b2140</td><td>John Davis</td><td>Plan Cache</td><td>2025-01-14 11:55:29.000</td></tr>",
                            "<tr><td>7f1db049-29bd-45de-b3dc-8230ac0b1a95</td><td>David White</td><td>Maintain Logging</td><td>2025-01-14 11:55:29.000</td></tr>",
                            "<tr><td>7f1db049-29bd-45de-b3dc-8230ac0b1a95</td><td>David White</td><td>Optimize Backend</td><td>2025-01-14 11:55:29.000</td></tr>",
                            "<tr><td>7f9fc518-5cb6-4ef6-9069-c6686077d309</td><td>John Jackson</td><td>Monitor Backend</td><td>2025-01-14 11:55:29.000</td></tr>",
                            "<tr><td>80424870-c097-4eb9-a031-64110245ac6b</td><td>Mary AO</td><td>Refactor API</td><td>2025-01-14 11:55:29.000</td></tr>",
                            "<tr><td>81684c10-7a53-4471-b134-39fa6e1945e0</td><td>Joseph Clark</td><td>Monitor Recovery</td><td>2025-01-14 11:55:29.000</td></tr>",
                            "<tr><td>81d9ef53-cd9b-4e12-8087-358a6266d46e</td><td>Thomas Lee</td><td>Deploy Performance</td><td>2025-01-14 11:55:29.000</td></tr>",
                            "<tr><td>86bad218-b122-44f0-a7f8-85ac5be9b279</td><td>Joseph Miller</td><td>Validate Documentation</td><td>2025-01-14 11:55:29.000</td></tr>",
                            "<tr><td>86bad218-b122-44f0-a7f8-85ac5be9b279</td><td>Joseph Miller</td><td>Test Security</td><td>2025-01-14 11:55:29.000</td></tr>",
                            "<tr><td>87c109e3-e3df-4995-b226-22b85cc2183d</td><td>Richard Harris</td><td>Document Recovery</td><td>2025-01-14 11:55:29.000</td></tr>",
                            "<tr><td>87c109e3-e3df-4995-b226-22b85cc2183d</td><td>Richard Harris</td><td>Research Recovery</td><td>2025-01-14 11:55:29.000</td></tr>",
                            "<tr><td>8989fd97-36de-47e0-996d-d9b3702ff75a</td><td>Richard Martin</td><td>Optimize Security</td><td>2025-01-14 11:55:29.000</td></tr>",
                            "<tr><td>8cb3a8fa-d4c8-4678-96ec-26115d300737</td><td>Sarah Taylor</td><td>Update Testing</td><td>2025-01-14 11:55:29.000</td></tr>",
                            "<tr><td>8de4a6a3-e3c8-4317-abbc-8c0d5a2d9556</td><td>Parinya Moore</td><td>Debug Frontend</td><td>2025-01-14 11:55:29.000</td></tr>",
                            "<tr><td>8de4a6a3-e3c8-4317-abbc-8c0d5a2d9556</td><td>Parinya Moore</td><td>Deploy Storage</td><td>2025-01-14 11:55:29.000</td></tr>",
                            "<tr><td>8eb6d792-2b7f-42c3-aac1-a6fac2ebd698</td><td>William Harris</td><td>Plan Cache</td><td>2025-01-14 11:55:29.000</td></tr>",
                            "<tr><td>8eb6d792-2b7f-42c3-aac1-a6fac2ebd698</td><td>William Harris</td><td>Refactor Logging</td><td>2025-01-14 11:55:29.000</td></tr>",
                            "<tr><td>8fe26126-f2c4-4d1e-a9bd-1d71e2f69a55</td><td>Parinya Harris</td><td>Research Integration</td><td>2025-01-14 11:55:29.000</td></tr>",
                            "<tr><td>941686c7-d194-4dd1-a82f-7da7c2e1758c</td><td>Emma Lee</td><td>Analyze Storage</td><td>2025-01-14 11:55:29.000</td></tr>",
                            "<tr><td>94e965d0-c2a5-41f9-8850-61049a064292</td><td>Patricia Brown</td><td>Review Security</td><td>2025-01-14 11:55:29.000</td></tr>",
                            "<tr><td>95027255-c51a-4d36-8922-5e73987acc04</td><td>Emma Johnson</td><td>Document Analytics</td><td>2025-01-14 11:55:29.000</td></tr>",
                            "<tr><td>95027255-c51a-4d36-8922-5e73987acc04</td><td>Emma Johnson</td><td>Implement Security</td><td>2025-01-14 11:55:29.000</td></tr>",
                            "<tr><td>97cf1cb0-f218-4c3c-9c65-0c53d3d7f458</td><td>Richard Clark</td><td>Validate Security</td><td>2025-01-14 11:55:29.000</td></tr>",
                            "<tr><td>9a435ea0-cb8c-4ac6-abb0-e65a3ad7eb78</td><td>Joseph Anderson</td><td>Document Analytics</td><td>2025-01-14 11:55:29.000</td></tr>",
                            "<tr><td>9a435ea0-cb8c-4ac6-abb0-e65a3ad7eb78</td><td>Joseph Anderson</td><td>Document Analytics</td><td>2025-01-14 11:55:29.000</td></tr>",
                            "<tr><td>9a435ea0-cb8c-4ac6-abb0-e65a3ad7eb78</td><td>Joseph Anderson</td><td>Deploy Frontend</td><td>2025-01-14 11:55:29.000</td></tr>",
                            "<tr><td>9a435ea0-cb8c-4ac6-abb0-e65a3ad7eb78</td><td>Joseph Anderson</td><td>Analyze Analytics</td><td>2025-01-14 11:55:29.000</td></tr>",
                            "<tr><td>9c4191de-5931-4c6b-9380-231da5b278e9</td><td>John Miller</td><td>Debug Documentation</td><td>2025-01-14 11:55:29.000</td></tr>",
                            "<tr><td>9cc83e57-55e6-4f1e-9378-08b60ad18003</td><td>Elizabeth Miller</td><td>Design Security</td><td>2025-01-14 11:55:29.000</td></tr>",
                            "<tr><td>9cc83e57-55e6-4f1e-9378-08b60ad18003</td><td>Elizabeth Miller</td><td>Debug Frontend</td><td>2025-01-14 11:55:29.000</td></tr>",
                            "<tr><td>9e5e8ed0-fcec-4394-8d89-d94a43bc4d90</td><td>Parinya Wilson</td><td>Validate Integration</td><td>2025-01-14 11:55:29.000</td></tr>",
                            "<tr><td>9eb69a04-2e5d-4510-b1fa-01128a012a74</td><td>Emma White</td><td>Design Security</td><td>2025-01-14 11:55:29.000</td></tr>",
                            "<tr><td>9fc54413-a0f7-4acb-b3c9-8fc1fb652923</td><td>Susan Wilson</td><td>Test Network</td><td>2025-01-14 11:55:29.000</td></tr>",
                            "<tr><td>9fc54413-a0f7-4acb-b3c9-8fc1fb652923</td><td>Susan Wilson</td><td>Monitor Integration</td><td>2025-01-14 11:55:29.000</td></tr>",
                            "<tr><td>a119beb2-7d6a-4b87-8260-9e5937f11feb</td><td>Thomas Johnson</td><td>Plan Cache</td><td>2025-01-14 11:55:29.000</td></tr>",
                            "<tr><td>a119beb2-7d6a-4b87-8260-9e5937f11feb</td><td>Thomas Johnson</td><td>Optimize Database</td><td>2025-01-14 11:55:29.000</td></tr>",
                            "<tr><td>a2ea640b-7084-46a5-99fc-8c1d843e3cdd</td><td>Susan Anderson</td><td>Design Storage</td><td>2025-01-14 11:55:29.000</td></tr>",
                            "<tr><td>a2ea640b-7084-46a5-99fc-8c1d843e3cdd</td><td>Susan Anderson</td><td>Implement Database</td><td>2025-01-14 11:55:29.000</td></tr>",
                            "<tr><td>a4cb827d-0083-4c25-863a-9844331dbd66</td><td>Patricia Martin</td><td>Develop Security</td><td>2025-01-14 11:55:29.000</td></tr>",
                            "<tr><td>a62d3f0d-bc56-4356-a29b-49874ef0647c</td><td>Sarah Brown</td><td>Document UI/UX</td><td>2025-01-14 11:55:29.000</td></tr>",
                            "<tr><td>a66e8fa3-c6b6-4a16-bc4a-7b0e7c7142f5</td><td>Barbara Smith</td><td>Validate Database</td><td>2025-01-14 11:55:29.000</td></tr>",
                            "<tr><td>a66e8fa3-c6b6-4a16-bc4a-7b0e7c7142f5</td><td>Barbara Smith</td><td>Design Security</td><td>2025-01-14 11:55:29.000</td></tr>",
                            "<tr><td>a66e8fa3-c6b6-4a16-bc4a-7b0e7c7142f5</td><td>Barbara Smith</td><td>Create Recovery</td><td>2025-01-14 11:55:29.000</td></tr>",
                            "<tr><td>a7ec2854-59cd-4cd8-89d6-db4db1ff1def</td><td>Parinya Davis</td><td>Research Recovery</td><td>2025-01-14 11:55:29.000</td></tr>",
                            "<tr><td>a98a9592-1391-444d-9a1a-00f943fbef38</td><td>Susan Garcia</td><td>Review Recovery</td><td>2025-01-14 11:55:29.000</td></tr>",
                            "<tr><td>a98a9592-1391-444d-9a1a-00f943fbef38</td><td>Susan Garcia</td><td>Debug Frontend</td><td>2025-01-14 11:55:29.000</td></tr>",
                            "<tr><td>aa0320e5-2d2f-4330-81ae-537a970278a8</td><td>Susan Jones</td><td>Document Backend</td><td>2025-01-14 11:55:29.000</td></tr>",
                            "<tr><td>aa89d3f7-533c-4a0a-bdc7-7f1ad713ca0f</td><td>Michael Taylor</td><td>Test Monitoring</td><td>2025-01-14 11:55:29.000</td></tr>",
                            "<tr><td>aa89d3f7-533c-4a0a-bdc7-7f1ad713ca0f</td><td>Michael Taylor</td><td>Refactor Recovery</td><td>2025-01-14 11:55:29.000</td></tr>",
                            "<tr><td>abbe7eaf-719f-4a6e-834c-8cc6983ce50d</td><td>William White</td><td>Monitor Backend</td><td>2025-01-14 11:55:29.000</td></tr>",
                            "<tr><td>ac1d05e0-a031-4156-a45e-3dca4e2c9cf8</td><td>Richard Anderson</td><td>Plan Storage</td><td>2025-01-14 11:55:29.000</td></tr>",
                            "<tr><td>ac1d05e0-a031-4156-a45e-3dca4e2c9cf8</td><td>Richard Anderson</td><td>Test API</td><td>2025-01-14 11:55:29.000</td></tr>",
                            "<tr><td>ac1d05e0-a031-4156-a45e-3dca4e2c9cf8</td><td>Richard Anderson</td><td>Deploy Testing</td><td>2025-01-14 11:55:29.000</td></tr>",
                            "<tr><td>ad409a00-ec96-4f21-af1f-124fcdfdf322</td><td>Patricia Davis</td><td>Create Infrastructure</td><td>2025-01-14 11:55:29.000</td></tr>",
                            "<tr><td>ae73decf-8fa1-486b-bd17-7a25b9b35dd7</td><td>William Taylor</td><td>Validate Infrastructure</td><td>2025-01-14 11:55:29.000</td></tr>",
                            "<tr><td>ae73decf-8fa1-486b-bd17-7a25b9b35dd7</td><td>William Taylor</td><td>Optimize Recovery</td><td>2025-01-14 11:55:29.000</td></tr>",
                            "<tr><td>aef1e92f-fe06-449f-9ce2-25ccd73babfb</td><td>William Jackson</td><td>Document Analytics</td><td>2025-01-14 11:55:29.000</td></tr>",
                            "<tr><td>af1c32b5-9470-4a20-840d-1d00e074c53f</td><td>David Moore</td><td>Enhance Performance</td><td>2025-01-14 11:55:29.000</td></tr>",
                            "<tr><td>af1c32b5-9470-4a20-840d-1d00e074c53f</td><td>David Moore</td><td>Monitor Cache</td><td>2025-01-14 11:55:29.000</td></tr>",
                            "<tr><td>af83b89d-2a3c-4e82-82b7-be73cc078ac2</td><td>Robert Thompson</td><td>Analyze UI/UX</td><td>2025-01-14 11:55:29.000</td></tr>",
                            "<tr><td>b658b5d6-752d-44ba-9072-17f5b833d675</td><td>James Jackson</td><td>Develop Database</td><td>2025-01-14 11:55:29.000</td></tr>",
                            "<tr><td>b705a6f6-44a7-4796-a71d-73d7efbfaed9</td><td>Thomas Jackson</td><td>Create Frontend</td><td>2025-01-14 11:55:29.000</td></tr>",
                            "<tr><td>b7ee3c92-b943-4fab-9c6e-7188ef89c0ad</td><td>Joseph Moore</td><td>Refactor Logging</td><td>2025-01-14 11:55:29.000</td></tr>",
                            "<tr><td>b7ee3c92-b943-4fab-9c6e-7188ef89c0ad</td><td>Joseph Moore</td><td>Enhance Documentation</td><td>2025-01-14 11:55:29.000</td></tr>",
                            "<tr><td>b91f5b62-234e-45c9-bf23-204eaba762e2</td><td>Elizabeth Harris</td><td>Review Monitoring</td><td>2025-01-14 11:55:29.000</td></tr>",
                            "<tr><td>c1efd58f-26fb-4c2c-a109-8c85a50042cf</td><td>Patricia Clark</td><td>Review Security</td><td>2025-01-14 11:55:29.000</td></tr>",
                            "<tr><td>c1efd58f-26fb-4c2c-a109-8c85a50042cf</td><td>Patricia Clark</td><td>Research UI/UX</td><td>2025-01-14 11:55:29.000</td></tr>",
                            "<tr><td>c48e8ced-3719-4b05-95fb-c60cb9db6fbe</td><td>David Jones</td><td>Update Cache</td><td>2025-01-14 11:55:29.000</td></tr>",
                            "<tr><td>c48e8ced-3719-4b05-95fb-c60cb9db6fbe</td><td>David Jones</td><td>Document Analytics</td><td>2025-01-14 11:55:29.000</td></tr>",
                            "<tr><td>c68bbf8e-7b5f-492d-88fd-41d4bb02b8ff</td><td>David Wilson</td><td>Refactor Storage</td><td>2025-01-14 11:55:29.000</td></tr>",
                            "<tr><td>c92aa7e4-c158-48aa-b915-acc7f709febd</td><td>John Johnson</td><td>Refactor Recovery</td><td>2025-01-14 11:55:29.000</td></tr>",
                            "<tr><td>cddc91a0-217f-42cb-a85c-d261bd0c3377</td><td>Linda Moore</td><td>Research Logging</td><td>2025-01-14 11:55:29.000</td></tr>",
                            "<tr><td>cddc91a0-217f-42cb-a85c-d261bd0c3377</td><td>Linda Moore</td><td>Maintain Backend</td><td>2025-01-14 11:55:29.000</td></tr>",
                            "<tr><td>cddc91a0-217f-42cb-a85c-d261bd0c3377</td><td>Linda Moore</td><td>Develop Logging</td><td>2025-01-14 11:55:29.000</td></tr>",
                            "<tr><td>cddc91a0-217f-42cb-a85c-d261bd0c3377</td><td>Linda Moore</td><td>Test Documentation</td><td>2025-01-14 11:55:29.000</td></tr>",
                            "<tr><td>cfc03884-1c18-444f-812c-dfa3fb29d220</td><td>Robert Davis</td><td>Review Backup</td><td>2025-01-14 11:55:29.000</td></tr>",
                            "<tr><td>cfc03884-1c18-444f-812c-dfa3fb29d220</td><td>Robert Davis</td><td>Refactor Integration</td><td>2025-01-14 11:55:29.000</td></tr>",
                            "<tr><td>cfc03884-1c18-444f-812c-dfa3fb29d220</td><td>Robert Davis</td><td>Review Backend</td><td>2025-01-14 11:55:29.000</td></tr>",
                            "<tr><td>cfc03884-1c18-444f-812c-dfa3fb29d220</td><td>Robert Davis</td><td>Update Authentication</td><td>2025-01-14 11:55:29.000</td></tr>",
                            "<tr><td>cfc03884-1c18-444f-812c-dfa3fb29d220</td><td>Robert Davis</td><td>Develop Authentication</td><td>2025-01-14 11:55:29.000</td></tr>",
                            "<tr><td>d0010e21-6405-40b6-ad70-e94d67419bf8</td><td>James Smith</td><td>Refactor UI/UX</td><td>2025-01-14 11:55:29.000</td></tr>",
                            "<tr><td>d163f04a-4c36-4f5f-9ab7-f3b19fb4d4aa</td><td>Michael Anderson</td><td>Review Monitoring</td><td>2025-01-14 11:55:29.000</td></tr>",
                            "<tr><td>d2ed4039-95c6-44a3-be97-612e2f94f309</td><td>Emma Anderson</td><td>Refactor Integration</td><td>2025-01-14 11:55:29.000</td></tr>",
                            "<tr><td>d3111ed3-bbd2-4797-b3aa-b23bc7a66f4d</td><td>Jessica Moore</td><td>Review Infrastructure</td><td>2025-01-14 11:55:29.000</td></tr>",
                            "<tr><td>d3111ed3-bbd2-4797-b3aa-b23bc7a66f4d</td><td>Jessica Moore</td><td>Refactor Authentication</td><td>2025-01-14 11:55:29.000</td></tr>",
                            "<tr><td>d5d2601b-6713-415f-b28a-298d4bddee88</td><td>William Thompson</td><td>Debug Frontend</td><td>2025-01-14 11:55:29.000</td></tr>",
                            "<tr><td>d6b602aa-c6ee-4ebb-9e08-247486574f93</td><td>Elizabeth Garcia</td><td>Research Monitoring</td><td>2025-01-14 11:55:29.000</td></tr>",
                            "<tr><td>d6b602aa-c6ee-4ebb-9e08-247486574f93</td><td>Elizabeth Garcia</td><td>Create Infrastructure</td><td>2025-01-14 11:55:29.000</td></tr>",
                            "<tr><td>d6d89413-ad9f-4f7d-8d9b-94ca3963bf40</td><td>Linda Thompson</td><td>Test Backup</td><td>2025-01-14 11:55:29.000</td></tr>",
                            "<tr><td>d7a208bc-540f-4b5c-a02e-e252de6aa99d</td><td>Parinya Clark</td><td>Create Authentication</td><td>2025-01-14 11:55:29.000</td></tr>",
                            "<tr><td>d7d7de30-a3eb-4484-aab5-1a1809d88cf5</td><td>Susan Smith</td><td>Deploy API</td><td>2025-01-14 11:55:29.000</td></tr>",
                            "<tr><td>dac8021e-05d0-4d66-bb92-51766e3c9f41</td><td>Patricia White</td><td>Implement Analytics</td><td>2025-01-14 11:55:29.000</td></tr>",
                            "<tr><td>db0bcf7d-9b44-44ac-b1d0-ca9ec83ced0c</td><td>James Brown</td><td>Enhance Network</td><td>2025-01-14 11:55:29.000</td></tr>",
                            "<tr><td>db0bcf7d-9b44-44ac-b1d0-ca9ec83ced0c</td><td>James Brown</td><td>Document Analytics</td><td>2025-01-14 11:55:29.000</td></tr>",
                            "<tr><td>db0bcf7d-9b44-44ac-b1d0-ca9ec83ced0c</td><td>James Brown</td><td>Refactor API</td><td>2025-01-14 11:55:29.000</td></tr>",
                            "<tr><td>dbcf8f29-0101-4caa-be04-89076abb5775</td><td>William Lee</td><td>Research Backend</td><td>2025-01-14 11:55:29.000</td></tr>",
                            "<tr><td>dbfb6886-b008-42cb-a20c-6f83c3167c5b</td><td>Thomas Jones</td><td>Review Recovery</td><td>2025-01-14 11:55:29.000</td></tr>",
                            "<tr><td>dbfb6886-b008-42cb-a20c-6f83c3167c5b</td><td>Thomas Jones</td><td>Review Infrastructure</td><td>2025-01-14 11:55:29.000</td></tr>",
                            "<tr><td>dbfb6886-b008-42cb-a20c-6f83c3167c5b</td><td>Thomas Jones</td><td>Design Testing</td><td>2025-01-14 11:55:29.000</td></tr>",
                            "<tr><td>dcfbce51-3587-4a46-9f9e-d5f9b813ed97</td><td>Susan Martin</td><td>Optimize Infrastructure</td><td>2025-01-14 11:55:29.000</td></tr>",
                            "<tr><td>dcfbce51-3587-4a46-9f9e-d5f9b813ed97</td><td>Susan Martin</td><td>Debug Recovery</td><td>2025-01-14 11:55:29.000</td></tr>",
                            "<tr><td>dd136068-6c86-48f2-b4e5-d213e98b04c5</td><td>Thomas Davis</td><td>Review Backup</td><td>2025-01-14 11:55:29.000</td></tr>",
                            "<tr><td>dd136068-6c86-48f2-b4e5-d213e98b04c5</td><td>Thomas Davis</td><td>Monitor Integration</td><td>2025-01-14 11:55:29.000</td></tr>",
                            "<tr><td>df91856a-7256-4c83-82af-5439cde862c6</td><td>James Johnson</td><td>Develop Database</td><td>2025-01-14 11:55:29.000</td></tr>",
                            "<tr><td>e5e3a4b8-f659-4825-a3af-79432c329033</td><td>Jennifer Williams</td><td>Validate Testing</td><td>2025-01-14 11:55:29.000</td></tr>",
                            "<tr><td>e61d0469-dfba-4f7c-9aec-c9a2c4012d77</td><td>Sarah Harris</td><td>Test API</td><td>2025-01-14 11:55:29.000</td></tr>",
                            "<tr><td>e7524fe6-9a2a-48cf-b4c8-ab6b5da7a160</td><td>Jessica Lee</td><td>Implement Analytics</td><td>2025-01-14 11:55:29.000</td></tr>",
                            "<tr><td>e7524fe6-9a2a-48cf-b4c8-ab6b5da7a160</td><td>Jessica Lee</td><td>Document Performance</td><td>2025-01-14 11:55:29.000</td></tr>",
                            "<tr><td>edfa6769-ce33-4c5d-9026-17b4050d4587</td><td>Parinya Lee</td><td>Configure Integration</td><td>2025-01-14 11:55:29.000</td></tr>",
                            "<tr><td>edfa6769-ce33-4c5d-9026-17b4050d4587</td><td>Parinya Lee</td><td>Implement Infrastructure</td><td>2025-01-14 11:55:29.000</td></tr>",
                            "<tr><td>f38b6f1e-81b1-4438-ad84-0da01d9bd307</td><td>Patricia Jones</td><td>Review Documentation</td><td>2025-01-14 11:55:29.000</td></tr>",
                            "<tr><td>f38b6f1e-81b1-4438-ad84-0da01d9bd307</td><td>Patricia Jones</td><td>Document UI/UX</td><td>2025-01-14 11:55:29.000</td></tr>",
                            "<tr><td>f38b6f1e-81b1-4438-ad84-0da01d9bd307</td><td>Patricia Jones</td><td>Update Storage</td><td>2025-01-14 11:55:29.000</td></tr>",
                            "<tr><td>f38b6f1e-81b1-4438-ad84-0da01d9bd307</td><td>Patricia Jones</td><td>Update Cache</td><td>2025-01-14 11:55:29.000</td></tr>",
                            "<tr><td>fac1636d-e435-48a4-9a56-a1de2628297e</td><td>Jennifer Anderson</td><td>Monitor Integration</td><td>2025-01-14 11:55:29.000</td></tr>",
                            "<tr><td>fb510efb-ee95-4f8f-a398-3a021beb6635</td><td>Joseph Thompson</td><td>Test Testing</td><td>2025-01-14 11:55:29.000</td></tr>",
                            "<tr><td>fb510efb-ee95-4f8f-a398-3a021beb6635</td><td>Joseph Thompson</td><td>Test Testing</td><td>2025-01-14 11:55:29.000</td></tr>",
                            "<tr><td>fe6df415-2567-473b-b275-58f8809bfa6d</td><td>David Williams</td><td>Test Monitoring</td><td>2025-01-14 11:55:29.000</td></tr>",
                            "<tr><td>ff4fc7e3-4a42-424d-ba6e-f9c81d1f830a</td><td>Parinya Brown</td><td>Configure Integration</td><td>2025-01-14 11:55:29.000</td></tr>",
                            "</table>"
                        ]
                    }
                }
            ],
            "execution_count": 42
        }
    ]
}